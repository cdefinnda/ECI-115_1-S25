{
  "cells": [
    {
      "cell_type": "markdown",
      "metadata": {
        "id": "sStHZs-wwW2W"
      },
      "source": [
        "# Lecture 13 - Uncertainty Analysis 🤷"
      ]
    },
    {
      "cell_type": "markdown",
      "source": [
        "## 🤝 Quick Example: Class Temperature Preference"
      ],
      "metadata": {
        "id": "ipNiVijjb0vb"
      }
    },
    {
      "cell_type": "code",
      "source": [
        "# Import Libarary\n",
        "import numpy as np\n",
        "\n",
        "# Define Data (Note: Need to replace with real values)\n",
        "T_45 = np.ones(5)*45\n",
        "T_55 = np.ones(8)*55\n",
        "T_65 = np.ones(10)*65\n",
        "T_75 = np.ones(8)*75\n",
        "T_85 = np.ones(5)*85\n",
        "\n",
        "T_data=np.concatenate([T_45,T_55,T_65,T_75,T_85])\n",
        "n=len(T_data)\n",
        "\n",
        "#print(T_data)"
      ],
      "metadata": {
        "id": "e49Iza4ib1mb"
      },
      "execution_count": null,
      "outputs": []
    },
    {
      "cell_type": "code",
      "source": [
        "# Calculate Average\n",
        "T_avg = np.sum(T_data)/n\n",
        "\n",
        "# Calculate Standard Deviation\n",
        "T_std = ((1/(n-1))*np.sum((T_data-T_avg)**2))**0.5\n",
        "\n",
        "# Print Results\n",
        "print('Average:',T_avg)\n",
        "print('Standard Deviation:',T_std)"
      ],
      "metadata": {
        "id": "15o00gmGb4kQ"
      },
      "execution_count": null,
      "outputs": []
    },
    {
      "cell_type": "code",
      "source": [
        "# Compare to NumPy Functions\n",
        "T_avg_np = np.mean(T_data)\n",
        "T_std_np = np.std(T_data,ddof=1)\n",
        "print('Average:',T_avg_np)\n",
        "print('Standard Deviation:',T_std_np)"
      ],
      "metadata": {
        "id": "-XJAyx58b5qk"
      },
      "execution_count": null,
      "outputs": []
    },
    {
      "cell_type": "markdown",
      "metadata": {
        "id": "oIdjoSzzwW2X"
      },
      "source": [
        "## 🤝 Statistical Analysis in Python\n",
        "\n",
        "Given a normally distributed sample of $n=30$ random variables with $\\mu=0$ and $\\sigma=1$. Compute the sample mean and standard deviation, and plot the histogram. Repeat with $n=1000$.\n",
        "\n",
        "Example docs [here](https://numpy.org/doc/stable/reference/random/generated/numpy.random.Generator.normal.html#numpy.random.Generator.normal). Then do the same thing with a uniform distribution, $a=0$ and $b=10$."
      ]
    },
    {
      "cell_type": "code",
      "execution_count": null,
      "metadata": {
        "id": "JR4u9ms7wW2X"
      },
      "outputs": [],
      "source": [
        "# Import Libraries\n",
        "import numpy as np\n",
        "import matplotlib.pyplot as plt\n",
        "\n",
        "# Create our Normal Distribution\n",
        "rng = np.random.default_rng(seed=115) # Initializes the random number generator with a fixed seed.\n",
        "                                      # This means that the same \"random\" values will be generated.\n",
        "\n",
        "data = rng.normal(0,1,30)   # Generates an array of random values for a normal (Gaussian) distribution.\n",
        "                            # Inputs: Mean = 0, Standard Deviation = 1, Number of Values = 30.\n",
        "\n",
        "# Print Data from Normal Distribution\n",
        "print('Mean:', data.mean())               # Calls the actual mean from the distribution (should be 0).\n",
        "print('Standard Deviation', data.std())   # Calls the actual standard deviation from the distribution (should be 1).\n",
        "\n",
        "# Plot Normal Distribution\n",
        "plt.hist(data)\n",
        "plt.show()"
      ]
    },
    {
      "cell_type": "code",
      "execution_count": null,
      "metadata": {
        "id": "CaW6lDCdwW2Y"
      },
      "outputs": [],
      "source": [
        "# Create a Uniform Distribution\n",
        "#rng = np.random.default_rng(seed=115)  #Can use the same rng that was define previously.\n",
        "\n",
        "data = rng.uniform(0,10,1000)   # Generates an array of random values for a uniform distribution.\n",
        "                                # Inputs: Low = 0, High = 10, Number of Values = 1000.\n",
        "\n",
        "# Print Data from Uniform Distribution\n",
        "print('Mean:',data.mean())\n",
        "print('Standard Deviation:',data.std())\n",
        "\n",
        "# Plot Normal Distribution\n",
        "plt.hist(data)\n",
        "plt.show()"
      ]
    },
    {
      "cell_type": "markdown",
      "metadata": {
        "id": "A-SMRXLzwW2Y"
      },
      "source": [
        "## 🤝 Example 4.6 - Mast Deflection (Monte Carlo)\n",
        "\n",
        "$$\n",
        "y=\\frac{FL^4}{8EI}\n",
        "$$\n",
        "\n",
        "Estimates & Measurement Errors\n",
        "* $\\tilde{F}= 750$ N/m, $\\Delta \\tilde{F}= \\pm 30$ N/m\n",
        "* $\\tilde{L}=9$ m, $\\Delta \\tilde{L}= \\pm 0.03$ m\n",
        "* $\\tilde{E}=7.5 \\times 10^9$ N/m$^2$, $\\Delta \\tilde{E}= \\pm 5\\times 10^7$ N/m$^2$\n",
        "* $\\tilde{I}=0.0005$ m$^4$, $\\Delta \\tilde{I}=0.000005$ m$^4$"
      ]
    },
    {
      "cell_type": "code",
      "execution_count": null,
      "metadata": {
        "id": "MchkvMlqwW2Y"
      },
      "outputs": [],
      "source": [
        "# Define Parameters\n",
        "n = 1000\n",
        "y = np.zeros(n) # We're running the Monte Carlo n times, so this will get us n estimates for y.\n",
        "\n",
        "# Define Each Estimate as a Uniform Distribution: rng.uniform(low,high,n)\n",
        "dF = 30\n",
        "F = rng.uniform(750-dF, 750+dF, n)\n",
        "dL = 0.03\n",
        "L = rng.uniform(9-dL, 9+dL, n)\n",
        "dE = 5e7\n",
        "E = rng.uniform(7.5e9-dE, 7.5e9+dE, n)\n",
        "dI = 5e-6\n",
        "I = rng.uniform(5e-4-dI, 5e-4+dI, n)\n",
        "\n",
        "# Run Monte Carlo for Each Iteration of our Randomized Uniform Distribution\n",
        "for i in range(n):\n",
        "    y[i] = F[i] * L[i]**4 / (8 * E[i] * I[i])\n",
        "\n",
        "# Print Results\n",
        "print('y_mean = ', y.mean())\n",
        "print('y_min = ', y.min())\n",
        "print('y_max = ', y.max())\n",
        "\n",
        "# Plot Results\n",
        "plt.hist(y)\n",
        "plt.show()"
      ]
    },
    {
      "cell_type": "markdown",
      "metadata": {
        "id": "iTZXJz72wW2Y"
      },
      "source": [
        "## 💪 C&C Problem 4.16\n",
        "\n",
        "First-order error propagation for Manning's equation in a rectangular channel.\n",
        "\n",
        "Given: $Q=\\frac{1}{n} \\frac{(B H)^{5 / 3}}{(B+H)^{2 / 3}} \\sqrt{S}$\n",
        "\n",
        "Find $\\Delta Q=\\left|\\frac{\\partial Q}{\\partial n}\\right| \\Delta \\tilde{n}+\\left|\\frac{\\partial Q}{\\partial S}\\right| \\Delta \\tilde{S}$\n",
        "\n",
        "What is the contribution to the total error in the flowrate from errors in the roughness ($n$) and slope ($S$)? These values are measured to precision $\\pm 10\\%$.\n",
        "\n",
        "Assume we can measure channel width ($B$) and height ($H$) exactly. The parameter values and ranges are given in the code."
      ]
    },
    {
      "cell_type": "markdown",
      "source": [
        "💪 Determine Partial Derivatives:\n",
        "> * $\\frac{\\partial Q}{\\partial n} = $\n",
        ">\n",
        "> * $\\frac{\\partial Q}{\\partial S} = $"
      ],
      "metadata": {
        "id": "97u6joc7H5-H"
      }
    },
    {
      "cell_type": "code",
      "execution_count": null,
      "metadata": {
        "id": "pisJpLI_wW2Z"
      },
      "outputs": [],
      "source": [
        "# Define Parameters\n",
        "B = 20 # width (m)\n",
        "H = 0.3 # depth (m)\n",
        "n = 0.03 # roughness (unitless)\n",
        "S = 0.0003 # slope (unitless)\n",
        "\n",
        "Q = #[Insert code here]\n",
        "\n",
        "# Partial Derivatives\n",
        "dQdn = #[Insert code here]\n",
        "dQds = #[Insert code here]\n",
        "\n",
        "dn = 0.10 * n # 10% uncertainty in n\n",
        "ds = 0.10 * S # 10% uncertainty in S\n",
        "dQ = #[Insert code here]\n",
        "\n",
        "print(f'Q = {Q:0.2f} +/- {dQ:0.2f} m^3/s')\n",
        "print(f'  n contributes {(np.abs(dQdn)*dn / dQ * 100):0.2f}%')\n",
        "print(f'  S contributes {(np.abs(dQds)*ds / dQ * 100):0.2f}%')"
      ]
    },
    {
      "cell_type": "markdown",
      "metadata": {
        "id": "SbtvtRKcwW2Z"
      },
      "source": [
        "💪 Repeat with Monte Carlo simulation, 1000 samples. Assume that $S$ and $n$ are uniformly distributed between $\\pm 10\\%$ of their estimated values."
      ]
    },
    {
      "cell_type": "code",
      "execution_count": null,
      "metadata": {
        "id": "A_J_K6m9wW2Z"
      },
      "outputs": [],
      "source": [
        "# Define Parameters\n",
        "n_samples = 1000 # not to be confused with roughness n\n",
        "Q_array = np.zeros(n_samples)\n",
        "S_array = #[Insert code here]\n",
        "n_array = #[Insert code here]\n",
        "\n",
        "# Run Monte Carlo\n",
        "for i in range(n_samples):\n",
        "    Q_array[i] = #[Insert code here]\n",
        "\n",
        "# Print Results\n",
        "print('Q_mean = ', Q_array.mean())\n",
        "print('Q_min = ', Q_array.min())\n",
        "print('Q_max = ', Q_array.max())\n",
        "\n",
        "# Plot Results\n",
        "plt.hist(Q_array)\n",
        "plt.xlabel('Q')\n",
        "plt.ylabel('Count')\n",
        "plt.show()"
      ]
    },
    {
      "cell_type": "markdown",
      "source": [
        "❓ How does this distribution compare to the min/max values obtained by the linear approximation? What additional information are we able to obtain from the Monte Carlo distribution?"
      ],
      "metadata": {
        "id": "CqkFgjcTQsL9"
      }
    },
    {
      "cell_type": "markdown",
      "metadata": {
        "id": "tV6tZpBowW2Z"
      },
      "source": [
        "* [Insert response here]"
      ]
    },
    {
      "cell_type": "markdown",
      "metadata": {
        "id": "Y7x5bfHOwW2Z"
      },
      "source": [
        "## 🤝 Logistic growth with harvesting - ODE\n",
        "\n",
        "Given logistic growth model with harvesting (from L11):\n",
        "\n",
        "$$ \\frac{dP}{dt} = rP\\bigg(1-\\frac{P}{K}\\bigg) - hP $$\n",
        "\n",
        "- Harvesting rate $h=0.5$ is constant\n",
        "- Growth rate $r$ is uniformly distributed on $[0.9,1.1]$\n",
        "- Carrying capacity $K$ is uniformly distributed on $[9.0,11.0]$\n",
        "\n",
        "Use Monte Carlo sampling with 100 samples. For each sample, solve the ODE using `scipy.integrate.solve_ivp` over $t \\in [0,100]$. Then create:\n",
        "- A timeseries plot of population for each parameter sample\n",
        "- Histogram and confidence interval of steady state population"
      ]
    },
    {
      "cell_type": "code",
      "execution_count": null,
      "metadata": {
        "id": "WwYDrgfHwW2Z"
      },
      "outputs": [],
      "source": [
        "# Import Libraries\n",
        "import scipy.integrate\n",
        "\n",
        "# Define Parameters\n",
        "h = 0.5 # constant harvesting rate\n",
        "tmin = 0\n",
        "tmax = 100\n",
        "n_samples = 100\n",
        "P_ss_array = np.zeros(n_samples)\n",
        "r_array = rng.uniform(0.9, 1.1, n_samples)\n",
        "K_array = rng.uniform(9.0, 11.0, n_samples)\n",
        "\n",
        "# Modify function to accept r, K parameter inputs. h is constant.\n",
        "def dydt(t,P,r,K):\n",
        "    return r * P * (1 - P / K) - h * P\n",
        "\n",
        "# Run Monte Carlo\n",
        "for i in range(n_samples):\n",
        "    # additional args r, K passed from solve_ivp to dydt\n",
        "    sol = scipy.integrate.solve_ivp(dydt,\n",
        "                                    t_span=[tmin, tmax],\n",
        "                                    y0=[2],\n",
        "                                    rtol=1e-6,\n",
        "                                    args=(r_array[i], K_array[i]))\n",
        "    P_ss_array[i] = sol.y[0,-1] # last value estimate of steady state\n",
        "\n",
        "    plt.plot(sol.t, sol.y[0,:], c='blue', lw=0.5)\n",
        "\n",
        "# Plot Results\n",
        "plt.xlabel('Time')\n",
        "plt.ylabel('Population')\n",
        "plt.show()"
      ]
    },
    {
      "cell_type": "code",
      "execution_count": null,
      "metadata": {
        "id": "LpqoEe5gwW2Z"
      },
      "outputs": [],
      "source": [
        "# Plot Steady State Population\n",
        "plt.hist(P_ss_array)\n",
        "plt.xlabel('Steady State Population')\n",
        "plt.ylabel('Count')\n",
        "plt.show()"
      ]
    },
    {
      "cell_type": "markdown",
      "metadata": {
        "id": "kqxpWnNtwW2a"
      },
      "source": [
        "The output does not look normally distributed with 100 samples. To report the uncertainty, we can use the percentiles of the distribution."
      ]
    },
    {
      "cell_type": "code",
      "execution_count": null,
      "metadata": {
        "id": "zx_vjfz1wW2a"
      },
      "outputs": [],
      "source": [
        "print('Mean: ', P_ss_array.mean())\n",
        "print('2.5th pctile: ', np.quantile(P_ss_array, 0.025))\n",
        "print('97.5th pctile: ', np.quantile(P_ss_array, 0.975))"
      ]
    },
    {
      "cell_type": "markdown",
      "metadata": {
        "id": "tiyxWn1JwW2a"
      },
      "source": [
        "❓ What happens to the histogram if $r$ is uniformly distributed on $[0.4, 1.1]$ ? Why?"
      ]
    },
    {
      "cell_type": "markdown",
      "source": [
        "* [Insert response here]"
      ],
      "metadata": {
        "id": "LZWu0QGRKuYK"
      }
    }
  ],
  "metadata": {
    "hide_input": false,
    "kernelspec": {
      "display_name": "Python 3 (ipykernel)",
      "language": "python",
      "name": "python3"
    },
    "language_info": {
      "codemirror_mode": {
        "name": "ipython",
        "version": 3
      },
      "file_extension": ".py",
      "mimetype": "text/x-python",
      "name": "python",
      "nbconvert_exporter": "python",
      "pygments_lexer": "ipython3",
      "version": "3.12.8"
    },
    "latex_envs": {
      "LaTeX_envs_menu_present": true,
      "autoclose": false,
      "autocomplete": true,
      "bibliofile": "biblio.bib",
      "cite_by": "apalike",
      "current_citInitial": 1,
      "eqLabelWithNumbers": true,
      "eqNumInitial": 1,
      "hotkeys": {
        "equation": "Ctrl-E",
        "itemize": "Ctrl-I"
      },
      "labels_anchors": false,
      "latex_user_defs": false,
      "report_style_numbering": false,
      "user_envs_cfg": false
    },
    "toc": {
      "base_numbering": 1,
      "nav_menu": {},
      "number_sections": true,
      "sideBar": true,
      "skip_h1_title": false,
      "title_cell": "Table of Contents",
      "title_sidebar": "Contents",
      "toc_cell": false,
      "toc_position": {},
      "toc_section_display": true,
      "toc_window_display": false
    },
    "varInspector": {
      "cols": {
        "lenName": "40",
        "lenType": 16,
        "lenVar": "100"
      },
      "kernels_config": {
        "python": {
          "delete_cmd_postfix": "",
          "delete_cmd_prefix": "del ",
          "library": "var_list.py",
          "varRefreshCmd": "print(var_dic_list())"
        },
        "r": {
          "delete_cmd_postfix": ") ",
          "delete_cmd_prefix": "rm(",
          "library": "var_list.r",
          "varRefreshCmd": "cat(var_dic_list()) "
        }
      },
      "types_to_exclude": [
        "module",
        "function",
        "builtin_function_or_method",
        "instance",
        "_Feature"
      ],
      "window_display": false
    },
    "colab": {
      "provenance": []
    }
  },
  "nbformat": 4,
  "nbformat_minor": 0
}