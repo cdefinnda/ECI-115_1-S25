{
  "cells": [
    {
      "cell_type": "markdown",
      "metadata": {
        "id": "iPZ8ko2eNrDW"
      },
      "source": [
        "# Lecture 4: Newton-Cotes Integration 🍎\n",
        "\n",
        "**Learning Objectives**\n",
        "* See how to implement various Newton-Cotes Integration Methods: Trapezoidal Rule, Simpson's 1/3 Rule.\n",
        "* Visualize how relative error changes with step size.\n",
        "* Apply Newton-Cotes Integration to a CEE application (cross-sectional area and flow of a river)."
      ]
    },
    {
      "cell_type": "markdown",
      "source": [
        "## Implementation of Newton-Cotes Integration"
      ],
      "metadata": {
        "id": "9Mxgc3Zyz1KP"
      }
    },
    {
      "cell_type": "markdown",
      "source": [
        "Implement trapezoid rule, Simpson's 1/3 rule, and Monte Carlo integration to estimate:\n",
        "$$ \\int_0^{0.8} 0.2+25x-200x^2+675x^3-900x^4+400x^5 dx $$\n",
        "\n",
        "The exact value is 1.640533. Make a log-log plot of percent relative error vs. number of segments, where $n = 2^i, i \\in [0, 11]$."
      ],
      "metadata": {
        "id": "qbj1DnGLzKhk"
      }
    },
    {
      "cell_type": "code",
      "execution_count": null,
      "metadata": {
        "id": "EOm4seP4NrDW"
      },
      "outputs": [],
      "source": [
        "# Import Libraries\n",
        "import numpy as np\n",
        "\n",
        "# Define Parameters\n",
        "a = 0       # Starting Point\n",
        "b = 0.8     # End Point\n",
        "n = 100     # Number of Steps or Segments\n",
        "exact = 1.640533\n",
        "\n",
        "# Define Function: f(x)\n",
        "def f(x):\n",
        "    return 0.2 + 25*x - 200*x**2 + 675*x**3 - 900*x**4 + 400*x**5"
      ]
    },
    {
      "cell_type": "markdown",
      "source": [
        "###🤝 Composite Trapezoid Rule:\n",
        "$$I_{TR}=\\frac{b-a}{2n}\\bigg[ f(x_0) + 2\\sum^{n-1}_{i=1}f(x_i) + f(x_n) \\bigg]$$"
      ],
      "metadata": {
        "id": "iuQy_Uih2xYM"
      }
    },
    {
      "cell_type": "code",
      "source": [
        "# Create a Function for Trapezoidal Rule\n",
        "def trapezoid(f,a,b,n):\n",
        "    x = np.linspace(a,b,n+1) # n segments, n+1 points between a and b (including points at a and b)\n",
        "    I = (b-a)/(2*n) * (f(x[0]) + 2*np.sum(f(x[1:-1])) + f(x[-1]))\n",
        "    return I\n",
        "\n",
        "# Test Function\n",
        "print(trapezoid(f,a,b,n))"
      ],
      "metadata": {
        "id": "ehrdVYg_1IWp"
      },
      "execution_count": null,
      "outputs": []
    },
    {
      "cell_type": "markdown",
      "source": [
        "###💪 Composite Simpson's 1/3 Rule:\n",
        "$$I_{SR,1/3}=\\frac{b-a}{3n}\\bigg[ f(x_0) + 4\\sum^{n-1}_{i=1,3,5...}f(x_i) + 2\\sum^{n-2}_{i=2,4,6...}f(x_i) + f(x_n) \\bigg]$$"
      ],
      "metadata": {
        "id": "J9xibyks3s6U"
      }
    },
    {
      "cell_type": "code",
      "source": [
        "# Create a Function for Simpson's 1/3 Rule\n",
        "def simpson(f,a,b,n):\n",
        "    x = np.linspace(a,b,n+1)\n",
        "    I = #[Insert Definition for Composite Simpson's 1/3 Rule]\n",
        "    return I\n",
        "\n",
        "# Test Function\n",
        "print(simpson(f,a,b,n))"
      ],
      "metadata": {
        "id": "AYEjxTWA1INd"
      },
      "execution_count": null,
      "outputs": []
    },
    {
      "cell_type": "markdown",
      "metadata": {
        "id": "2cVymidtNrDX"
      },
      "source": [
        "Let's compare our functions to the built-in `scipy.integrate.trapezoid` and `scipy.integrate.simpson`. These functions are designed to work with samples $y_i = f(x_i)$ rather than the function."
      ]
    },
    {
      "cell_type": "code",
      "execution_count": null,
      "metadata": {
        "id": "fluJOwqjNrDX"
      },
      "outputs": [],
      "source": [
        "# Import libraries\n",
        "from scipy import integrate\n",
        "\n",
        "# Define step size h\n",
        "h = (b-a)/n\n",
        "x = np.arange(a, b+h, h)\n",
        "y = f(x)\n",
        "\n",
        "print('Our Trapezoidal Rule:', trapezoid(f,a,b,n))\n",
        "print('Built-In Trapezoidal Rule:', integrate.trapezoid(y, x))\n",
        "print('Exact Solution:', exact)"
      ]
    },
    {
      "cell_type": "code",
      "execution_count": null,
      "metadata": {
        "id": "B3z7w-BfNrDX"
      },
      "outputs": [],
      "source": [
        "print('Our Simpson\\'s 1/3 Rule:', simpson(f,a,b,n))\n",
        "print('Built-In Trapezoidal Rule:', integrate.simpson(y,x=x))\n",
        "print('Exact Solution:', exact)"
      ]
    },
    {
      "cell_type": "markdown",
      "metadata": {
        "id": "OayyGKY3NrDX"
      },
      "source": [
        "###Now let's create the log-log plot."
      ]
    },
    {
      "cell_type": "code",
      "execution_count": null,
      "metadata": {
        "id": "vlo7FfU-NrDX"
      },
      "outputs": [],
      "source": [
        "# Increasing # of steps from 2^0 to 2^11\n",
        "n_array = 2 ** np.arange(12) # powers of 2 up to 1024\n",
        "rel_err_TR = np.zeros(len(n_array))\n",
        "rel_err_SR = np.zeros(len(n_array))\n",
        "\n",
        "# Calculate the Relative Error as a Function of Step Size\n",
        "for i in range(12): # i=0 to 11\n",
        "    rel_err_TR[i] = np.abs(trapezoid(f,a,b,n_array[i]) - exact) / exact\n",
        "    rel_err_SR[i] = np.abs(simpson(f,a,b,n_array[i]) - exact) / exact\n"
      ]
    },
    {
      "cell_type": "code",
      "source": [
        "# Plot Comparison\n",
        "import matplotlib.pyplot as plt\n",
        "# Begin your code here.\n",
        "# Hint: Use plt.loglog()\n",
        "# Don't forget to label your axes and include a legend."
      ],
      "metadata": {
        "id": "xnQjoG7Ezm2T"
      },
      "execution_count": null,
      "outputs": []
    },
    {
      "cell_type": "markdown",
      "source": [
        "❓ What is the slope of the Trapezoidal Rule? Simpson's 1/3 Rule?"
      ],
      "metadata": {
        "id": "A4ZlQJdb-GNY"
      }
    },
    {
      "cell_type": "markdown",
      "source": [
        "* Trapezoidal Rule:\n",
        "* Simpson's 1/3 Rule:"
      ],
      "metadata": {
        "id": "_uoJrS-T-4UI"
      }
    },
    {
      "cell_type": "markdown",
      "source": [
        "❓ What is happening to Simpson's 1/3 Rule on the right-hand side of the plot?"
      ],
      "metadata": {
        "id": "vfc4GUn2-ywa"
      }
    },
    {
      "cell_type": "markdown",
      "source": [
        "* [???]"
      ],
      "metadata": {
        "id": "Q8X9_IWi-1__"
      }
    },
    {
      "cell_type": "markdown",
      "source": [
        "❓ Based on this plot, what is the optimal number of segments for the Simpson's 1/3 Rule?"
      ],
      "metadata": {
        "id": "1mT7PSmR-QZe"
      }
    },
    {
      "cell_type": "markdown",
      "source": [
        "* Simpson's 1/3 Rule appears to reach an optimum for $n \\approx [???]$."
      ],
      "metadata": {
        "id": "wIcdIsAz-e5j"
      }
    },
    {
      "cell_type": "markdown",
      "metadata": {
        "id": "08iGODJ6NrDY"
      },
      "source": [
        "## 💪 Application of Newton-Cotes Integration\n"
      ]
    },
    {
      "cell_type": "markdown",
      "source": [
        "**Problem 21.19**\n",
        "Given data for a cross-section of a river: distance $x$ from bank, depth $H$, and velocity $U$:\n",
        "\n",
        "|  y, m  | 0 |  1  |   3  |  5  |   7  |  8  |   9  | 10 |\n",
        "|:------:|:-:|:---:|:----:|:---:|:----:|:---:|:----:|:--:|\n",
        "|  H, m  | 0 |  1  |  1.5 |  3  |  3.5 | 3.2 |   2  |  0 |\n",
        "| U, m/s | 0 | 0.1 | 0.12 | 0.2 | 0.25 | 0.3 | 0.15 |  0 |"
      ],
      "metadata": {
        "id": "B_vM6MOtDy6h"
      }
    },
    {
      "cell_type": "markdown",
      "metadata": {
        "id": "OanSSROBNrDY"
      },
      "source": [
        "Use numerical integration to estimate the cross-sectional area and the flow rate:\n",
        "$$ A = \\int_0^x H(x)dx $$\n",
        "$$ Q = \\int_0^x H(x) U(x) dx $$"
      ]
    },
    {
      "cell_type": "markdown",
      "metadata": {
        "id": "AJD_KneVNrDY"
      },
      "source": [
        "The points have unequal spacing, so we will have to use trapezoid rule. It would also be possible to use Simpson's rule for the subsets of points that have equal spacing."
      ]
    },
    {
      "cell_type": "code",
      "execution_count": null,
      "metadata": {
        "id": "qknkZkF0NrDY"
      },
      "outputs": [],
      "source": [
        "# Clear Variables\n",
        "%reset -f\n",
        "\n",
        "# Import Libraries\n",
        "import numpy as np\n",
        "\n",
        "# Define Data Provided in the Table Above:\n",
        "x = np.array([0, 1, 3, 5, 7, 8, 9, 10]) # distance from bank, m\n",
        "H = np.array([0, 1, 1.5, 3, 3.5, 3.2, 2, 0]) # depth, m\n",
        "U = np.array([0, 0.1, 0.12, 0.2, 0.25, 0.3, 0.15, 0]) # velocity, m/s\n",
        "\n",
        "# Initialized Values for For Loop\n",
        "#[Insert values that you need to initialize for your for loop]\n",
        "#[Hint: See what values you are updating in the for loop below]\n",
        "\n",
        "# Implement Trapezoid Rule\n",
        "for i in range(len(x)-1):\n",
        "  h = #[Insert definition for step size that accounts for unequal spacings]\n",
        "  A = A + #[Insert how A gets updated by trapezoidal rule]\n",
        "  Q = Q + #[Insert how Q gets updated by trapezoidal rule]\n",
        "\n",
        "# Print Final Result\n",
        "print(f'Cross-Section Area: {A:0.2f} m^2')\n",
        "print(f'Flowrate: {Q:0.2f} m^3/s')"
      ]
    }
  ],
  "metadata": {
    "kernelspec": {
      "display_name": "Python 3 (ipykernel)",
      "language": "python",
      "name": "python3"
    },
    "language_info": {
      "codemirror_mode": {
        "name": "ipython",
        "version": 3
      },
      "file_extension": ".py",
      "mimetype": "text/x-python",
      "name": "python",
      "nbconvert_exporter": "python",
      "pygments_lexer": "ipython3",
      "version": "3.12.8"
    },
    "colab": {
      "provenance": []
    }
  },
  "nbformat": 4,
  "nbformat_minor": 0
}