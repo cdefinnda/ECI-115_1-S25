{
  "cells": [
    {
      "cell_type": "markdown",
      "source": [
        "# Lecture 8 - Root Finding: Bracketing Methods 🫚"
      ],
      "metadata": {
        "id": "wjmdMnDEdBwC"
      }
    },
    {
      "cell_type": "markdown",
      "source": [
        "## Comparing Bisection and False Position Methods\n",
        "\n",
        "From C&C: Example 5.3-5.5"
      ],
      "metadata": {
        "id": "UctR2xCzCpXc"
      }
    },
    {
      "cell_type": "markdown",
      "metadata": {
        "id": "KPV9qtbtwT8y"
      },
      "source": [
        "Recall that the velocity of a parachutist can be calculate analyticall using the following equation:\n",
        "\n",
        "$$v(t) = \\frac{gm}{c}(1 - e^{-ct/m})$$\n",
        "\n",
        "Given the following known parameters: $m = 68.1$ kg, $t = 10$ s, and $v(t) = 40$ m/s\n",
        "\n",
        "- Solve for $c$ using initial bracket $[12, 16]$\n",
        "- Plot $log(|f(x)|)$ vs. number of iterations $n$"
      ]
    },
    {
      "cell_type": "markdown",
      "source": [
        "### 💪 Define the Function"
      ],
      "metadata": {
        "id": "yFPo8V9fEdCQ"
      }
    },
    {
      "cell_type": "code",
      "execution_count": null,
      "metadata": {
        "id": "8f-JHfbEwT8z"
      },
      "outputs": [],
      "source": [
        "# Import Libraries\n",
        "import numpy as np\n",
        "\n",
        "# Define Parameters\n",
        "m = 68.1\n",
        "t = 10\n",
        "v = 40\n",
        "g = 9.81\n",
        "\n",
        "# Adapt the equation above into a function, f(c), equals 0 when c reaches its true value.\n"
      ]
    },
    {
      "cell_type": "markdown",
      "source": [
        "### 💪 Create a Bisection Function"
      ],
      "metadata": {
        "id": "6KkQMnctEjML"
      }
    },
    {
      "cell_type": "markdown",
      "source": [
        "**Procedure of the Bisection Method**:\n",
        "1. Choose $x_l$, $x_u$ such that $f(x_l) \\cdot f(x_u) < 0$\n",
        "2. Evaluate the midpoint: $x_r=(x_l + x_u)/2$\n",
        "3. Update bracket according to:\n",
        "  * If $f(x_l) \\cdot f(x_r) < 0$: Set $x_u=x_r$\n",
        "  * If $f(x_r) \\cdot f(x_u) < 0$: Set $x_l=x_r$\n",
        "4. Repeat until termination criteria is reached (e.g., while $|f(x)| > tol$, while $|x_r^{new}-x_r^{old}|>tol$)."
      ],
      "metadata": {
        "id": "xMT2zQiNE7iC"
      }
    },
    {
      "cell_type": "code",
      "execution_count": null,
      "metadata": {
        "id": "_ftvmswUwT80"
      },
      "outputs": [],
      "source": [
        "def bisection(f, xl, xu, tol=1e-8):\n",
        "\n",
        "    # check for valid initial bracket\n",
        "    assert f(xl) * f(xu) < 0, 'Choose xl,xu such that f(xl) * f(xu) < 0'\n",
        "    err = 9999\n",
        "    errors = [] # store errors to plot later\n",
        "\n",
        "    while err > tol:\n",
        "        xr = #[Fill in code here.]\n",
        "        test = f(xl) * f(xr)\n",
        "        if test < 0:\n",
        "            #[Fill in code here.]\n",
        "        elif test > 0:\n",
        "            #[Fill in code here.]\n",
        "        err = np.abs(f(xr))\n",
        "        errors.append(err)\n",
        "\n",
        "    return xr, errors"
      ]
    },
    {
      "cell_type": "code",
      "execution_count": null,
      "metadata": {
        "id": "61yYaIljwT80"
      },
      "outputs": [],
      "source": [
        "# Run Bisection Method\n",
        "xr, errors_b = bisection(f, 12, 16)\n",
        "\n",
        "print(f'Estimate of root: {xr:0.4f}')\n",
        "print(f'Iterations: {len(errors_b)}')"
      ]
    },
    {
      "cell_type": "code",
      "source": [
        "# Compare to SciPy's Bisection Method Function\n",
        "import scipy.optimize as sopt\n",
        "sopt.bisect(f, 12, 16)"
      ],
      "metadata": {
        "id": "FhubjvN2FKpG"
      },
      "execution_count": null,
      "outputs": []
    },
    {
      "cell_type": "markdown",
      "source": [
        "Read more about the SciPy's `sopt.bisect()` function [here](https://docs.scipy.org/doc/scipy/reference/generated/scipy.optimize.bisect.html)."
      ],
      "metadata": {
        "id": "nik4TdeeJFF2"
      }
    },
    {
      "cell_type": "markdown",
      "source": [
        "### 💪 Create a False Position Function"
      ],
      "metadata": {
        "id": "QIAyxqK2Er_m"
      }
    },
    {
      "cell_type": "markdown",
      "metadata": {
        "id": "OaP4yluowT80"
      },
      "source": [
        "**Procedure of the False Position Method**:\n",
        "1. Choose $x_l$, $x_u$ such that $f(x_l) \\cdot f(x_u) < 0$\n",
        "2. Evaluate the linear x-intercept: $x_r=x_u - \\frac{f(x_u)(x_l-x_u)}{f(x_l)-f(x_u)}$\n",
        "3. Update bracket according to:\n",
        "  * If $f(x_l) \\cdot f(x_r) < 0$: Set $x_u=x_r$\n",
        "  * If $f(x_r) \\cdot f(x_u) < 0$: Set $x_l=x_r$\n",
        "4. Repeat until termination criteria is reached (e.g., while $|f(x)| > tol$, while $|x_r^{new}-x_r^{old}|>tol$).\n",
        "\n",
        "Notice that false position method is the same as the bisection method, except for the $x_r$ update:"
      ]
    },
    {
      "cell_type": "code",
      "execution_count": null,
      "metadata": {
        "id": "tI5L67D3wT81"
      },
      "outputs": [],
      "source": [
        "# Create False Position Method Function and call it \"falseposition()\"\n",
        "# Hint: It will be very similar to Bisection Method Function"
      ]
    },
    {
      "cell_type": "code",
      "execution_count": null,
      "metadata": {
        "id": "V7iKsyF2wT81"
      },
      "outputs": [],
      "source": [
        "# Run False Position Method\n",
        "xr, errors_f = falseposition(f, 12, 16)\n",
        "\n",
        "print(f'Estimate of root: {xr:0.4f}')\n",
        "print(f'Iterations: {len(errors_f)}')\n",
        "\n",
        "# Note: SciPy doesn't have a built-in function for the False Position Method"
      ]
    },
    {
      "cell_type": "markdown",
      "source": [
        "### Comparison of Bisection and False Position Methods:"
      ],
      "metadata": {
        "id": "witW0n4TIpQ8"
      }
    },
    {
      "cell_type": "code",
      "execution_count": null,
      "metadata": {
        "id": "8572uUSZwT81"
      },
      "outputs": [],
      "source": [
        "import matplotlib.pyplot as plt\n",
        "plt.semilogy(errors_b)\n",
        "plt.semilogy(errors_f)\n",
        "plt.ylabel('Log Error')\n",
        "plt.xlabel('Number of iterations')\n",
        "plt.legend(['Bisection', 'False Position'])\n",
        "plt.show()"
      ]
    },
    {
      "cell_type": "markdown",
      "metadata": {
        "id": "r_GyRzfbwT81"
      },
      "source": [
        "The false position method converges faster for this problem.\n",
        "\n",
        "Note: These implementations are not very robust. They should include a `maxiter` to catch cases where the iteration does not converge. We could have chosen a different stopping criteria based on the difference in $x_r$ values rather than the $f(x_r)$ value."
      ]
    },
    {
      "cell_type": "markdown",
      "metadata": {
        "id": "bGaGElxUwT81"
      },
      "source": [
        "## C&C: Case Study 8.2"
      ]
    },
    {
      "cell_type": "markdown",
      "source": [
        "Rain pH as a function of atmospheric CO2 concentration. Function defined below.\n",
        "\n",
        "$$\n",
        "[H^{+}]=\\frac{K_1 K_H}{10^6 [H^{+}]}p_{CO_2}+2\\frac{K_2 K_1 K_H}{10^6 [H^{+}]^2}p_{CO_2}+\\frac{K_w}{[H^{+}]}\n",
        "$$\n",
        "\n",
        "Solve using bisection with initial bracket $[10^{-12}, 10^{-2}]$"
      ],
      "metadata": {
        "id": "taMEdfqCNJnd"
      }
    },
    {
      "cell_type": "code",
      "execution_count": null,
      "metadata": {
        "ExecuteTime": {
          "end_time": "2020-03-27T04:05:57.254596Z",
          "start_time": "2020-03-27T04:05:57.176661Z"
        },
        "id": "n5bV02ZkwT81"
      },
      "outputs": [],
      "source": [
        "# Define Parameters\n",
        "KH = 10**-1.46\n",
        "K1 = 10**-6.3\n",
        "K2 = 10**-10.3\n",
        "Kw = 10**-14\n",
        "\n",
        "# Partial pressure of CO2 (ppm)\n",
        "# 1958: 315 ppm, 2003: 376 ppm, 2025: 428 ppm\n",
        "pCO2 = 315\n",
        "\n",
        "def f(H):\n",
        "    return K1*KH*pCO2/(H*1e6) + 2*K2*K1*KH*pCO2/(H**2*1e6) + Kw/H - H\n",
        "\n",
        "xr, errors_b = bisection(f, 1e-12, 1e-2)\n",
        "pH = (-1*np.log10(xr))\n",
        "\n",
        "print(f'Estimate of root: {xr:0.5e}')\n",
        "print(f'Iterations: {len(errors_b)}')\n",
        "print(f'pH = {pH:0.2f}')\n"
      ]
    },
    {
      "cell_type": "markdown",
      "metadata": {
        "id": "aUYwdgEZwT82"
      },
      "source": [
        "❓ What happens to pH as $p_{CO_2}$ increases?\n",
        "* Increasing $p_{CO_2}$ causes the pH to decrease (water becomes more acidic)."
      ]
    },
    {
      "cell_type": "markdown",
      "metadata": {
        "id": "H9gd2y2CwT82"
      },
      "source": [
        "If we try false position instead, it will be very slow to converge."
      ]
    },
    {
      "cell_type": "code",
      "source": [
        "#xr, errors_f = falseposition(f, 1e-12, 1e-2)"
      ],
      "metadata": {
        "id": "9gh9eIYpOjFM"
      },
      "execution_count": null,
      "outputs": []
    },
    {
      "cell_type": "markdown",
      "source": [
        "\n",
        "❓ Why does the False Position Method struggle to converge?\n",
        "* One side of our brackets is very close to 0 compared to the other, so the updated bracket value doesn't change significantly between iterations.\n",
        "* The false position method assumes that the root is located near the side of the bracket with a function value closer to zero. However, that is not the case here: the root $~10^{-6}$ is much closer to $f(x_l)$. This will cause slow convergence for the false position method."
      ],
      "metadata": {
        "id": "nhe-qV-eOnMt"
      }
    },
    {
      "cell_type": "code",
      "execution_count": null,
      "metadata": {
        "id": "9Nhscnt8wT82"
      },
      "outputs": [],
      "source": [
        "# plot f(H) vs. H to visulaize where the root is.\n",
        "x = np.linspace(1e-12, 1e-2, 100)\n",
        "y = f(x)\n",
        "plt.semilogx(x,y)\n",
        "#plt.ylim([-1e-2,1e-2])\n",
        "#plt.loglog(x,abs(y))\n",
        "plt.xlabel('$[H^{+}]$')\n",
        "plt.ylabel('$f([H^{+}])$')\n",
        "plt.show()"
      ]
    }
  ],
  "metadata": {
    "hide_input": false,
    "kernelspec": {
      "display_name": "Python 3 (ipykernel)",
      "language": "python",
      "name": "python3"
    },
    "language_info": {
      "codemirror_mode": {
        "name": "ipython",
        "version": 3
      },
      "file_extension": ".py",
      "mimetype": "text/x-python",
      "name": "python",
      "nbconvert_exporter": "python",
      "pygments_lexer": "ipython3",
      "version": "3.12.8"
    },
    "latex_envs": {
      "LaTeX_envs_menu_present": true,
      "autoclose": false,
      "autocomplete": true,
      "bibliofile": "biblio.bib",
      "cite_by": "apalike",
      "current_citInitial": 1,
      "eqLabelWithNumbers": true,
      "eqNumInitial": 1,
      "hotkeys": {
        "equation": "Ctrl-E",
        "itemize": "Ctrl-I"
      },
      "labels_anchors": false,
      "latex_user_defs": false,
      "report_style_numbering": false,
      "user_envs_cfg": false
    },
    "toc": {
      "base_numbering": 1,
      "nav_menu": {},
      "number_sections": true,
      "sideBar": true,
      "skip_h1_title": false,
      "title_cell": "Table of Contents",
      "title_sidebar": "Contents",
      "toc_cell": false,
      "toc_position": {},
      "toc_section_display": true,
      "toc_window_display": false
    },
    "varInspector": {
      "cols": {
        "lenName": "40",
        "lenType": 16,
        "lenVar": "100"
      },
      "kernels_config": {
        "python": {
          "delete_cmd_postfix": "",
          "delete_cmd_prefix": "del ",
          "library": "var_list.py",
          "varRefreshCmd": "print(var_dic_list())"
        },
        "r": {
          "delete_cmd_postfix": ") ",
          "delete_cmd_prefix": "rm(",
          "library": "var_list.r",
          "varRefreshCmd": "cat(var_dic_list()) "
        }
      },
      "types_to_exclude": [
        "module",
        "function",
        "builtin_function_or_method",
        "instance",
        "_Feature"
      ],
      "window_display": false
    },
    "colab": {
      "provenance": []
    }
  },
  "nbformat": 4,
  "nbformat_minor": 0
}