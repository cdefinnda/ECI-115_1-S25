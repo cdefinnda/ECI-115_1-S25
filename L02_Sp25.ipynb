{
  "cells": [
    {
      "cell_type": "markdown",
      "source": [
        "# Lecture 2 - Analytical vs. Numerical Models 🪂"
      ],
      "metadata": {
        "id": "aSU4fBNuqcaV"
      }
    },
    {
      "cell_type": "markdown",
      "source": [
        "**Learning Objectives**:\n",
        "* Practice implementing Euler's Method.\n",
        "* Compare this result to the analytical solution graphically and through error analysis.\n",
        "* Continue building Python coding abilities."
      ],
      "metadata": {
        "id": "zdLXdmbiqlka"
      }
    },
    {
      "cell_type": "markdown",
      "metadata": {
        "id": "bB_mxANcNjry"
      },
      "source": [
        "## Parachute Problem from Chapra & Canale Chapter 1:"
      ]
    },
    {
      "cell_type": "markdown",
      "source": [
        "$$\\frac{dv}{dt} = g - \\frac{cv}{m}$$\n",
        "\n",
        "Given $m = 68.1$ kg, $c = 12.5$ kg/s, and $g = 9.81$ m/s$^2$\n",
        "\n",
        "Initial condition $v(0) = 0$ m/s\n",
        "\n",
        "Solve for $v(t)$ for $t \\in [0, 20]$ s using a timestep $\\Delta t = 2$ s. Compare to analytical solution."
      ],
      "metadata": {
        "id": "CIAcyQANrVh3"
      }
    },
    {
      "cell_type": "markdown",
      "source": [
        "###❓ Why would we use numerical methods when we can just use the analytical solution?"
      ],
      "metadata": {
        "id": "1K8IUN1ltcJw"
      }
    },
    {
      "cell_type": "markdown",
      "source": [
        "Analytical Solution: $v(t)=\\frac{gm}{c}\\big(1-e^{-\\frac{c}{m}t}\\big)$"
      ],
      "metadata": {
        "id": "phxLIVi7uiwL"
      }
    },
    {
      "cell_type": "markdown",
      "source": [
        "### 💪 Define a function that takes `t` as an input and returns `v` as an output using the analytical solution. Call this function `v_analytical`."
      ],
      "metadata": {
        "id": "FTntyyPWu0zU"
      }
    },
    {
      "cell_type": "markdown",
      "source": [
        "### 👈 If you're stuck, click the 🔽 button on the left for hints."
      ],
      "metadata": {
        "id": "bYbADIB6xaRe"
      }
    },
    {
      "cell_type": "markdown",
      "source": [
        "####🤔 Hint #1"
      ],
      "metadata": {
        "id": "qqaz3GyFxQpr"
      }
    },
    {
      "cell_type": "markdown",
      "source": [
        "Remember the proper syntax for a function:"
      ],
      "metadata": {
        "id": "21C7sXQ83zTU"
      }
    },
    {
      "cell_type": "code",
      "source": [
        "# Define Function\n",
        "def f(x):\n",
        "  f = #[Insert Equation here]\n",
        "  return f"
      ],
      "metadata": {
        "id": "LCpVO3E_xQMq"
      },
      "execution_count": null,
      "outputs": []
    },
    {
      "cell_type": "markdown",
      "source": [
        "####😅 Hint #2"
      ],
      "metadata": {
        "id": "I7TJJNjR3jxi"
      }
    },
    {
      "cell_type": "markdown",
      "source": [
        "You'll need to import the NumPy library and use the `np.exp()` function."
      ],
      "metadata": {
        "id": "9XkKiIPl4hx-"
      }
    },
    {
      "cell_type": "code",
      "source": [
        "# Import Libraries\n",
        "import numpy as np\n",
        "\n",
        "np.exp(x)"
      ],
      "metadata": {
        "id": "bOBtjoRS3mun"
      },
      "execution_count": null,
      "outputs": []
    },
    {
      "cell_type": "markdown",
      "source": [
        "####🥲 Hint #3"
      ],
      "metadata": {
        "id": "7VPZ5zyu3nJB"
      }
    },
    {
      "cell_type": "markdown",
      "source": [
        "Since $t$ is our only input into `v_analytical`, we should define our other parameters ($g$, $m$, and $c$) within our function."
      ],
      "metadata": {
        "id": "kQqwN4LQ5EfV"
      }
    },
    {
      "cell_type": "code",
      "source": [
        "# Import Libraries\n",
        "import numpy as np\n",
        "\n",
        "# Define Example Function\n",
        "def f(x):\n",
        "  y = 2\n",
        "  z = 3\n",
        "  f = x+y*np.exp(z)\n",
        "  return f\n",
        "\n",
        "# Test Example Function\n",
        "x = 1\n",
        "print(f(x))"
      ],
      "metadata": {
        "id": "gsHX2wOu3prF"
      },
      "execution_count": null,
      "outputs": []
    },
    {
      "cell_type": "markdown",
      "source": [
        "### 🥳 Your Solution"
      ],
      "metadata": {
        "id": "W16mm6E0xIvX"
      }
    },
    {
      "cell_type": "code",
      "source": [],
      "metadata": {
        "id": "CyHskICMuzDS"
      },
      "execution_count": null,
      "outputs": []
    },
    {
      "cell_type": "markdown",
      "source": [
        "### 💪 Use Euler's Method to solve for $v$ for $t \\in [0, 20]$ s using a timestep $\\Delta t = 2$ s and the initial condition: Initial condition $v(0) = 0$ m/s."
      ],
      "metadata": {
        "id": "e7scLfSrImsA"
      }
    },
    {
      "cell_type": "markdown",
      "source": [
        "* Euler's Method: $v(t_{i+1})=v(t_i)+\\Delta t \\big[\\frac{dv}{dt} \\big]$\n",
        "* ODE: $\\frac{dv}{dt} = g - \\frac{cv}{m}$\n",
        "* $m = 68.1$ kg\n",
        "* $c = 12.5$ kg/s\n",
        "* $g = 9.81$ m/s$^2$\n",
        "* $v(0) = 0$ m/s"
      ],
      "metadata": {
        "id": "6l0OSHWoLgCX"
      }
    },
    {
      "cell_type": "markdown",
      "source": [
        "### 👈 Click the 🔽 button for hints."
      ],
      "metadata": {
        "id": "nLzR8HdEME3d"
      }
    },
    {
      "cell_type": "markdown",
      "source": [
        "#### 🤔 Hint #1"
      ],
      "metadata": {
        "id": "GQ5HBqxMMLQ3"
      }
    },
    {
      "cell_type": "markdown",
      "source": [
        "After importing your libraries and defining your parameters, start by initializing your arrays (i.e., where you are going to put your data as you solve for it)."
      ],
      "metadata": {
        "id": "eT4GV6aJqiUI"
      }
    },
    {
      "cell_type": "code",
      "source": [
        "# Set up vectors for time and velocity\n",
        "t = np.arange(0, tf+dt, dt)  # t=0 to t=tf in steps of dt\n",
        "v_n = np.zeros_like(t) # empty, we will fill in values"
      ],
      "metadata": {
        "id": "yRT8xoLGMK0J"
      },
      "execution_count": null,
      "outputs": []
    },
    {
      "cell_type": "markdown",
      "source": [
        "#### 😅 Hint #2"
      ],
      "metadata": {
        "id": "ZVwsaZ4GMYk6"
      }
    },
    {
      "cell_type": "markdown",
      "source": [
        "Remember the proper syntax of a `for` loop."
      ],
      "metadata": {
        "id": "T3r4Khr5q304"
      }
    },
    {
      "cell_type": "code",
      "source": [
        "for i in range(n_iterations):\n",
        "    # [insert operation you want to iterate here]"
      ],
      "metadata": {
        "id": "FwsM-o0LMXzp"
      },
      "execution_count": null,
      "outputs": []
    },
    {
      "cell_type": "markdown",
      "source": [
        "#### 🥲 Hint #3"
      ],
      "metadata": {
        "id": "c_pHGnHmMczW"
      }
    },
    {
      "cell_type": "markdown",
      "source": [
        "Remember how to implement Euler's Method in your `for` loop."
      ],
      "metadata": {
        "id": "D9VlSDkmrxaN"
      }
    },
    {
      "cell_type": "code",
      "source": [
        "# Loop up to T-1. Euler's method\n",
        "v_n[0] = v0  # set initial condition (index 0)\n",
        "for i in range(len(t)-1):\n",
        "    v_n[i+1] = v_n[i] + dt * (g - (c/m) * v_n[i])"
      ],
      "metadata": {
        "id": "1sLc5Q1xMccB"
      },
      "execution_count": null,
      "outputs": []
    },
    {
      "cell_type": "markdown",
      "source": [
        "### 🥳 Your Solution"
      ],
      "metadata": {
        "id": "4HL0QjLSLrzu"
      }
    },
    {
      "cell_type": "code",
      "source": [],
      "metadata": {
        "id": "aLJxuvEOI6AW"
      },
      "execution_count": null,
      "outputs": []
    },
    {
      "cell_type": "code",
      "source": [
        "# Solve for v_a to compare\n",
        "v_a = v_analytical(t)\n",
        "print(np.round(v_a))"
      ],
      "metadata": {
        "id": "eq-sZBoYW16s"
      },
      "execution_count": null,
      "outputs": []
    },
    {
      "cell_type": "markdown",
      "source": [
        "### 💪 Compare the numerical and analytical solutions graphically and through error analysis."
      ],
      "metadata": {
        "id": "lsO0GgH8Q56a"
      }
    },
    {
      "cell_type": "markdown",
      "source": [
        "### 👈 Click the 🔽 button for hints."
      ],
      "metadata": {
        "id": "9TgBS8sggp1o"
      }
    },
    {
      "cell_type": "markdown",
      "source": [
        "#### 🤔 Hint #1"
      ],
      "metadata": {
        "id": "MLmJwRPsgp1p"
      }
    },
    {
      "cell_type": "markdown",
      "source": [
        "First, you'll want to import the library for matplotlib."
      ],
      "metadata": {
        "id": "fNsZEv1qs4nh"
      }
    },
    {
      "cell_type": "code",
      "source": [
        "# Import Libraries\n",
        "import matplotlib.pyplot as plt"
      ],
      "metadata": {
        "id": "rCQrmje2gp1p"
      },
      "execution_count": null,
      "outputs": []
    },
    {
      "cell_type": "markdown",
      "source": [
        "#### 😅 Hint #2"
      ],
      "metadata": {
        "id": "oVYPPxUpgp1p"
      }
    },
    {
      "cell_type": "markdown",
      "source": [
        "Remember the syntax for using the `plt.plot()` function."
      ],
      "metadata": {
        "id": "49EOxGOstFn_"
      }
    },
    {
      "cell_type": "code",
      "source": [
        "plt.plot(x, y, color = 'black', linestyle = '-', label='y values')"
      ],
      "metadata": {
        "id": "ck32L32agp1p"
      },
      "execution_count": null,
      "outputs": []
    },
    {
      "cell_type": "markdown",
      "source": [
        "#### 🥲 Hint #3"
      ],
      "metadata": {
        "id": "vbSu_B5Ggp1p"
      }
    },
    {
      "cell_type": "markdown",
      "source": [
        "Don't forget to format the rest of your plot."
      ],
      "metadata": {
        "id": "OGb1GzA6t33D"
      }
    },
    {
      "cell_type": "code",
      "source": [
        "plt.xlabel('x values [units]')\n",
        "plt.ylabel('y values [usits]')\n",
        "plt.grid(True)\n",
        "plt.title('x vs. y')\n",
        "plt.legend()"
      ],
      "metadata": {
        "id": "w1Bs-z9Zgp1p"
      },
      "execution_count": null,
      "outputs": []
    },
    {
      "cell_type": "markdown",
      "source": [
        "### 🥳 Your Solution"
      ],
      "metadata": {
        "id": "ZXzGnPcaRE5b"
      }
    },
    {
      "cell_type": "markdown",
      "source": [
        "**Graphical Comparison**"
      ],
      "metadata": {
        "id": "ieNDPgoieCln"
      }
    },
    {
      "cell_type": "code",
      "source": [],
      "metadata": {
        "id": "DgbWCqIveCbL"
      },
      "execution_count": null,
      "outputs": []
    },
    {
      "cell_type": "markdown",
      "source": [
        "**Error Analysis**: Relative Error$=\\Big|\\frac{x_{actual} - x_{approx}}{x_{actual}} \\Big| \\times 100\\%$"
      ],
      "metadata": {
        "id": "hBbcROnydfL9"
      }
    },
    {
      "cell_type": "code",
      "source": [],
      "metadata": {
        "id": "LjvzvT69RFVv"
      },
      "execution_count": null,
      "outputs": []
    },
    {
      "cell_type": "markdown",
      "source": [
        "### ❓ What is the terminal velocity?"
      ],
      "metadata": {
        "id": "RShj3CxffvoU"
      }
    },
    {
      "cell_type": "markdown",
      "source": [
        "Acceleration: $\\frac{dv}{dt} = g - \\frac{cv}{m}$\n",
        "\n",
        "Terminal Velocity ($v_t$) is achieved when $dv/dt=0$\n",
        "\n",
        "> $0=g-\\frac{cv_t}{m}$\n",
        ">\n",
        "> $v_t=\\frac{gm}{c}$\n"
      ],
      "metadata": {
        "id": "O07IxI6ag7SX"
      }
    },
    {
      "cell_type": "code",
      "source": [
        "vt = (g*m)/c #m/s\n",
        "\n",
        "# Plot Comparison\n",
        "plt.plot(t, v_n, '-o', label='Numerical')\n",
        "plt.plot(t, v_a, '--',label='Analytical')\n",
        "plt.axhline(vt, color = 'r', linestyle = '--', label='Terminal Velocity') # This is new.\n",
        "plt.xlabel('Time [s]')\n",
        "plt.ylabel('Velocity [m/s]')\n",
        "plt.grid(True)\n",
        "plt.title('Comparison between Analytical and Numerical Solution')\n",
        "plt.legend()\n",
        "plt.show()"
      ],
      "metadata": {
        "id": "oqMoM90HjZRv"
      },
      "execution_count": null,
      "outputs": []
    },
    {
      "cell_type": "markdown",
      "source": [
        "### ❓ How does step size affect error? Try $\\Delta t = 0.2$ s."
      ],
      "metadata": {
        "id": "yIJ30gdZf8Hm"
      }
    },
    {
      "cell_type": "code",
      "source": [
        "# You could also just modify the plot above.\n",
        "\n",
        "# Import Libraries\n",
        "import numpy as np\n",
        "\n",
        "# Define Parameters\n",
        "m  = 68.1 # kg\n",
        "c  = 12.5 # kg/s\n",
        "g  = 9.81 # m/s^2\n",
        "v0 = 0.0 # m/s\n",
        "\n",
        "tf = 20.0 # s\n",
        "dt = 0.2 # s\n",
        "\n",
        "# Set up vectors for time and velocity\n",
        "t = np.arange(0, tf+dt, dt)  # t=0 to t=tf in steps of dt\n",
        "v_n = np.zeros_like(t) # empty, we will fill in values\n",
        "v_a = v_analytical(t)\n",
        "\n",
        "# Loop up to T-1. Euler's method\n",
        "v_n[0] = v0  # set initial condition (index 0)\n",
        "for i in range(len(t)-1):\n",
        "    v_n[i+1] = v_n[i] + dt * (g - (c/m) * v_n[i])\n",
        "\n",
        "# Plot Comparison\n",
        "plt.plot(t, v_n, '-o', label='Numerical')\n",
        "plt.plot(t, v_a, '--',label='Analytical')\n",
        "plt.axhline(vt, color = 'r', linestyle = '--', label='Terminal Velocity')\n",
        "plt.xlabel('Time [s]')\n",
        "plt.ylabel('Velocity [m/s]')\n",
        "plt.grid(True)\n",
        "plt.title('Comparison between Analytical and Numerical Solution')\n",
        "plt.legend()\n",
        "plt.show()\n",
        "\n",
        "# Calculate Relative Error\n",
        "rel_err = np.zeros_like(t)\n",
        "rel_err[1:] = np.abs((v_a[1:]-v_n[1:])/v_a[1:])\n",
        "\n",
        "# Print Relative Error as a Percentage\n",
        "print('Relative Error [%]: ', np.round(rel_err*100,1))"
      ],
      "metadata": {
        "id": "SRfVBtW-k6G6"
      },
      "execution_count": null,
      "outputs": []
    },
    {
      "cell_type": "markdown",
      "source": [
        "### ❓ How can we solve for displacement?"
      ],
      "metadata": {
        "id": "bavmoch5gF1p"
      }
    },
    {
      "cell_type": "markdown",
      "source": [
        "Velocity: $v(t)=\\frac{gm}{c}\\big( 1-e^{-\\frac{ct}{m}} \\big)$\n",
        ">\n",
        "> * $v(t)=-\\frac{dy}{dt}$\n",
        ">\n",
        "> * Initial Condition: $y(0) = 0$ m\n",
        "\n",
        "Position: $y(t)=-\\frac{gm}{c}t+\\frac{gm^2}{c^2} \\big(1-e^{-\\frac{ct}{m}} \\big)$"
      ],
      "metadata": {
        "id": "dSd-b0ASh6ur"
      }
    },
    {
      "cell_type": "code",
      "source": [
        "# Import Libraries\n",
        "import numpy as np\n",
        "\n",
        "# Define Function\n",
        "def y_analytical(t):\n",
        "  m = 68.1    # kg\n",
        "  c = 12.5    # kg/s\n",
        "  g = 9.81    # m/s^2\n",
        "  y = -(g*m/c)*t + (g*m**2/c**2)*(1 - np.exp(-c*t/m))\n",
        "  return y\n",
        "\n",
        "\n",
        "# Define Parameters\n",
        "m  = 68.1 # kg\n",
        "c  = 12.5 # kg/s\n",
        "g  = 9.81 # m/s^2\n",
        "y0 = 0.0 # m/s\n",
        "\n",
        "tf = 20.0 # s\n",
        "dt = 2.0 # s\n",
        "\n",
        "# Set up vectors for time and velocity\n",
        "t = np.arange(0, tf+dt, dt)  # t=0 to t=tf in steps of dt\n",
        "y_n = np.zeros_like(t) # empty, we will fill in values\n",
        "\n",
        "\n",
        "# Loop up to T-1. Euler's method\n",
        "y_n[0] = y0  # set initial condition (index 0)\n",
        "for i in range(len(t)-1):\n",
        "    y_n[i+1] = y_n[i] + dt * -v_n[i+1]\n",
        "\n",
        "# Plot Comparison\n",
        "plt.plot(t, y_n, '-o', label='Numerical')\n",
        "plt.plot(t, y_a, '--',label='Analytical')\n",
        "plt.xlabel('Time [s]')\n",
        "plt.ylabel('Position [m]')\n",
        "plt.grid(True)\n",
        "plt.title('Comparison between Analytical and Numerical Solution')\n",
        "plt.legend()\n",
        "plt.show()\n",
        "\n",
        "# Solve for y_a\n",
        "y_a = y_analytical(t)\n",
        "\n",
        "# Calculate Relative Error\n",
        "rel_err = np.zeros_like(t)\n",
        "rel_err[1:] = np.abs((y_a[1:]-y_n[1:])/y_a[1:])\n",
        "\n",
        "# Print Relative Error as a Percentage\n",
        "print('Relative Error [%]: ', np.round(rel_err*100,1))"
      ],
      "metadata": {
        "id": "kl7kHs7DiGIE"
      },
      "execution_count": null,
      "outputs": []
    },
    {
      "cell_type": "markdown",
      "metadata": {
        "id": "8WrILumsNjr0"
      },
      "source": [
        "## Extra problem - C&C 1.9:\n"
      ]
    },
    {
      "cell_type": "markdown",
      "source": [
        "A cylindrical storage tank contains water at depth $y$, where $y=0$ when the tank is half full. Water is withdrawn at constant rate $Q$ and refilled at a rate $Q_{in} = 3Q\\sin^2(t)$.\n",
        "\n",
        "Given $A = 1250$ m$^2$, $Q = 450$ m$^3$/d, and $y(0) = 0$"
      ],
      "metadata": {
        "id": "vObaiMNxoQN2"
      }
    },
    {
      "cell_type": "markdown",
      "metadata": {
        "id": "3E0_GlFANjr0"
      },
      "source": [
        "Use Euler's method to solve for $y(t)$ for $t \\in [0,10]$ d using $\\Delta t = 0.5$ d.\n",
        "\n",
        "The differential equation comes from mass balance:\n",
        "$$\\frac{dV}{dt} = Q_{in} - Q_{out}$$\n",
        "\n",
        "The cylinder has a constant area:\n",
        "$$\\frac{dy}{dt} = \\frac{Q_{in}}{A} - \\frac{Q_{out}}{A} = \\frac{3Q\\sin^2(t)}{A} - \\frac{Q}{A}$$"
      ]
    },
    {
      "cell_type": "code",
      "execution_count": null,
      "metadata": {
        "id": "CaSS5njvNjr0"
      },
      "outputs": [],
      "source": []
    }
  ],
  "metadata": {
    "kernelspec": {
      "display_name": "Python 3 (ipykernel)",
      "language": "python",
      "name": "python3"
    },
    "language_info": {
      "codemirror_mode": {
        "name": "ipython",
        "version": 3
      },
      "file_extension": ".py",
      "mimetype": "text/x-python",
      "name": "python",
      "nbconvert_exporter": "python",
      "pygments_lexer": "ipython3",
      "version": "3.12.8"
    },
    "colab": {
      "provenance": [],
      "collapsed_sections": [
        "bB_mxANcNjry",
        "1K8IUN1ltcJw",
        "bYbADIB6xaRe",
        "qqaz3GyFxQpr",
        "I7TJJNjR3jxi",
        "7VPZ5zyu3nJB",
        "nLzR8HdEME3d",
        "GQ5HBqxMMLQ3",
        "ZVwsaZ4GMYk6",
        "c_pHGnHmMczW",
        "9TgBS8sggp1o",
        "MLmJwRPsgp1p",
        "oVYPPxUpgp1p",
        "vbSu_B5Ggp1p",
        "RShj3CxffvoU",
        "yIJ30gdZf8Hm",
        "bavmoch5gF1p",
        "8WrILumsNjr0"
      ]
    }
  },
  "nbformat": 4,
  "nbformat_minor": 0
}