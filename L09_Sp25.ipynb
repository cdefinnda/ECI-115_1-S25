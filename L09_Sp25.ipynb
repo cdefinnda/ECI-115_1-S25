{
  "cells": [
    {
      "cell_type": "markdown",
      "source": [
        "# Lecture 9 - Root Finding: Open Methods ⛳️"
      ],
      "metadata": {
        "id": "oyISKCPdyKrI"
      }
    },
    {
      "cell_type": "markdown",
      "metadata": {
        "id": "L-kRMsq_wUgL"
      },
      "source": [
        "## Extension of C&C Example 5.3 - 5.5\n",
        "\n",
        "Add Newton-Raphson and Secant Methods, compare convergence to bracketing methods from last class.\n",
        "$$v(t) = \\frac{gm}{c}(1 - e^{-ct/m})$$\n",
        "\n",
        "Given $m = 68.1$ kg, $t = 10$ s, $v(t) = 40$ m/s\n",
        "\n",
        "- Solve for $c$ using initial guess $x_0=12$\n",
        "- Plot $log(|f(x)|)$ vs. number of iterations $n$"
      ]
    },
    {
      "cell_type": "markdown",
      "source": [
        "### Define Function"
      ],
      "metadata": {
        "id": "Dt8cGfYbz4Jk"
      }
    },
    {
      "cell_type": "code",
      "execution_count": null,
      "metadata": {
        "id": "KqOIyhEuwUgM"
      },
      "outputs": [],
      "source": [
        "# Import Libraries\n",
        "import numpy as np\n",
        "\n",
        "# Define Parameters\n",
        "m = 68.1\n",
        "t = 10\n",
        "v = 40\n",
        "g = 9.81\n",
        "\n",
        "# Define Function\n",
        "def f(c):\n",
        "    return g*m/c * (1 - np.exp(-c*t/m)) - v  # set f(c) = 0"
      ]
    },
    {
      "cell_type": "markdown",
      "source": [
        "### Bisection & False Position Methods (from L08 Notebook)"
      ],
      "metadata": {
        "id": "181GyuUMy_qx"
      }
    },
    {
      "cell_type": "code",
      "execution_count": null,
      "metadata": {
        "id": "4fiYkL5UwUgN"
      },
      "outputs": [],
      "source": [
        "# Bisection Method\n",
        "def bisection(f, xl, xu, tol=1e-8):\n",
        "\n",
        "    # check for valid initial bracket\n",
        "    assert f(xl) * f(xu) < 0, 'Choose xl,xu such that f(xl) * f(xu) < 0'\n",
        "    err = 9999\n",
        "    errors = [] # store errors to plot later\n",
        "\n",
        "    while err > tol:\n",
        "        xr = (xl + xu) / 2\n",
        "        test = f(xl) * f(xr)\n",
        "        if test < 0:\n",
        "            xu = xr\n",
        "        elif test > 0:\n",
        "            xl = xr\n",
        "        err = np.abs(f(xr))\n",
        "        errors.append(err)\n",
        "\n",
        "    return xr, errors\n",
        "\n",
        "# False Position Method\n",
        "def falseposition(f, xl, xu, tol=1e-8):\n",
        "\n",
        "    # check for valid initial bracket\n",
        "    assert f(xl) * f(xu) < 0, 'Choose xl,xu such that f(xl) * f(xu) < 0'\n",
        "    err = 9999\n",
        "    errors = [] # store errors to plot later\n",
        "\n",
        "    while err > tol:\n",
        "        xr = xu - f(xu) * (xl - xu) / (f(xl) - f(xu))\n",
        "        test = f(xl) * f(xr)\n",
        "        if test < 0:\n",
        "            xu = xr\n",
        "        elif test > 0:\n",
        "            xl = xr\n",
        "        err = np.abs(f(xr))\n",
        "        errors.append(err)\n",
        "\n",
        "    return xr, errors"
      ]
    },
    {
      "cell_type": "code",
      "source": [
        "# Run function, print results\n",
        "xr, errors_b = bisection(f, 12, 16)\n",
        "print('Bisection Method')\n",
        "print(f'Estimate of root: {xr:0.4f}')\n",
        "print(f'Iterations: {len(errors_b)}')\n",
        "\n",
        "print('\\n') # Add a space between printed lines.\n",
        "\n",
        "xr, errors_f = falseposition(f, 12, 16)\n",
        "print('False Position Method')\n",
        "print(f'Estimate of root: {xr:0.4f}')\n",
        "print(f'Iterations: {len(errors_f)}')"
      ],
      "metadata": {
        "id": "tKskfUcs0SV5"
      },
      "execution_count": null,
      "outputs": []
    },
    {
      "cell_type": "markdown",
      "source": [
        "### 💪 Newton-Raphson Method"
      ],
      "metadata": {
        "id": "VDv-7c03zM5Y"
      }
    },
    {
      "cell_type": "markdown",
      "source": [
        "1. Use this formula to approximate the root: $x_{i+1}=x_i-\\frac{f(x_i)}{f'(x_i)}$\n",
        "\n",
        "2. Repeat while $|f(x_{i+1})| > tol$.\n",
        "\n",
        "Note for your function you will be re-defining $x_i = x_{i+1}$ for each loop of the iteration."
      ],
      "metadata": {
        "id": "KAxNQgtt1QT5"
      }
    },
    {
      "cell_type": "code",
      "execution_count": null,
      "metadata": {
        "id": "X0YMQj0GwUgN"
      },
      "outputs": [],
      "source": [
        "def newtonraphson(f, fp, x, tol=1e-8):\n",
        "\n",
        "    err = 9999  # This value is arbitrary, just needs to be larger than tol\n",
        "    errors = [] # Store errors to plot later\n",
        "\n",
        "    while err > tol:\n",
        "        x =     # [Implement Newton-Raphson Method here. See above for guidance.]\n",
        "        err =   # [Implement error evaluation here. See above for guidance.]\n",
        "        errors.append(err)\n",
        "\n",
        "    return x, errors"
      ]
    },
    {
      "cell_type": "markdown",
      "metadata": {
        "id": "ZB7YAGszwUgN"
      },
      "source": [
        "Newton-Raphson requires a function for the derivative (solve by using [WolframAlpha](https://www.wolframalpha.com/input?i2d=true&i=D%5BDivide%5Bgm%2Cc%5D%5C%2840%291-Power%5Be%2C-Divide%5Bc%2Cm%5Dt%5D%5C%2841%29-v%2Cc%5D)):\n",
        "\n",
        "$$f'(x)=\\frac{g\\big(e^{-ct/m}(ct+m)-m\\big)}{c^2}$$"
      ]
    },
    {
      "cell_type": "code",
      "execution_count": null,
      "metadata": {
        "id": "Fpb52ibywUgN"
      },
      "outputs": [],
      "source": [
        "def fp(c):\n",
        "    return g * (np.exp(-c * t / m) * (c * t + m) - m) / (c**2)"
      ]
    },
    {
      "cell_type": "code",
      "execution_count": null,
      "metadata": {
        "id": "pSWI9BwCwUgO"
      },
      "outputs": [],
      "source": [
        "# Run function, print results\n",
        "xr, errors_n = newtonraphson(f, fp, 12)\n",
        "\n",
        "print(f'Estimate of root: {xr:0.4f}')\n",
        "print(f'Iterations: {len(errors_n)}')"
      ]
    },
    {
      "cell_type": "markdown",
      "source": [
        "### 💪 Secant Method"
      ],
      "metadata": {
        "id": "Jw3DdSElzYnH"
      }
    },
    {
      "cell_type": "markdown",
      "metadata": {
        "id": "IiPAa6CtwUgO"
      },
      "source": [
        "1. Starting with $x_{i-1}$, define $x_i = x_{i-1}+\\delta$\n",
        "2. Solve for $x_{i+1}$ to approximate the root: $x_{i+1}=x_i+\\frac{f(x_i)(x_{i-1}-x_i)}{f(x_{i-1})-f(x_i)}$\n",
        "3. Re-define parameters for next loop: $x_{i-1}=x_i$ and $x_i=x_{i+1}$\n",
        "4. Repeat while $|f(x_i)| > tol$\n",
        "\n",
        "Note that we can define our function for the Secant Method to accept two intial guesses or one. In this case we will accept only one initial guess and define the other guess by: $x_{i}=x_{i-1}+\\delta$, where $\\delta=0.01$."
      ]
    },
    {
      "cell_type": "code",
      "execution_count": null,
      "metadata": {
        "id": "NvO5yejRwUgO"
      },
      "outputs": [],
      "source": [
        "def secant(f, x0, tol=1e-8):\n",
        "\n",
        "    err = 9999\n",
        "    errors = [] # store errors to plot later\n",
        "\n",
        "    x1 = x0 + 0.01\n",
        "\n",
        "    while err > tol:\n",
        "        x1 =    # [Implement Secant Method here. See above for guidance.]\n",
        "                # [Hint: It may be useful to store the initial value of x1 before it gets redefined.]\n",
        "                # [Hint: Don't forget to redefine x0 as the original value of x1 before it gets redefined.]\n",
        "\n",
        "        err =   # [Implement error evaluation here. See above for guidance.]\n",
        "        errors.append(err)\n",
        "\n",
        "    return x1, errors"
      ]
    },
    {
      "cell_type": "code",
      "execution_count": null,
      "metadata": {
        "id": "U1UbJlBwwUgO"
      },
      "outputs": [],
      "source": [
        "# Run function, print results\n",
        "xr, errors_s = secant(f, 12)\n",
        "\n",
        "print(f'Estimate of root: {xr:0.4f}')\n",
        "print(f'Iterations: {len(errors_s)}')"
      ]
    },
    {
      "cell_type": "markdown",
      "source": [
        "### Compare Results with Built-In SciPy Functions\n",
        "\n",
        "See documentation for `scipy.optimize.newton()` [here](https://docs.scipy.org/doc/scipy/reference/generated/scipy.optimize.newton.html#scipy.optimize.newton) and note how it selects which method to use:\n",
        "\n",
        "```\n",
        "fprime  callable, optional\n",
        "The derivative of the function when available and convenient. If it is None (default), then the secant method is used.\n",
        "```"
      ],
      "metadata": {
        "id": "Z6xGDZWl_A0g"
      }
    },
    {
      "cell_type": "code",
      "execution_count": null,
      "metadata": {
        "id": "d2qZSYfuwUgO"
      },
      "outputs": [],
      "source": [
        "# compare to SciPy Function\n",
        "import scipy.optimize as sopt\n",
        "print(sopt.newton(f, 12))"
      ]
    },
    {
      "cell_type": "markdown",
      "metadata": {
        "id": "TPILfusNwUgP"
      },
      "source": [
        "The general choice for root finding problems in Scipy is `fsolve` (see documentation [here](https://docs.scipy.org/doc/scipy/reference/generated/scipy.optimize.fsolve.html)), which uses a more advanced method. The bottom of the docs page shows an example of solving a nonlinear system of equations."
      ]
    },
    {
      "cell_type": "markdown",
      "source": [
        "### 💪 Comparison of the Four Root Finding Methods"
      ],
      "metadata": {
        "id": "C_tzlFMXACbg"
      }
    },
    {
      "cell_type": "code",
      "execution_count": null,
      "metadata": {
        "id": "D5OiD-BJwUgP"
      },
      "outputs": [],
      "source": [
        "# Plot Comparison of Root Finding Methods: Error vs. Number of Iterations\n",
        "\n",
        "# Import Libraries\n",
        "import matplotlib.pyplot as plt\n",
        "\n",
        "# Plot Results - Try doing this from scratch!\n",
        "# Hint: Plot using plt.semilogy() <-- You'll repeat this for each set of errors you calculated above.\n",
        "# Hint: Remember to to label you x and y axes.\n",
        "# Hint: Don't forget to show the legend.\n",
        "# Hint: Don't forget plt.show() at the end."
      ]
    },
    {
      "cell_type": "markdown",
      "metadata": {
        "id": "47Dvs5gQwUgP"
      },
      "source": [
        "## Case Study 8.4 C&C\n",
        "\n",
        "Find friction factor $f$ for turbulent flow from the Colebrook Equation:\n",
        "\n",
        "$$\n",
        "g(f)=\\frac{1}{\\sqrt{f}} + 2.0 log_{10}\\Big( \\frac{\\varepsilon}{3.7D} \\frac{2.51}{Re \\sqrt{f}} \\Big)=0\n",
        "$$\n",
        "\n",
        "Solve using Newton-Raphson (see derivative below) with initial guess in the range $f \\in [0.008, 0.08]$\n",
        "\n",
        "$$\n",
        "g'(f) = -\\frac{1}{2}f^{-2/3}+f^{-1}\n",
        "$$\n",
        "\n",
        "Other parameters are defined as:\n",
        "* $\\varepsilon = 0.0015$ mm (pipe roughness)\n",
        "* $D = 0.0015$ m (pipe diameter)\n",
        "* $Re=\\frac{\\rho V D}{\\mu}=13743$ (Reynolds number indicates turbulent flow)\n",
        "* $\\rho = 1.23$ kg/m$^3$ (density of the fluid: air)\n"
      ]
    },
    {
      "cell_type": "code",
      "execution_count": null,
      "metadata": {
        "ExecuteTime": {
          "end_time": "2020-03-27T04:05:57.254596Z",
          "start_time": "2020-03-27T04:05:57.176661Z"
        },
        "id": "Pwz9ZclRwUgP"
      },
      "outputs": [],
      "source": [
        "# Define Parameters\n",
        "# [Define variables here.]\n",
        "\n",
        "# Naming the function g since unknown is f\n",
        "def g(f):\n",
        "    g = # [Insert the equation for g here.]\n",
        "    return g\n",
        "\n",
        "def gp(f):\n",
        "    gp = # [Insert the equation for the derivative of g here.]\n",
        "    return gp"
      ]
    },
    {
      "cell_type": "code",
      "execution_count": null,
      "metadata": {
        "ExecuteTime": {
          "end_time": "2020-03-27T04:05:57.254596Z",
          "start_time": "2020-03-27T04:05:57.176661Z"
        },
        "id": "TdV8WlpMwUgP"
      },
      "outputs": [],
      "source": [
        "# Plot function to choose initial guess\n",
        "x = np.arange(.008,.08,.001)\n",
        "plt.plot(x, g(x))\n",
        "plt.axhline(0, color = 'red')\n",
        "plt.xlabel('Friction Factor, $f$');plt.ylabel('Colebrook Estimation')\n",
        "plt.show()"
      ]
    },
    {
      "cell_type": "markdown",
      "metadata": {
        "id": "QEP8OYNrwUgP"
      },
      "source": [
        "💪 Based on the plot above, select an initial guess for the root. Use this initial guess to solve for $f$ using the Newton-Raphson function you developed previously."
      ]
    },
    {
      "cell_type": "code",
      "execution_count": null,
      "metadata": {
        "id": "aCKwBI-YwUgP"
      },
      "outputs": [],
      "source": [
        "f, errors_n = newtonraphson(g, gp, #f_guess) # [Replace f_guess with your guess.].\n",
        "\n",
        "print(f'Estimate of root: {f:0.4f}')\n",
        "print(f'Iterations: {len(errors_n)}')"
      ]
    },
    {
      "cell_type": "markdown",
      "source": [
        "❓ **Try an initial guess of 0.08.** Does the Newton-Raphson Method still work? Why or why not?"
      ],
      "metadata": {
        "id": "vIL0P8yRI1Ku"
      }
    },
    {
      "cell_type": "code",
      "execution_count": null,
      "metadata": {
        "id": "6EvQ_xy0wUgP"
      },
      "outputs": [],
      "source": [
        "f, errors_n = newtonraphson(g, gp, 0.08)\n",
        "print(f'Estimate of root: {f:0.4f}')\n",
        "print(f'Iterations: {len(errors_n)}')"
      ]
    },
    {
      "cell_type": "markdown",
      "source": [
        "* ..."
      ],
      "metadata": {
        "id": "r1I-3i4iI5Yf"
      }
    }
  ],
  "metadata": {
    "hide_input": false,
    "kernelspec": {
      "display_name": "Python 3 (ipykernel)",
      "language": "python",
      "name": "python3"
    },
    "language_info": {
      "codemirror_mode": {
        "name": "ipython",
        "version": 3
      },
      "file_extension": ".py",
      "mimetype": "text/x-python",
      "name": "python",
      "nbconvert_exporter": "python",
      "pygments_lexer": "ipython3",
      "version": "3.12.8"
    },
    "latex_envs": {
      "LaTeX_envs_menu_present": true,
      "autoclose": false,
      "autocomplete": true,
      "bibliofile": "biblio.bib",
      "cite_by": "apalike",
      "current_citInitial": 1,
      "eqLabelWithNumbers": true,
      "eqNumInitial": 1,
      "hotkeys": {
        "equation": "Ctrl-E",
        "itemize": "Ctrl-I"
      },
      "labels_anchors": false,
      "latex_user_defs": false,
      "report_style_numbering": false,
      "user_envs_cfg": false
    },
    "toc": {
      "base_numbering": 1,
      "nav_menu": {},
      "number_sections": true,
      "sideBar": true,
      "skip_h1_title": false,
      "title_cell": "Table of Contents",
      "title_sidebar": "Contents",
      "toc_cell": false,
      "toc_position": {},
      "toc_section_display": true,
      "toc_window_display": false
    },
    "varInspector": {
      "cols": {
        "lenName": "40",
        "lenType": 16,
        "lenVar": "100"
      },
      "kernels_config": {
        "python": {
          "delete_cmd_postfix": "",
          "delete_cmd_prefix": "del ",
          "library": "var_list.py",
          "varRefreshCmd": "print(var_dic_list())"
        },
        "r": {
          "delete_cmd_postfix": ") ",
          "delete_cmd_prefix": "rm(",
          "library": "var_list.r",
          "varRefreshCmd": "cat(var_dic_list()) "
        }
      },
      "types_to_exclude": [
        "module",
        "function",
        "builtin_function_or_method",
        "instance",
        "_Feature"
      ],
      "window_display": false
    },
    "colab": {
      "provenance": []
    }
  },
  "nbformat": 4,
  "nbformat_minor": 0
}