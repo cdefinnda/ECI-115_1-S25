{
  "cells": [
    {
      "cell_type": "markdown",
      "metadata": {
        "id": "ajnhoFYMPEGb"
      },
      "source": [
        "# Lecture 5 - Integration: Romberg, Gauss Quadrature, Adaptive Quadrature 📊"
      ]
    },
    {
      "cell_type": "markdown",
      "source": [
        "**Learning Objectives**\n",
        "* Become familiar with advanced integration methods: Romberg Integration, Adaptive Quadrature, and Gauss Quadrature.\n",
        "* Compare the efficiency (# of evaluations) of these methods to Trapezoidal Rule."
      ],
      "metadata": {
        "id": "SFnuCmCR5-rE"
      }
    },
    {
      "cell_type": "markdown",
      "source": [
        "## The Function for Integration\n",
        "Recall that these methods require a continuous function (not discrete data points)."
      ],
      "metadata": {
        "id": "P33IWUVgp6Mn"
      }
    },
    {
      "cell_type": "markdown",
      "source": [
        "Implement these three integration methods to estimate:\n",
        "\n",
        "$$ \\int_0^{0.8} 0.2+25x-200x^2+675x^3-900x^4+400x^5 dx $$\n",
        "\n",
        "The exact value is 1.640533. Compare against built-in `scipy.integrate` functions."
      ],
      "metadata": {
        "id": "DXa-zxiE5Y2r"
      }
    },
    {
      "cell_type": "code",
      "source": [
        "# Define Function\n",
        "def f(x):\n",
        "    return 0.2 + 25*x - 200*x**2 + 675*x**3 - 900*x**4 + 400*x**5\n",
        "\n",
        "# Define Limits of Integration\n",
        "a = 0\n",
        "b = 0.8"
      ],
      "metadata": {
        "id": "9Rbzr6G47GPL"
      },
      "execution_count": null,
      "outputs": []
    },
    {
      "cell_type": "markdown",
      "source": [
        "## 🤝 Romberg Integration"
      ],
      "metadata": {
        "id": "o8PJ6C1U6Y6M"
      }
    },
    {
      "cell_type": "markdown",
      "source": [
        "We will use our `trapezoid` function from last time."
      ],
      "metadata": {
        "id": "u8mz-DIQ6f4I"
      }
    },
    {
      "cell_type": "code",
      "execution_count": null,
      "metadata": {
        "id": "IoXS2S9XPEGc"
      },
      "outputs": [],
      "source": [
        "# Import Libraries\n",
        "import numpy as np\n",
        "\n",
        "# Trapezoidal Rule\n",
        "def trapezoid(f,a,b,n):\n",
        "    x = np.linspace(a,b,n+1) # n segments, n+1 points between a and b\n",
        "    I = (b-a)/(2*n) * (f(x[0]) + 2*np.sum(f(x[1:-1])) + f(x[-1]))\n",
        "    return I"
      ]
    },
    {
      "cell_type": "code",
      "source": [
        "# Quick Demonstration of Romberg Integration\n",
        "\n",
        "# Trapezoidal Rule (n=2, n=4)\n",
        "I_1 = # Fill in here.\n",
        "I_2 = # Fill in here.\n",
        "\n",
        "# Romberg Integration (k=2)\n",
        "I_R = # Fill in here.\n",
        "\n",
        "# Print Results\n",
        "print('I_1:', np.round(I_1,6))\n",
        "print('I_2:', np.round(I_2,6))\n",
        "print('I_R:', np.round(I_R,6))\n",
        "print('Exact:', 1.640533)"
      ],
      "metadata": {
        "id": "OBRRv3fc5Lze"
      },
      "execution_count": null,
      "outputs": []
    },
    {
      "cell_type": "markdown",
      "source": [
        "Let's build a function that creates the Romberg Matrix. For the first column, we just use the Trapezoidal Rule:\n",
        "\n",
        "$$I_{j,0}=\\frac{h_j}{2}\\bigg[ f(x_0) + 2\\sum^{n-1}_{i=1}f(x_i) + f(x_n) \\bigg]$$\n",
        "\n",
        "We initialize our Romberg Matrix by specifying the maximum number of iterations we want (e.g., what is the maximum size of our Romberg Matrix) and assigning the top left value of this matrix $I_{0,0}$ by the Trapezoidal Rule.\n",
        "\n",
        "To run the iterative Romberg Integration, we start by calculating the integral of the second row in the first column by the Trapezoidal Rule ($I_{0,1}$). This allows us to calculate the integral that is diagonally up and right of $I_{0,1}$, which would be $I_{1,0}$ by the following Romberg relationship (modified for Python indicies starting at [0,0]):\n",
        "\n",
        "$$I_{j,k}=\\frac{4^{k}I_{j+1,k-1}-I_{j,k-1}}{4^{k}-1}$$\n",
        "\n",
        "Note that this equation will always be applied to the value that is diagonally up and right of all the preceeding values, which if $k$ is always less than or equal to $j$ (which is true for the upper triangular matrix we are constructing) Therefore, the indicies can be rewritten as:\n",
        "\n",
        "$$I_{j-k,k}=\\frac{4^{k}I_{j-k+1,k-1}-I_{j-k,k-1}}{4^{k}-1}$$\n",
        "\n",
        "\n",
        "Once all the diagonal elements (starting from the second column) have been calculated with the equation above, we should check whether our integration is become more accurate within a tolerance ($tol$):\n",
        "\n",
        "$$\\big|I_{0,k} - I_{0,k-1} \\big| < tol$$\n",
        "\n",
        "If the above condition is satisfied, we can return the final value of the Romberg Matrix ($I_{0,k}$). Otherwise, we repeat this process by calculating the next value in the first columnn of our Romberg Matrix with the Trapezoidal Rule ($I_{j,0}$).\n",
        "\n",
        "Note that the final implementation of Romberg Integration *technically* reuses function evaluations that overlap from preceeding iterations used to construct the Romberg Matrix. Therefore, the final number of function evaluats from the Trapezoidal Rule is $n+1$, which accounts for the function evaluations on either side of each step segment."
      ],
      "metadata": {
        "id": "pZKAI_H-q2fH"
      }
    },
    {
      "cell_type": "code",
      "source": [
        "# Function for Romberg Integration\n",
        "def romberg(f, a, b, tol=1e-4, maxiter=10):\n",
        "    R = np.zeros((maxiter, maxiter))  # Romberg matrix\n",
        "    n = 1  # Initial number of segments\n",
        "    R[0, 0] = trapezoid(f, a, b, n)\n",
        "\n",
        "    for j in range(1, maxiter):         # Uses trapezoidal method to calculate\n",
        "        n *= 2                          # the next row in first column\n",
        "        R[j, 0] = trapezoid(f, a, b, n)\n",
        "\n",
        "        for k in range(1, j + 1):\n",
        "            R[j - k, k] = (4**k * R[j - k + 1, k - 1] - R[j - k, k - 1]) / (4**k - 1)\n",
        "                                        # Calculates diagonal upwards, starting\n",
        "                                        # with the second column and moving to\n",
        "                                        # the upper-right most element.\n",
        "\n",
        "        if abs(R[0, k] - R[0, k - 1]) < tol:    # Check to see if the improvement\n",
        "            num_evals = n + 1                   # in the Romberg Integration is\n",
        "            return R[0, k], num_evals           # less than the specified tolerance.\n",
        "\n",
        "    # If convergence not reached.\n",
        "    num_evals = n + 1\n",
        "    return R[0, maxiter - 1], num_evals"
      ],
      "metadata": {
        "id": "J0YmF_Wt8Hm6"
      },
      "execution_count": null,
      "outputs": []
    },
    {
      "cell_type": "markdown",
      "source": [
        "Let's test our Romberg Function:"
      ],
      "metadata": {
        "id": "NTeAQhgD4EMB"
      }
    },
    {
      "cell_type": "code",
      "execution_count": null,
      "metadata": {
        "id": "USIlwKsAPEGc"
      },
      "outputs": [],
      "source": [
        "# Print Result\n",
        "I, num_evals = romberg(f, a, b, tol=1e-4)\n",
        "print(f'Romberg: I = {I:0.7f}, num_evals = {num_evals}')"
      ]
    },
    {
      "cell_type": "markdown",
      "metadata": {
        "id": "kp0lAPSJPEGc"
      },
      "source": [
        "Compare to the built-in function `scipy`. If we want to see the full matrix, run with `show=True`.\n",
        "\n",
        "The full documentation is [here](https://docs.scipy.org/doc/scipy/reference/generated/scipy.integrate.romberg.html#scipy.integrate.romberg)."
      ]
    },
    {
      "cell_type": "code",
      "execution_count": null,
      "metadata": {
        "id": "iCVV058YPEGc"
      },
      "outputs": [],
      "source": [
        "# Import Libraries\n",
        "from scipy import integrate\n",
        "\n",
        "# Print result from scipy function\n",
        "result = integrate.romberg(f, a, b, tol=1e-4)\n",
        "print(result)\n",
        "\n",
        "# Print Full Matrix\n",
        "integrate.romberg(f, a, b, tol=1e-4, show=True)"
      ]
    },
    {
      "cell_type": "markdown",
      "source": [
        "Note the DeprecationWarning. Romberg Integration appears to not have advantages over other advanced integration methods (i.e., `scipy.integrate.romberg`)"
      ],
      "metadata": {
        "id": "NhGTFvUm5GyJ"
      }
    },
    {
      "cell_type": "markdown",
      "metadata": {
        "id": "gwCQalTaPEGd"
      },
      "source": [
        "## 💪 Adaptive Quadrature"
      ]
    },
    {
      "cell_type": "markdown",
      "source": [
        "The Adaptive Quadrature starts by taking the computing the integral by the Trapezoidal Rule for two step sizes: $n=1$ and $n=2$. If these difference between these two integrals is within some tolerance, then we're done and we can compute the integral using Romberg Integration (where $k=2$):\n",
        "\n",
        "$$I=\\frac{4I_{n=2}-I_{n=1}}{3}$$\n",
        "\n",
        "> **Note:** Running the above Romberg Integration requires 5 function evaluations: 2 for $I_{n=1}$ and 3 for $I_{n=2}$. However, the function evaluations for $I_{n=2}$ overlap with $I_{n=1}$. Therefore, there are only 3 function evaluations in total when the above Romberg Integration is computed.\n",
        "\n",
        "If the difference between the integrals exceeds the specified tolerance, then we repeat this process by calculating the midpoint between $a$ and $b$, and repeating the above process described above. This would require use to build a \"recursive function\" or a function that calls upon the use of itself in order to execute."
      ],
      "metadata": {
        "id": "ZST6kWQ1_Als"
      }
    },
    {
      "cell_type": "code",
      "source": [
        "# Function for Adaptive Quadrature\n",
        "def adaptive_quad(f,a,b,tol=1e-4):\n",
        "  I1 = trapezoid(f,a,b,1)     # Integral for 1 segment: 2 evaluations\n",
        "  I2 = trapezoid(f,a,b,2)     # Integral for 2 segments: 3 evaluations, but 2 are reused.\n",
        "\n",
        "  if abs(I2-I1) < tol:\n",
        "    return (4*I2 - I1)/3, 3   # Romberg Integral, # of Evaluations\n",
        "\n",
        "  else:\n",
        "    # Begin by calculating the midpoint\n",
        "    # Use this midpoint to call adaptive_quad twice:\n",
        "    #     Once from a to the midpoint\n",
        "    #     And again from the midpoint to b\n",
        "    # Call the outputs Ia, na and Ib, nb respectively.\n",
        "    return Ia + Ib, na + nb"
      ],
      "metadata": {
        "id": "JWSdZfRt79h5"
      },
      "execution_count": null,
      "outputs": []
    },
    {
      "cell_type": "markdown",
      "source": [
        "Let's test our Adaptive Quadrature Function:"
      ],
      "metadata": {
        "id": "tOjkRyEhDiBz"
      }
    },
    {
      "cell_type": "code",
      "execution_count": null,
      "metadata": {
        "id": "LZBTzVRTPEGd"
      },
      "outputs": [],
      "source": [
        "# Print Result\n",
        "I,num_evals = adaptive_quad(f, a, b, tol=1e-4)\n",
        "print(f'Adaptive: I = {I:0.7f}, num_evals = {num_evals}')"
      ]
    },
    {
      "cell_type": "markdown",
      "metadata": {
        "id": "9KDpD8DyPEGd"
      },
      "source": [
        "Compare to built in `quad`. Documentation [here](https://docs.scipy.org/doc/scipy/reference/generated/scipy.integrate.quad.html#scipy.integrate.quad)"
      ]
    },
    {
      "cell_type": "code",
      "execution_count": null,
      "metadata": {
        "id": "Hm24amTBPEGd"
      },
      "outputs": [],
      "source": [
        "# Print result from scipy function\n",
        "result, err, infodict = integrate.quad(f, a, b, epsabs=1e-4, full_output=True)\n",
        "print(result)\n",
        "print('num_evals:', infodict['neval'])"
      ]
    },
    {
      "cell_type": "markdown",
      "metadata": {
        "id": "CkxxtzUWPEGd"
      },
      "source": [
        "The built-in function is much more efficient and accurate than our simplified version because it uses an \"Adaptive Gauss\" method, as opposed to our \"Trapezoidal-Romberg\" method."
      ]
    },
    {
      "cell_type": "markdown",
      "metadata": {
        "id": "aol9ZrMUPEGd"
      },
      "source": [
        "## 💪 Gauss Quadrature"
      ]
    },
    {
      "cell_type": "markdown",
      "source": [
        "<p align=\"center\">\n",
        "  <img src=\"https://github.com/cdefinnda/ECI-115_HW-Images/blob/main/HW3_Table22.1.png?raw=true\" alt=\"Table 22.1\" width=500>\n",
        "</p>\n",
        "</font>\n",
        "\n",
        "The Gauss Quadrature uses weighting factors ($c_i$) and function arguments ($x_i$) that are specified in Table 22.1. Once we have these values, we then need to scale the $x_i$ values from a range of [-1,1] to $y_i$ from a range [$a$,$b$] by:\n",
        "$$y_i=\\frac{a+b}{2}+\\frac{b-a}{2}x_i$$\n",
        "\n",
        "Then we can compute the integral by using the following approximation:\n",
        "\n",
        "$$\\int_a^b f(y)\\ dy \\approx \\Big(\\frac{b-a}{2}\\Big)\\sum^N_{i=0}c_if(y_i)$$\n"
      ],
      "metadata": {
        "id": "JIs7SFUGTA1v"
      }
    },
    {
      "cell_type": "markdown",
      "source": [
        "Write a function that computes the 3-Point Gauss Quadrature:"
      ],
      "metadata": {
        "id": "Ud7gj_KbUpyD"
      }
    },
    {
      "cell_type": "code",
      "execution_count": null,
      "metadata": {
        "id": "9MAeN8lOPEGd"
      },
      "outputs": [],
      "source": [
        "def gauss_3(f,a,b):\n",
        "  # Define guass weights and points\n",
        "  c = np.array([])  # Fill in code here.\n",
        "  x = np.array([])  # Fill in code here.\n",
        "\n",
        "  # Map gauss points (x) from the interval [-1,1] to y values on the interval [a,b]\n",
        "  y =   # Fill in code here.\n",
        "\n",
        "  # Compute the gauss integral\n",
        "  I =   # Fill in code here\n",
        "  num_evals =   # Fill in code here.\n",
        "  return I, num_evals"
      ]
    },
    {
      "cell_type": "markdown",
      "source": [
        "Let's test our 3-Point Gauss Quadrature Function:"
      ],
      "metadata": {
        "id": "HInOkj4AITbu"
      }
    },
    {
      "cell_type": "code",
      "execution_count": null,
      "metadata": {
        "id": "dRoLQCEFPEGd"
      },
      "outputs": [],
      "source": [
        "# Print Result\n",
        "I , num_evals = gauss_3(f,a,b)\n",
        "print(f'3-Point Gauss: I = {I:0.7f}, num_evals = {num_evals}')"
      ]
    },
    {
      "cell_type": "markdown",
      "metadata": {
        "id": "7WJ77rQuPEGd"
      },
      "source": [
        "We can write similar functions for 2, 4, 5, 6-point Gauss quadrature using the values from Table 22.1 of the textbook. For now, use the built-in `fixed_quad`. Specify `n=` the number of points. Docs [here](https://docs.scipy.org/doc/scipy/reference/generated/scipy.integrate.fixed_quad.html#scipy.integrate.fixed_quad)."
      ]
    },
    {
      "cell_type": "code",
      "execution_count": null,
      "metadata": {
        "id": "NMHhzH9uPEGd"
      },
      "outputs": [],
      "source": [
        "# Print result from scipy function\n",
        "for n in range(2,10):\n",
        "    I,num_evals = integrate.fixed_quad(f, a, b, n=n)\n",
        "    print(f'{n}-point Gauss Quadrature: {I:0.7f}')"
      ]
    },
    {
      "cell_type": "markdown",
      "metadata": {
        "id": "fXYTm_fMPEGd"
      },
      "source": [
        "Notice that 3-point Gauss should exactly integrate a $2N+1=5$th order polynomial, so in this case the answer is perfect. For a general $f(x)$ that is not a polynomial, it wouldn't work quite so well."
      ]
    },
    {
      "cell_type": "markdown",
      "source": [
        "## 💪 Compare to Trapezoidal Rule"
      ],
      "metadata": {
        "id": "n1dptKisJiRC"
      }
    },
    {
      "cell_type": "markdown",
      "metadata": {
        "id": "NVrqckq0PEGd"
      },
      "source": [
        "##### Compare accuracy to reach `tol=1e-4`\n",
        "- Romberg: 9 function evaluations\n",
        "- Adaptive: 21 function evaluations (with built-in function, ours was 129)\n",
        "- Gauss: 3 function evaluations (special case for 5th order polynomial)"
      ]
    },
    {
      "cell_type": "markdown",
      "source": [
        "Write a `while` loop the computes the integral by the Trapezoidal Rule for step sizes increasing by $n=2^i$.\n",
        "\n",
        "Start by initializing `I_old` and `I_new` by using the Trapezoidal Rule for $n=2^0=1$ and $n=2^1=2$ respectively. Then create a `while` loop that compares the absolute difference between these two integrals to the `tol=1e-4` (note: the `while` loop should run until this difference is less than `tol`). Be sure to update values for `I_old`, `n`, and `I_new` within the `while` loop."
      ],
      "metadata": {
        "id": "D6reUzEDPGP5"
      }
    },
    {
      "cell_type": "code",
      "source": [
        "# Initialized tol, I_old, n, I_new\n",
        "tol = 1e-4\n",
        "I_old =   # Fill in code here.\n",
        "n =       # Fill in code here.\n",
        "I_new =   # Fill in code here.\n",
        "\n",
        "# While loop that will run as long as abs(I_new - I_old) >= tol\n",
        "# Build while loop here.\n",
        "\n",
        "# Compute final value of I_trap with n updated by the while loop\n",
        "I_trap =      # Fill in code here.\n",
        "num_evals =   # Fill in code here.\n",
        "\n",
        "# Print Final Result\n",
        "print(f'Trapezoidal Rule: I = {I_trap:0.7f}, num_evals = {num_evals}')"
      ],
      "metadata": {
        "id": "0i5JtqgEMgFo"
      },
      "execution_count": null,
      "outputs": []
    }
  ],
  "metadata": {
    "kernelspec": {
      "display_name": "Python 3 (ipykernel)",
      "language": "python",
      "name": "python3"
    },
    "language_info": {
      "codemirror_mode": {
        "name": "ipython",
        "version": 3
      },
      "file_extension": ".py",
      "mimetype": "text/x-python",
      "name": "python",
      "nbconvert_exporter": "python",
      "pygments_lexer": "ipython3",
      "version": "3.12.8"
    },
    "colab": {
      "provenance": []
    }
  },
  "nbformat": 4,
  "nbformat_minor": 0
}