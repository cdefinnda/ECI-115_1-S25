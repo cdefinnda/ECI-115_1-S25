{
  "cells": [
    {
      "cell_type": "markdown",
      "metadata": {
        "id": "csFCaxRMwXfA"
      },
      "source": [
        "# Lecture 14 - Parameter Estimation, Least Squares 🔲"
      ]
    },
    {
      "cell_type": "markdown",
      "metadata": {
        "id": "jdWpJs7CwXfB"
      },
      "source": [
        "## C&C Problem 20.25\n",
        "\n",
        "Find best-fit linear relationship between annual precipitation (cm) and annual streamflow (m$^3$/s). Data given in the code below.\n",
        "- Report $r^2$ value and compare to `scipy.stats.linregress` (docs [here](https://docs.scipy.org/doc/scipy/reference/generated/scipy.stats.linregress.html))\n",
        "- Estimate annual streamflow is precipitation is 120 cm\n",
        "- If drainage area is 1100 km$^2$, estimate what fraction of precipitation is lost via other processes (evaporation, groundwater infiltration, consumptive use).\n",
        "\n",
        "In a real application we would do this with many more than 8 data points, and also likely with a hydrologic model instead of linear regression. This is just an example to show the method."
      ]
    },
    {
      "cell_type": "code",
      "execution_count": null,
      "metadata": {
        "id": "bdD2cyvTwXfB"
      },
      "outputs": [],
      "source": [
        "# Import Libraries\n",
        "import numpy as np\n",
        "import matplotlib.pyplot as plt"
      ]
    },
    {
      "cell_type": "markdown",
      "source": [
        "### 🤝 Load & Visualize Data"
      ],
      "metadata": {
        "id": "doDsj0-R6O1c"
      }
    },
    {
      "cell_type": "markdown",
      "metadata": {
        "id": "ocb8-YRAwXfC"
      },
      "source": [
        "First, make a scatter plot of the data. Here the points are copied into the code for convenience. For larger datasets, we would read the points from a file using `np.loadtxt` ([docs](https://numpy.org/doc/stable/reference/generated/numpy.loadtxt.html)) or similar functions."
      ]
    },
    {
      "cell_type": "code",
      "execution_count": null,
      "metadata": {
        "id": "cPs_L3RtwXfC"
      },
      "outputs": [],
      "source": [
        "# Load Data\n",
        "P = np.array([88.9, 108.5, 104.1, 139.7, 127, 94, 116.8, 99.1]) # cm\n",
        "Q = np.array([14.6, 16.7, 15.3, 23.2, 19.5, 16.1, 18.1, 16.6]) # m^3/s\n",
        "\n",
        "# Plot Data\n",
        "plt.scatter(P,Q)\n",
        "plt.xlabel('Precipitation (cm)')\n",
        "plt.ylabel('Streamflow (m^3/s)')\n",
        "plt.show()"
      ]
    },
    {
      "cell_type": "markdown",
      "source": [
        "### 💪 Use least-squares regression to determine the linear fitting paramters $a_0$ and $a_1$:\n",
        "\n",
        "1. $a_1=\\frac{n\\sum{x_i y_i}-\\sum{x_i}\\sum{y_i}}{n\\sum{x^2_i}-\\big( \\sum{x_i} \\big)^2}$\n",
        "\n",
        "2. $a_0 = \\bar{y}-a_1 \\bar{x}$"
      ],
      "metadata": {
        "id": "XwRnZhWP6VB7"
      }
    },
    {
      "cell_type": "markdown",
      "metadata": {
        "id": "ILPSf34mwXfC"
      },
      "source": [
        "Find the best-fit line and report $r^2$. Add to plot. Compare to built-in SciPy function."
      ]
    },
    {
      "cell_type": "code",
      "execution_count": null,
      "metadata": {
        "id": "yaDe54emwXfC"
      },
      "outputs": [],
      "source": [
        "# Fitting Parameters\n",
        "n = #[insert code here]\n",
        "a1 = #[insert code here]\n",
        "a0 = #[insert code here]\n",
        "print('Slope:', a1)\n",
        "print('Intercept:', a0)"
      ]
    },
    {
      "cell_type": "markdown",
      "source": [
        "### 💪 Calculate the $r^2$ Value\n",
        "\n",
        "1. $S_t = \\sum{(y_i-\\bar{y})^2}$\n",
        "2. $S_r=\\sum{(y_i - a_0 - a_1 x_i)^2}$\n",
        "3. $r^2 = \\frac{S_t-S_r}{S_t}$"
      ],
      "metadata": {
        "id": "Q_jnADOP7hYH"
      }
    },
    {
      "cell_type": "code",
      "source": [
        "# r^2 Determination\n",
        "St = #[insert code here]\n",
        "Sr = #[insert code here]\n",
        "print('r2 = ', #[insert code here])"
      ],
      "metadata": {
        "id": "LKH-MXFP7TNk"
      },
      "execution_count": null,
      "outputs": []
    },
    {
      "cell_type": "markdown",
      "source": [
        "### 🤝 Compare to SciPy Function"
      ],
      "metadata": {
        "id": "4hSzB0FF6A0r"
      }
    },
    {
      "cell_type": "code",
      "execution_count": null,
      "metadata": {
        "id": "0_4VY-IkwXfC"
      },
      "outputs": [],
      "source": [
        "# Compare to SciPy Function\n",
        "from scipy import stats\n",
        "res = stats.linregress(P,Q)\n",
        "print('Scipy function:')\n",
        "print('Slope: ', res.slope)\n",
        "print('Intercept: ', res.intercept)\n",
        "print('r2: ', res.rvalue ** 2)"
      ]
    },
    {
      "cell_type": "markdown",
      "metadata": {
        "id": "ANeRUJDfwXfD"
      },
      "source": [
        "### 🤝 Add Best-Fit Line to Scatter Plot"
      ]
    },
    {
      "cell_type": "code",
      "execution_count": null,
      "metadata": {
        "id": "cNhpTDHhwXfD"
      },
      "outputs": [],
      "source": [
        "# Plot Results\n",
        "plt.scatter(P,Q)\n",
        "plt.plot(P, a0 + a1*P, c='red')\n",
        "plt.xlabel('Precipitation [cm/yr]')\n",
        "plt.ylabel('Streamflow [m^3/s]')\n",
        "plt.show()"
      ]
    },
    {
      "cell_type": "markdown",
      "source": [
        "❓ What is the streamflow if precipitation is 120 cm?"
      ],
      "metadata": {
        "id": "XaO2y-Db9CGH"
      }
    },
    {
      "cell_type": "code",
      "execution_count": null,
      "metadata": {
        "id": "g3ncC_5TwXfD"
      },
      "outputs": [],
      "source": [
        "# Use linear regression values to solve for this:\n"
      ]
    },
    {
      "cell_type": "markdown",
      "source": [
        "❓ If drainage area is 1100 km$^2$, what fraction of the precipitaiton is lost via other processes (e.g., evaporation, groundwater infiltration, consumptive use) at P = 120 cm?"
      ],
      "metadata": {
        "id": "NfoYQrmK9Jeg"
      }
    },
    {
      "cell_type": "code",
      "execution_count": null,
      "metadata": {
        "id": "tyVWQEJUwXfD"
      },
      "outputs": [],
      "source": [
        "# Total Precipitation Volume in km^3\n",
        "A_drainage = 1100 #km^2\n",
        "P_km = 120*10e-5 #km/yr\n",
        "P_total = P_km*A_drainage #km^3/yr\n",
        "\n",
        "# Total Streamflow Volume in km^3/yr: multiply by (km^3/m^3)*(s/yr)\n",
        "Qtotal = a0+a1*(120) * (10e-9) * (3.154e7) #km^3/yr\n",
        "\n",
        "# Fraction of Streamflow\n",
        "print(f'~{(Qtotal/P_total)*100:0.2f}% of the total annual precipitation becomes streamflow.')"
      ]
    },
    {
      "cell_type": "markdown",
      "metadata": {
        "id": "h-TOvqgwwXfD"
      },
      "source": [
        "## 🤝 Logistic growth with harvesting - ODE\n",
        "\n",
        "This problem is adapted from the SIMIODE textbook, Project 3.5.2. Given the logistic growth model with harvesting (from L11):\n",
        "\n",
        "$$ \\frac{dP}{dt} = rP \\big(1-\\frac{P}{K} \\big) - hP $$\n",
        "\n",
        "Along with annual data below for $P$ and $h$ over the period 1978 - 2007, find the best-fit parameters $r$ and $K$ to minimize the sum of squared residuals. Report $r^2$."
      ]
    },
    {
      "cell_type": "code",
      "execution_count": null,
      "metadata": {
        "id": "r6sPm2k3wXfD"
      },
      "outputs": [],
      "source": [
        "# Load Data\n",
        "P_data = [72148, 73793, 74082, 92912, 82323, 59073, 59920, 48789, 70638, 67462, 68702, 61191, 49599, 46266, 34877, 28827, 21980, 17463, 18057, 22681, 20196, 25776, 23796, 19240, 16495, 12167, 21104, 18871, 21241, 22962]\n",
        "h_data = [0.18847, 0.149741, 0.21921, 0.17678, 0.28203, 0.34528, 0.20655, 0.33819, 0.14724, 0.19757, 0.23154, 0.20860, 0.33565, 0.29534, 0.33185, 0.35039, 0.28270, 0.19928, 0.18781, 0.19357, 0.18953, 0.17011, 0.15660, 0.28179, 0.25287, 0.25542, 0.08103, 0.087397, 0.081952, 0.10518]\n",
        "\n",
        "# Plot Data\n",
        "plt.scatter(np.arange(1978,2007+1),P_data)\n",
        "plt.xlabel('Year')\n",
        "plt.ylabel('Population (metric tons)')\n",
        "plt.show()"
      ]
    },
    {
      "cell_type": "markdown",
      "metadata": {
        "id": "rZonfMQywXfE"
      },
      "source": [
        "Solving our ODE would give us $P(t)$ which we can then compare to `P_data`. However, we don't know what `r` and `K` are. Therefore, we define `params` as an input to our function, where `params = [r_guess, K_guess]`. This allows us to vary our `r` and `K` values as inputs as we use a gradient-based optimization method to estimate the value for `r` and `K`.\n",
        "\n",
        "Note that we are using Euler's method because we're working with discrete time steps of $\\Delta t = 1$ year. Since Euler's method evaluates our derivative $f(t,P)$, we also need to specify `params` as an input."
      ]
    },
    {
      "cell_type": "code",
      "execution_count": null,
      "metadata": {
        "id": "mrB52LKewXfE"
      },
      "outputs": [],
      "source": [
        "# Define our Rate Function with `params`\n",
        "def f(t,P,params):\n",
        "    r, K = params\n",
        "    return r * P * (1 - P / K) - h_data[t] * P\n",
        "\n",
        "# Define Euler's Method with `params`\n",
        "def euler(f, y0, xmin, xmax, h, params):\n",
        "    x = np.arange(xmin, xmax+h, h)\n",
        "    y = np.zeros(len(x))\n",
        "    y[0] = y0\n",
        "    for i in range(len(x)-1):\n",
        "        y[i+1] = y[i] + f(x[i],y[i],params) * h\n",
        "    return x,y"
      ]
    },
    {
      "cell_type": "markdown",
      "metadata": {
        "id": "lddfNWpMwXfE"
      },
      "source": [
        "* Note that the derivative function needs to access `h_data[t]` from the table. This will only work if we are using an integer timestep. The same goes for the evaluation of the squared residuals - the ODE solution must be defined at all points in the data table. More accurate solution methods would require us to evaluate fractional timesteps, which would be more challenging.\n",
        "\n",
        "* Do not confuse the step size `h` in Euler's method with the harvesting rate `h_data` in the logistic growth equation, which comes from the data table.\n",
        "\n",
        "Next set up the residual function: for a given $(r,K)$ combination, we want to run the ODE solution and return the $S_r$. Use the observed `P_data[0]` as the initial condition of the model, and run from $t=0$ to $t=29$ (30 years)."
      ]
    },
    {
      "cell_type": "code",
      "execution_count": null,
      "metadata": {
        "id": "8kIlCwVzwXfE"
      },
      "outputs": [],
      "source": [
        "# Define the Sum of Square Residuals\n",
        "def Sr(x):\n",
        "    t,P = euler(f, P_data[0], 0, 29, 1, params=x)\n",
        "    return np.sum((P_data - P) ** 2)"
      ]
    },
    {
      "cell_type": "markdown",
      "metadata": {
        "id": "X1EOJ_BSwXfE"
      },
      "source": [
        "The input vector `x = (r_guess,K_guess)`. We can evaluate $S_r$ for any combination of parameters. For our guess values, we know:\n",
        "* $r \\in [0,1]$ by definition.\n",
        "* The carrying capacity $K$ is more difficult, but will probably be on the order of the population values in the table, $K \\approx 100,000$."
      ]
    },
    {
      "cell_type": "code",
      "execution_count": null,
      "metadata": {
        "id": "FASkc-44wXfE"
      },
      "outputs": [],
      "source": [
        "print(Sr([0.2,100000]))"
      ]
    },
    {
      "cell_type": "markdown",
      "source": [
        "❓ Describe what we did in the code above."
      ],
      "metadata": {
        "id": "g14u8bu7aGK1"
      }
    },
    {
      "cell_type": "markdown",
      "source": [
        "* [insert response here]"
      ],
      "metadata": {
        "id": "pSdmPMZyaO1E"
      }
    },
    {
      "cell_type": "markdown",
      "metadata": {
        "id": "Jj2F5kswwXfE"
      },
      "source": [
        "Is this even a good value of $S_r$?\n",
        "\n",
        "Let's see how it changes with different parameter values, in this case a random sample."
      ]
    },
    {
      "cell_type": "code",
      "execution_count": null,
      "metadata": {
        "id": "RXjNkkhpwXfE"
      },
      "outputs": [],
      "source": [
        "# Define a random number of samples\n",
        "num_samples = 1000\n",
        "# Define the same number of random guesses for r and K\n",
        "r_test = np.random.rand(num_samples) # between 0-1\n",
        "K_test = np.random.rand(num_samples) * 1e6 # between 0 - 1e6\n",
        "\n",
        "# Solve for Sr for all of these guesses\n",
        "Sr_test = np.zeros(num_samples) # Initialize array to fill in\n",
        "\n",
        "for i in range(num_samples):\n",
        "    Sr_test[i] = Sr([r_test[i], K_test[i]])"
      ]
    },
    {
      "cell_type": "code",
      "execution_count": null,
      "metadata": {
        "id": "_1_sFczGwXfE"
      },
      "outputs": [],
      "source": [
        "# plot the log of Sr_test to see differences across orders of magnitude\n",
        "plt.scatter(r_test, K_test, c=np.log(Sr_test))\n",
        "plt.xlabel('r')\n",
        "plt.ylabel('K')\n",
        "plt.title('Sum Squared Residuals')\n",
        "plt.colorbar()\n",
        "plt.show()"
      ]
    },
    {
      "cell_type": "markdown",
      "metadata": {
        "id": "A0mMLWxJwXfE"
      },
      "source": [
        "* Note that some of our $r,K$ combinations produce an overflow warning and return `NaN`, likely because the errors are so large.\n",
        "* From this plot it looks like an optimal parameter combination might fall near $r=0.25, K=300,000$.\n",
        "\n",
        "Let's use a gradient-based optimization to find out."
      ]
    },
    {
      "cell_type": "code",
      "execution_count": null,
      "metadata": {
        "id": "t0iqhEpzwXfE"
      },
      "outputs": [],
      "source": [
        "from scipy.optimize import minimize\n",
        "res = minimize(Sr, x0=[0.25, 300000])\n",
        "print(res)"
      ]
    },
    {
      "cell_type": "markdown",
      "metadata": {
        "id": "TIPPRu3HwXfE"
      },
      "source": [
        "* The result seems reasonable ($r=0.19, K=340,000$).\n",
        "* The message about precision loss could be because the parameters are very different orders of magnitude, or because the `Sr` values are so large.\n",
        "* The scatter plot also brings up the concept of parameter sensitivity: the value of $r$ has a large effect on the error, but if we find the right $r$, the value of $K$ can take a range of values without changing the error too much. We will cover parameter sensitivity in more detail next class.\n",
        "\n",
        "Similar to how we plotted the log-transform of `Sr`, it might make sense to optimize `log(Sr)` too."
      ]
    },
    {
      "cell_type": "code",
      "execution_count": null,
      "metadata": {
        "id": "OGjUcMzZwXfE"
      },
      "outputs": [],
      "source": [
        "best_x = res.x\n",
        "t,P = euler(f, P_data[0], 0, 29, 1, params=best_x)\n",
        "plt.scatter(t+1978, P_data)\n",
        "plt.plot(t+1978, P, c='red')\n",
        "plt.xlabel('Year')\n",
        "plt.ylabel('Population [metric tons]')\n",
        "plt.show()"
      ]
    },
    {
      "cell_type": "markdown",
      "metadata": {
        "id": "FhEiG01HwXfE"
      },
      "source": [
        "How does our fitted model look?\n",
        "\n",
        "* The model is not a smooth curve because of the `h_data` values from the table. With a constant `h` this would look more like our L11 code."
      ]
    },
    {
      "cell_type": "markdown",
      "source": [
        "What is the $r^2$ value?"
      ],
      "metadata": {
        "id": "hsB4gHL6c0eY"
      }
    },
    {
      "cell_type": "code",
      "execution_count": null,
      "metadata": {
        "id": "V35Luo1TwXfE"
      },
      "outputs": [],
      "source": [
        "best_Sr = res.fun # minimum Sr value from the optimization\n",
        "St = np.sum((P_data - np.mean(P_data))**2)\n",
        "print('r2 = ', (St - best_Sr) / St)"
      ]
    }
  ],
  "metadata": {
    "hide_input": false,
    "kernelspec": {
      "display_name": "Python 3 (ipykernel)",
      "language": "python",
      "name": "python3"
    },
    "language_info": {
      "codemirror_mode": {
        "name": "ipython",
        "version": 3
      },
      "file_extension": ".py",
      "mimetype": "text/x-python",
      "name": "python",
      "nbconvert_exporter": "python",
      "pygments_lexer": "ipython3",
      "version": "3.12.8"
    },
    "latex_envs": {
      "LaTeX_envs_menu_present": true,
      "autoclose": false,
      "autocomplete": true,
      "bibliofile": "biblio.bib",
      "cite_by": "apalike",
      "current_citInitial": 1,
      "eqLabelWithNumbers": true,
      "eqNumInitial": 1,
      "hotkeys": {
        "equation": "Ctrl-E",
        "itemize": "Ctrl-I"
      },
      "labels_anchors": false,
      "latex_user_defs": false,
      "report_style_numbering": false,
      "user_envs_cfg": false
    },
    "toc": {
      "base_numbering": 1,
      "nav_menu": {},
      "number_sections": true,
      "sideBar": true,
      "skip_h1_title": false,
      "title_cell": "Table of Contents",
      "title_sidebar": "Contents",
      "toc_cell": false,
      "toc_position": {},
      "toc_section_display": true,
      "toc_window_display": false
    },
    "varInspector": {
      "cols": {
        "lenName": "40",
        "lenType": 16,
        "lenVar": "100"
      },
      "kernels_config": {
        "python": {
          "delete_cmd_postfix": "",
          "delete_cmd_prefix": "del ",
          "library": "var_list.py",
          "varRefreshCmd": "print(var_dic_list())"
        },
        "r": {
          "delete_cmd_postfix": ") ",
          "delete_cmd_prefix": "rm(",
          "library": "var_list.r",
          "varRefreshCmd": "cat(var_dic_list()) "
        }
      },
      "types_to_exclude": [
        "module",
        "function",
        "builtin_function_or_method",
        "instance",
        "_Feature"
      ],
      "window_display": false
    },
    "colab": {
      "provenance": []
    }
  },
  "nbformat": 4,
  "nbformat_minor": 0
}