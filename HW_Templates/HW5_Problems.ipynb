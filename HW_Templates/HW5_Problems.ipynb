{
  "nbformat": 4,
  "nbformat_minor": 0,
  "metadata": {
    "colab": {
      "provenance": [],
      "toc_visible": true,
      "mount_file_id": "1kffrDuli0kimb8KWTOtvqfFbPDth8Cql",
      "authorship_tag": "ABX9TyNBaqxVeCnbYkJdneGMquNv",
      "include_colab_link": true
    },
    "kernelspec": {
      "name": "python3",
      "display_name": "Python 3"
    },
    "language_info": {
      "name": "python"
    }
  },
  "cells": [
    {
      "cell_type": "markdown",
      "metadata": {
        "id": "view-in-github",
        "colab_type": "text"
      },
      "source": [
        "<a href=\"https://colab.research.google.com/github/cdefinnda/ECI-115_1-S25/blob/main/HW5_Problems.ipynb\" target=\"_parent\"><img src=\"https://colab.research.google.com/assets/colab-badge.svg\" alt=\"Open In Colab\"/></a>"
      ]
    },
    {
      "cell_type": "markdown",
      "source": [
        "# ECI 115: Homework 5"
      ],
      "metadata": {
        "id": "g1Wl5kMsVmlk"
      }
    },
    {
      "cell_type": "markdown",
      "source": [
        "## <font color='red'>**Problem 8.18**</font>"
      ],
      "metadata": {
        "id": "C7dlB1Z4lSOM"
      }
    },
    {
      "cell_type": "markdown",
      "source": [
        "The concentration of pollutant bacteria $c$ in a lake decreases according to\n",
        "\n",
        "$c=75e^{-1.5t}+20e^{-0.075t}$\n",
        "\n",
        "Determine the time required for the bacteria concentration to be reduced to 9 using (a) the graphical method and (b) the Newton-Raphson method with an initial guess of $t=$ 6 and a stoppping criterion of 0.5%. Check your result.\n",
        "\n",
        "<font color='red'> **TL;DR**:\n",
        "Create programs to compute when $c(t)=9$ using (a) the graphical method and (b) the Newton-Raphson method. Be sure to explain how the Newton-Raphson method works and have its program print the value for $t$, the number of iterations, and the approximate error.\n",
        "</font>"
      ],
      "metadata": {
        "id": "kJqf9oQuJNdm"
      }
    },
    {
      "cell_type": "markdown",
      "source": [
        "### <font color='blue'>**Solution 8.18**</font>"
      ],
      "metadata": {
        "id": "bG5zq9oISPip"
      }
    },
    {
      "cell_type": "markdown",
      "source": [],
      "metadata": {
        "id": "annD7lW4HWjD"
      }
    },
    {
      "cell_type": "code",
      "source": [],
      "metadata": {
        "id": "PssNZRlUHWY_"
      },
      "execution_count": null,
      "outputs": []
    },
    {
      "cell_type": "markdown",
      "source": [
        "## <font color='red'>**Problem 8.21**</font>"
      ],
      "metadata": {
        "id": "QfXOdL8blXbI"
      }
    },
    {
      "cell_type": "markdown",
      "source": [
        "The displacement of a structure is defined by the following equation for a damped oscillation:\n",
        "\n",
        "$$y=9e^{-kt}cos\\ \\omega t$$\n",
        "\n",
        "where $k=0.7$ and $\\omega = 4$.\n",
        "\n",
        "(a) Use the graphical method to make an initial estimate of the time required for the displacement to decrease to 4.\n",
        "\n",
        "(b) Use the Newton-Raphson method to determine the root to $\\varepsilon_s=0.01\\%$.\n",
        "\n",
        "(c) Use the secant method to determine the root to $\\varepsilon_s=0.01\\%$.\n",
        "\n",
        "<font color='red'> **TL;DR**:\n",
        "Create programs to determine the root using (a) the graphical method, (b) the Newton-Raphson method, and (c) the secant method. Be sure to explain how the Newton-Raphson and secant method work and have their program print the value for $y$, $t$, the number of iterations, and the approximate error.\n",
        "</font>"
      ],
      "metadata": {
        "id": "AyoPAAzELHrN"
      }
    },
    {
      "cell_type": "markdown",
      "source": [
        "### <font color='blue'>**Solution 8.21**</font>"
      ],
      "metadata": {
        "id": "XH1wAOQxUplm"
      }
    },
    {
      "cell_type": "markdown",
      "source": [],
      "metadata": {
        "id": "D0gKNYSkHXT7"
      }
    },
    {
      "cell_type": "code",
      "source": [],
      "metadata": {
        "id": "g53CZ4nkHXKR"
      },
      "execution_count": null,
      "outputs": []
    },
    {
      "cell_type": "markdown",
      "source": [
        "## <font color='red'>**Problem 16.17**</font>"
      ],
      "metadata": {
        "id": "Z0lW2v82llhd"
      }
    },
    {
      "cell_type": "markdown",
      "source": [
        "A finite-element model of a cantilever beam subject to loading and moments (Fig. P16.17) is given by optimizing\n",
        "\n",
        "$$f(x,y)=5x^2-5xy+2.5y^2-x-1.5y$$\n",
        "\n",
        "<p align=\"center\">\n",
        "  <img src=\"https://drive.google.com/uc?export=view&id=13tTBytpW9L0S0osLVqZ8s0kJ0bbb0KkQ\" alt=\"Fig. P16.17\" width=500>\n",
        "</p>\n",
        "\n",
        "where $x=$ end displacement and $y=$ end moment. Find the values of $x$ and $y$ that minimize $f(x,y)$.\n",
        "\n",
        "<font color='red'> **TL;DR**:\n",
        "Create programs that identifies the $x$ and $y$ values where the stress on the cantilever beam ($f(x,y)$) are at a minimum. No optimization method is specificed, so try using the `minimize` function in the `scipy.optimize` package. Print out the optimal values for displacement ($x$), moment ($y$), and stress ($f(x,y)$).\n",
        "</font>"
      ],
      "metadata": {
        "id": "gnwk420ANsf8"
      }
    },
    {
      "cell_type": "markdown",
      "source": [
        "### <font color='blue'>**Solution 16.17**</font>\n",
        "\n"
      ],
      "metadata": {
        "id": "38V6zJZDVYTx"
      }
    },
    {
      "cell_type": "markdown",
      "source": [],
      "metadata": {
        "id": "T8CBQa7uHYBG"
      }
    },
    {
      "cell_type": "code",
      "source": [],
      "metadata": {
        "id": "bBpX7gjIHX4_"
      },
      "execution_count": null,
      "outputs": []
    },
    {
      "cell_type": "markdown",
      "source": [
        "## <font color='red'>**Problem 16.19**</font>"
      ],
      "metadata": {
        "id": "E7h9nLDWlhD6"
      }
    },
    {
      "cell_type": "markdown",
      "source": [
        "The *Streeter-Phelps model* can be used to compute the dissolved oxygen concentraiton in a river below a point discharge of sewage (Fig. P16.19),\n",
        "\n",
        "$o=o_s-\\frac{k_d L_0}{k_d+k_s-k_a}(e^{-k_at}-e^{-(k_d+k_s)t})-\\frac{S_b}{k_a}(1-e^{-k_a t}) \\tag{P16.19}$\n",
        "\n",
        "where $o=$ dissolved oxygen concentration (mg/L), $o_s=$ oxygen saturation concentraiton (mg/L), $t=$ travel time (d), $L_0=$ biochemical oxygen demand (BOD) concentration at the mixing point (mg/L), $k_d=$ rate of decomposition of BOD (d$^{-1}$), $k_s=$ rate of settling of BOD (d$^{-1}$), $k_a=$ re-aeration rate (d$^{-1}$), and $S_b=$ sedimentation oxygen demand (mg/L/d). As indicated in Fig. P16.19, Eq. (P16.19) describes an oxygen \"sag\" that reaches a critical minimum level $o_c$ some travel time $t_c$ below the point discharge. This point is called \"critical\" because it represents the location where biota that depend on oxygen (like fish) would be the most stressed. Determine the critical travel time and concentration, given the following values:\n",
        "\n",
        "$o_s=$ 10 mg/L; $\\ \\ \\ k_d =$ 0.2 d$^{-1}$; $\\ \\ \\ k_a =$ 0.8 d$^{-1}$;\n",
        "\n",
        "$k_s =$ 0.06 d$^{-1}$; $\\ \\ \\ L_0 =$ 50 mg/L; $\\ \\ \\ S_b =$ 1 mg/L/d;\n",
        "\n",
        "<p align=\"center\">\n",
        "  <img src=\"https://drive.google.com/uc?export=view&id=13x1Zt4fdgFfcevbIhMLc4z2CwAFgeVJu\" alt=\"Fig. P16.17\" width=500>\n",
        "</p>\n",
        "\n",
        "<font color='red'> **TL;DR**:\n",
        "Create programs that identifies $t_c$ and the corresponding value for $o$. No optimization method is specificed, so you can use the `minimize` function in the `scipy.optimize` package. Print out the values for the critical travel time ($t_c$) and critical oxygen concentration ($o_c$).\n",
        "</font>"
      ],
      "metadata": {
        "id": "Gkj3pbnXLyqM"
      }
    },
    {
      "cell_type": "markdown",
      "source": [
        "### <font color='blue'>**Solution 16.19**</font>\n",
        "\n"
      ],
      "metadata": {
        "id": "Yz6T7hMlU9YX"
      }
    },
    {
      "cell_type": "markdown",
      "source": [],
      "metadata": {
        "id": "grvC6mOrHYvO"
      }
    },
    {
      "cell_type": "code",
      "source": [],
      "metadata": {
        "id": "lPvk-Z4VHYnC"
      },
      "execution_count": null,
      "outputs": []
    }
  ]
}
