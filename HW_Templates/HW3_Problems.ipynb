{
  "nbformat": 4,
  "nbformat_minor": 0,
  "metadata": {
    "colab": {
      "provenance": []
    },
    "kernelspec": {
      "name": "python3",
      "display_name": "Python 3"
    },
    "language_info": {
      "name": "python"
    }
  },
  "cells": [
    {
      "cell_type": "markdown",
      "source": [
        "# ECI 115: Homework 3"
      ],
      "metadata": {
        "id": "g1Wl5kMsVmlk"
      }
    },
    {
      "cell_type": "markdown",
      "source": [
        "## <font color='red'>**Problem 24.16**</font>"
      ],
      "metadata": {
        "id": "C7dlB1Z4lSOM"
      }
    },
    {
      "cell_type": "markdown",
      "source": [
        "Perform the same computation as in Sec. 24.2, but use $O(h^8)$ Romberg integration to evaluate the integral:\n",
        "$$F=\\int_{0}^{30}200\\Big(\\frac{z}{5+z}\\Big)e^{-2z/30}dz$$\n",
        "\n",
        "<font color='red'> **TL;DR**:\n",
        "Explain how to compute the $O(h^8)$ Romberg integration and then create a program that uses this method to integrate the function above. Print the result.\n",
        "</font>"
      ],
      "metadata": {
        "id": "kJqf9oQuJNdm"
      }
    },
    {
      "cell_type": "markdown",
      "source": [
        "### <font color='blue'>**Solution 24.16**</font>"
      ],
      "metadata": {
        "id": "bG5zq9oISPip"
      }
    },
    {
      "cell_type": "markdown",
      "source": [],
      "metadata": {
        "id": "pJxglGx0HK6p"
      }
    },
    {
      "cell_type": "code",
      "source": [],
      "metadata": {
        "id": "65pqc5a_HKxB"
      },
      "execution_count": null,
      "outputs": []
    },
    {
      "cell_type": "markdown",
      "source": [
        "## <font color='red'>**Problem 24.17**</font>"
      ],
      "metadata": {
        "id": "QfXOdL8blXbI"
      }
    },
    {
      "cell_type": "markdown",
      "source": [
        "Perform the same computation as in Sec. 24.2, but use Gauss quadrature to evaluate the integral:\n",
        "$$\\int_{0}^{30}200\\Big(\\frac{z}{5+z}\\Big)e^{-2z/30}dz$$\n",
        "\n",
        "\n",
        "<font color='red'> **TL;DR**:\n",
        "Explain how the Gauss Quadrapture works and create a program that uses this method to integrate the function above. Print results for using the Gauss Quadrapture for 2, 3, 4, 5, and 6 points. See Table 22.1 below.\n",
        "</font>\n",
        "\n",
        "<p align=\"center\">\n",
        "  <img src=\"https://github.com/cdefinnda/ECI-115_HW-Images/blob/main/HW3_Table22.1.png?raw=true\" alt=\"Table 22.1\" width=500>\n",
        "</p>"
      ],
      "metadata": {
        "id": "AyoPAAzELHrN"
      }
    },
    {
      "cell_type": "markdown",
      "source": [
        "### <font color='blue'>**Solution 24.17**</font>"
      ],
      "metadata": {
        "id": "XH1wAOQxUplm"
      }
    },
    {
      "cell_type": "markdown",
      "source": [],
      "metadata": {
        "id": "3nKqRHGLHLw6"
      }
    },
    {
      "cell_type": "code",
      "source": [],
      "metadata": {
        "id": "hxKVUGXYHLoT"
      },
      "execution_count": null,
      "outputs": []
    },
    {
      "cell_type": "markdown",
      "source": [
        "## <font color='red'>**Problem 12.14**</font>"
      ],
      "metadata": {
        "id": "Z0lW2v82llhd"
      }
    },
    {
      "cell_type": "markdown",
      "source": [
        "A civil engineer invovled in construction requires 4800, 5800, and 5700 m$^3$ of sand, fine gravel, and coarse gravel, respectively, for a building project. There are three pits from which these materials can be obtained. The composition of these pits is\n",
        "\n",
        "|       | Sand % | Fine Gravel % | Coarse Gravel % |\n",
        "|:-----:|:------:|:-------------:|:---------------:|\n",
        "| Pit 1 |   52   |       30      |        18       |\n",
        "| Pit 2 |   20   |       50      |        30       |\n",
        "| Pit 3 |   25   |       20      |        55       |\n",
        "\n",
        "How many cubic meters must be hauled from each pit in order to meet the engineer's needs?\n",
        "\n",
        "<font color='red'> **TL;DR**:\n",
        "Convert the information in the problem above into a system of equations that can be solved using linear algebra. Then create a program that computes the volumes from pits 1, 2, and 3. Print these results.\n",
        "</font>"
      ],
      "metadata": {
        "id": "gnwk420ANsf8"
      }
    },
    {
      "cell_type": "markdown",
      "source": [
        "### <font color='blue'>**Solution 12.14**</font>\n",
        "\n"
      ],
      "metadata": {
        "id": "38V6zJZDVYTx"
      }
    },
    {
      "cell_type": "markdown",
      "source": [],
      "metadata": {
        "id": "qwGSFqfwHMZ3"
      }
    },
    {
      "cell_type": "code",
      "source": [],
      "metadata": {
        "id": "HX3bxmU4HMQW"
      },
      "execution_count": null,
      "outputs": []
    },
    {
      "cell_type": "markdown",
      "source": [
        "## <font color='red'>**Problem 12.17**</font>"
      ],
      "metadata": {
        "id": "E7h9nLDWlhD6"
      }
    },
    {
      "cell_type": "markdown",
      "source": [
        "Calculate the forces and reactions for the truss in Fig. 12.4 if a downward force of 3,000 kg and a horizontal force to the right of 1500 kg are applied at node 1.\n",
        "\n",
        "**Figure 12.4**. Forces on a statically determinate truss.\n",
        "<p align=\"center\">\n",
        "  <img src=\"https://github.com/cdefinnda/ECI-115_HW-Images/blob/main/HW3_Fig.12.4.png?raw=true\" alt=\"Fig. 12.4\" width=500>\n",
        "</p>\n",
        "\n",
        "<font color='red'> **TL;DR**:\n",
        "Use force balances to convert the information in the problem above into a system of equations that can be solved using linear algebra. Explain how LU Decomposition could be used to solve this problem. Then create a program that solves for the unknowns ($F_1$, $F_2$, $F_3$, $H_2$, $V_2$, and $V_3$). Print these results.\n",
        "</font>"
      ],
      "metadata": {
        "id": "Gkj3pbnXLyqM"
      }
    },
    {
      "cell_type": "markdown",
      "source": [
        "### <font color='blue'>**Solution 12.17**</font>\n",
        "\n"
      ],
      "metadata": {
        "id": "Yz6T7hMlU9YX"
      }
    },
    {
      "cell_type": "markdown",
      "source": [],
      "metadata": {
        "id": "M5G0A1aqHNS8"
      }
    },
    {
      "cell_type": "code",
      "source": [],
      "metadata": {
        "id": "3Kq1nT0PHNJz"
      },
      "execution_count": null,
      "outputs": []
    }
  ]
}