{
  "nbformat": 4,
  "nbformat_minor": 0,
  "metadata": {
    "colab": {
      "provenance": []
    },
    "kernelspec": {
      "name": "python3",
      "display_name": "Python 3"
    },
    "language_info": {
      "name": "python"
    }
  },
  "cells": [
    {
      "cell_type": "markdown",
      "source": [
        "# ECI 115: Homework 6"
      ],
      "metadata": {
        "id": "g1Wl5kMsVmlk"
      }
    },
    {
      "cell_type": "markdown",
      "source": [
        "## <font color='red'>**Problem 25.21**</font>"
      ],
      "metadata": {
        "id": "C7dlB1Z4lSOM"
      }
    },
    {
      "cell_type": "markdown",
      "source": [
        "The logistic model is used to simulate population, as in\n",
        "\n",
        "$\\frac{dp}{dt}=k_{gm}(1-p/p_{max})p$\n",
        "\n",
        "where $p=$ population, $k_{gm}=$ the maximum growth rate under unlimited conditions, and $p_{max}=$ the carrying capacity. Simulate the world's population from 1950 to 2000 using one of the numerical methods described in this chapter. Employ the following initial conditions and parameter values for your simulation: $p_0$ (in 1950) = 2555 million people, $k_{gm}=$ 0.026/yr, and $p_{max}=$ 12,000 million people. Have the function generate output corresponding to the dates for the following measured population data. Develop a plot of your simulation along with these data.\n",
        "\n",
        "| _t_ | 1950 | 1960 | 1970 | 1980 | 1990 | 2000 |\n",
        "|:---:|:----:|:----:|:----:|------|------|------|\n",
        "| _p_ | 2555 | 3040 | 3710 | 4455 | 5275 | 6080 |\n",
        "\n",
        "<font color='red'> **TL;DR**:\n",
        "Explain how the 4th-Order Runge-Kutta method works and create a program that uses this method to approximate population growth using the initial conditions specified above. Create a plot that compares the simulated population as a function of time to the actual population values as a function of time provided in the table above.\n",
        "</font>"
      ],
      "metadata": {
        "id": "kJqf9oQuJNdm"
      }
    },
    {
      "cell_type": "markdown",
      "source": [
        "### <font color='blue'>**Solution 25.21**</font>"
      ],
      "metadata": {
        "id": "bG5zq9oISPip"
      }
    },
    {
      "cell_type": "markdown",
      "source": [],
      "metadata": {
        "id": "C2EQX00mHbGt"
      }
    },
    {
      "cell_type": "code",
      "source": [],
      "metadata": {
        "id": "F74-frpSHa50"
      },
      "execution_count": null,
      "outputs": []
    },
    {
      "cell_type": "markdown",
      "source": [
        "## <font color='red'>**Problem 28.40**</font>"
      ],
      "metadata": {
        "id": "QfXOdL8blXbI"
      }
    },
    {
      "cell_type": "markdown",
      "source": [
        "The following ODEs have been proposed as a model of an epidemic:\n",
        "\n",
        "$\\frac{dS}{dt}=-\\alpha SI$\n",
        "\n",
        "$\\frac{dI}{dt}=\\alpha SI-rI$\n",
        "\n",
        "$\\frac{dR}{dt}=rI$\n",
        "\n",
        "where $S=$ the susceptible individuals, $I=$ the infected, $R=$ the recovered, $a=$ the infection rate, and $r=$ the recovery rate. A city has 10,000 people, all of whom are susceptible.\n",
        "\n",
        "(a) If a single infectious individual enters the city at $t=$ 0, compute the progression of the epidemic until the number of infected individuals falls below 10. Use the following parameters: $a=$ 0.002/(person $\\cdot$ week) and $r=$ 0.15/d. Develop time-series plots of all the state variables. Also generate a phase-plane plot of $S$ versus $I$ versus $R$.\n",
        "\n",
        "(b) Suppose that after recovery, there is a loss of immunity that causes recovered individuals to become susceptible. This reinfection mechanism can be computed as $\\rho R$, where $\\rho=$ the reinfection rate. Modify the model to include this mechanism and repeat the computations in (a) using $\\rho=$ 0.0015/d.\n",
        "\n",
        "<font color='red'> **TL;DR**:\n",
        "Create programs that simulates the values of the various populations (i.e., $S$, $I$, $R$) into scenarios: (a) as described above and (b) incorporating reinfection (Hint: use the `scipy.integrate.solve_ivp` package to solve these initial value problems). For each part, have your program produced two plots: (1) a 2D plot of $S$, $I$, $R$ vs. $t$ and (2) a 3D plot of $S$ vs. $I$ vs. $R$. Discuss what happens in each scenario based on the plotted results.\n",
        "\n",
        "If you want to challenge yourself, create an interactive 3D phase plot to see how $S$, $I$ and $R$ interact with one another. You can use the `plotly.graph_objects` library.\n",
        "</font>"
      ],
      "metadata": {
        "id": "AyoPAAzELHrN"
      }
    },
    {
      "cell_type": "markdown",
      "source": [
        "### <font color='blue'>**Solution 28.40**</font>"
      ],
      "metadata": {
        "id": "XH1wAOQxUplm"
      }
    },
    {
      "cell_type": "markdown",
      "source": [],
      "metadata": {
        "id": "w78gBGKuHb_o"
      }
    },
    {
      "cell_type": "code",
      "source": [],
      "metadata": {
        "id": "FRzu6TncHb2X"
      },
      "execution_count": null,
      "outputs": []
    },
    {
      "cell_type": "markdown",
      "source": [
        "## <font color='red'>**Problem 28.53**</font>"
      ],
      "metadata": {
        "id": "Z0lW2v82llhd"
      }
    },
    {
      "cell_type": "markdown",
      "source": [
        "A forced damped spring-mass system (Fig. P28.53) has the following ordinary differential equation of motion:\n",
        "\n",
        "$m\\frac{d^2x}{dt^2}+a\\Big|\\frac{dx}{dt}\\Big|\\frac{dx}{dt}+kx=F_o sin(\\omega t)$\n",
        "\n",
        "where $x=$ displacement from the equilibrium position, $t=$ time, $m=$ 2 kg mass, $a=$ 5 N/(m/s)$^2$, and $k=$ 6 N/m. The damping term is non-linear and represents air damping. The forcing function $F_o sin(\\omega t)$ has values of $F_o=$ 2.5 N and $\\omega=0.5\\ rad/sec$. The initial conditions are\n",
        "\n",
        "*   *Initial velocity*: $\\frac{dx}{dt}=$ 0 m/s\n",
        "*   *Initial displacement*: $x=$ 1 m\n",
        "\n",
        "Solve this equation using a numerical method over the time period 0 $\\le$ t $\\le$ 15 s. Plot the displacement and velocity versus time, and plot the forcing function on the same curve. Also, develop a separate plot of velocity versus displacement.\n",
        "\n",
        "<p align=\"center\">\n",
        "  <img src=\"https://github.com/cdefinnda/ECI-115_HW-Images/blob/main/HW6_Fig.P28.53.png?raw=true\" alt=\"Fig. P28.53\" width=500>\n",
        "</p>\n",
        "\n",
        "<font color='red'> **TL;DR**:\n",
        "Create programs that simulates the values of displacement and velocity as a function of time by using `scipy.integrate.solve_ivp` package to solve the ODE above (Hint: it may be helpful to derive the ODE above from the force balance described in the figure). Then create two plots: (1) displacement ($x$), velocity ($dx/dt$), and external forcing ($F_0 sin(\\omega t)$) vs. time ($t$), and (2) velocity ($dx/dt$) vs. displacement ($x$). Discuss any trends you see (hint: it may be easier to see trends if you increase $t$ beyond 15 seconds when solving this initial value problem).\n",
        "</font>"
      ],
      "metadata": {
        "id": "gnwk420ANsf8"
      }
    },
    {
      "cell_type": "markdown",
      "source": [
        "### <font color='blue'>**Solution 28.53**</font>\n",
        "\n"
      ],
      "metadata": {
        "id": "38V6zJZDVYTx"
      }
    },
    {
      "cell_type": "markdown",
      "source": [],
      "metadata": {
        "id": "ZyTZAQAZHct9"
      }
    },
    {
      "cell_type": "code",
      "source": [],
      "metadata": {
        "id": "RCLWJ4m8Hckl"
      },
      "execution_count": null,
      "outputs": []
    },
    {
      "cell_type": "markdown",
      "source": [
        "## <font color='red'>**Problem 4.25**</font>"
      ],
      "metadata": {
        "id": "E7h9nLDWlhD6"
      }
    },
    {
      "cell_type": "markdown",
      "source": [
        "Under laminar flow conditions, the steady-state velocity of a spherical particle settling in a fluid can be computed with *Stokes law*,\n",
        "\n",
        "$v_s=\\frac{g}{18} \\big( \\frac{\\rho_s-\\rho_f}{\\mu} \\big)d^2$\n",
        "\n",
        "where $g=$ gravitational acceleration (= 981 cm s$^{-2}$), $\\rho_s$ and $\\rho_f=$ densities of the particle and the fluid, respectively (g cm$^{-3}$), $\\mu=$ dynamic viscosity (g cm$^{-1}$ s$^{-1}$), and $d=$ the sphere's diameter (cm). Suppose that you have two types of spherical particles: a phytoplankton cell ($d=$ 30 $\\mu$m, $\\rho_s=$ 1.027 g cm$^{-3}$) and a silt particle ($d=$ 30 $\\mu$m $\\rho_s=$ 2.65 g cm$^{-3}$) settling in water ($\\mu=0.013$ g cm$^{-1}$ and $\\rho_f=0.99973$ g cm$^{-3}$). For each of these particles, (a) compute the settling velocity and (b) perform a first-order error analysis for the settling velocity. For (b) assume that the parameters $\\rho_s$, $\\rho_f$, $\\mu$, and $d$ have uncertainties of $\\pm 2\\%$ around their mean values.\n",
        "\n",
        "<font color='red'> **TL;DR**:\n",
        "In part (a), create a program that computes the settling velocity using the equation above for the two particles. In part (b), explain how to conduct a first-order error analysis and create a program that solves for the individual errors associated with the parameters $\\rho_s$, $\\rho_f$, $\\mu$, and $d$, as well as the total error (again, for both particles).\n",
        "</font>"
      ],
      "metadata": {
        "id": "Gkj3pbnXLyqM"
      }
    },
    {
      "cell_type": "markdown",
      "source": [
        "### <font color='blue'>**Solution 4.25**</font>\n",
        "\n"
      ],
      "metadata": {
        "id": "Yz6T7hMlU9YX"
      }
    },
    {
      "cell_type": "markdown",
      "source": [],
      "metadata": {
        "id": "1XND6EFkHdbv"
      }
    },
    {
      "cell_type": "code",
      "source": [],
      "metadata": {
        "id": "WfpxeVXDHdR1"
      },
      "execution_count": null,
      "outputs": []
    }
  ]
}