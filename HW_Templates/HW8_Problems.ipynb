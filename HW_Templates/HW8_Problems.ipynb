{
  "nbformat": 4,
  "nbformat_minor": 0,
  "metadata": {
    "colab": {
      "provenance": []
    },
    "kernelspec": {
      "name": "python3",
      "display_name": "Python 3"
    },
    "language_info": {
      "name": "python"
    }
  },
  "cells": [
    {
      "cell_type": "markdown",
      "source": [
        "#FirstName LastName (SIS ID#)"
      ],
      "metadata": {
        "id": "7X_gRkHM3a3u"
      }
    },
    {
      "cell_type": "markdown",
      "source": [
        "# ECI 115: Homework 8"
      ],
      "metadata": {
        "id": "g1Wl5kMsVmlk"
      }
    },
    {
      "cell_type": "markdown",
      "source": [
        "## <font color='red'>**Problem 32.4**</font>"
      ],
      "metadata": {
        "id": "C7dlB1Z4lSOM"
      }
    },
    {
      "cell_type": "markdown",
      "source": [
        "Compute the steady-state distribution of concentration for the tank shown in Fig. P32.4. The PDE governing this system is\n",
        "\n",
        "$D\\big( \\frac{\\partial^2 c}{\\partial x^2} + \\frac{\\partial^2 c}{\\partial y^2} \\big)-kc=0$\n",
        "\n",
        "and the boundary conditions are as shown. Employ a value of 0.6 for $D$ and 0.1 for $k$.\n",
        "\n",
        "<p align=\"center\">\n",
        "  <img src=\"https://github.com/cdefinnda/ECI-115_HW-Images/blob/main/HW8_Fig.P32.4.png?raw=true\" alt=\"Fig. P32.4\" width=500>\n",
        "</p>\n",
        "\n",
        "<font color='red'> **TL;DR**:\n",
        "Explain how to discretize the domain described above into nodes (Hint: use a step sizes of $\\Delta x = \\Delta y = 1$) and how to determine the concentration of these nodes using a combination of the boundary conditions and the finite difference method. Create a program that solves for the steady state concentration throughout the domain and plot a colormap to show the distribution of concentration throughout the domain.\n",
        "</font>"
      ],
      "metadata": {
        "id": "kJqf9oQuJNdm"
      }
    },
    {
      "cell_type": "markdown",
      "source": [
        "### <font color='blue'>**Solution 32.4**</font>"
      ],
      "metadata": {
        "id": "bG5zq9oISPip"
      }
    },
    {
      "cell_type": "markdown",
      "source": [],
      "metadata": {
        "id": "QJW1Vv9iHmvk"
      }
    },
    {
      "cell_type": "code",
      "source": [],
      "metadata": {
        "id": "dirIKT4SHmk3"
      },
      "execution_count": null,
      "outputs": []
    },
    {
      "cell_type": "markdown",
      "source": [
        "## <font color='red'>**Problem 32.7**</font>"
      ],
      "metadata": {
        "id": "QfXOdL8blXbI"
      }
    },
    {
      "cell_type": "markdown",
      "source": [
        "Perform the same computation as in Sec. 32.2, but use $\\Delta x = \\Delta y = 0.4$ m.\n",
        "\n",
        "*Summary of Sec. 32.2*\n",
        "\n",
        "<p align=\"center\">\n",
        "  <img src=\"https://github.com/cdefinnda/ECI-115_HW-Images/blob/main/HW8_Fig.32.4.png?raw=true\" alt=\"Fig. 32.4\" width=500>\n",
        "\n",
        "A square plate with simply supported edges is subject to an areal load $q$ (Fig. 32.4). The deflection in the z dimension can be determined by solving the elliptic PDE (see Carnahan, Luther, and Wilkes 1969)\n",
        "\n",
        "$\\frac{\\partial^4 z}{\\partial x^4}+2\\frac{\\partial^4z}{\\partial x^2\\partial y^2}+\\frac{\\partial^4z}{\\partial y^4}=\\frac{q}{D}$\n",
        "\n",
        "Where:\n",
        "\n",
        "$D=\\frac{E \\Delta z^3}{12(1-\\sigma^2)}$\n",
        "* $E = 2\\times 10^{11}$ Pa: Modulus of Elasticity\n",
        "* $\\Delta z = 10^{-2}$ m: Plate's Thickness\n",
        "* $\\sigma = 0.3$: Poisson's Ratio\n",
        "* $D=1.832 \\times 10^4$ N/m: Flexural Rigidity\n",
        "\n",
        "By defining a new variable $u=\\frac{\\partial^2 z}{\\partial x^2}+\\frac{\\partial^2 z}{\\partial y^2}$, we can rewrite our PDE as the following:\n",
        "\n",
        "$\\frac{\\partial^2 u}{\\partial x^2} + \\frac{\\partial^2 u}{\\partial y^2} = \\frac{q}{D}$\n",
        "\n",
        "Implementing the finite difference approach, we get the equation:\n",
        "\n",
        "$\\frac{u_{i+1,j}-2u_{i,j}+u_{i-1,j}}{\\Delta x^2} + \\frac{u_{i,j+1}-2u_{i,j}+u_{i,j-1}}{\\Delta y^2} = \\frac{q}{D}$\n",
        "\n",
        "For this problem, the plate is 2 m long along the edges, $q = 33.6$ kN/m$^2$, and $D=1.832 \\times 10^4$ N/m. The boundary conditions for this problem are $u=0$ and $z=0$ at the edges. From the problem statement for Problem 32.7, we will employ $\\Delta x = \\Delta y = 0.4$ m.\n",
        "\n",
        "<font color='red'> **TL;DR**:\n",
        "Explain how to discretize the domain described above into nodes and how to determine the deflection of these nodes using a combination of the boundary conditions and the finite difference method. Create a program that solves for the deflection throughout the domain and plot a colormap to show the extent of deflection throughout the domain.\n",
        "</font>"
      ],
      "metadata": {
        "id": "AyoPAAzELHrN"
      }
    },
    {
      "cell_type": "markdown",
      "source": [
        "### <font color='blue'>**Solution 32.7**</font>"
      ],
      "metadata": {
        "id": "XH1wAOQxUplm"
      }
    },
    {
      "cell_type": "markdown",
      "source": [],
      "metadata": {
        "id": "-ctUKNTkHoPe"
      }
    },
    {
      "cell_type": "code",
      "source": [],
      "metadata": {
        "id": "qa_WY3flHoFj"
      },
      "execution_count": null,
      "outputs": []
    },
    {
      "cell_type": "markdown",
      "source": [
        "## <font color='red'>**Problem 30.7**</font>"
      ],
      "metadata": {
        "id": "E7h9nLDWlhD6"
      }
    },
    {
      "cell_type": "markdown",
      "source": [
        "The advection-diffusion equation is used to compute the distribution of concentration along the length of a rectangular chemical reactor (see Sec. 32.1),\n",
        "\n",
        "<p align=\"center\">\n",
        "  <img src=\"https://github.com/cdefinnda/ECI-115_HW-Images/blob/main/HW8_Fig.32.1.png?raw=true\" alt=\"Fig. 32.1\" width=500>\n",
        "\n",
        "\n",
        "$\\frac{\\partial c}{\\partial t}=D\\frac{\\partial^2 c}{\\partial x^2}-U\\frac{\\partial c}{\\partial x}-kc$\n",
        "\n",
        "where $c=$ concnetration (mg/m$^3$), $t=$ time (min), $D=$ a diffusion coefficient (m$^2$/min), $x=$ distance along the tank's longitudinal axis (m) where $x=$ 0 at the tanks's inlet, $U=$ velocity in the $x$ direction (m/min), and $k=$ a reaction rate (min$^{-1}$) whereby the chemical decays to another form. Develop an explicit scheme to solve this equation numerically. Test it for $k=0.2$, $D=75$, and $U=2.5$ for a tank of length 20 m. Use $\\Delta x=$ 2 m and a step size of $\\Delta t=0.005$. Assume that the inflow concentration is 100 and that the initial concentration in the tank is zero. Perform the simulation from $t=$ 0 to 100 and plot the final resulting concentrations versus $x$.\n",
        "\n",
        "Additionally, assume a no-flux boundary condition on the outflow side of the reactor.\n",
        "\n",
        "<font color='red'> **TL;DR**:\n",
        "Explain how to use the finite difference method (FTCS scheme) to determine concentration as a function of time and location using a combination of initial and boundary conditions. Create a program that executes this method and plot concentration as a function of distance down the reactor for $t=0.01, 0.1, 0.5, 1.0, 5.0,$ and $100$ min. Disucss the results.\n",
        "</font>"
      ],
      "metadata": {
        "id": "Gkj3pbnXLyqM"
      }
    },
    {
      "cell_type": "markdown",
      "source": [
        "### <font color='blue'>**Solution 30.7**</font>\n",
        "\n"
      ],
      "metadata": {
        "id": "Yz6T7hMlU9YX"
      }
    },
    {
      "cell_type": "markdown",
      "source": [],
      "metadata": {
        "id": "0l5O92XFHo8c"
      }
    },
    {
      "cell_type": "code",
      "source": [],
      "metadata": {
        "id": "e3D72XTdHoz5"
      },
      "execution_count": null,
      "outputs": []
    }
  ]
}