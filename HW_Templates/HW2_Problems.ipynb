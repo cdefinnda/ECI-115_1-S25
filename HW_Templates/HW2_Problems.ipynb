{
  "nbformat": 4,
  "nbformat_minor": 0,
  "metadata": {
    "colab": {
      "provenance": []
    },
    "kernelspec": {
      "name": "python3",
      "display_name": "Python 3"
    },
    "language_info": {
      "name": "python"
    }
  },
  "cells": [
    {
      "cell_type": "markdown",
      "source": [
        "# ECI 115: Homework 2"
      ],
      "metadata": {
        "id": "g1Wl5kMsVmlk"
      }
    },
    {
      "cell_type": "markdown",
      "source": [
        "## <font color='red'>**Problem 4.6**</font>"
      ],
      "metadata": {
        "id": "C7dlB1Z4lSOM"
      }
    },
    {
      "cell_type": "markdown",
      "source": [
        "Use zero- through fourth-order Taylor series expansions to predict $f(2.5)$ for $f(x)=ln(x)$ using a base point at $a=1$. Comput the true percent relative error $\\varepsilon_t$ for each approximation. Discuss the meaning of the results.\n",
        "\n",
        "<font color='red'> **TL;DR**:\n",
        "Explain how the zero- through fourth-order Taylor series approximations work and calculate the relative error for each (discuss these results). Then write a program that computes these approximations for the function $\\ln(x)$ using inputs for the base point ($a$), evaluation point ($x$), and maximum order ($n$). The program should output the Taylor series approximations and percent errors for each order from 0 to $n$. Print the results for orders 0 through 4.\n",
        "</font>"
      ],
      "metadata": {
        "id": "kJqf9oQuJNdm"
      }
    },
    {
      "cell_type": "markdown",
      "source": [
        "### <font color='blue'>**Solution 4.6**</font>"
      ],
      "metadata": {
        "id": "bG5zq9oISPip"
      }
    },
    {
      "cell_type": "markdown",
      "source": [],
      "metadata": {
        "id": "Ku78ieZUHFQo"
      }
    },
    {
      "cell_type": "code",
      "source": [],
      "metadata": {
        "id": "apx7o7wRHFHI"
      },
      "execution_count": null,
      "outputs": []
    },
    {
      "cell_type": "markdown",
      "source": [
        "## <font color='red'>**Problem 4.7**</font>"
      ],
      "metadata": {
        "id": "QfXOdL8blXbI"
      }
    },
    {
      "cell_type": "markdown",
      "source": [
        "Use forward and backward difference approximations of $O(h)$ and a centered difference approximation of $O(h^2)$ to estiamte the first derivative of the function examined in Prob. 4.5. Evaluate the derivative at $x=2$ using a step size of $h=0.2$. Compare your results with the true value of the derivative. Interpret your results on the basis of the remainder term of the Taylor series expansion.\n",
        "\n",
        "Function from Problem 4.5:\n",
        "$$f(x)=25x^3-6x^2+7x-88$$\n",
        "\n",
        "<font color='red'> **TL;DR**:\n",
        "Explain how the forward difference, backward difference, and centered difference methods work. Then write a program that executes these methods on the function above and compares the accuracy of these results to the true derivative. Print the derivative approximations and relative errors for each method for $x=2$ and $h=0.2$.\n",
        "</font>"
      ],
      "metadata": {
        "id": "AyoPAAzELHrN"
      }
    },
    {
      "cell_type": "markdown",
      "source": [
        "### <font color='blue'>**Solution 4.7**</font>"
      ],
      "metadata": {
        "id": "XH1wAOQxUplm"
      }
    },
    {
      "cell_type": "markdown",
      "source": [],
      "metadata": {
        "id": "4GTytzLyHF97"
      }
    },
    {
      "cell_type": "code",
      "source": [],
      "metadata": {
        "id": "yMYo0VhLHF1D"
      },
      "execution_count": null,
      "outputs": []
    },
    {
      "cell_type": "markdown",
      "source": [
        "## <font color='red'>**Problem 24.19**</font>"
      ],
      "metadata": {
        "id": "Z0lW2v82llhd"
      }
    },
    {
      "cell_type": "markdown",
      "source": [
        "Stream cross-sectional areas ($A$) are required for a number of tasks in water resources engineering, including flood forecasting and reservoir designing. Unless electronic sounding devices are available to obtain continuous profiles of the channel bottom, the engineer must rely on discrete depth measurements to compute $A$. An example of a typical stream cross section is shown in Fig. P24.19. the data points represent locations where a boat was anchored and depth readings taken. Use two trapezoidal rule applications ($h=4$ and $h=2$ m) and Simpson's 1/3 rule ($h=2$ m) to estimate the cross-seciontal area from these data.\n",
        "\n",
        "\n",
        "**Figure P24.19**. A stream cross section.\n",
        "<p align=\"center\">\n",
        "  <img src=\"https://github.com/cdefinnda/ECI-115_HW-Images/blob/main/HW2_Fig.P24.19.png?raw=true\" alt=\"Fig. P24.19\" width=500>\n",
        "</p>\n",
        "\n",
        "<font color='red'> **TL;DR**:\n",
        "Explain how the Trapezoidal Rule and Simpson's 1/3 Rule work and create a program that calculates the area of the stream cross section. Print your results for the Trapezoidal Rule ($h=4$ and $h=2$ m) and the Simpson's 1/3 rule ($h=2$ m).\n",
        "</font>"
      ],
      "metadata": {
        "id": "gnwk420ANsf8"
      }
    },
    {
      "cell_type": "markdown",
      "source": [
        "### <font color='blue'>**Solution 24.19**</font>\n",
        "\n"
      ],
      "metadata": {
        "id": "38V6zJZDVYTx"
      }
    },
    {
      "cell_type": "markdown",
      "source": [],
      "metadata": {
        "id": "_7SxhZYJHGu8"
      }
    },
    {
      "cell_type": "code",
      "source": [],
      "metadata": {
        "id": "wUsWiKoKHGly"
      },
      "execution_count": null,
      "outputs": []
    },
    {
      "cell_type": "markdown",
      "source": [
        "## <font color='red'>**Problem 24.21**</font>"
      ],
      "metadata": {
        "id": "E7h9nLDWlhD6"
      }
    },
    {
      "cell_type": "markdown",
      "source": [
        "The following relationships can be used to analyze uniform beams subject to distributed loads,\n",
        "\n",
        "$$\\frac{dy}{dx}=\\theta(x);\\ \\ \\ \\frac{d \\theta}{dx}=\\frac{M(x)}{EI};\\ \\ \\ \\frac{dM}{dx}=V(x);\\ \\ \\ \\frac{dV}{dx}=-w(x)$$\n",
        "\n",
        "where $x=$ distance along beam (m), $y=$ deflection (m), $\\theta(x)=$ slope (m/m), $E=$ modulus of elasticity (Pa = N/m$^2$), $I=$ moment of intertia (m$^4$), $M(x)=$ moment (N m), $V(x)=$ shear (N), and $w(x)=$ distributed load (N/m). For the case of a linearly increasing load (recall Fig. P8.20a), the slope can be computed analytically as\n",
        "\n",
        "$\\theta(x)=\\frac{w_0}{120EIL}(-5x^4+6L^2x^2-L^4) \\tag{P24.21.1}$\n",
        "\n",
        "Employ (a) numerical integration to compute the deflection (in m) and (b) numerical differentiation to compute the moment (in N m) and shear (in N). Base your numerical calculations on values of the slope computed with Eq. 24.21.1 at equally spaced intervals of $\\Delta x=0.125$ m along a 3-m beam. Use the following parameter values in your computation: $E=$ 200 GPA, $I=$ 0.0003 m$^4$, and $w_0=$ 2.5 kN/cm. In addition, the deflections at the ends of the beam are set at $y(0)=y(L)=0$. Be careful of units.\n",
        "\n",
        "\\\n",
        "**Figure P8.20a**. A stream cross section.\n",
        "<p align=\"center\">\n",
        "  <img src=\"https://github.com/cdefinnda/ECI-115_HW-Images/blob/main/HW2_Fig.P8.20a.png?raw=true\" alt=\"Fig. P8.20a\" width=500>\n",
        "</p>\n",
        "\n",
        "<font color='red'> **TL;DR**:\n",
        "For part (a), use numerical integration (e.g., trapezoidal rule) to create a program that calculates and plots deflection as a function of distance. For part (b), use numerical differentiation (e.g., centered difference method) to create programs that calculate and plot moment and shear as functions of distance. For each of the three plots (i.e., deflection, moment, and shear) compare the numerical result to the analytical result.\n",
        "</font>\n"
      ],
      "metadata": {
        "id": "Gkj3pbnXLyqM"
      }
    },
    {
      "cell_type": "markdown",
      "source": [
        "### <font color='blue'>**Solution 24.21**</font>\n",
        "\n"
      ],
      "metadata": {
        "id": "Yz6T7hMlU9YX"
      }
    },
    {
      "cell_type": "markdown",
      "source": [],
      "metadata": {
        "id": "vslftYzFHHi3"
      }
    },
    {
      "cell_type": "code",
      "source": [],
      "metadata": {
        "id": "ovLGuaGCHHZl"
      },
      "execution_count": null,
      "outputs": []
    }
  ]
}