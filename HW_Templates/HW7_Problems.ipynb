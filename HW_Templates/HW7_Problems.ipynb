{
  "nbformat": 4,
  "nbformat_minor": 0,
  "metadata": {
    "colab": {
      "provenance": []
    },
    "kernelspec": {
      "name": "python3",
      "display_name": "Python 3"
    },
    "language_info": {
      "name": "python"
    }
  },
  "cells": [
    {
      "cell_type": "markdown",
      "source": [
        "#FirstName LastName (SIS ID#)"
      ],
      "metadata": {
        "id": "UsInx3Wl3XVO"
      }
    },
    {
      "cell_type": "markdown",
      "source": [
        "# ECI 115: Homework 7"
      ],
      "metadata": {
        "id": "g1Wl5kMsVmlk"
      }
    },
    {
      "cell_type": "markdown",
      "source": [
        "## <font color='red'>**Problem 28.24**</font>"
      ],
      "metadata": {
        "id": "C7dlB1Z4lSOM"
      }
    },
    {
      "cell_type": "markdown",
      "source": [
        "An environmental engineer is interested in estimating the mixing that occurs between a stratified lake and an adjacent embayment (Fig. P28.24). A conservative tracer is instantaneously mixed with the bay water, and then the tracer concentration is monitored over the ensuing period in all three segments. The values are\n",
        "\n",
        "|  $t$  |  0  |  2 |  4 | 6  | 8  | 12 | 16 | 20 |\n",
        "|:-----:|:---:|:--:|:--:|----|----|----|----|----|\n",
        "| $c_1$ |  0  | 15 | 11 | 7  | 6  | 3  | 2  | 1  |\n",
        "| $c_2$ | 0   | 3  | 5  | 7  | 7  | 6  | 4  | 2  |\n",
        "| $c_3$ | 100 | 48 | 26 | 16 | 10 | 4  | 3  | 2  |\n",
        "\n",
        "Using mass balances, the system can be modeled as the following simultaneous ODEs:\n",
        "\n",
        "$V_1\\frac{dc_1}{dt}=-Qc_1+E_{12}(c_2-c_1)+E_{13}(c_3-c_1)$\n",
        "\n",
        "$V_2\\frac{dc_2}{dt}=E_{12}(c_1-c_2)$\n",
        "\n",
        "$V_3\\frac{dc_3}{dt}=E_{13}(c_1-c_3)$\n",
        "\n",
        "where $V_i=$ volume of segment $i$, $Q=$ flow, and $E_{ij}=$ diffusive mixing rate between segments $i$ and $j$. Use the data and the differential equations to estimate the $E$'s if $V_1=1\\times10^7$, $V_2=8\\times10^6$, $V_3=5\\times10^6$, and $Q=4 \\times 10^6$. Employ Euler's method with a step size of 0.1 for your analysis.\n",
        "\n",
        "<p align=\"center\">\n",
        "  <img src=\"https://github.com/cdefinnda/ECI-115_HW-Images/blob/main/HW7_Fig.P28.24.png?raw=true\" alt=\"Fig. P28.24\">\n",
        "</p>\n",
        "\n",
        "<font color='red'> **TL;DR**:\n",
        "Explain how we can solve for the parameters $E_{12}$ and $E_{13}$ by comparing Euler's Method to the data presented in the table above using the Sum of Squared Residuals method and create a program that computes these values (Hint: you will want to use the `minimize` function in the `scipy.optimize` package). Once you have values for $E_{12}$ and $E_{13}$, create plots that compare numerical simulations for $c_1$, $c_2$, and $c_3$ as a function of time to the data provided in the table above (on separate plots). Discuss the results and potential reasons for discrepancies between the model and the data.\n",
        "</font>"
      ],
      "metadata": {
        "id": "kJqf9oQuJNdm"
      }
    },
    {
      "cell_type": "markdown",
      "source": [
        "### <font color='blue'>**Solution 28.24**</font>"
      ],
      "metadata": {
        "id": "bG5zq9oISPip"
      }
    },
    {
      "cell_type": "markdown",
      "source": [],
      "metadata": {
        "id": "B5s6pBipHgpP"
      }
    },
    {
      "cell_type": "code",
      "source": [],
      "metadata": {
        "id": "M0fe8RbzHggo"
      },
      "execution_count": null,
      "outputs": []
    },
    {
      "cell_type": "markdown",
      "source": [
        "## <font color='red'>**Problem 28.33**</font>"
      ],
      "metadata": {
        "id": "QfXOdL8blXbI"
      }
    },
    {
      "cell_type": "markdown",
      "source": [
        "Engineers and scientists use mass-spring models to gain insight into the dynamics of structures under the influence of disturbances such as earthquakes. Figure P28.33 shows such a representation for a three-story building. For this case, the analysis is limited to horizontal motion of the structure. Force balances can be developed for this system as\n",
        "\n",
        "$\\big( \\frac{k_1+k_2}{m_1}-\\omega^2 \\big)X_1 - \\frac{k_2}{m_1} X_2=0$\n",
        "\n",
        "$-\\frac{k_2}{m_2}X_1+\\big( \\frac{k_2+k_3}{m_2} - \\omega^2 \\big)X_2-\\frac{k_3}{m_2}X_3=0$\n",
        "\n",
        "$-\\frac{k_3}{m_3}X_2+\\big( \\frac{k_3}{m_3} - \\omega^2 \\big)X_3=0$\n",
        "\n",
        "Determine the eigenvalues and eigenvectors and graphically represent the modes of vibration for the structure by displaying the amplitudes versus height for each of the eigenvectors. Normalize the amplitudes so that the displacement of the third floor is 1.\n",
        "\n",
        "<p align=\"center\">\n",
        "  <img src=\"https://github.com/cdefinnda/ECI-115_HW-Images/blob/main/HW7_Fig.P28.33.png?raw=true\" alt=\"Fig. P28.33\">\n",
        "</p>\n",
        "\n",
        "<font color='red'> **TL;DR**:\n",
        "Convert the system of equations in a matrix form that would allow for us to solve for the system's eigenvalues and eigenvectors. Create a program that solves for the eigenvalues and eignvectors (Hint: use the `np.linalg.eig()` function) and plots the amplitude at each level for each eigenmode (i.e., the resulting displacement at each level when plugging in each eigenvector). For these plots, normalize the displacement so that the displace at the third floor is 1.\n",
        "\n",
        "If you want to challenge try to articulate the significance of these eigenvalues and eigenvectors contextualized for this system.\n",
        "</font>"
      ],
      "metadata": {
        "id": "AyoPAAzELHrN"
      }
    },
    {
      "cell_type": "markdown",
      "source": [
        "### <font color='blue'>**Solution 28.33**</font>"
      ],
      "metadata": {
        "id": "XH1wAOQxUplm"
      }
    },
    {
      "cell_type": "markdown",
      "source": [],
      "metadata": {
        "id": "Da9m-konHhpW"
      }
    },
    {
      "cell_type": "code",
      "source": [],
      "metadata": {
        "id": "cHXCQJkcHhe6"
      },
      "execution_count": null,
      "outputs": []
    },
    {
      "cell_type": "markdown",
      "source": [
        "## <font color='red'>**Problem 28.30a**</font>"
      ],
      "metadata": {
        "id": "Z0lW2v82llhd"
      }
    },
    {
      "cell_type": "markdown",
      "source": [
        "The basic differential equation of the elastic curve for a uniformly loaded beam (Fig. P28.30) is given as\n",
        "\n",
        "$EI\\frac{d^2y}{dx^2}=\\frac{wLx}{2}-\\frac{wx^2}{2}$\n",
        "\n",
        "where $E=$ the modulus of elasticity and $I=$ the moment of inertia. Solve for the deflection of the beam using (a) the finite-difference approach ($\\Delta x=$ 2 ft) and (b) the shooting method. The following parameter values apply: $E=$ 30,000 ksi, $I=$ 800 in$^4$, $w=$ 1 kip/ft, $L=$ 10 ft. Compare your numerical results to the analytical solution,\n",
        "\n",
        "$y=\\frac{wLx^3}{12EI}-\\frac{wx^4}{24EI}-\\frac{wL^3x}{24EI}$\n",
        "\n",
        "<p align=\"center\">\n",
        "  <img src=\"https://github.com/cdefinnda/ECI-115_HW-Images/blob/main/HW7_Fig.P28.30.png?raw=true\" alt=\"Fig. P28.33\" width=500>\n",
        "</p>\n",
        "\n",
        "\n",
        "<font color='red'> **TL;DR**:\n",
        "Explain how (a) the finite-difference approach and (b) the shooting method can be used to solve for deflection as a function of distance along the beam. For both of these methods, create programs that numerical approximate deflection and compare these results to the analytical solution by plotting deflection vs. distance along the beam.\n",
        "</font>"
      ],
      "metadata": {
        "id": "gnwk420ANsf8"
      }
    },
    {
      "cell_type": "markdown",
      "source": [
        "### <font color='blue'>**Solution 28.30a**</font>\n",
        "\n"
      ],
      "metadata": {
        "id": "38V6zJZDVYTx"
      }
    },
    {
      "cell_type": "markdown",
      "source": [],
      "metadata": {
        "id": "RmngZA5zHiqU"
      }
    },
    {
      "cell_type": "code",
      "source": [],
      "metadata": {
        "id": "daxO9SNKHiTy"
      },
      "execution_count": null,
      "outputs": []
    },
    {
      "cell_type": "markdown",
      "source": [
        "## <font color='red'>**Problem 20.33**</font>"
      ],
      "metadata": {
        "id": "E7h9nLDWlhD6"
      }
    },
    {
      "cell_type": "markdown",
      "source": [
        "The following model is frequently used in environmental engineering to parameterize the effect of temperature $T$ (°C) on biochemical reaction rates $k$ (per day),\n",
        "\n",
        "$k=k_{20}\\theta^{T-20}$\n",
        "\n",
        "where $k_{20}$ and $\\theta$ are parameters. Use a transformation to linearize this equation. Then employ linear regression to estimate $k_{20}$ and $\\theta$ and predict the reaction rate at $T=$ 17°C.\n",
        "\n",
        "|    $T$ (°C)    |   6  |  12  |  18  | 24   | 30   |\n",
        "|:-------------:|:----:|:----:|:----:|------|------|\n",
        "| $k$ (per day) | 0.14 | 0.20 | 0.31 | 0.46 | 0.69 |\n",
        "\n",
        "<font color='red'> **TL;DR**:\n",
        "Linearize the equation above so that the data in the table can be used to estimate the values of the parameters $k_{20}$ and $\\theta$. Create a program that estimates $k_{20}$ and $\\theta$ (Hint: use the `stats.linregress()` function from the `scipy` package), plot $log(k)$ vs. $T-20$, and estimate the value for $k$ at $T=17°C$.\n",
        "</font>"
      ],
      "metadata": {
        "id": "Gkj3pbnXLyqM"
      }
    },
    {
      "cell_type": "markdown",
      "source": [
        "### <font color='blue'>**Solution 20.33**</font>\n",
        "\n"
      ],
      "metadata": {
        "id": "Yz6T7hMlU9YX"
      }
    },
    {
      "cell_type": "markdown",
      "source": [],
      "metadata": {
        "id": "7V4XuzOGHjdp"
      }
    },
    {
      "cell_type": "code",
      "source": [],
      "metadata": {
        "id": "ikUjQOArHjU6"
      },
      "execution_count": null,
      "outputs": []
    }
  ]
}