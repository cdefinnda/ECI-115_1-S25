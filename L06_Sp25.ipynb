{
  "cells": [
    {
      "cell_type": "markdown",
      "metadata": {
        "id": "gXZ9OactwPMD"
      },
      "source": [
        "# Lecture 6 - Linear Systems 🧮\n",
        "**Learning Objectives**\n",
        "* Learn how to set up a system of linear equations as a matrix.\n",
        "* Implement LU Decompositions to solve systems of linear equations.\n",
        "* See how LU Decompositions allows you to efficiently solve systems of linear equations with changing loads."
      ]
    },
    {
      "cell_type": "markdown",
      "source": [
        "## System of 5 Reactors with Unknown Concentrations (C&C Case Study 12.1)\n",
        "\n",
        "<p align=\"center\">\n",
        "  <img src=\"https://github.com/cdefinnda/ECI-115_HW-Images/blob/main/cha32077_1203.png?raw=true\" alt=\"cha32077_1203\" width=500>\n",
        "</p>\n",
        "\n",
        ">* Reactor 1: $Q_{01}c_{01}+Q_{31}c_3=Q_{12}c_1+Q_{15}c_1 \\rightarrow 6c_1-c_3=50$\n",
        "* Reactor 2: $Q_{12}c_1=Q_{25}c_2+Q_{24}c_2+Q_{23}c_2 \\rightarrow -3c_1+3c_2=0$\n",
        "* Reactor 3: $-c_2+9c_3=160$\n",
        "* Reactor 4: $-c_2-8c_3+11c_4-2c_5=0$\n",
        "* Reactor 5: $-3c_1-c_2+4c_5=0$"
      ],
      "metadata": {
        "id": "OmXyE_vB-SA-"
      }
    },
    {
      "cell_type": "markdown",
      "source": [
        "### 💪 Set up system of equations and check if singular using determinant."
      ],
      "metadata": {
        "id": "iaknsAP-EcIu"
      }
    },
    {
      "cell_type": "code",
      "execution_count": null,
      "metadata": {
        "id": "fEVP8ahBwPMF"
      },
      "outputs": [],
      "source": [
        "import numpy as np\n",
        "import scipy.linalg as sl\n",
        "\n",
        "A = np.array([[], # Fill in components of Matrix A\n",
        "              [],\n",
        "              [],\n",
        "              [],\n",
        "              []])\n",
        "\n",
        "b = np.array([]).T  # Fill in components of Array b\n",
        "\n",
        "print('Shape of A:', A.shape) # Check dimensions of matrix\n",
        "print('Shape of B:', b.shape) # Check dimensions of array\n",
        "n = A.shape[0]                # Store # of rows of A for LU Decomposition"
      ]
    },
    {
      "cell_type": "code",
      "execution_count": null,
      "metadata": {
        "id": "s5BxlcJ9wPMF"
      },
      "outputs": [],
      "source": [
        "# We inputed values into our system of equations as integers, but this can cause problems:\n",
        "print('Float Division:', 3/2)     # Represents quotient as a float\n",
        "print('Integer Division:', 3//2)  # Represents quotient as a integer (SIGNIFICANT roundoff error)\n",
        "\n",
        "# To avoid this when we do matrix multiplication, convert all elements of A and b to float\n",
        "A = A.astype(float)\n",
        "b = b.astype(float)"
      ]
    },
    {
      "cell_type": "code",
      "execution_count": null,
      "metadata": {
        "id": "Ly8DsKa6wPMG"
      },
      "outputs": [],
      "source": [
        "# Check if Matrix A is singular (i.e., det = 0)\n",
        "print(sl.det(A))"
      ]
    },
    {
      "cell_type": "markdown",
      "source": [
        "### 💪 Perform LU decomposition without partial pivoting and compare to `scipy.linalg.lu`."
      ],
      "metadata": {
        "id": "TVTsfFd0Ht3D"
      }
    },
    {
      "cell_type": "code",
      "execution_count": null,
      "metadata": {
        "id": "KIT08QTqwPMG"
      },
      "outputs": [],
      "source": [
        "# LU Decomposition\n",
        "# Note: This does not include partial pivoting and may encounter divide by zero errors\n",
        "# See C&C Figure 10.2 for pseudocode for LU with partial pivoting\n",
        "L =   # Initialize L\n",
        "U =   # Instialize U\n",
        "\n",
        "for k in range(n-1):\n",
        "    for i in range(k+1,n):\n",
        "        L[i,k] = U[i,k] / U[k,k] # Multiplication Factor\n",
        "        U[i,:] = U[i,:] - L[i,k] * U[k,:] # Modify row i based on pivot row k"
      ]
    },
    {
      "cell_type": "markdown",
      "source": [
        "❓ With this code, how would you handle a system of equations where there's a 0 in the diagonal of $\\mathbf{U}$?\n",
        "* [???]"
      ],
      "metadata": {
        "id": "kvJcPxZdhpb_"
      }
    },
    {
      "cell_type": "code",
      "execution_count": null,
      "metadata": {
        "id": "2TEWfTHFwPMG"
      },
      "outputs": [],
      "source": [
        "# Check Answers\n",
        "# set precision for printing - easier to compare matrices\n",
        "# suppress=True turns off scientific notation for small numbers\n",
        "np.set_printoptions(precision=3, suppress=True)"
      ]
    },
    {
      "cell_type": "code",
      "source": [
        "# Print Lower Diagonal\n",
        "print(L)"
      ],
      "metadata": {
        "id": "gQh1o2CHIl5_"
      },
      "execution_count": null,
      "outputs": []
    },
    {
      "cell_type": "code",
      "execution_count": null,
      "metadata": {
        "id": "QOVXLJ-ywPMG"
      },
      "outputs": [],
      "source": [
        "# Print Upper Diagonal\n",
        "print(U)"
      ]
    },
    {
      "cell_type": "code",
      "execution_count": null,
      "metadata": {
        "id": "DBRXN1ZzwPMG"
      },
      "outputs": [],
      "source": [
        "# Compare L @ U (Matrix Multiplication) to Matrix A\n",
        "print(L @ U)\n",
        "print('\\n')\n",
        "print(A)"
      ]
    },
    {
      "cell_type": "code",
      "execution_count": null,
      "metadata": {
        "id": "pek5elwAwPMH"
      },
      "outputs": [],
      "source": [
        "# Compare to scipy.linalg built in function lu()\n",
        "# Note: The permute keyword makes the result comparable to ours\n",
        "L_sl, U_sl = sl.lu(A, permute_l=True)\n",
        "np.allclose(L, L_sl)\n",
        "np.allclose(U, U_sl)"
      ]
    },
    {
      "cell_type": "markdown",
      "source": [
        "### 💪 Solve for unknowns and compare to `scipy.linalg.solve`."
      ],
      "metadata": {
        "id": "7FMh_vzBJKgL"
      }
    },
    {
      "cell_type": "markdown",
      "metadata": {
        "id": "R2ExVerdwPMH"
      },
      "source": [
        "Next we need to solve for the unknowns $\\mathbf{c}$ given RHS vector $\\mathbf{b}$. We can do this in two steps:\n",
        "- Solve $\\mathbf{Ld} = \\mathbf{b}$ for the intermediate vector $\\mathbf{d}$ using forward substitution\n",
        "- Solve $\\mathbf{Ux} = \\mathbf{d}$ using back substitution"
      ]
    },
    {
      "cell_type": "code",
      "source": [
        "# Inspect System for Conducting Ld = b\n",
        "print(L)\n",
        "print('\\n')\n",
        "print('b = ',b) # This array is actually vertical."
      ],
      "metadata": {
        "id": "iZdzqNiSKl4D"
      },
      "execution_count": null,
      "outputs": []
    },
    {
      "cell_type": "code",
      "execution_count": null,
      "metadata": {
        "id": "-OIOdK9zwPMH"
      },
      "outputs": [],
      "source": [
        "# Forward Substitution\n",
        "d = np.zeros(n)\n",
        "d[0] = b[0] / L[0,0]\n",
        "\n",
        "for i in range(1,n):\n",
        "    d[i] = # Implement the iterative forward substitution operation here."
      ]
    },
    {
      "cell_type": "code",
      "source": [
        "# Inspect System for Conducting Ux = d\n",
        "print(U)\n",
        "print('\\n')\n",
        "print('d = ',d) # This array is actually vertical."
      ],
      "metadata": {
        "id": "GVHdtYj7M0LG"
      },
      "execution_count": null,
      "outputs": []
    },
    {
      "cell_type": "code",
      "source": [
        "# Back Substitution\n",
        "x = np.zeros(n)\n",
        "x[-1] = d[-1] / U[-1,-1] # index -1 for last element\n",
        "\n",
        "for i in range(n-2,-1,-1): # loop backward starting from second-to-last row\n",
        "    x[i] = # Implement the iterative back substitution operation here."
      ],
      "metadata": {
        "id": "-6DZflRkMzM8"
      },
      "execution_count": null,
      "outputs": []
    },
    {
      "cell_type": "code",
      "source": [
        "# Compare Solution to sl.solve(A,b)\n",
        "print('Our answer: ', x)\n",
        "print('Matches Scipy? ', np.allclose(x, sl.solve(A,b)))"
      ],
      "metadata": {
        "id": "eEnHE3-DNgLP"
      },
      "execution_count": null,
      "outputs": []
    },
    {
      "cell_type": "markdown",
      "source": [
        "### 💪 Change b (new concentration inputs) and solve again without repeating the row elimination."
      ],
      "metadata": {
        "id": "qMqODXTzJWBO"
      }
    },
    {
      "cell_type": "markdown",
      "metadata": {
        "id": "RXS83CtqwPMH"
      },
      "source": [
        "Now if the input concentration $\\mathbf{b}$ changes, Gauss elimination would require the row elimination to be repeated with $O(n^3)$ operations. However, since we already have the LU decomposition, we only need to perform the forward/back substitution steps. This is $O(n^2)$ operations.\n",
        "\n",
        "For example, say concentration $c_{01}=20$ and $c_{03}=10$. Using mass balance, this would lead to a new vector $\\mathbf{b} = [100, 0, 80, 0, 0]^T$. We are only changing the inputs, so the matrix $\\mathbf{A}$ does not change."
      ]
    },
    {
      "cell_type": "markdown",
      "source": [
        "❓ How do you expect this change to impact the steady concentrations of your system?\n",
        "* [???]"
      ],
      "metadata": {
        "id": "JvIPWTDsgbe9"
      }
    },
    {
      "cell_type": "code",
      "execution_count": null,
      "metadata": {
        "id": "dDTjnlKmwPMH"
      },
      "outputs": [],
      "source": [
        "b2 = np.array([]).T # Fill in new values for b here.\n",
        "\n",
        "# Repeat the steps above to solve (could write this in a function)\n",
        "\n",
        "# Forward Substitution\n",
        "d2 = np.zeros(n)\n",
        "d2[0] = b2[0] / L[0,0]\n",
        "\n",
        "for i in range(1,n):\n",
        "    d2[i] = (b2[i] - L[i,:] @ d2) / L[i,i]\n",
        "\n",
        "# Back Substitution\n",
        "x2 = np.zeros(n)\n",
        "x2[-1] = d2[-1] / U[-1,-1] # index -1 for last element\n",
        "\n",
        "for i in range(n-2,-1,-1): # loop backward starting from second-to-last row\n",
        "    x2[i] = (d2[i] - U[i,i+1:n] @ x2[i+1:n]) / U[i,i]\n",
        "\n",
        "print('Our answer: ', x2)\n",
        "print('Matches Scipy? ', np.allclose(x2, sl.solve(A,b2)))"
      ]
    },
    {
      "cell_type": "code",
      "source": [
        "# Compare Results from Two Different Concentration Loadings\n",
        "print(x, '(Original Steady State Concentrations)')\n",
        "print(x2, '(New Steady State Concentrations)')"
      ],
      "metadata": {
        "id": "QNxfflfuOhL_"
      },
      "execution_count": null,
      "outputs": []
    },
    {
      "cell_type": "markdown",
      "source": [
        "❓ How did this change to impact the steady concentrations of your system?\n",
        "* [???]"
      ],
      "metadata": {
        "id": "H9lU6_amgv-L"
      }
    },
    {
      "cell_type": "markdown",
      "metadata": {
        "id": "BFAboMlpwPMH"
      },
      "source": [
        "In the next lecture we will work on more formal ways to analyze the change in system states as a linear function of the forcing using the matrix inverse."
      ]
    }
  ],
  "metadata": {
    "hide_input": false,
    "kernelspec": {
      "display_name": "Python 3 (ipykernel)",
      "language": "python",
      "name": "python3"
    },
    "language_info": {
      "codemirror_mode": {
        "name": "ipython",
        "version": 3
      },
      "file_extension": ".py",
      "mimetype": "text/x-python",
      "name": "python",
      "nbconvert_exporter": "python",
      "pygments_lexer": "ipython3",
      "version": "3.12.8"
    },
    "latex_envs": {
      "LaTeX_envs_menu_present": true,
      "autoclose": false,
      "autocomplete": true,
      "bibliofile": "biblio.bib",
      "cite_by": "apalike",
      "current_citInitial": 1,
      "eqLabelWithNumbers": true,
      "eqNumInitial": 1,
      "hotkeys": {
        "equation": "Ctrl-E",
        "itemize": "Ctrl-I"
      },
      "labels_anchors": false,
      "latex_user_defs": false,
      "report_style_numbering": false,
      "user_envs_cfg": false
    },
    "toc": {
      "base_numbering": 1,
      "nav_menu": {},
      "number_sections": true,
      "sideBar": true,
      "skip_h1_title": false,
      "title_cell": "Table of Contents",
      "title_sidebar": "Contents",
      "toc_cell": false,
      "toc_position": {},
      "toc_section_display": true,
      "toc_window_display": false
    },
    "varInspector": {
      "cols": {
        "lenName": "40",
        "lenType": 16,
        "lenVar": "100"
      },
      "kernels_config": {
        "python": {
          "delete_cmd_postfix": "",
          "delete_cmd_prefix": "del ",
          "library": "var_list.py",
          "varRefreshCmd": "print(var_dic_list())"
        },
        "r": {
          "delete_cmd_postfix": ") ",
          "delete_cmd_prefix": "rm(",
          "library": "var_list.r",
          "varRefreshCmd": "cat(var_dic_list()) "
        }
      },
      "types_to_exclude": [
        "module",
        "function",
        "builtin_function_or_method",
        "instance",
        "_Feature"
      ],
      "window_display": false
    },
    "colab": {
      "provenance": []
    }
  },
  "nbformat": 4,
  "nbformat_minor": 0
}