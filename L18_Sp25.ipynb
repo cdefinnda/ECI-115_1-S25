{
  "cells": [
    {
      "cell_type": "markdown",
      "source": [
        "# Lecture 18: Partial Differential Equations - Parabolic ⏱️"
      ],
      "metadata": {
        "id": "cNmp60z8xc8_"
      }
    },
    {
      "cell_type": "markdown",
      "source": [
        "## Temperature in a 1-D Metal Rod"
      ],
      "metadata": {
        "id": "OMVHZxCIxgwL"
      }
    },
    {
      "cell_type": "markdown",
      "metadata": {
        "id": "LHzFD6rqwZ1q"
      },
      "source": [
        "$$\\frac{\\partial T}{\\partial t} = k\\frac{\\partial^2 T}{\\partial x^2}$$\n",
        "\n",
        "$x \\in [0,10]$ cm, $t \\in [0,50]$ seconds. Use $\\Delta x = 0.2$ cm and $\\Delta t = 0.01$ s.\n",
        "\n",
        "Boundary conditions: $T(0,t) = 100$°C, $T(10,t) = 50$°C\n",
        "\n",
        "Initial condition: $T(x,0) = 0$°C\n",
        "\n",
        "- Solve with explicit (FTCS), implicit (BTCS), and Crank-Nicolson\n",
        "- Compare accuracy against analytical solution: $T(x=2, t=10) = 64.8018$ (C&C Table 30.1)"
      ]
    },
    {
      "cell_type": "code",
      "execution_count": null,
      "metadata": {
        "ExecuteTime": {
          "end_time": "2020-03-20T05:10:15.051813Z",
          "start_time": "2020-03-20T05:10:14.933944Z"
        },
        "id": "R6vmT2H4wZ1r"
      },
      "outputs": [],
      "source": [
        "# Import Libraries\n",
        "import numpy as np\n",
        "import matplotlib.pyplot as plt"
      ]
    },
    {
      "cell_type": "markdown",
      "source": [
        "### 1. Explicit FTCS Method"
      ],
      "metadata": {
        "id": "d5WLb8a6zyin"
      }
    },
    {
      "cell_type": "markdown",
      "source": [
        "FTCS PDE:\n",
        "$$T_i^{l+1}=T_i^l+\\lambda \\big( T^l_{i+1} - 2T_i^l + T^l_{i-1} \\big)$$\n",
        "\n",
        "where:\n",
        "$$\\lambda = \\frac{k \\Delta t}{(\\Delta x)^2}$$"
      ],
      "metadata": {
        "id": "QqIWMAYi092M"
      }
    },
    {
      "cell_type": "markdown",
      "source": [
        "💪 Implement the Explicit FTCS Method"
      ],
      "metadata": {
        "id": "maG4dFhl5XUF"
      }
    },
    {
      "cell_type": "code",
      "execution_count": null,
      "metadata": {
        "ExecuteTime": {
          "end_time": "2020-03-20T05:10:15.051813Z",
          "start_time": "2020-03-20T05:10:14.933944Z"
        },
        "id": "lmhzZoM-wZ1r"
      },
      "outputs": [],
      "source": [
        "# Define Parameters\n",
        "dx = 0.2 # cm [Original Value: dx = 0.2]\n",
        "dt = 0.01 # s [Original Value: dt = 0.01]\n",
        "L = 10 # cm\n",
        "tmax = 50 # s\n",
        "k = 0.835 # cm^2/s\n",
        "\n",
        "lmbda  =  #[insert code here]\n",
        "          # Note: lambda is a reserved keyword in python\n",
        "\n",
        "# Initialize Arrays / Solution Matrix\n",
        "x = np.arange(0, L+dx, dx)\n",
        "t = np.arange(0, tmax+dt, dt)\n",
        "\n",
        "T  = #[insert code here]\n",
        "\n",
        "# Boundary Conditions\n",
        "#[insert code here]\n",
        "\n",
        "# Explicit FTCS Method\n",
        "for l in range(len(t)):\n",
        "    for i in range(1,len(x)-1):   # i=0 and i=len(x)-1 are BCs\n",
        "        #[insert code here]"
      ]
    },
    {
      "cell_type": "code",
      "execution_count": null,
      "metadata": {
        "id": "3_rSsshlwZ1r"
      },
      "outputs": [],
      "source": [
        "# Plot Temperature Profiles at Selected Times\n",
        "times_to_plot = [0, 1, 2, 5, 10, 15, 20, 50] # seconds\n",
        "\n",
        "for ttp in times_to_plot:\n",
        "    plt.plot(x, T[:, int(ttp/dt)], label = 't = %d s' % ttp)\n",
        "\n",
        "plt.xlabel('x (cm)')\n",
        "plt.ylabel('Temperature (°C)')\n",
        "plt.legend()\n",
        "plt.show()"
      ]
    },
    {
      "cell_type": "markdown",
      "source": [
        "❓ Is this solution stable?"
      ],
      "metadata": {
        "id": "reyqQcK03MaR"
      }
    },
    {
      "cell_type": "code",
      "execution_count": null,
      "metadata": {
        "id": "arsu8d_swZ1s"
      },
      "outputs": [],
      "source": [
        "print(lmbda)"
      ]
    },
    {
      "cell_type": "markdown",
      "source": [
        "* The value $\\lambda \\leq 1/2$, so the explicit solution is stable."
      ],
      "metadata": {
        "id": "hqhOGGMn4oZR"
      }
    },
    {
      "cell_type": "markdown",
      "source": [
        "❓ What happens if we increase $\\Delta t = 0.1$ s?"
      ],
      "metadata": {
        "id": "kI-pjrYT3Y7J"
      }
    },
    {
      "cell_type": "markdown",
      "metadata": {
        "id": "Rn_1bVjPwZ1s"
      },
      "source": [
        "* The value of $\\lambda$ is now $> 1/2$, so the explicit solution is unstable.\n",
        "* This can be observed by the oscillanting behavior of the plot."
      ]
    },
    {
      "cell_type": "code",
      "execution_count": null,
      "metadata": {
        "id": "0WudEIU_wZ1s"
      },
      "outputs": [],
      "source": [
        "T_explicit = T.copy() # Save the results for later\n",
        "                      # Make sure the revise dx = 0.2, dt = 0.01"
      ]
    },
    {
      "cell_type": "markdown",
      "metadata": {
        "id": "g3e1J1sdwZ1s"
      },
      "source": [
        "---\n",
        "## 2. Implicit (BTCS) method"
      ]
    },
    {
      "cell_type": "markdown",
      "source": [
        "BTCS PDE:\n",
        "$$-\\lambda T_{i-1}^{l+1} + \\big( 1+2\\lambda \\big) T^{l+1}_{i} - \\lambda T^{l+1}_{i+1}=T^l_i$$"
      ],
      "metadata": {
        "id": "8p_Pzjk25pFj"
      }
    },
    {
      "cell_type": "markdown",
      "source": [
        "💪 Implement the Implicit BTCS Method"
      ],
      "metadata": {
        "id": "CAm5vUt16GPu"
      }
    },
    {
      "cell_type": "code",
      "execution_count": null,
      "metadata": {
        "id": "b2m7oj_fwZ1s"
      },
      "outputs": [],
      "source": [
        "T  = np.zeros((len(x),len(t)+1))\n",
        "\n",
        "# Boundary Conditions\n",
        "T[:,0] = 0 # initial condition\n",
        "T[0,:] = 100 # left BC\n",
        "T[-1,:] = 50  # right BC\n",
        "\n",
        "# Discretize Domain to Solve System of Equations\n",
        "main = #[insert code here]\n",
        "off1 = #[insert code here]\n",
        "A = #[insert code here]\n",
        "\n",
        "# Implicit BTCS Method\n",
        "# Loop over timesteps and solve system of equations\n",
        "for l in range(len(t)):\n",
        "    # b vector is the previous timestep temperatures plus BCs\n",
        "    b = #[insert code here] # internal nodes only\n",
        "    b[0] #[insert code here] # left BC\n",
        "    b[-1] #[insert code here] # right BC\n",
        "\n",
        "    #[insert code here] # solve all internal nodes at this timestep\n"
      ]
    },
    {
      "cell_type": "code",
      "execution_count": null,
      "metadata": {
        "id": "mpe11U31wZ1s"
      },
      "outputs": [],
      "source": [
        "# Plot Temperature Profiles at Selected Times\n",
        "times_to_plot = [0, 1, 2, 5, 10, 15, 20, 50] # seconds\n",
        "\n",
        "for ttp in times_to_plot:\n",
        "    plt.plot(x, T[:, int(ttp/dt)], label = 't = %d s' % ttp)\n",
        "\n",
        "plt.xlabel('x (cm)')\n",
        "plt.ylabel('Temperature (°C)')\n",
        "plt.legend()\n",
        "plt.show()"
      ]
    },
    {
      "cell_type": "markdown",
      "metadata": {
        "id": "H2c-QMZxwZ1t"
      },
      "source": [
        "The solution looks about the same. The advantage of the BTCS method would be if we wanted to use a larger $\\Delta t$ to improve efficiency because it is unconditionally stable."
      ]
    },
    {
      "cell_type": "code",
      "execution_count": null,
      "metadata": {
        "id": "sPxHtq0iwZ1t"
      },
      "outputs": [],
      "source": [
        "T_implicit = T.copy() # save the results for later"
      ]
    },
    {
      "cell_type": "markdown",
      "metadata": {
        "id": "7wFt4budwZ1t"
      },
      "source": [
        "---\n",
        "## 3. Crank-Nicolson Method\n",
        "\n",
        "The setup is similar to the BTCS method, it is just a bit more involved to create the $\\mathbf{b}$ vector each timestep.\n",
        "\n",
        "Crank-Nicolson PDE:\n",
        "$$\n",
        "-\\lambda T^{l+1}_{i-1}+2\\big( 1 + \\lambda \\big)T^{l+1}_{i} - \\lambda T^{l+1}_{i+1} = 2\\big( 1 - \\lambda \\big)T^{l}_{i} + \\lambda T^{l}_{i+1}\n",
        "$$\n",
        "\n"
      ]
    },
    {
      "cell_type": "markdown",
      "source": [
        "🤝 Implement the Crank-Nicolson Method"
      ],
      "metadata": {
        "id": "6da2Sokm_LUL"
      }
    },
    {
      "cell_type": "code",
      "execution_count": null,
      "metadata": {
        "id": "dCiLk_RgwZ1t"
      },
      "outputs": [],
      "source": [
        "T  = np.zeros((len(x),len(t)+1))\n",
        "\n",
        "# Boundary Conditions\n",
        "T[:,0] = 0 # initial condition\n",
        "T[0,:] = 100 # left BC\n",
        "T[-1,:] = 50  # right BC\n",
        "\n",
        "# LHS matrix A\n",
        "main = 2*(1 + lmbda) * np.ones(len(x)-2) # length-2 removes BCs\n",
        "off1 = -lmbda * np.ones(len(x)-3)\n",
        "A = np.diag(main) + np.diag(off1,-1) + np.diag(off1,1)\n",
        "\n",
        "# RHS matrix is also constant (call it M)\n",
        "main = 2*(1 - lmbda) * np.ones(len(x)-2)\n",
        "off1 = lmbda * np.ones(len(x)-3)\n",
        "M = np.diag(main) + np.diag(off1,-1) + np.diag(off1,1)\n",
        "\n",
        "for l in range(len(t)):\n",
        "    # b vector M * T^l plus BCs\n",
        "    b = M @ T[1:-1,l].copy() # internal nodes only\n",
        "    b[0] += 2 * lmbda * 100 # left BC\n",
        "    b[-1] += 2 * lmbda*50 # right BC\n",
        "\n",
        "    T[1:-1,l+1] = np.linalg.solve(A,b) # solve all internal nodes at this timestep"
      ]
    },
    {
      "cell_type": "code",
      "execution_count": null,
      "metadata": {
        "id": "oCnr_75ywZ1t"
      },
      "outputs": [],
      "source": [
        "for ttp in times_to_plot:\n",
        "    plt.plot(x, T[:, int(ttp/dt)], label = 't = %d s' % ttp)\n",
        "\n",
        "plt.xlabel('x (cm)')\n",
        "plt.ylabel('Temperature (°C)')\n",
        "plt.legend()\n",
        "plt.show()"
      ]
    },
    {
      "cell_type": "code",
      "execution_count": null,
      "metadata": {
        "id": "yym5uq5cwZ1t"
      },
      "outputs": [],
      "source": [
        "T_cn = T.copy()"
      ]
    },
    {
      "cell_type": "markdown",
      "metadata": {
        "id": "hjgy4uzlwZ1t"
      },
      "source": [
        "---\n",
        "## Comparing Accuracy\n",
        "\n",
        "Compare accuracy to analytical value: $T(x=2, t=10) = 64.8018$"
      ]
    },
    {
      "cell_type": "code",
      "execution_count": null,
      "metadata": {
        "id": "wIwN42AuwZ1t"
      },
      "outputs": [],
      "source": [
        "exact = 64.8018\n",
        "\n",
        "# percent relative error\n",
        "err_explicit = np.abs(T_explicit[int(2/dx), int(10/dt)] - exact) / exact * 100\n",
        "err_implicit = np.abs(T_implicit[int(2/dx), int(10/dt)] - exact) / exact * 100\n",
        "err_cn = np.abs(T_cn[int(2/dx), int(10/dt)] - exact) / exact * 100\n",
        "\n",
        "print(f'Explicit: {err_explicit*100:0.4f}%')\n",
        "print(f'Implicit: {err_implicit*100:0.4f}%')\n",
        "print(f'Crank-Nicolson: {err_cn*100:0.4f}%')"
      ]
    },
    {
      "cell_type": "markdown",
      "metadata": {
        "id": "0qibxhwewZ1t"
      },
      "source": [
        "In this case we are using a small $\\Delta t$, so all three methods are very accurate, though Crank-Nicolson is two orders of magnitude more accurate than the others. BTCS has essentially the same accuracy as FTCS, but with the advantage of unconditional stability (not shown here). Try testing the accuracy for different values of $\\Delta t$, and compare to C&C Table 30.1.\n",
        "\n",
        "<p align=\"center\">\n",
        "  <img src=\"https://github.com/cdefinnda/ECI-115_HW-Images/blob/main/Table_30.1.png?raw=true\" alt=\"Table 30.1\" width=700>\n",
        "</p>"
      ]
    },
    {
      "cell_type": "markdown",
      "metadata": {
        "id": "ayFtk8SYwZ1t"
      },
      "source": [
        "## Bonus: Animation\n",
        "\n",
        "Since we have the full matrix `T(x,t)` saved, we can also try animating `T(x)` over time. First create the initial plot axes, then update the line every `interval` steps. Note this will only animate when the cell is run. There are more advanced methods to save and embed animations in static webpages, for example see [here](https://jckantor.github.io/CBE30338/A.03-Animation-in-Jupyter-Notebooks.html)."
      ]
    },
    {
      "cell_type": "code",
      "execution_count": null,
      "metadata": {
        "id": "cNSEaL5rwZ1t"
      },
      "outputs": [],
      "source": [
        "from IPython import display\n",
        "\n",
        "fig = plt.figure()\n",
        "ax = plt.axes(xlim=(0, 10), ylim=(0, 100))\n",
        "h, = ax.plot(x, T[:,0], lw=1)\n",
        "plt.xlabel('x (cm)')\n",
        "plt.ylabel('Temperature (°C)')\n",
        "\n",
        "interval = 20\n",
        "for i in range(len(t)):\n",
        "    if i % interval == 0:\n",
        "        h.set_data(x, T[:,i])\n",
        "        plt.title('t = %0.2f s' % (i*dt))\n",
        "        display.display(plt.gcf())\n",
        "        display.clear_output(wait =True)"
      ]
    }
  ],
  "metadata": {
    "hide_input": false,
    "kernelspec": {
      "display_name": "Python 3 (ipykernel)",
      "language": "python",
      "name": "python3"
    },
    "language_info": {
      "codemirror_mode": {
        "name": "ipython",
        "version": 3
      },
      "file_extension": ".py",
      "mimetype": "text/x-python",
      "name": "python",
      "nbconvert_exporter": "python",
      "pygments_lexer": "ipython3",
      "version": "3.12.8"
    },
    "latex_envs": {
      "LaTeX_envs_menu_present": true,
      "autoclose": false,
      "autocomplete": true,
      "bibliofile": "biblio.bib",
      "cite_by": "apalike",
      "current_citInitial": 1,
      "eqLabelWithNumbers": true,
      "eqNumInitial": 1,
      "hotkeys": {
        "equation": "Ctrl-E",
        "itemize": "Ctrl-I"
      },
      "labels_anchors": false,
      "latex_user_defs": false,
      "report_style_numbering": false,
      "user_envs_cfg": false
    },
    "toc": {
      "base_numbering": 1,
      "nav_menu": {},
      "number_sections": true,
      "sideBar": true,
      "skip_h1_title": false,
      "title_cell": "Table of Contents",
      "title_sidebar": "Contents",
      "toc_cell": false,
      "toc_position": {},
      "toc_section_display": true,
      "toc_window_display": false
    },
    "varInspector": {
      "cols": {
        "lenName": "40",
        "lenType": 16,
        "lenVar": "100"
      },
      "kernels_config": {
        "python": {
          "delete_cmd_postfix": "",
          "delete_cmd_prefix": "del ",
          "library": "var_list.py",
          "varRefreshCmd": "print(var_dic_list())"
        },
        "r": {
          "delete_cmd_postfix": ") ",
          "delete_cmd_prefix": "rm(",
          "library": "var_list.r",
          "varRefreshCmd": "cat(var_dic_list()) "
        }
      },
      "types_to_exclude": [
        "module",
        "function",
        "builtin_function_or_method",
        "instance",
        "_Feature"
      ],
      "window_display": false
    },
    "colab": {
      "provenance": []
    }
  },
  "nbformat": 4,
  "nbformat_minor": 0
}