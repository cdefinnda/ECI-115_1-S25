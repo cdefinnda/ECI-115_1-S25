{
  "nbformat": 4,
  "nbformat_minor": 0,
  "metadata": {
    "colab": {
      "provenance": [],
      "mount_file_id": "1kffrDuli0kimb8KWTOtvqfFbPDth8Cql",
      "authorship_tag": "ABX9TyPE39ZXY3nAOpYFMNKa2FbQ",
      "include_colab_link": true
    },
    "kernelspec": {
      "name": "python3",
      "display_name": "Python 3"
    },
    "language_info": {
      "name": "python"
    }
  },
  "cells": [
    {
      "cell_type": "markdown",
      "metadata": {
        "id": "view-in-github",
        "colab_type": "text"
      },
      "source": [
        "<a href=\"https://colab.research.google.com/github/cdefinnda/ECI-115_1-S25/blob/main/HW1_Problems.ipynb\" target=\"_parent\"><img src=\"https://colab.research.google.com/assets/colab-badge.svg\" alt=\"Open In Colab\"/></a>"
      ]
    },
    {
      "cell_type": "markdown",
      "source": [
        "# ECI 115: Homework 1"
      ],
      "metadata": {
        "id": "g1Wl5kMsVmlk"
      }
    },
    {
      "cell_type": "markdown",
      "source": [
        "## <font color='red'>**Problem 1.14**</font>"
      ],
      "metadata": {
        "id": "C7dlB1Z4lSOM"
      }
    },
    {
      "cell_type": "markdown",
      "source": [
        "*Newton's law of cooling* says that the temperature of a body changes at a rate propotional to the difference between its temperature and that of the surrounding medium (the ambient temperature),\n",
        "\n",
        "$$ \\frac{dT}{dt} = -k(T-T_a) $$\n",
        "\n",
        "where $T=$ the temperature of the body (°C), $t=$ time, $k=$ the proportionality constant (per minute), and $T_a=$ the ambient temperature (°C). Suppose that a cup of coffe originally has a temperature of 68°C. Use Euler's method to compute the temperature from $t=$ 0. to 10 min using a step size of 1 min if $T_a=$ 21°C and $k=$ 0.019/min.\n",
        "\n",
        "<font color='red'> **TL;DR**:\n",
        "Explain how Euler's Method can be used to numerically model temperature as a function of time. Then write a program that recursively calculates temperature as a function of time using Euler's Method (i.e., use a `for` loop). Print the resulting values for $T$ and create a plot of temperature ($T$) vs. time ($t$).\n",
        "</font>"
      ],
      "metadata": {
        "id": "kJqf9oQuJNdm"
      }
    },
    {
      "cell_type": "markdown",
      "source": [
        "### <font color='blue'>**Solution 1.14**</font>"
      ],
      "metadata": {
        "id": "bG5zq9oISPip"
      }
    },
    {
      "cell_type": "markdown",
      "source": [],
      "metadata": {
        "id": "BmMeaosrG6RM"
      }
    },
    {
      "cell_type": "code",
      "source": [],
      "metadata": {
        "id": "w3y523nzG6_A"
      },
      "execution_count": null,
      "outputs": []
    },
    {
      "cell_type": "markdown",
      "source": [
        "## <font color='red'>**Problem 1.23**</font>"
      ],
      "metadata": {
        "id": "QfXOdL8blXbI"
      }
    },
    {
      "cell_type": "markdown",
      "source": [
        "As depicted in Fig. P1.23, the downward deflection $y(m)$ of a cantilever beam with a uniform load $w$ (kg/m) can be computed as\n",
        "\n",
        "$$y=\\frac{w}{24EI}(x^4-4Lx^3+6L^2x^2)$$\n",
        "\n",
        "where $x=$ distance (m), $E=$ the modulus of elasticity $=2 \\times 10^{11}$ Pa, $I=$ moment of inertia $=3.3\\times 10^{-4}$ $m^4$, $w=12,000$ N/m, and $L=$ length $=4$ m. This equation can be differentiated to yield the slope of the downward deflection as a function of $x$:\n",
        "\n",
        "$$\\frac{dy}{dx}=\\frac{w}{24EI}(4x^3-12Lx^2+12L^2x)$$\n",
        "\n",
        "If $y=0$ at $x=0$, use this equation with Euler's method ($\\Delta x=0.125$ m) to compute the deflection from $x=0$ to $L$. Develop a plot of your results along with the analytical solution computed with the first equation.\n",
        "\n",
        "<p align=\"center\">\n",
        "  <img src=\"https://drive.google.com/uc?export=view&id=19DiLqbw4mL583n-A8C-II0aoB7x599cr\" alt=\"Fig. P1.23\" width=500>\n",
        "</p>\n",
        "\n",
        "<font color='red'> **TL;DR**:\n",
        "Explain how Euler's Method can be used to numerically model displacement as a function of length. Then write a program that recursively calculates displacement as a function of length using Euler's Method (i.e., use a `for` loop). Compare this result to the analytical solution by creating a plot of displacement ($y$) vs. length ($x$).\n",
        "</font>"
      ],
      "metadata": {
        "id": "AyoPAAzELHrN"
      }
    },
    {
      "cell_type": "markdown",
      "source": [
        "### <font color='blue'>**Solution 1.23**</font>"
      ],
      "metadata": {
        "id": "XH1wAOQxUplm"
      }
    },
    {
      "cell_type": "markdown",
      "source": [],
      "metadata": {
        "id": "yQA54FHRG-NF"
      }
    },
    {
      "cell_type": "code",
      "source": [],
      "metadata": {
        "id": "3iNmSybAG-s0"
      },
      "execution_count": null,
      "outputs": []
    },
    {
      "cell_type": "markdown",
      "source": [
        "## <font color='red'>**Problem 2.27**</font>"
      ],
      "metadata": {
        "id": "Z0lW2v82llhd"
      }
    },
    {
      "cell_type": "markdown",
      "source": [
        "As depicted in Fig. P2.27, a water tank consists of a cylinder topped by the frustum of a cone. Develop a well-structured function in a high-level language or macro language of your choice to compute the volume given the water level $h$ (m) above the tank's bottom. Design the function so that it returns a value of zero for negative $h$'s and the value of the maximum filled volume for $h$'s greater than the tank's maximum depth. Given the following parameters, $H_1=$ 11 m, $r_1=$ 3.5 m, $H_2=$ 5m, and $r_2=$ 6m, test your function by using it to compute the volumes and generate a graph of the volume as a function of level from $h=$ -1 to 17 m.\n",
        "\n",
        "\n",
        "<p align=\"center\">\n",
        "  <img src=\"https://drive.google.com/uc?export=view&id=1_9AFvbFVDCmKlifwtsKaOqbk9Tf5544E\" alt=\"Fig. P2.27\" width=300>\n",
        "</p>\n",
        "\n",
        "<font color='red'> **TL;DR**:\n",
        "Develop a relationship that describes how volume changes as a function of height. Then create a program that calculates the water volume as a function of height (hint: you will likely need to use `if-else` statements and creating your own functions help you simplify your code) and create a plot of water volume ($V$) vs. height ($h$).\n",
        "</font>"
      ],
      "metadata": {
        "id": "gnwk420ANsf8"
      }
    },
    {
      "cell_type": "markdown",
      "source": [
        "### <font color='blue'>**Solution 2.27**</font>\n",
        "\n"
      ],
      "metadata": {
        "id": "38V6zJZDVYTx"
      }
    },
    {
      "cell_type": "markdown",
      "source": [],
      "metadata": {
        "id": "ZQTmDj2mG_3J"
      }
    },
    {
      "cell_type": "code",
      "source": [],
      "metadata": {
        "id": "_bXiaF4LG_tB"
      },
      "execution_count": null,
      "outputs": []
    },
    {
      "cell_type": "markdown",
      "source": [
        "## <font color='red'>**Problem 2.28**</font>"
      ],
      "metadata": {
        "id": "E7h9nLDWlhD6"
      }
    },
    {
      "cell_type": "markdown",
      "source": [
        "Write a well-structured function procedure named \"Fnorm\" to calcualte the Frobenius norm of an $m \\times n$ matrix using nested count-controlled (for) loops:\n",
        "\n",
        "$$\\|A\\|_f = \\bigg(\\sum_{i=1}^{m} \\sum_{j=1}^{n} a_{ij}^2 \\bigg)^{\\frac{1}{2}}$$\n",
        "\n",
        "Test your function with\n",
        "\n",
        "$$\n",
        "A =\n",
        "\\begin{bmatrix}\n",
        "5 & 7 & 9 \\\\\n",
        "1 & 8 & 4 \\\\\n",
        "7 & 6 & 2\n",
        "\\end{bmatrix}\n",
        "$$\n",
        "\n",
        "\n",
        "<font color='red'> **TL;DR**:\n",
        "Explain the process of taking the Frobenius norm. Then create a program that can take any matrix and output the Frobenius norm. Test your function on matrix $A$ shown above and compare your result to NumPy's built-in function for the Frobenius norm: `np.linalg.norm(A,'fro')`.\n",
        "</font>"
      ],
      "metadata": {
        "id": "Gkj3pbnXLyqM"
      }
    },
    {
      "cell_type": "markdown",
      "source": [
        "### <font color='blue'>**Solution 2.28**</font>\n",
        "\n"
      ],
      "metadata": {
        "id": "Yz6T7hMlU9YX"
      }
    },
    {
      "cell_type": "markdown",
      "source": [],
      "metadata": {
        "id": "NRH-to9RHAxL"
      }
    },
    {
      "cell_type": "code",
      "source": [],
      "metadata": {
        "id": "toTi74ETHAnH"
      },
      "execution_count": null,
      "outputs": []
    }
  ]
}