{
  "cells": [
    {
      "cell_type": "markdown",
      "source": [
        "# Lecture 16: Boundary Value and Eigenvalue Problems 🫨"
      ],
      "metadata": {
        "id": "tHDWARXv8fFo"
      },
      "id": "tHDWARXv8fFo"
    },
    {
      "cell_type": "markdown",
      "id": "proper-swimming",
      "metadata": {
        "id": "proper-swimming"
      },
      "source": [
        "## 1-D Temperature BVP: C&C Example 27.3"
      ]
    },
    {
      "cell_type": "markdown",
      "source": [
        "$$\\frac{d^2 T}{dx^2} + K(T_a - T) = 0$$\n",
        "\n",
        "Boundary Conditions:\n",
        "* $T(0)=T_0$\n",
        "* $T(L)=T_{L}$\n",
        "\n",
        "Defined Parameters:\n",
        "* $K$: heat transfer coefficient = 0.01 m-2\n",
        "* $T_a$: ambient temperature = 20°C\n",
        "* $T_0$: left boundary = 40°C\n",
        "* $T_{L}$: right boundary = 200°C\n",
        "* $L$: length = 10 m"
      ],
      "metadata": {
        "id": "dvIXWIdHTfWG"
      },
      "id": "dvIXWIdHTfWG"
    },
    {
      "cell_type": "code",
      "execution_count": null,
      "id": "4f624f39-010f-4c2e-9f2e-13b072bc3f9e",
      "metadata": {
        "id": "4f624f39-010f-4c2e-9f2e-13b072bc3f9e"
      },
      "outputs": [],
      "source": [
        "# Import Libraries\n",
        "import numpy as np\n",
        "from matplotlib import pyplot as plt\n",
        "\n",
        "# Define Parameters\n",
        "T0 = 40 # left BC, deg C\n",
        "TL = 200 # right BC, deg C\n",
        "K = 0.01 # m^-2\n",
        "Ta = 20 # ambient temp\n",
        "L = 10 # m\n",
        "n = 7 # number of internal nodes\n",
        "dx = L / (n+1)"
      ]
    },
    {
      "cell_type": "markdown",
      "source": [
        "Finite Difference Method gives us:\n",
        "$$-T_{i-1}+(2+K\\Delta x^2)T_i-T_{i+1}=K\\Delta x^2 T_a$$"
      ],
      "metadata": {
        "id": "sU6x_CZ6aZcq"
      },
      "id": "sU6x_CZ6aZcq"
    },
    {
      "cell_type": "markdown",
      "source": [
        "### Translate the series of equations described above into matrix form ($Ax=b$) for $n=7$ internal nodes.\n",
        "\n",
        "💪 Start by creating matrix $A$. Recall that $x$ comprises the following variables:\n",
        "\n",
        "$$x=\n",
        "\\begin{bmatrix}\n",
        "T_1 \\\\\n",
        "T_2 \\\\\n",
        "\\vdots \\\\\n",
        "T_7\n",
        "\\end{bmatrix}\n",
        "$$"
      ],
      "metadata": {
        "id": "4edwR6VobKq_"
      },
      "id": "4edwR6VobKq_"
    },
    {
      "cell_type": "code",
      "source": [
        "# Initialize A\n",
        "A = np.zeros([n,n])\n",
        "\n",
        "# Assign Values to A (Note: There are many ways to do this)\n",
        "#[implement code here]\n",
        "\n",
        "print(A)"
      ],
      "metadata": {
        "id": "g4FGhtvpYc4k"
      },
      "id": "g4FGhtvpYc4k",
      "execution_count": null,
      "outputs": []
    },
    {
      "cell_type": "code",
      "execution_count": null,
      "id": "65865967-e63d-49c4-8ce5-67ddd94acaa1",
      "metadata": {
        "id": "65865967-e63d-49c4-8ce5-67ddd94acaa1"
      },
      "outputs": [],
      "source": [
        "# Alternative way to set up A\n",
        "main = (2 + K*dx**2) * np.ones(n) # main diagonal\n",
        "off1 = -1 * np.ones(n-1) # off-diagonals have n-1 elements\n",
        "A = np.diag(main) + np.diag(off1,-1) + np.diag(off1, 1)\n",
        "print(A)"
      ]
    },
    {
      "cell_type": "markdown",
      "source": [
        "* This alternative approach avoids Python-level loops, which are slower than vectorized NumPy operations."
      ],
      "metadata": {
        "id": "lVy8qhYrdKTJ"
      },
      "id": "lVy8qhYrdKTJ"
    },
    {
      "cell_type": "markdown",
      "source": [
        "💪 Now create vector $b$. Don't forget to implement our boundary conditions."
      ],
      "metadata": {
        "id": "SqgDwFtydk3L"
      },
      "id": "SqgDwFtydk3L"
    },
    {
      "cell_type": "code",
      "execution_count": null,
      "id": "9a250d39-772e-4ec2-bb41-aa360b0cd0cc",
      "metadata": {
        "id": "9a250d39-772e-4ec2-bb41-aa360b0cd0cc"
      },
      "outputs": [],
      "source": [
        "# RHS vector\n",
        "b = #[insert code here]\n",
        "\n",
        "# Apply BCs to first and last element\n",
        "b[0]  #[insert code here]\n",
        "b[-1] #[insert code here]"
      ]
    },
    {
      "cell_type": "markdown",
      "source": [
        "💪 Use `np.linalg.solve(A,b)` to solve for $T_i$ for the internal nodes and concatenate with the boundary conditions ($T_0$ and $T_L$). Compare this numerical solution with the analytical solution:\n",
        "\n",
        "$$T_{analytical}=73.4523 e^{0.1x}-53.4523 e^{-0.1x}+20$$\n",
        "\n",
        "Plot the result of both the numerical and analytical solutions on a plot."
      ],
      "metadata": {
        "id": "5xMojiKSea_M"
      },
      "id": "5xMojiKSea_M"
    },
    {
      "cell_type": "code",
      "execution_count": null,
      "id": "f24ddac9-9b86-45dc-ab25-0bb59fb2efd7",
      "metadata": {
        "id": "f24ddac9-9b86-45dc-ab25-0bb59fb2efd7"
      },
      "outputs": [],
      "source": [
        "# Solve Our System of Equations\n",
        "T = #[insert code here]\n",
        "\n",
        "# Append our BCs to T\n",
        "T = np.concatenate((#[insert code here]))\n",
        "\n",
        "# Calculate Analytical Solution\n",
        "x = np.arange(#[insert code here])\n",
        "T_analytical = 73.4523*np.exp(0.1*x) - 53.4523*np.exp(-0.1*x) + 20\n",
        "\n",
        "# Plot Comparison\n",
        "plt.plot(x, T)\n",
        "plt.plot(x, T_analytical, 'ok')\n",
        "plt.xlabel('x (m)')\n",
        "plt.ylabel('T (deg C)')\n",
        "plt.legend(['Finite Difference', 'Analytical'])\n",
        "#plt.ylim([108.4,108.8]) # Zoom in to see how accurate the numerical solution is.\n",
        "#plt.xlim([4.99,5.01])\n",
        "plt.show()"
      ]
    },
    {
      "cell_type": "markdown",
      "id": "8237f034-25b1-4ae7-88f5-73498fcd4c17",
      "metadata": {
        "id": "8237f034-25b1-4ae7-88f5-73498fcd4c17"
      },
      "source": [
        "## 🤝 1-D Axially loaded column BVP: C&C Example 27.5\n",
        "\n",
        "$$\\frac{d^2 y}{dx^2} + p^2 y = 0$$\n",
        "\n",
        "Boundary Conditions: $y(0) = y(L) = 0$\n",
        "\n",
        "Critical Buckling Frequencies: $p^2 = \\frac{P}{EI}$.\n",
        "* Note that $p=\\frac{n\\pi}{L}$ (discrete values) to satisfy boundary conditions.\n",
        "\n",
        "Defined Parametrs:\n",
        "- $P$: axial load, N\n",
        "- $E$: modulus of elasticity, $10 \\times 10^{9}$ Pa\n",
        "- $I$: moment of inertia of the cross-section, $1.25 \\times 10^{-5}$ m$^4$\n",
        "- $L$: length, 3 m\n"
      ]
    },
    {
      "cell_type": "code",
      "execution_count": null,
      "id": "572b3ea5-cdb0-4324-a06f-2619e026296e",
      "metadata": {
        "id": "572b3ea5-cdb0-4324-a06f-2619e026296e"
      },
      "outputs": [],
      "source": [
        "# Define Parameters\n",
        "E = 10 * 10**9 # Pa\n",
        "I = 1.25 * 10**-5 # m^4\n",
        "L = 3 # m\n",
        "\n",
        "# Let's look at a system with three internal nodes:\n",
        "n = 3 # number of internal nodes\n",
        "dx = L / (n+1)"
      ]
    },
    {
      "cell_type": "markdown",
      "id": "265635f8-b98a-4381-99c0-a921254a954e",
      "metadata": {
        "id": "265635f8-b98a-4381-99c0-a921254a954e"
      },
      "source": [
        "Use a finite difference approach to estimate the eigenvalues of this matrix.\n",
        "\n",
        "$$-y_{i-1}+2y_i-y_{i+1} = \\Delta x^2 p^2 y_i$$\n",
        "\n",
        "The values we find will be $\\lambda = \\Delta x^2 p^2$. Report the answer in terms of $p$ and compare to known values $p = \\frac{n\\pi}{L}, n=1,2,3...$"
      ]
    },
    {
      "cell_type": "code",
      "execution_count": null,
      "id": "b1e36520-7f55-41bf-b90a-4cd11e67c6f3",
      "metadata": {
        "id": "b1e36520-7f55-41bf-b90a-4cd11e67c6f3"
      },
      "outputs": [],
      "source": [
        "# LHS matrix\n",
        "main = (2) * np.ones(n) # main diagonal\n",
        "off1 = -1 * np.ones(n-1) # off-diagonals have n-1 elements\n",
        "A = np.diag(main) + np.diag(off1,-1) + np.diag(off1, 1) # assemble matrix A\n",
        "print(A)"
      ]
    },
    {
      "cell_type": "markdown",
      "source": [
        "Solve for the eigenvalues of $A$ using `np.linalg.eig(A)` function (see documentation [here](https://numpy.org/doc/stable/reference/generated/numpy.linalg.eig.html)). These values will corresponds with $\\Delta x^2 p^2$."
      ],
      "metadata": {
        "id": "vtvo3pL4o9nk"
      },
      "id": "vtvo3pL4o9nk"
    },
    {
      "cell_type": "code",
      "execution_count": null,
      "id": "0a87d0bd-c3b2-4abc-8d38-99911c1f81d0",
      "metadata": {
        "id": "0a87d0bd-c3b2-4abc-8d38-99911c1f81d0"
      },
      "outputs": [],
      "source": [
        "# Find eigenvalues and eigenvectors of A\n",
        "l,v = np.linalg.eig(A)\n",
        "print(l)"
      ]
    },
    {
      "cell_type": "markdown",
      "id": "32caff7d-5a95-4202-a78e-49c740cc49a1",
      "metadata": {
        "id": "32caff7d-5a95-4202-a78e-49c740cc49a1"
      },
      "source": [
        "* The eigenvalues values are not guaranteed to be sorted, so we could find the smallest value using `l.min()` instead of the last array value.\n",
        "* We can get more eigenvalues, and better estimates, by increasing the size of the number of nodes $n$ in the finite difference approximation."
      ]
    },
    {
      "cell_type": "markdown",
      "source": [
        "Solve for the lowest buckling frequency ($p$): $p=\\sqrt{\\lambda_1/\\Delta x^2}$"
      ],
      "metadata": {
        "id": "BuY2w9OwpdFB"
      },
      "id": "BuY2w9OwpdFB"
    },
    {
      "cell_type": "code",
      "execution_count": null,
      "id": "79ddaeeb-6cc8-4dff-9420-6fca479e8f79",
      "metadata": {
        "id": "79ddaeeb-6cc8-4dff-9420-6fca479e8f79"
      },
      "outputs": [],
      "source": [
        "p = np.sqrt(l.min() / dx**2)\n",
        "print(p)"
      ]
    },
    {
      "cell_type": "markdown",
      "id": "e3a8b554-3e22-4120-8e05-c6a290137c19",
      "metadata": {
        "id": "e3a8b554-3e22-4120-8e05-c6a290137c19"
      },
      "source": [
        "From Table 27.5, the true value is $p=\\pi/L = 1.0472$. This approximation has a relative error of about 2.5%. This value of $p$ leads to a critical load of $P = p^2 EI$."
      ]
    },
    {
      "cell_type": "code",
      "execution_count": null,
      "id": "3c09f955-5d98-4d31-adca-cc08f5c377fa",
      "metadata": {
        "id": "3c09f955-5d98-4d31-adca-cc08f5c377fa"
      },
      "outputs": [],
      "source": [
        "P_crit = p**2 * E * I\n",
        "print('P_crit = ', P_crit/1000, ' kN')"
      ]
    },
    {
      "cell_type": "markdown",
      "id": "9ebd7a64-70d7-4aaa-b411-ac20004f42fd",
      "metadata": {
        "id": "9ebd7a64-70d7-4aaa-b411-ac20004f42fd"
      },
      "source": [
        "Last, the eigenvectors `v` represent the normalized amplitudes (or the shape of the buckling column). They are returned as a matrix, where column $v_i$ is the eigenvector associated with eigenvalue $\\lambda_i$."
      ]
    },
    {
      "cell_type": "code",
      "execution_count": null,
      "id": "ba3dcad4-d2aa-498c-88db-ad9b3998664e",
      "metadata": {
        "id": "ba3dcad4-d2aa-498c-88db-ad9b3998664e"
      },
      "outputs": [],
      "source": [
        "# Sort eigenvalues and reorder eigenvectors\n",
        "idx = np.argsort(l)      # Indices that sort eigenvalues from smallest to largest\n",
        "l_sorted = l[idx]        # Sorted eigenvalues\n",
        "v_sorted = v[:, idx]     # Columns reordered to match sorted eigenvalues\n",
        "\n",
        "# Add BCs (zeros at top and bottom) for each sorted eigenvector\n",
        "S = np.vstack((np.zeros((1, 3)), v_sorted, np.zeros((1, 3))))\n",
        "\n",
        "# Plot each mode shape vs vertical position\n",
        "plt.plot(S, np.arange(5))  # Each column of S is a mode shape\n",
        "plt.axvline(0, color='black', linestyle='--')\n",
        "plt.legend([fr'$\\lambda_{{{i+1}}}$ = {l_sorted[i]:.3f}' for i in range(3)])\n",
        "plt.title(\"Buckling Mode Shapes\")\n",
        "plt.xlabel(\"Deflection\")\n",
        "plt.ylabel(\"Node Index\")\n",
        "plt.grid(True)\n",
        "plt.show()"
      ]
    }
  ],
  "metadata": {
    "kernelspec": {
      "display_name": "Python 3 (ipykernel)",
      "language": "python",
      "name": "python3"
    },
    "language_info": {
      "codemirror_mode": {
        "name": "ipython",
        "version": 3
      },
      "file_extension": ".py",
      "mimetype": "text/x-python",
      "name": "python",
      "nbconvert_exporter": "python",
      "pygments_lexer": "ipython3",
      "version": "3.12.8"
    },
    "colab": {
      "provenance": []
    }
  },
  "nbformat": 4,
  "nbformat_minor": 5
}