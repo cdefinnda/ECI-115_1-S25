{
  "cells": [
    {
      "cell_type": "markdown",
      "source": [
        "# Lecture 12 - ODEs: Second-Order and Systems 🦋"
      ],
      "metadata": {
        "id": "KCg0k9kVyCEu"
      }
    },
    {
      "cell_type": "markdown",
      "metadata": {
        "id": "Ic6fxV_ewWBS"
      },
      "source": [
        "## 🤝 Swinging Pendulum\n",
        "\n",
        "$$ \\frac{d^2\\theta}{dt^2} + \\frac{g}{l}sin\\theta = 0$$\n",
        "\n",
        "Solve for $\\theta(t)$ and $\\omega(t)$ for $t \\in [0,4]$ seconds. The initial conditions are $\\theta(0)=0.1$ radians and $\\omega(0)=0$ radians per second. The length is $l=0.6$ meters. Use the built-in function `scipy.integrate.solve_ivp`.\n",
        "\n",
        "To do this, we need to convert this 2nd-Order ODE into two 1st-Order ODEs:\n",
        ">1. $\\frac{d\\theta}{dt}=\\omega$\n",
        ">\n",
        ">2. $\\frac{d\\omega}{dt}=-\\frac{g}{l}sin\\theta$"
      ]
    },
    {
      "cell_type": "code",
      "execution_count": null,
      "metadata": {
        "id": "D_xSX4z1wWBT"
      },
      "outputs": [],
      "source": [
        "# Import Libraries\n",
        "import numpy as np\n",
        "import scipy.integrate\n",
        "import matplotlib.pyplot as plt\n",
        "\n",
        "# Define Parameters\n",
        "g = 9.81 # m/sec2\n",
        "l = 0.6 # m\n",
        "tmin = 0 # s\n",
        "tmax = 4 # s\n",
        "\n",
        "# Define ODEs\n",
        "def dydt(t,y):\n",
        "    return [y[1], (-g/l)*np.sin(y[0])]\n",
        "\n",
        "sol = scipy.integrate.solve_ivp(dydt, t_span=[tmin, tmax], y0=[0.1, 0],\n",
        "                                #t_eval=np.arange(tmin, tmax, 0.1)\n",
        "                                rtol=1e-6\n",
        "                                 )\n",
        "\n",
        "print(sol)"
      ]
    },
    {
      "cell_type": "markdown",
      "metadata": {
        "id": "PTMgpYGjwWBU"
      },
      "source": [
        "**Understanding the Solution Inputs/Output**:\n",
        "* We want to plot the state variables, so we can access `sol.t` and `sol.y`. Note `sol.t` is a 1-D vector and `sol.y` is a 2-D matrix because there are two state variables in this problem.\n",
        "\n",
        "* We have two choices related to the step size. If we specify `rtol`, the method will choose a step size to ensure that the relative tolerance is met. The default value of `rtol` is `1e-3`, but a smaller value is needed for this problem. The second option is to specify `t_eval` which will return a solution at that vector of points with fixed step size `dt` (commented out above).\n",
        "\n",
        "* By default, this uses the `RK45` method, which is a variant of the RK4 method we wrote last class."
      ]
    },
    {
      "cell_type": "code",
      "execution_count": null,
      "metadata": {
        "id": "R3EY_4MdwWBU"
      },
      "outputs": [],
      "source": [
        "# Plot the Result\n",
        "plt.plot(sol.t, sol.y[0,:], label=r'$\\theta(t)$ (rad)')\n",
        "plt.plot(sol.t, sol.y[1,:], label=r'$\\omega(t)$ (rad/s)')\n",
        "plt.xlabel('Time (s)')\n",
        "plt.legend()\n",
        "plt.show()"
      ]
    },
    {
      "cell_type": "markdown",
      "metadata": {
        "id": "FjWO8PncwWBU"
      },
      "source": [
        "## 💪 Mass-Spring-Damper System (C&C 25.16)\n",
        "\n",
        "$$ m \\frac{d^2x}{dt^2} + c\\frac{dx}{dt} + kx = 0$$\n",
        "\n",
        "- $x$: displacement from equilibrium position (m)\n",
        "- $t$:  time (s)\n",
        "- $m$: mass = 20 kg\n",
        "- $k$: spring constant = 20 N/m\n",
        "- $c$: damping coefficient (N*s/m)\n",
        "- Initial displacement $x(0)=1$ m\n",
        "- Initial velocity $v(0)=0$ m/s\n",
        "\n",
        "The damping coefficient $c$ takes on three values of **5 (underdamped), 40 (critically damped), and 200 (overdamped)**. Recall the critically damped case occurs when $c = \\sqrt{4km}$.\n",
        "\n",
        "Solve this equation with `solve_ivp` for $t \\in [0,15]$ s. Plot the displacement versus time for each of the three values of the damping coefficient on the same plot."
      ]
    },
    {
      "cell_type": "markdown",
      "source": [
        "❓ How can we convert this 2nd-Order ODE into two 1st-Order ODEs?\n",
        "> 1.\n",
        ">\n",
        "> 2."
      ],
      "metadata": {
        "id": "-Y-Ey8Ll-sGQ"
      }
    },
    {
      "cell_type": "code",
      "execution_count": null,
      "metadata": {
        "id": "CjBut50SwWBV"
      },
      "outputs": [],
      "source": [
        "# Define Parameters\n",
        "m = 20 # kg\n",
        "k = 20 # N/m\n",
        "\n",
        "# Define ODE\n",
        "def dydt(t,y):\n",
        "    return # [Insert code here]\n",
        "\n",
        "# Solve ODE for c = 5, 40, 200\n",
        "for c in [5, 40, 200]: # N*s/m\n",
        "    sol = scipy.integrate.solve_ivp(dydt,\n",
        "                                    t_span=[0, 15],\n",
        "                                    y0=[1, 0],\n",
        "                                    rtol=1e-6)\n",
        "    plt.plot(sol.t, sol.y[0,:], label='c=%d' % c)\n",
        "\n",
        "# Plot Result\n",
        "plt.xlabel('Time (s)')\n",
        "plt.ylabel('Displacement (m)')\n",
        "plt.legend()\n",
        "plt.show()"
      ]
    },
    {
      "cell_type": "markdown",
      "metadata": {
        "id": "U9rwqx-EwWBV"
      },
      "source": [
        "🤝 Now for the undamped case ($c=0$), add forced vibration with $F_0=1$ and $\\omega=1$. What happens and why?\n",
        "\n",
        "$$ m \\frac{d^2x}{dt^2} + c\\frac{dx}{dt} + kx = F_0 cos(\\omega t)$$"
      ]
    },
    {
      "cell_type": "code",
      "execution_count": null,
      "metadata": {
        "id": "FZRCPm3wwWBV"
      },
      "outputs": [],
      "source": [
        "# Define Additional Parameters\n",
        "F0 = 1\n",
        "w = 1\n",
        "c = 0\n",
        "\n",
        "# Re-Define ODE\n",
        "def dydt(t,y):\n",
        "    return [y[1], -(c/m)*y[1] - (k/m)*y[0] + (1/m)*F0*np.cos(w*t)]\n",
        "\n",
        "# Solve ODE\n",
        "sol = scipy.integrate.solve_ivp(dydt,\n",
        "                                t_span=[0, 150],\n",
        "                                y0=[1, 0],\n",
        "                                rtol=1e-6)\n",
        "\n",
        "# Plot the Result\n",
        "plt.plot(sol.t, sol.y[0,:], label='c=%d' % c)\n",
        "plt.xlabel('Time (s)')\n",
        "plt.ylabel('Displacement (m)')\n",
        "plt.legend()\n",
        "plt.show()"
      ]
    },
    {
      "cell_type": "markdown",
      "metadata": {
        "id": "j7rhyMvgwWBV"
      },
      "source": [
        "The amplitude of the vibration is growing over time. This is an example of resonance. The frequency of the forced vibration $\\omega$ is equal to the natural frequency of the system, $\\omega_0 = \\sqrt{\\frac{k}{m}}$."
      ]
    },
    {
      "cell_type": "markdown",
      "metadata": {
        "id": "Eb_xwQ_JwWBW"
      },
      "source": [
        "## 💪 Predator-Prey Systems (C&C Case Study 28.2)\n",
        "\n",
        "Lotka-Volterra equations:\n",
        "\n",
        "$$ \\frac{dy_1}{dt} = ay_1 - by_1y_2$$\n",
        "\n",
        "$$ \\frac{dy_2}{dt} = -cy_2 + dy_1y_2$$\n",
        "\n",
        "- $y_1$: prey population\n",
        "- $y_2$: predator population\n",
        "- $t$:  time (years), $t \\in [0,30]$\n",
        "- Constants $a=1.2$, $b=0.6$, $c=0.8$, $d=0.3$\n",
        "- Initial conditions: $y(0) = [2,1]$\n"
      ]
    },
    {
      "cell_type": "code",
      "execution_count": null,
      "metadata": {
        "id": "tr0MZvixwWBW"
      },
      "outputs": [],
      "source": [
        "# Define Parameters\n",
        "a = 1.2\n",
        "b = 0.6\n",
        "c = 0.8\n",
        "d = 0.3\n",
        "\n",
        "# Define ODEs\n",
        "def dydt(t,y):\n",
        "    return # [Insert code here]\n",
        "\n",
        "# Solve ODE\n",
        "sol = # [Insert code here]\n",
        "\n",
        "# Plot Result\n",
        "plt.plot(sol.t, sol.y[0,:], label='Rabbits')\n",
        "plt.plot(sol.t, sol.y[1,:], label='Foxes')\n",
        "plt.xlabel('Time (s)')\n",
        "plt.ylabel('Population')\n",
        "plt.legend()\n",
        "plt.show()"
      ]
    },
    {
      "cell_type": "markdown",
      "metadata": {
        "id": "mggjndNJwWBW"
      },
      "source": [
        "🤝 Interpretting Phase Plots:"
      ]
    },
    {
      "cell_type": "code",
      "execution_count": null,
      "metadata": {
        "id": "PdgR0VM3wWBW"
      },
      "outputs": [],
      "source": [
        "plt.plot(sol.y[0,:], sol.y[1,:])\n",
        "plt.xlabel('Prey Population')\n",
        "plt.ylabel('Predator Population')\n",
        "plt.show()"
      ]
    },
    {
      "cell_type": "markdown",
      "metadata": {
        "id": "Wj9A5G6BwWBW"
      },
      "source": [
        "🤝 What happens when we add a carrying capacity $K$ for the prey population by modifying the exponential growth term to logistic growth:\n",
        "$$\\frac{dy_1}{dt} = ay_1(1-\\frac{y_1}{K}) - by_1y_2$$"
      ]
    },
    {
      "cell_type": "code",
      "execution_count": null,
      "metadata": {
        "id": "dyNsHevYwWBW"
      },
      "outputs": [],
      "source": [
        "K = 20 # carrying capacity\n",
        "\n",
        "# Redefine ODE\n",
        "def dydt_new(t,y):\n",
        "    return [a*y[0]*(1-y[0]/K) - b*y[0]*y[1], -c*y[1] + d*y[0]*y[1]]\n",
        "\n",
        "# Solve ODE\n",
        "sol = scipy.integrate.solve_ivp(dydt_new,\n",
        "                                t_span=[0, 30],\n",
        "                                y0=[2, 1],\n",
        "                                rtol=1e-6)\n",
        "\n",
        "#Plot Result\n",
        "plt.plot(sol.t, sol.y[0,:], label='Rabbits')\n",
        "plt.plot(sol.t, sol.y[1,:], label='Foxes')\n",
        "plt.xlabel('Time (s)')\n",
        "plt.ylabel('Population')\n",
        "plt.legend()\n",
        "plt.show()"
      ]
    },
    {
      "cell_type": "markdown",
      "metadata": {
        "id": "c31AdxaawWBW"
      },
      "source": [
        "* With a carrying capacity defined by the logistic growth equation, the two populations reach a steady state after a transient oscillation.\n",
        "* This behavior is similar to a dampened spring system."
      ]
    },
    {
      "cell_type": "markdown",
      "source": [
        "🤝 What does this mean for our phase plot?"
      ],
      "metadata": {
        "id": "_zGH6GGXEh7M"
      }
    },
    {
      "cell_type": "code",
      "source": [
        "plt.plot(sol.y[0,:], sol.y[1,:])\n",
        "plt.xlabel('Prey Population')\n",
        "plt.ylabel('Predator Population')\n",
        "plt.show()"
      ],
      "metadata": {
        "id": "IEWbmwFVEisI"
      },
      "execution_count": null,
      "outputs": []
    },
    {
      "cell_type": "markdown",
      "metadata": {
        "id": "v-Z_ErEqwWBW"
      },
      "source": [
        "## 🤝 Lorenz equations (C&C Case Study 28.2)\n",
        "\n",
        "Nonlinear equations to describe atmospheric fluid motion due to temperature variations:\n",
        "\n",
        "$$ \\frac{dx}{dt} = -\\sigma x + \\sigma y$$\n",
        "\n",
        "$$ \\frac{dy}{dt} = rx - y - xz$$\n",
        "\n",
        "$$ \\frac{dz}{dt} = -bz + xy$$\n",
        "\n",
        "\n",
        "- Constants $\\sigma=10$, $b=2.666667$, $r=28$\n",
        "- Initial conditions: $y(0) = [5,5,5]$\n",
        "    + Run again with $y(0) = [5.01,5,5]$\n",
        "- Solve from $t \\in [0,20]$"
      ]
    },
    {
      "cell_type": "code",
      "execution_count": null,
      "metadata": {
        "id": "oVw-bbLtwWBW"
      },
      "outputs": [],
      "source": [
        "# Define Parameters\n",
        "s = 10\n",
        "b = 2.666667\n",
        "r = 28\n",
        "\n",
        "# Define ODEs\n",
        "def dydt(t,y):\n",
        "    return [-s*y[0] + s*y[1], r*y[0] - y[1] - y[0]*y[2], -b*y[2] + y[0]*y[1]]\n",
        "\n",
        "# Solve ODEs with y0=[5, 5, 5]\n",
        "sol = scipy.integrate.solve_ivp(dydt,\n",
        "                                t_span=[0, 20],\n",
        "                                y0=[5, 5, 5],\n",
        "                                rtol=1e-6)\n",
        "\n",
        "# Re-Solve ODEs with slight change in IC: y0=[5.01, 5, 5]\n",
        "sol2 = scipy.integrate.solve_ivp(dydt,\n",
        "                                 t_span=[0, 20],\n",
        "                                 y0=[5.01, 5, 5],\n",
        "                                 rtol=1e-6)\n",
        "\n",
        "# Plot the Result\n",
        "plt.plot(sol.t, sol.y[0,:], label='IC=5')\n",
        "plt.plot(sol2.t, sol2.y[0,:], label='IC=5.01')\n",
        "plt.xlabel('t')\n",
        "plt.ylabel('x(t)')\n",
        "plt.legend()\n",
        "plt.show()"
      ]
    },
    {
      "cell_type": "markdown",
      "metadata": {
        "id": "BuP5RLjQwWBX"
      },
      "source": [
        "The system is deterministic, but chaotic because it is highly sensitive to the initial conditions. We can also look at the phase plot (in the x-y projection):"
      ]
    },
    {
      "cell_type": "code",
      "execution_count": null,
      "metadata": {
        "id": "3cs6vSUPwWBX"
      },
      "outputs": [],
      "source": [
        "# Plot the Phase Plot\n",
        "plt.plot(sol.y[0,:], sol.y[1,:])\n",
        "plt.xlabel('x(t)')\n",
        "plt.ylabel('y(t)')\n",
        "plt.show()"
      ]
    }
  ],
  "metadata": {
    "hide_input": false,
    "kernelspec": {
      "display_name": "Python 3 (ipykernel)",
      "language": "python",
      "name": "python3"
    },
    "language_info": {
      "codemirror_mode": {
        "name": "ipython",
        "version": 3
      },
      "file_extension": ".py",
      "mimetype": "text/x-python",
      "name": "python",
      "nbconvert_exporter": "python",
      "pygments_lexer": "ipython3",
      "version": "3.12.8"
    },
    "latex_envs": {
      "LaTeX_envs_menu_present": true,
      "autoclose": false,
      "autocomplete": true,
      "bibliofile": "biblio.bib",
      "cite_by": "apalike",
      "current_citInitial": 1,
      "eqLabelWithNumbers": true,
      "eqNumInitial": 1,
      "hotkeys": {
        "equation": "Ctrl-E",
        "itemize": "Ctrl-I"
      },
      "labels_anchors": false,
      "latex_user_defs": false,
      "report_style_numbering": false,
      "user_envs_cfg": false
    },
    "toc": {
      "base_numbering": 1,
      "nav_menu": {},
      "number_sections": true,
      "sideBar": true,
      "skip_h1_title": false,
      "title_cell": "Table of Contents",
      "title_sidebar": "Contents",
      "toc_cell": false,
      "toc_position": {},
      "toc_section_display": true,
      "toc_window_display": false
    },
    "varInspector": {
      "cols": {
        "lenName": "40",
        "lenType": 16,
        "lenVar": "100"
      },
      "kernels_config": {
        "python": {
          "delete_cmd_postfix": "",
          "delete_cmd_prefix": "del ",
          "library": "var_list.py",
          "varRefreshCmd": "print(var_dic_list())"
        },
        "r": {
          "delete_cmd_postfix": ") ",
          "delete_cmd_prefix": "rm(",
          "library": "var_list.r",
          "varRefreshCmd": "cat(var_dic_list()) "
        }
      },
      "types_to_exclude": [
        "module",
        "function",
        "builtin_function_or_method",
        "instance",
        "_Feature"
      ],
      "window_display": false
    },
    "colab": {
      "provenance": []
    }
  },
  "nbformat": 4,
  "nbformat_minor": 0
}