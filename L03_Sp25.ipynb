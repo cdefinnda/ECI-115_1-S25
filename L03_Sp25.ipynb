{
  "cells": [
    {
      "cell_type": "markdown",
      "metadata": {
        "ExecuteTime": {
          "end_time": "2020-03-15T06:11:12.081454Z",
          "start_time": "2020-03-15T06:11:12.076470Z"
        },
        "id": "v-g705CxNmPJ"
      },
      "source": [
        "# Lecture 3 - Numerical Errors and Differentiation 😵‍💫"
      ]
    },
    {
      "cell_type": "markdown",
      "source": [
        "**Learning Objectives**\n",
        "\n",
        "* Become familiar with some of the limitations of `float64` number representation\n",
        "* Review examples that highlight roundoff errors\n",
        "* See how roundoff error and truncation error vary as a function of step size."
      ],
      "metadata": {
        "id": "R6PQ5ZwxAWQR"
      }
    },
    {
      "cell_type": "markdown",
      "source": [
        "## 🤝 Overview of Number Representation"
      ],
      "metadata": {
        "id": "kF3j-W50v2HY"
      }
    },
    {
      "cell_type": "markdown",
      "source": [
        "Floating Point Representation: Print range of values for 64-bit decimals on this system"
      ],
      "metadata": {
        "id": "kK1wh_7DwGGI"
      }
    },
    {
      "cell_type": "code",
      "execution_count": null,
      "metadata": {
        "ExecuteTime": {
          "end_time": "2020-03-15T06:17:59.967092Z",
          "start_time": "2020-03-15T06:17:59.959602Z"
        },
        "id": "CwuiPyPjNmPJ"
      },
      "outputs": [],
      "source": [
        "# Import numpy module that will be used for matrix operations\n",
        "import numpy as np\n",
        "\n",
        "print(str(np.finfo(np.float64)))   # 64-bit reals by default"
      ]
    },
    {
      "cell_type": "markdown",
      "source": [
        "Because we are running this on Google Colab, this information represents the machine parameters for `float64` of Google's server (not your local computer).\n",
        "\n",
        "**Definitions**\n",
        "* `precision`: Roughly how many digits that are maintained accurately.\n",
        "* `resolution`: Smallest difference between two distinct numbers that a compture can represent at or near 1.0.\n",
        "* `eps`: The precision limit or smallest number such that $1.0\\ +$ `eps` $\\ne 1.0$\n",
        "* `tiny`: Smallest normalized positive float64 number.\n",
        "* `max`: Largest representable float64 number. Beyond this you get `inf`.\n",
        "* `min`: Most negative representable float64 number. Beyond this you get `-inf`"
      ],
      "metadata": {
        "id": "LfjXYXYBQCdD"
      }
    },
    {
      "cell_type": "markdown",
      "metadata": {
        "id": "lDvGUIl1NmPK"
      },
      "source": [
        "We can access the attributes using `.max`, `.eps`, etc.\n",
        "A few examples that create Inf/NaN values:"
      ]
    },
    {
      "cell_type": "code",
      "execution_count": null,
      "metadata": {
        "ExecuteTime": {
          "end_time": "2020-03-15T06:31:55.011367Z",
          "start_time": "2020-03-15T06:31:55.002390Z"
        },
        "id": "dZXwESamNmPK"
      },
      "outputs": [],
      "source": [
        "# Multiplying the largest number by 2\n",
        "max_value = np.finfo(np.float64).max\n",
        "print(max_value*2)\n",
        "# This will give an overflow warning (value too large to store)"
      ]
    },
    {
      "cell_type": "code",
      "execution_count": null,
      "metadata": {
        "ExecuteTime": {
          "end_time": "2020-03-15T06:31:55.011367Z",
          "start_time": "2020-03-15T06:31:55.002390Z"
        },
        "id": "wQpvGi6BNmPK"
      },
      "outputs": [],
      "source": [
        "# Dividing 5 by 0\n",
        "print(np.divide(5,0))\n",
        "# Using numpy here because default python will raise an error instead of a warning"
      ]
    },
    {
      "cell_type": "code",
      "execution_count": null,
      "metadata": {
        "ExecuteTime": {
          "end_time": "2020-03-15T06:31:55.011367Z",
          "start_time": "2020-03-15T06:31:55.002390Z"
        },
        "id": "yLrdx3r1NmPK"
      },
      "outputs": [],
      "source": [
        "# Dividing 0/0\n",
        "print(np.divide(0,0))\n",
        "# Note: The error is different"
      ]
    },
    {
      "cell_type": "markdown",
      "metadata": {
        "ExecuteTime": {
          "end_time": "2020-03-15T06:31:55.011367Z",
          "start_time": "2020-03-15T06:31:55.002390Z"
        },
        "id": "WA_oePN4NmPK"
      },
      "source": [
        "Functions to check if a value is Inf/NaN:"
      ]
    },
    {
      "cell_type": "code",
      "execution_count": null,
      "metadata": {
        "id": "7UEsQs1fNmPK"
      },
      "outputs": [],
      "source": [
        "x = 5\n",
        "print(np.isnan(x))"
      ]
    },
    {
      "cell_type": "code",
      "execution_count": null,
      "metadata": {
        "id": "NExi8nNzNmPK"
      },
      "outputs": [],
      "source": [
        "print(np.isinf(x))"
      ]
    },
    {
      "cell_type": "markdown",
      "metadata": {
        "ExecuteTime": {
          "end_time": "2020-03-15T06:25:11.197074Z",
          "start_time": "2020-03-15T06:25:11.193082Z"
        },
        "id": "C8Af4pVrNmPL"
      },
      "source": [
        "## 🤝 Roundoff Error"
      ]
    },
    {
      "cell_type": "markdown",
      "source": [
        "Example of subtractive cancellation:"
      ],
      "metadata": {
        "id": "9Tng0itosNzG"
      }
    },
    {
      "cell_type": "code",
      "execution_count": null,
      "metadata": {
        "ExecuteTime": {
          "end_time": "2020-04-06T20:36:51.746261Z",
          "start_time": "2020-04-06T20:36:51.737258Z"
        },
        "id": "iQcVWCVUNmPL"
      },
      "outputs": [],
      "source": [
        "if (0.3 - 0.2 - 0.1 == 0.0):\n",
        "    print('equal')\n",
        "else:\n",
        "    print('not equal')\n",
        "\n",
        "#print(0.3 - 0.2 - 0.1)\n",
        "\n",
        "# This occurs because the binary representation of 0.1 and 0.3 (or any fraction\n",
        "# where the denominator isn't 2^n) can't be represented exactly in 64-bits."
      ]
    },
    {
      "cell_type": "markdown",
      "metadata": {
        "ExecuteTime": {
          "end_time": "2020-04-06T20:36:51.746261Z",
          "start_time": "2020-04-06T20:36:51.737258Z"
        },
        "id": "8pT_jNAUNmPL"
      },
      "source": [
        "Example of the precision limit:"
      ]
    },
    {
      "cell_type": "code",
      "execution_count": null,
      "metadata": {
        "ExecuteTime": {
          "end_time": "2020-04-06T20:36:51.746261Z",
          "start_time": "2020-04-06T20:36:51.737258Z"
        },
        "id": "CEXHE_TcNmPL"
      },
      "outputs": [],
      "source": [
        "x = 1e16\n",
        "a = 0.5       # Recall that resolution = 1e-15\n",
        "\n",
        "if ((x + a) == x):\n",
        "    print('equal')\n",
        "else:\n",
        "    print('not equal')"
      ]
    },
    {
      "cell_type": "markdown",
      "source": [
        "**TL;DR**: When dealing with floats, don't rely on the `==` relational operator. Instead see if numbers are within a certain tolerance or use the `np.isclose()` function."
      ],
      "metadata": {
        "id": "VzfqDBCUxDFB"
      }
    },
    {
      "cell_type": "code",
      "source": [
        "a = 0.3 - 0.2 - 0.1\n",
        "b = 0.0\n",
        "\n",
        "atol = 1e-9\n",
        "\n",
        "if abs(a - b) < atol:\n",
        "    print(\"equal (within tolerance)\")\n",
        "else:\n",
        "    print(\"not equal\")"
      ],
      "metadata": {
        "id": "o6l5mS--x41H"
      },
      "execution_count": null,
      "outputs": []
    },
    {
      "cell_type": "code",
      "source": [
        "import numpy as np\n",
        "\n",
        "a = 0.3 - 0.2 - 0.1\n",
        "b = 0.0\n",
        "\n",
        "#np.isclose(a, b, rtol=1e-5, atol=1e-8)   # Default values of np.isclose()\n",
        "                                          # Operation: abs(a-b) <= atol + rtol*abs(b)\n",
        "print(np.isclose(a,b))"
      ],
      "metadata": {
        "id": "ZtMoPJkJx4ZG"
      },
      "execution_count": null,
      "outputs": []
    },
    {
      "cell_type": "markdown",
      "source": [
        "## 💪 Truncation Error and Total Numerical Error"
      ],
      "metadata": {
        "id": "Eg5_p-CuCNKK"
      }
    },
    {
      "cell_type": "markdown",
      "metadata": {
        "id": "2UIDnUPpNmPL"
      },
      "source": [
        "**Textbook Example 4.8**\n",
        "\n",
        "$$ f(x) = -0.1x^4 - 0.15x^3 - 0.5x^2 - 0.25x + 1.2 $$\n",
        "\n",
        "Use a centered difference approximation of $O(h^2)$ to\n",
        "estimate the first derivative $f^\\prime(x=0.5)$.\n",
        "\n",
        "Start with $h=1$. Then progressively divide the step size by a factor of 10\n",
        "to demonstrate how roundoff error becomes dominant as the step size is reduced.\n",
        "The exact value of the derivative is $-0.9125$."
      ]
    },
    {
      "cell_type": "markdown",
      "source": [
        "Define a function $f(x)$, $x=0.5$, and the exact value of $f'(x=0.5)=-0.9125$:"
      ],
      "metadata": {
        "id": "YGuc_BO6ED90"
      }
    },
    {
      "cell_type": "code",
      "execution_count": null,
      "metadata": {
        "ExecuteTime": {
          "end_time": "2020-03-15T08:04:12.146166Z",
          "start_time": "2020-03-15T08:04:11.947480Z"
        },
        "tags": [],
        "id": "mCemmKtwNmPL"
      },
      "outputs": [],
      "source": [
        "# Clear Variables\n",
        "%reset -f\n",
        "\n",
        "# Import libraries\n",
        "import numpy as np\n",
        "import matplotlib.pyplot as plt\n",
        "\n",
        "# Define f(x)\n",
        "def f(x):\n",
        "    return #[insert function here]\n",
        "\n",
        "# Define Parameters\n",
        "x = #[Define]\n",
        "dfdx_exact = #[Define]"
      ]
    },
    {
      "cell_type": "markdown",
      "metadata": {
        "id": "ePgS3oMlNmPL"
      },
      "source": [
        "Use the centered difference method to approximate the solution of f'(x=0.5) with step size $h=0.1$:\n",
        "\n",
        "$$f'_{approx\\ \\ }(x)=\\frac{f(x+h)-f(x-h)}{2h}$$\n",
        "\n",
        "Calculate the absolute error ($=\\big| Exact - Approximate \\big|$):"
      ]
    },
    {
      "cell_type": "code",
      "execution_count": null,
      "metadata": {
        "id": "XCbQMsSENmPL"
      },
      "outputs": [],
      "source": [
        "h = #[Define]\n",
        "dfdx_approx = #[Insert Centered Difference Method]\n",
        "\n",
        "err_abs = #[Insert Equation for Absolute Error]\n",
        "print(err_abs)"
      ]
    },
    {
      "cell_type": "markdown",
      "metadata": {
        "id": "WnxyGp87NmPL"
      },
      "source": [
        "Repeat the calculation for the absolute error for a range of step sizes ($h = 10^{0} \\rightarrow 10^{-10}$):"
      ]
    },
    {
      "cell_type": "code",
      "execution_count": null,
      "metadata": {
        "ExecuteTime": {
          "end_time": "2020-03-15T08:04:12.146166Z",
          "start_time": "2020-03-15T08:04:11.947480Z"
        },
        "tags": [],
        "id": "ReKRDmSfNmPL"
      },
      "outputs": [],
      "source": [
        "n=11\n",
        "h_array  = np.logspace(0,-10,n)\n",
        "err_abs_array = #[Create an array to store absolute error]\n",
        "\n",
        "# For Loop that calculates dfdx_approx for each value in h_array and stores it in err_abs_array\n",
        "#[Insert For Loop here]\n",
        "\n",
        "print(h_array)\n",
        "print(err_abs_array)"
      ]
    },
    {
      "cell_type": "markdown",
      "source": [
        "Plot Absolute Error as a function of Step Size on a log-log plot:"
      ],
      "metadata": {
        "id": "68Ga28jMIRuX"
      }
    },
    {
      "cell_type": "code",
      "execution_count": null,
      "metadata": {
        "id": "iNHHpZRNNmPL"
      },
      "outputs": [],
      "source": [
        "plt.loglog(h_array,err_abs_array)\n",
        "plt.title('Abs. Error estimating df/dx at x=0.5 with centered diff.')\n",
        "plt.xlabel('Step Size')\n",
        "plt.ylabel('Absolute Error')\n",
        "plt.grid(True)"
      ]
    },
    {
      "cell_type": "markdown",
      "source": [
        "❓ Which side of the plot does truncation error dominate? Which side of the plot does roundoff error dominate?"
      ],
      "metadata": {
        "id": "7stwSO0wIitX"
      }
    },
    {
      "cell_type": "markdown",
      "metadata": {
        "id": "Zne75Xy_NmPL"
      },
      "source": [
        "* Roundoff Error Dominantes:\n",
        "* Truncation Error Dominates:"
      ]
    },
    {
      "cell_type": "markdown",
      "source": [
        "❓ Given that centered difference method approximates with $O(h^2)$, what is the slope on the right-hand side of the plot?"
      ],
      "metadata": {
        "id": "-7T2n1OqJFOb"
      }
    },
    {
      "cell_type": "markdown",
      "source": [
        "* The error associated with $O(h^2)$ squares with increasing step size. Therefore on a log-log plot where truncation error dominates (on the [???]-hand side of the plot), the slope is ~[???]."
      ],
      "metadata": {
        "id": "KgtSvbjhJHVj"
      }
    }
  ],
  "metadata": {
    "hide_input": false,
    "kernelspec": {
      "display_name": "Python 3 (ipykernel)",
      "language": "python",
      "name": "python3"
    },
    "language_info": {
      "codemirror_mode": {
        "name": "ipython",
        "version": 3
      },
      "file_extension": ".py",
      "mimetype": "text/x-python",
      "name": "python",
      "nbconvert_exporter": "python",
      "pygments_lexer": "ipython3",
      "version": "3.12.8"
    },
    "latex_envs": {
      "LaTeX_envs_menu_present": true,
      "autoclose": false,
      "autocomplete": true,
      "bibliofile": "biblio.bib",
      "cite_by": "apalike",
      "current_citInitial": 1,
      "eqLabelWithNumbers": true,
      "eqNumInitial": 1,
      "hotkeys": {
        "equation": "Ctrl-E",
        "itemize": "Ctrl-I"
      },
      "labels_anchors": false,
      "latex_user_defs": false,
      "report_style_numbering": false,
      "user_envs_cfg": false
    },
    "toc": {
      "base_numbering": 1,
      "nav_menu": {},
      "number_sections": true,
      "sideBar": true,
      "skip_h1_title": false,
      "title_cell": "Table of Contents",
      "title_sidebar": "Contents",
      "toc_cell": false,
      "toc_position": {},
      "toc_section_display": true,
      "toc_window_display": false
    },
    "varInspector": {
      "cols": {
        "lenName": "40",
        "lenType": 16,
        "lenVar": "100"
      },
      "kernels_config": {
        "python": {
          "delete_cmd_postfix": "",
          "delete_cmd_prefix": "del ",
          "library": "var_list.py",
          "varRefreshCmd": "print(var_dic_list())"
        },
        "r": {
          "delete_cmd_postfix": ") ",
          "delete_cmd_prefix": "rm(",
          "library": "var_list.r",
          "varRefreshCmd": "cat(var_dic_list()) "
        }
      },
      "types_to_exclude": [
        "module",
        "function",
        "builtin_function_or_method",
        "instance",
        "_Feature"
      ],
      "window_display": false
    },
    "colab": {
      "provenance": []
    }
  },
  "nbformat": 4,
  "nbformat_minor": 0
}