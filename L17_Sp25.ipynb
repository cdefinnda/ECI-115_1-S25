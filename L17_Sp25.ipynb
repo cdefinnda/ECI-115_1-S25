{
  "cells": [
    {
      "cell_type": "markdown",
      "metadata": {
        "id": "MnnyIgb6wZSj"
      },
      "source": [
        "# Lecture 17: Partial Differential Equations - Elliptic 🌡️"
      ]
    },
    {
      "cell_type": "markdown",
      "source": [
        "## 1. Steady-State 2D Temperature of a Plate\n",
        "\n",
        "$$\\frac{\\partial^2 T}{\\partial x^2} + \\frac{\\partial^2 T}{\\partial y^2} = 0$$\n",
        "\n",
        "Constant (Dirichlet) BCs are: $B_l=75$, $B_u=100$, $B_r=50$, $B_d=0$. Units are Celsius.\n",
        "\n",
        "<p align=\"center\">\n",
        "  <img src=\"https://github.com/cdefinnda/ECI-115_HW-Images/blob/main/NB_L17.png?raw=true\" alt=\"NB_L17\" width=1000>\n",
        "</p>"
      ],
      "metadata": {
        "id": "pJ0uM2Zbu66Z"
      }
    },
    {
      "cell_type": "code",
      "execution_count": null,
      "metadata": {
        "id": "srCtajWVwZSk"
      },
      "outputs": [],
      "source": [
        "%reset -f\n",
        "# Import Libraries\n",
        "import numpy as np\n",
        "import matplotlib.pyplot as plt"
      ]
    },
    {
      "cell_type": "markdown",
      "source": [
        "💪 Discretize the Domain to Create Matrix $\\mathbf{A}$"
      ],
      "metadata": {
        "id": "pkJWnzk-yqSI"
      }
    },
    {
      "cell_type": "code",
      "execution_count": null,
      "metadata": {
        "id": "W_Sfha8CwZSk"
      },
      "outputs": [],
      "source": [
        "# Grid Size (n x n)\n",
        "n = 3 # Define this so that we can change the resolution of our 2D solution.\n",
        "\n",
        "# LHS Matrix A (bandwidth = 2n+1). Make each diagonal separately:\n",
        "main = #[insert code here]\n",
        "off1 = #[insert code here]\n",
        "off1[n-1:-1:n] = #[insert code here]\n",
        "offn = #[insert code here]\n",
        "A = #[insert code here]\n",
        "\n",
        "if n <= 4:\n",
        "    print(A) # confirm same as lecture notes, do not print for larger n"
      ]
    },
    {
      "cell_type": "markdown",
      "metadata": {
        "id": "2-qWqj0swZSk"
      },
      "source": [
        "💪 Use Boundary Conditions to Create the Vector $\\mathbf{b}$\n",
        "\n",
        "There are two ways to do this (we'll do Option 2):\n",
        "1. Create a $n^2 \\times 1$ vector and assign the index values from the lecture notes\n",
        "2. Create a $n \\times n$ matrix, assign the boundaries, and then reshape to $n^2 \\times 1$."
      ]
    },
    {
      "cell_type": "code",
      "execution_count": null,
      "metadata": {
        "id": "9wpNB6-gwZSl"
      },
      "outputs": [],
      "source": [
        "# Create RHS vector b with boundary conditions\n",
        "Bd,Bl,Br,Bu = (0,75,50,100)\n",
        "\n",
        "# Create BC Matrix\n",
        "# Note that even though this matrix would appear upside-down, we want to make sure the indicies are correct.\n",
        "b = np.zeros((n,n))\n",
        "b[:,0] += #[insert code here]\n",
        "b[:,-1] += #[insert code here]\n",
        "b[0,:] += #[insert code here]\n",
        "b[-1,:] += #[insert code here]\n",
        "\n",
        "b = np.reshape(b, (n**2,1)) # This flattens our matrix into an array based on row index then column index\n",
        "\n",
        "if n <= 4:\n",
        "    print(b)"
      ]
    },
    {
      "cell_type": "markdown",
      "metadata": {
        "id": "G724Qlp0wZSl"
      },
      "source": [
        "🤝 Solve for $\\mathbf{x}$\n",
        "* Use the built-in function: `np.linalg.solve(A,b)`.\n",
        "* Note $\\mathbf{A}$ is sparse, so for large values of $n$ it may be more efficient to use an iterative method such as Gauss-Seidel."
      ]
    },
    {
      "cell_type": "code",
      "execution_count": null,
      "metadata": {
        "id": "s2KDLVGswZSl"
      },
      "outputs": [],
      "source": [
        "T = np.linalg.solve(A,b) # returns n^2 x 1 column vector\n",
        "T = np.reshape(T,(n,n)) # Fills in an n x n matrix in order based on row index then column index."
      ]
    },
    {
      "cell_type": "code",
      "execution_count": null,
      "metadata": {
        "id": "O3McQrB4wZSl"
      },
      "outputs": [],
      "source": [
        "plt.imshow(T, origin='lower', cmap = 'magma') # default puts origin at top-left\n",
        "plt.colorbar(label='Temperature (°C)')\n",
        "plt.title('Steady-State Temperature of a Heated Plate')\n",
        "plt.xlabel('X index')\n",
        "plt.ylabel('Y index')\n",
        "plt.show()"
      ]
    },
    {
      "cell_type": "markdown",
      "metadata": {
        "id": "A3DOaWS2wZSl"
      },
      "source": [
        "---\n",
        "## 2. Add a Point Source\n",
        "\n",
        "🤝 Add point source $T=75$ in the center of the grid.\n",
        "* We only need to modify $\\mathbf{b}$, not $\\mathbf{A}$.\n",
        "* The index in our $\\mathbf{A}$ matrix ($i_A$, $j_A$) maps to the index of our vector $\\mathbf{b}$ ($k_b$) by the following relationship: $k_b = (n\\cdot i_A) + j_A$"
      ]
    },
    {
      "cell_type": "code",
      "source": [
        "# Create a copy of b that we can modify\n",
        "b2 = b.copy()\n",
        "T_point = 75\n",
        "\n",
        "# Find Center Index of b2\n",
        "i_A = #[insert code here]\n",
        "j_A = #[insert code here]\n",
        "index = #[insert code here]\n",
        "\n",
        "b2[index] += T_point"
      ],
      "metadata": {
        "id": "US1pyVNQBl2U"
      },
      "execution_count": null,
      "outputs": []
    },
    {
      "cell_type": "code",
      "source": [
        "# Note that the previous code only works if n is an odd number: n % 2 == 1\n",
        "# If n is even, we may want to set our central 4 nodes as the point source\n",
        "if n % 2 == 0:\n",
        "    b2[index] -= T_point # Would need to run this after the previous code block\n",
        "    i_center = n // 2\n",
        "    j_center = n // 2\n",
        "    # 4 center points (top-left, top-right, bottom-left, bottom-right of center block)\n",
        "    center_indices = [\n",
        "        (i_center - 1, j_center - 1),\n",
        "        (i_center - 1, j_center),\n",
        "        (i_center,     j_center - 1),\n",
        "        (i_center,     j_center)\n",
        "    ]\n",
        "    for i, j in center_indices:\n",
        "        index = i * n + j\n",
        "        b2[index] += T_point /4"
      ],
      "metadata": {
        "id": "FQLOs550EDeT"
      },
      "execution_count": null,
      "outputs": []
    },
    {
      "cell_type": "code",
      "execution_count": null,
      "metadata": {
        "id": "zM1Gg79BwZSl"
      },
      "outputs": [],
      "source": [
        "# Solve\n",
        "T = np.linalg.solve(A,b2)\n",
        "T = np.reshape(T,(n,n))\n",
        "\n",
        "# Plot Results\n",
        "plt.imshow(T, origin='lower', cmap = 'magma')\n",
        "plt.colorbar(label='Temperature (°C)')\n",
        "plt.title('Steady-State Temperature of a Heated Plate')\n",
        "plt.xlabel('X index')\n",
        "plt.ylabel('Y index')\n",
        "plt.show()"
      ]
    },
    {
      "cell_type": "markdown",
      "metadata": {
        "id": "GlB_150lwZSm"
      },
      "source": [
        "---\n",
        "## 3. Apply Neumann BC\n",
        "\n",
        "🤝 Repeat with the lower boundary condition changed to no-flux, $\\frac{\\partial T}{\\partial y}=0$.\n",
        "\n",
        "Our finite difference equation at the lower boundary becomes:\n",
        "* Dirichlet BC: $4T_{i,0}-T_{i-1,0}-T_{i,-1}-T_{i,1}=0$\n",
        "* Neumann BC: $4T_{i,0}-T_{i-1,0}-2T_{i,1}=0$\n",
        "\n",
        "This gives us $n$ more unknowns, so our matrix size is now $n^2 + n$."
      ]
    },
    {
      "cell_type": "code",
      "execution_count": null,
      "metadata": {
        "id": "_jUsybDFwZSm"
      },
      "outputs": [],
      "source": [
        "# Clear Variables\n",
        "%reset -f\n",
        "\n",
        "# Import Libraries\n",
        "import numpy as np\n",
        "import matplotlib.pyplot as plt\n",
        "\n",
        "\n",
        "n = 3 # grid size (n^2 internal nodes)\n",
        "d = n**2 + n # dimension of unknowns\n",
        "\n",
        "# LHS matrix A\n",
        "main = 4*np.ones(d)\n",
        "off1 = -1*np.ones(d-1)\n",
        "off1[n-1:-1:n] = 0 # account for zeros on +/-1 diagonal\n",
        "offnup = -1*np.ones(d-n) # the +/- nth diagonal contains d-n elements\n",
        "offndown = -1*np.ones(d-n)\n",
        "\n",
        "# First n rows: the +nth diagonal is -2 to enforce the lower BC\n",
        "offnup[:n] = -2\n",
        "\n",
        "A = np.diag(main) + np.diag(off1,1) + np.diag(off1,-1) + np.diag(offnup,n) + np.diag(offndown,-n)\n",
        "\n",
        "# RHS BCs (note no Bd anymore)\n",
        "Bl,Br,Bu = (75,50,100)\n",
        "b = np.zeros((n+1,n)) # now n+1 rows\n",
        "b[:,0] += Bl\n",
        "b[:,-1] += Br\n",
        "b[-1,:] += Bu\n",
        "b = np.reshape(b, (d,1))\n",
        "\n",
        "#print(A)"
      ]
    },
    {
      "cell_type": "code",
      "execution_count": null,
      "metadata": {
        "id": "CbCJ0B82wZSm"
      },
      "outputs": [],
      "source": [
        "# Solve\n",
        "T = np.linalg.solve(A,b)\n",
        "T = np.reshape(T,(n+1,n))\n",
        "\n",
        "# Plot Results\n",
        "plt.imshow(T, origin='lower', cmap = 'magma')\n",
        "plt.colorbar(label='Temperature (°C)')\n",
        "plt.title('Temperature w/no-flux lower BC')\n",
        "plt.xlabel('X index')\n",
        "plt.ylabel('Y index')\n",
        "plt.show()"
      ]
    },
    {
      "cell_type": "markdown",
      "metadata": {
        "id": "olP68LtuwZSm"
      },
      "source": [
        "**Note**: In all of the above cases, our plots only show the internal nodes where we are solving for $T$. We could also append the BCs around the edge of the grid."
      ]
    },
    {
      "cell_type": "markdown",
      "metadata": {
        "id": "7FHnDqcQwZSm"
      },
      "source": [
        "---\n",
        "## Bonus: Alternative Solving & Plotting Methods"
      ]
    },
    {
      "cell_type": "markdown",
      "source": [
        "### Iterative Solution\n",
        "As we mentioned before, we could also use  Gauss-Seidel iterations (Liebmann's method) to solve.\n",
        "\n",
        "This method is good for large $n$ and irregular geometries, such as HW 8 Problem 32.4."
      ],
      "metadata": {
        "id": "8uZUU_BuOvm3"
      }
    },
    {
      "cell_type": "code",
      "execution_count": null,
      "metadata": {
        "id": "DMDIkCsLwZSm"
      },
      "outputs": [],
      "source": [
        "# start from scratch with Dirichlet BC problem\n",
        "import scipy.linalg as sl\n",
        "\n",
        "Bd,Bl,Br,Bu = (0,75,50,100)\n",
        "n = 50\n",
        "err = 9999\n",
        "it = 0 # iteration count\n",
        "T = np.zeros((n,n))\n",
        "\n",
        "while err > 1e-1:\n",
        "  T_old = T.copy() # store to calculate error\n",
        "  for i in range(1,n-1): # exclude BCs\n",
        "    for j in range(1,n-1):\n",
        "      T[i,j] = (T[i+1,j] + T[i-1,j] + T[i,j+1] + T[i,j-1]) / 4\n",
        "\n",
        "  T[:,0] = Bl # BCs around edge\n",
        "  T[:,-1] = Br\n",
        "  T[0,:] = Bd\n",
        "  T[-1,:] = Bu\n",
        "  # for Neumann no-flux BCs, set T[0,:] = T[1,:] instead\n",
        "\n",
        "  err = sl.norm(T - T_old, 2)\n",
        "  it += 1\n",
        "\n",
        "print(it, ' iterations')\n",
        "plt.imshow(T, origin='lower')\n",
        "plt.colorbar(label='Temperature (°C)')\n",
        "plt.show()"
      ]
    },
    {
      "cell_type": "markdown",
      "metadata": {
        "id": "YCPUdOxkwZSm"
      },
      "source": [
        "---\n",
        "## Other Types of Plots"
      ]
    },
    {
      "cell_type": "markdown",
      "source": [
        "### Contour Plot"
      ],
      "metadata": {
        "id": "SNJ8Ye21PBE8"
      }
    },
    {
      "cell_type": "code",
      "execution_count": null,
      "metadata": {
        "id": "vKSiterZwZSm"
      },
      "outputs": [],
      "source": [
        "plt.contour(T, levels=20)\n",
        "plt.title('Temperature Contour Plot')\n",
        "plt.xlabel('X index')\n",
        "plt.ylabel('Y index')\n",
        "plt.colorbar(label='Temperature (°C)')\n",
        "plt.show()"
      ]
    },
    {
      "cell_type": "markdown",
      "source": [
        "### Surface Plot"
      ],
      "metadata": {
        "id": "MmCyGjh8PFKO"
      }
    },
    {
      "cell_type": "code",
      "execution_count": null,
      "metadata": {
        "id": "pHY110oKwZSm"
      },
      "outputs": [],
      "source": [
        "fig, ax = plt.subplots(subplot_kw={\"projection\": \"3d\"})\n",
        "\n",
        "X = np.arange(0,n)\n",
        "Y = np.arange(0,n)\n",
        "X, Y = np.meshgrid(X, Y) # creates a 2D grid from 1D vectors\n",
        "ax.plot_surface(X, Y, T, cmap='viridis')\n",
        "plt.title('Surface plot of temperature')\n",
        "plt.xlabel('X index')\n",
        "plt.ylabel('Y index')\n",
        "plt.show()"
      ]
    }
  ],
  "metadata": {
    "kernelspec": {
      "display_name": "Python 3 (ipykernel)",
      "language": "python",
      "name": "python3"
    },
    "language_info": {
      "codemirror_mode": {
        "name": "ipython",
        "version": 3
      },
      "file_extension": ".py",
      "mimetype": "text/x-python",
      "name": "python",
      "nbconvert_exporter": "python",
      "pygments_lexer": "ipython3",
      "version": "3.12.8"
    },
    "colab": {
      "provenance": []
    }
  },
  "nbformat": 4,
  "nbformat_minor": 0
}