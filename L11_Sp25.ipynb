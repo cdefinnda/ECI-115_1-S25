{
  "cells": [
    {
      "cell_type": "markdown",
      "source": [
        "#Lecture 11 - ODEs: Runge-Kutta Methods 😐"
      ],
      "metadata": {
        "id": "K9sxJ5ALKZiD"
      }
    },
    {
      "cell_type": "markdown",
      "source": [
        "## C&C Example 25.8\n",
        "\n",
        "Solve $f(x,y) = 4e^{0.8x} - 0.5y$ with initial condition $y(0)=2$ over the interval $x \\in [0,4]$.\n",
        "\n",
        "- Use Euler, Midpoint, Heun, and RK4 with various step sizes\n",
        "- Compare to exact answer y(4)=75.33896\n",
        "- Create log-log plot of percent relative error vs. computational effort\n",
        "- Effort = number of evaluations of $f(x,y)$\n",
        "- Recall that $f(x,y) = \\frac{dy}{dx}$."
      ],
      "metadata": {
        "id": "hvcQOoFfXwmM"
      }
    },
    {
      "cell_type": "code",
      "execution_count": null,
      "metadata": {
        "id": "nCuXZcRSwVgz"
      },
      "outputs": [],
      "source": [
        "# Clear Variables\n",
        "%reset -f\n",
        "\n",
        "# Import Libraries\n",
        "import numpy as np\n",
        "import matplotlib.pyplot as plt\n",
        "\n",
        "# Define Function\n",
        "def f(x,y): # rate function\n",
        "    return 4 * np.exp(0.8 * x) - 0.5 * y"
      ]
    },
    {
      "cell_type": "markdown",
      "source": [
        "The Runge-Kutta Methods use the following form to solve Initial Value Problems: $y_{i+1}=y_i + \\phi h$\n"
      ],
      "metadata": {
        "id": "ubLBD-vqIBnJ"
      }
    },
    {
      "cell_type": "markdown",
      "source": [
        "### 🤝 Euler's Method"
      ],
      "metadata": {
        "id": "fKDnkbMFgfA6"
      }
    },
    {
      "cell_type": "markdown",
      "source": [
        "$$y_{i+1}=y_i + f(x,y) h$$"
      ],
      "metadata": {
        "id": "B_IIw0TXztQ2"
      }
    },
    {
      "cell_type": "markdown",
      "metadata": {
        "id": "4gnQ8nFLwVgz"
      },
      "source": [
        "Let's define our methods to take the rate function, initial condition, the step size `h`, and the min/max values of the independent variable (in this case `x`). The methods should return the vectors `x` and `y` along with the number of function evaluations `nfe`."
      ]
    },
    {
      "cell_type": "code",
      "execution_count": null,
      "metadata": {
        "id": "0ZYmdQUiwVgz"
      },
      "outputs": [],
      "source": [
        "# Euler's Method\n",
        "def euler(f, y0, xmin, xmax, h):\n",
        "\n",
        "    x = np.arange(xmin, xmax+h, h)\n",
        "    y = np.zeros(len(x))\n",
        "\n",
        "    y[0] = y0\n",
        "    for i in range(len(x)-1):\n",
        "        y[i+1] = y[i] + f(x[i],y[i]) * h\n",
        "\n",
        "    nfe = len(x)\n",
        "    return x,y,nfe"
      ]
    },
    {
      "cell_type": "code",
      "execution_count": null,
      "metadata": {
        "id": "wyoSb-ItwVg0"
      },
      "outputs": [],
      "source": [
        "# Plot Euler's Method\n",
        "x_e,y_e,nfe_e = euler(f, y0=2, xmin=0, xmax=4, h=0.1)\n",
        "plt.plot(x_e,y_e)\n",
        "plt.show()"
      ]
    },
    {
      "cell_type": "markdown",
      "metadata": {
        "id": "5eDw45jrwVg0"
      },
      "source": [
        "Using this step size $h=0.1$, the percent relative error is:"
      ]
    },
    {
      "cell_type": "code",
      "execution_count": null,
      "metadata": {
        "id": "9F7YXzd6wVg0"
      },
      "outputs": [],
      "source": [
        "# Check Euler Error\n",
        "err_e = 100 * np.abs(y_e[-1] - 75.33896) / 75.33896\n",
        "print('Euler Error: %0.2f %%' % err_e)"
      ]
    },
    {
      "cell_type": "markdown",
      "source": [
        "### 💪 Midpoint Method"
      ],
      "metadata": {
        "id": "tiom76X9g5u8"
      }
    },
    {
      "cell_type": "markdown",
      "metadata": {
        "id": "qy8IzKQNwVg0"
      },
      "source": [
        "$$\n",
        "y_{i+1} = y_i + f(x_{i+1/2},y_{i+1/2})h\n",
        "$$\n",
        "\n",
        "Where:\n",
        "* $y_{i+1/2} = y_i+f(x_i,y_i)\\frac{h}{2}$"
      ]
    },
    {
      "cell_type": "code",
      "execution_count": null,
      "metadata": {
        "id": "09lp0SBowVg0"
      },
      "outputs": [],
      "source": [
        "def midpoint(f, y0, xmin, xmax, h):\n",
        "\n",
        "    x = np.arange(xmin, xmax+h, h)\n",
        "    y = np.zeros(len(x))\n",
        "\n",
        "    y[0] = y0\n",
        "    for i in range(len(x)-1):\n",
        "        y_mid = #[insert code here]\n",
        "        y[i+1] = #[insert code here]\n",
        "\n",
        "    nfe = #[insert code here]\n",
        "    return x,y,nfe"
      ]
    },
    {
      "cell_type": "code",
      "source": [
        "# Check Midpoint Error\n",
        "x_m,y_m,nfe_m = midpoint(f, y0=2, xmin=0, xmax=4, h=0.1)\n",
        "err_m = 100 * np.abs(y_m[-1] - 75.33896) / 75.33896\n",
        "print('Midpoint Error: %0.2f %%' % err_m)"
      ],
      "metadata": {
        "id": "HikEaJFGNH9D"
      },
      "execution_count": null,
      "outputs": []
    },
    {
      "cell_type": "markdown",
      "source": [
        "### 💪 Heun's Method"
      ],
      "metadata": {
        "id": "vrh3riQxJj61"
      }
    },
    {
      "cell_type": "markdown",
      "source": [
        "$$\n",
        "y_{i+1} = y_i + \\frac{f(x_i,y_i)+f(x_{i+1},y_{i+1}^0}{2}h\n",
        "$$\n",
        "\n",
        "Where:\n",
        "* $y_{i+1}^0 = y_i+f(x_i,y_i)h$"
      ],
      "metadata": {
        "id": "xBDrDxZqLuBW"
      }
    },
    {
      "cell_type": "code",
      "execution_count": null,
      "metadata": {
        "id": "B9_dB9iMwVg0"
      },
      "outputs": [],
      "source": [
        "def heun(f, y0, xmin, xmax, h):\n",
        "\n",
        "    x = np.arange(xmin, xmax+h, h)\n",
        "    y = np.zeros(len(x))\n",
        "\n",
        "    y[0] = y0\n",
        "    for i in range(len(x)-1):\n",
        "        y_guess = #[insert code here]\n",
        "        y[i+1] = #[insert code here]\n",
        "\n",
        "    nfe = #[insert code here]\n",
        "    return x,y,nfe"
      ]
    },
    {
      "cell_type": "code",
      "source": [
        "# Check Heun Error\n",
        "x_h,y_h,nfe_h = heun(f, y0=2, xmin=0, xmax=4, h=0.1)\n",
        "err_h = 100 * np.abs(y_h[-1] - 75.33896) / 75.33896\n",
        "print('Heun Error: %0.2f %%' % err_h)"
      ],
      "metadata": {
        "id": "61X9Qx5vOD7G"
      },
      "execution_count": null,
      "outputs": []
    },
    {
      "cell_type": "markdown",
      "source": [
        "### 💪 RK4 Method"
      ],
      "metadata": {
        "id": "djvI1YtDJoki"
      }
    },
    {
      "cell_type": "markdown",
      "source": [
        "$$\n",
        "y_{i+1} = y_i + \\frac{1}{6}\\big(k_1 + 2k_2 + 2k_3 + k_4 \\big) h\n",
        "$$\n",
        "\n",
        "Where:\n",
        "* $k_1 = f(x_i, y_i)$\n",
        "* $k_2 = f(x_i + \\frac{h}{2}, y_i + k_1 \\frac{h}{2})$\n",
        "* $k_3 = f(x_i + \\frac{h}{2}, y_i + k_2 \\frac{h}{2})$\n",
        "* $k_4 = f(x_i + h, y_i + k_3h)$"
      ],
      "metadata": {
        "id": "Sc0dWMfUMLo9"
      }
    },
    {
      "cell_type": "code",
      "execution_count": null,
      "metadata": {
        "id": "rZGDjR-0wVg1"
      },
      "outputs": [],
      "source": [
        "def RK4(f, y0, xmin, xmax, h):\n",
        "\n",
        "    x = np.arange(xmin, xmax+h, h)\n",
        "    y = np.zeros(len(x))\n",
        "\n",
        "    y[0] = y0\n",
        "    for i in range(len(x)-1):\n",
        "        k1 = #[insert code here]\n",
        "        k2 = #[insert code here]\n",
        "        k3 = #[insert code here]\n",
        "        k4 = #[insert code here]\n",
        "        phi = #[insert code here]\n",
        "        y[i+1] = #[insert code here]\n",
        "\n",
        "    nfe = #[insert code here]\n",
        "    return x,y,nfe"
      ]
    },
    {
      "cell_type": "code",
      "source": [
        "# Check RK4 Error\n",
        "x_rk4,y_rk4,nfe_rk4 = RK4(f, y0=2, xmin=0, xmax=4, h=0.1)\n",
        "err_rk4 = 100 * np.abs(y_rk4[-1] - 75.33896) / 75.33896\n",
        "print('RK4 Error: %0.2f %%' % err_rk4)"
      ],
      "metadata": {
        "id": "5WWxK7fPOSqw"
      },
      "execution_count": null,
      "outputs": []
    },
    {
      "cell_type": "markdown",
      "source": [
        "## Compare ODE Solver Methods"
      ],
      "metadata": {
        "id": "igg3Y7wBOey2"
      }
    },
    {
      "cell_type": "markdown",
      "metadata": {
        "id": "3vEeiYEOwVg1"
      },
      "source": [
        "Use all methods to plot solutions with $h=0.1$."
      ]
    },
    {
      "cell_type": "code",
      "execution_count": null,
      "metadata": {
        "id": "vki7iAmYwVg1"
      },
      "outputs": [],
      "source": [
        "for method in [euler, midpoint, heun, RK4]: # loop over functions\n",
        "    x,y,nfe = method(f, y0=2, xmin=0, xmax=4, h=0.1)\n",
        "    error = 100 * np.abs(y[-1] - 75.33896) / 75.33896\n",
        "    print('Error: %0.2f %%' % error)\n",
        "    plt.plot(x,y)\n",
        "\n",
        "plt.legend(['Euler', 'Midpoint', 'Heun', 'RK4'])\n",
        "plt.show()"
      ]
    },
    {
      "cell_type": "markdown",
      "metadata": {
        "id": "neuB6lT2wVg1"
      },
      "source": [
        "Now test the error behavior as a function of effort. Use step sizes $h = 4, 0.04, 0.004, 0.0004, 0.00004$ (5 points total). Inside this loop we are only storing the error and effort. The solutions $y(x)$ are not stored."
      ]
    },
    {
      "cell_type": "code",
      "execution_count": null,
      "metadata": {
        "id": "h9zZf2SAwVg1"
      },
      "outputs": [],
      "source": [
        "num_points = 5\n",
        "exact = 75.33896\n",
        "\n",
        "for method in [euler, heun, midpoint, RK4]: # loop over functions\n",
        "    error = np.zeros(num_points)\n",
        "    effort = np.zeros(num_points)\n",
        "\n",
        "    for i in range(num_points): # step sizes h=4, 0.4, 0.04, ...\n",
        "        x,y,nfe = method(f, y0=2, xmin=0, xmax=4, h=4/10**i)\n",
        "        error[i] = 100 * np.abs(y[-1] - exact) / exact\n",
        "        effort[i] = nfe\n",
        "\n",
        "    plt.loglog(effort,error)\n",
        "\n",
        "plt.ylabel('Relative Error (%)')\n",
        "plt.xlabel('Number of Function Evaluations')\n",
        "plt.legend(['Euler', 'Heun', 'Midpoint', 'RK4'])\n",
        "plt.show()\n"
      ]
    },
    {
      "cell_type": "markdown",
      "metadata": {
        "id": "tms-m5JLwVg1"
      },
      "source": [
        "❓ What can we learn about these various ODE solver methods from the above plot?\n",
        "* [Your response]"
      ]
    },
    {
      "cell_type": "markdown",
      "metadata": {
        "id": "VLy1EMfGwVg1"
      },
      "source": [
        "## Fishery Management Problem (Modified from Chapter 1.3 of SIMIODE Textbook)"
      ]
    },
    {
      "cell_type": "markdown",
      "metadata": {
        "id": "ywAKiB8swVg1"
      },
      "source": [
        "Logistic growth model of a fish population ($P$) with harvesting:\n",
        "\n",
        "$$ \\frac{dP}{dt} = rP\\bigg(1-\\frac{P}{K}\\bigg) - hP $$\n",
        "\n",
        "Given:\n",
        "* Carying Capacity: $K=10$\n",
        "* Harvesting Rate: $h=0.1$\n",
        "* Growth Rate: $r=1$\n",
        "* Initial Condition: $P(0)=2$"
      ]
    },
    {
      "cell_type": "markdown",
      "source": [
        "💪 Use any RK method to solve over $t \\in [0,10]$ with $dt = 0.01$.\n",
        "\n",
        "Note $h$ is the harvesting rate, not the step size $dt$. Also here the independent variable is $t$ but our functions above use $x$."
      ],
      "metadata": {
        "id": "5nImuon7VhrT"
      }
    },
    {
      "cell_type": "code",
      "execution_count": null,
      "metadata": {
        "id": "Y23dd_JkwVg1"
      },
      "outputs": [],
      "source": [
        "# Define Parameters\n",
        "r = 1\n",
        "K = 10\n",
        "h = 0.1\n",
        "\n",
        "# Define ODE\n",
        "#[insert code to define function above here]\n",
        "\n",
        "# Use your RK4 Function to Solve and Plot\n",
        "#[insert code to run the RK4 function here]\n",
        "plt.plot(t,P)\n",
        "plt.xlabel('Time')\n",
        "plt.ylabel('Population')\n",
        "plt.show()"
      ]
    },
    {
      "cell_type": "markdown",
      "metadata": {
        "id": "P7ZDrF6dwVg1"
      },
      "source": [
        "The population approaches a steady state, but it is not quite the carrying capacity $K$ due to harvesting. We can solve analytically for the steady-state population (that is, when $dP/dt = 0$). The equation has two roots:\n",
        "\n",
        "$$ P_{ss} = 0$$\n",
        "\n",
        "$$P_{ss} = K(r-h)/r$$"
      ]
    },
    {
      "cell_type": "code",
      "execution_count": null,
      "metadata": {
        "id": "qBvrGHotwVg1"
      },
      "outputs": [],
      "source": [
        "print('Carrying Capacity: ', K)\n",
        "print('Steady State Population: ', K*(r-h)/r)"
      ]
    },
    {
      "cell_type": "markdown",
      "metadata": {
        "id": "zPCYTCoRwVg1"
      },
      "source": [
        "🤝 What happens when $h$ increases (try $h = 0.1, 0.5, 0.9, 1.0, 1.1$)? Create a plot that compares the various harveting rates."
      ]
    },
    {
      "cell_type": "code",
      "execution_count": null,
      "metadata": {
        "id": "Q6iQpX-wwVg1"
      },
      "outputs": [],
      "source": [
        "# Create a for loop that runs the Runge-Kutta function for the various values of h:\n",
        "for h in [0.1, 0.5, 0.9, 1.0, 1.1]:\n",
        "    t,P,nfe = RK4(f, 2, 0, 100, h)\n",
        "    plt.plot(t,P)\n",
        "\n",
        "# Modify plot\n",
        "plt.legend(['h=0.1', 'h=0.5', 'h=0.9', 'h=1.0', 'h=1.1'])\n",
        "plt.xlabel('Time')\n",
        "plt.ylabel('Population')\n",
        "plt.show()"
      ]
    },
    {
      "cell_type": "markdown",
      "source": [
        "❓ What is the threshold for $h$ that causes the system to shift from one steady state value to another?"
      ],
      "metadata": {
        "id": "Qk6LNTykcnVY"
      }
    },
    {
      "cell_type": "markdown",
      "source": [
        "* [Your response]"
      ],
      "metadata": {
        "id": "OG0EPBXocoEw"
      }
    }
  ],
  "metadata": {
    "hide_input": false,
    "kernelspec": {
      "display_name": "Python 3 (ipykernel)",
      "language": "python",
      "name": "python3"
    },
    "language_info": {
      "codemirror_mode": {
        "name": "ipython",
        "version": 3
      },
      "file_extension": ".py",
      "mimetype": "text/x-python",
      "name": "python",
      "nbconvert_exporter": "python",
      "pygments_lexer": "ipython3",
      "version": "3.12.8"
    },
    "latex_envs": {
      "LaTeX_envs_menu_present": true,
      "autoclose": false,
      "autocomplete": true,
      "bibliofile": "biblio.bib",
      "cite_by": "apalike",
      "current_citInitial": 1,
      "eqLabelWithNumbers": true,
      "eqNumInitial": 1,
      "hotkeys": {
        "equation": "Ctrl-E",
        "itemize": "Ctrl-I"
      },
      "labels_anchors": false,
      "latex_user_defs": false,
      "report_style_numbering": false,
      "user_envs_cfg": false
    },
    "toc": {
      "base_numbering": 1,
      "nav_menu": {},
      "number_sections": true,
      "sideBar": true,
      "skip_h1_title": false,
      "title_cell": "Table of Contents",
      "title_sidebar": "Contents",
      "toc_cell": false,
      "toc_position": {},
      "toc_section_display": true,
      "toc_window_display": false
    },
    "varInspector": {
      "cols": {
        "lenName": "40",
        "lenType": 16,
        "lenVar": "100"
      },
      "kernels_config": {
        "python": {
          "delete_cmd_postfix": "",
          "delete_cmd_prefix": "del ",
          "library": "var_list.py",
          "varRefreshCmd": "print(var_dic_list())"
        },
        "r": {
          "delete_cmd_postfix": ") ",
          "delete_cmd_prefix": "rm(",
          "library": "var_list.r",
          "varRefreshCmd": "cat(var_dic_list()) "
        }
      },
      "types_to_exclude": [
        "module",
        "function",
        "builtin_function_or_method",
        "instance",
        "_Feature"
      ],
      "window_display": false
    },
    "colab": {
      "provenance": []
    }
  },
  "nbformat": 4,
  "nbformat_minor": 0
}