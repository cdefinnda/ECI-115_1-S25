{
  "cells": [
    {
      "cell_type": "markdown",
      "metadata": {
        "id": "1jYaTkYuNXwM"
      },
      "source": [
        "# Lecture 1 - Introduction to Scientific Python 🐍"
      ]
    },
    {
      "cell_type": "markdown",
      "source": [
        "**Learning Objectives**:\n",
        "* Introduce the Google Colab notebook environment.\n",
        "* Gain familiarity with Markdown as an annotation language.\n",
        "* Practice the basics of scientific python.\n",
        "* Build a function that leverages several aspects of scientific python.\n",
        "* Learn how to print Google Colab Notebooks into a *legible* PDF."
      ],
      "metadata": {
        "id": "JwER1-SiNehb"
      }
    },
    {
      "cell_type": "markdown",
      "source": [
        "# 💻 Google Colab Notebook Environment"
      ],
      "metadata": {
        "id": "odL4ElZJN6oz"
      }
    },
    {
      "cell_type": "markdown",
      "source": [
        "## Save a Copy of the Notebook to your Drive"
      ],
      "metadata": {
        "id": "Bc76NzYZwU0b"
      }
    },
    {
      "cell_type": "markdown",
      "source": [
        "When you first open a new Google Colab Notebook, **the first thing you should do is to click the button `Copy to Drive` in the Notebook Toolbar above** (next to the `+ Text` button). This will create a copy of the notebook entitled `Copy of [Original Title]` in a new tab. The default file location of this copy is typically in a folder in your Google Drive called \"Colab Notebooks\".\n",
        "\n",
        "If that option doesn't appear for you, you can always click on `File` → `Save a copy in Drive`.\n",
        "\n",
        "Once you have this copy of the Colab Notebook in your Drive, you should feel free to rename the notebook and/or relocate it."
      ],
      "metadata": {
        "id": "lXv8G-IJsXSp"
      }
    },
    {
      "cell_type": "markdown",
      "source": [
        "## Google Colab Basics"
      ],
      "metadata": {
        "id": "WeeM73g0wfHB"
      }
    },
    {
      "cell_type": "markdown",
      "source": [
        "Google Colab is an interactive coding environment that runs in your browser and is powered by Google. You can combine **code** (Python) and **text** (markdown explanations) in a single document. Below are some common tasks for navigating Google Colab:\n",
        "\n",
        "- **Select a cell**: Single click on any cell to select it.\n",
        "- **De-select any cell**: Press `esc` to deselect from all cells.\n",
        "- **Add a new cell**: Use the `+ Code` or `+ Text` buttons that appear when you hover between cells. Alternatively, you can use keyboard shortcuts: `⌘ + M`, then `B` (add below) or `A` (add above)\n",
        "- **Delete a cell**: Press `⌘/Ctrl + M + D` to click the 🗑️ button.\n",
        "- **Undo**: Press `⌘/Ctrl + M + Z` or `⌘/Ctrl + Shift + Z` to undo a cell action.\n",
        "- **Redo**: Press `⌘/Ctrl + M + Z` or `⌘/Ctrl + Shift + Z` to redo a cell action.\n",
        "- **Run a cell**: Click the cell and press `Shift + Enter` or click the ▶️ button.\n",
        "- **Clear all outputs**: Click `Edit` → `Clear all outputs` (Note that this does not clear the variables that are already saved)\n",
        "- **Interrupt run**: If your code is running without any signs of stopping, you may want to interrupt the run so that you can troubleshoot what might be going wront. There are three ways to do this:\n",
        "  - Click on the ⏹️ button (previously the ▶️ button).\n",
        "  - Click `Runtime` → `Interrupt execution`\n",
        "  - Press `⌘/Ctrl + M + I`\n",
        "\n",
        "For more shortcuts see click on `Tools` → `Keyboard shortcuts`.\n",
        "\n",
        "Basic text cell formatting will be covered below, but a more comprehensive guide to markdown can be found here: [Markdown Cheatsheet (Github)](https://github.com/adam-p/markdown-here/wiki/Markdown-Cheatsheet)"
      ],
      "metadata": {
        "id": "Nfqu4FZgPsSC"
      }
    },
    {
      "cell_type": "markdown",
      "source": [
        "## Toggling AI Assistance"
      ],
      "metadata": {
        "id": "X93ULjk5wjKD"
      }
    },
    {
      "cell_type": "markdown",
      "source": [
        "Google Colab provides AI Assistance for writing code as it's default setting. However, to develop your coding skills, I encourage you to turn off AI Assistance when working on in-class coding notebooks or homework assignments. To turn off AI Assistance, follow these steps:\n",
        "1. Click on `Tools` → `Settings`.\n",
        "2. Navigate to the `AI Assistance` tab.\n",
        "3. **Uncheck** `Show AI-powered inline completions`.\n",
        "4. Keep `Consented to use generative AI features` unchecked.\n",
        "5. **Check** `Hide generative AI features`.\n",
        "4. Click `Close`."
      ],
      "metadata": {
        "id": "KbmfGBT2H6dj"
      }
    },
    {
      "cell_type": "markdown",
      "source": [
        "# ✍️ Editing Text Cells with Markdown"
      ],
      "metadata": {
        "id": "Tdwiv5I9T4lS"
      }
    },
    {
      "cell_type": "markdown",
      "source": [
        "👋 Double-click this cell to see Markdown can be used for formatting text cells.\n",
        "\n",
        "Text cells use **Markdown**, a lightweight formatting language for adding:\n",
        "- Section headings\n",
        "- Bullet points\n",
        "  - Sub-bullet points\n",
        "- **Bold** / *italic* / `code`\n",
        "- $Equations$\n",
        "- Tables"
      ],
      "metadata": {
        "id": "npks-ORnTyM6"
      }
    },
    {
      "cell_type": "markdown",
      "source": [
        "## Headings\n",
        "Headings can be created by adding `#` before the heading title:\n",
        "```markdown\n",
        "# Main Heading\n",
        "## Subheading\n",
        "### Smaller Subheading\n",
        "```\n",
        "Note that headings are used to create sections that can hide cells beneath the heading by clicking the 🔽 button next to the heading."
      ],
      "metadata": {
        "id": "BMWfn2EkSgVS"
      }
    },
    {
      "cell_type": "markdown",
      "source": [
        "## Lists\n",
        "\n",
        "- Bullet point with `-`\n",
        "  - Sub-bullet point with `-`\n",
        "    - Sub-sub-bullet point with `-`\n",
        "* Bullet point with `*`\n",
        "  * Sub-bullet point with `*`\n",
        "    * Sub-sub-bullet point with `*`\n",
        "\n",
        "1. Numbered list\n",
        "2. Numbered list continued"
      ],
      "metadata": {
        "id": "zL6dwEI4Wzge"
      }
    },
    {
      "cell_type": "markdown",
      "source": [
        "## Text formatting\n",
        "\n",
        "**bold**\n",
        "\n",
        "*italic*\n",
        "\n",
        "`code`\n",
        "\n",
        "```\n",
        "# code block with no coloration\n",
        "```\n",
        "\n",
        "```markdown\n",
        "# code block with markdown coloration\n",
        "```\n",
        "\n",
        "```python\n",
        "# code block with python coloration\n",
        "```\n",
        "\n",
        "Markdown is meant to for simple text formatting. For more advanced text formatting we have to bring in other languages like HTML to change text color:\n",
        "* <font color='red'>Red text</font>\n",
        "* <font color='blue'>Blue text</font>\n",
        "* <font color='#00CED1'>Turquoise text</font>\n",
        "\n",
        "Default colors include: red, blue, green, orange, purple, brown, black, gray, pink, teal, gold, lime, and navy. However, Hex color codes can also be used to achieve any text color desired.\n"
      ],
      "metadata": {
        "id": "o7wMYwYcX3PD"
      }
    },
    {
      "cell_type": "markdown",
      "source": [
        "## Math Formatting\n",
        "\n",
        "Equations can be embedded in-line (e.g., $y=mx+b$) or as their own block:\n",
        "\n",
        "$$\n",
        "y=mx+b\n",
        "$$\n",
        "\n",
        "Within the `$` `$` symbols, Markdown will recognize a new language known as LaTeX. Here is some common LaTeX formatting to know:\n",
        "* Symbols: $\\alpha, \\omega, \\varepsilon$\n",
        "* Subscripts / Superscripts: $a^{(b+c)}$, $d_{e}$\n",
        "* Fractions: $\\frac{a}{b}$, $\\frac{\\partial x}{\\partial y}$\n",
        "* Relationships: $a \\ge b$, $c \\approx d$, $x \\rightarrow \\infty$\n",
        "* Operations: $a \\times b$, $c \\cdot d$, $\\sum_{i=1}^{n} f(x_{i})$, $\\int_{a}^{b} f(x)$\n",
        "* Size Formatting: $\\big($, $\\Big)$, $\\bigg[$, $\\Bigg]$\n",
        "\n",
        "A more comprehensive guide to Math LaTeX can be found here: [LaTeX/Mathematics (Wikibooks)](https://en.wikibooks.org/wiki/LaTeX/Mathematics)"
      ],
      "metadata": {
        "id": "ZC5iNTyhZL-9"
      }
    },
    {
      "cell_type": "markdown",
      "source": [
        "## Tables\n",
        "\n",
        "Tables are surprisingly challenging to code and format in Markdown. I actually don't even try to code tables myself. Instead, I'll go to [tablesgenerator.com/markdown_tables](https://www.tablesgenerator.com/markdown_tables) where I can format a table using their GUI. Then I'll click the `⚙️ Generate` button below the table and copy/paste the table in my Markdown cell:\n",
        "\n",
        "|   Features   | Item 1 | Item 2 | Item 3 |\n",
        "|:------------:|:------:|:------:|:------:|\n",
        "| Feature A    |   1A   |   2A   |   3A   |\n",
        "| Feature B    |   1B   |   2B   |   3B   |\n",
        "| Feature C    |   1C   |   2C   |   3C   |\n",
        "\n",
        "**Important Note about Tables**: If you use a mixture of `space`s and `tab`s, the table will still display in Google Colab, but it will incorrectly render as you convert your Colab Notebook into a PDF. Unfortunately, tablegenerator.com will use `space`s, but insert a `tab` at the end of each cell on the table. Therefore, you would either need to manually change these `tab`s to `space`s or you can ask an LLM chatbot to help you correctly format your table."
      ],
      "metadata": {
        "id": "8B13kVWo5ZXA"
      }
    },
    {
      "cell_type": "markdown",
      "source": [
        "## 💪 Try it yourself:\n",
        "Create a text cell below this one and give it a subheading that will nest under the heading above (hint: you will need more than 2 #'s). Call this subheading 'The Quadratic Equation' and use Math LaTeX to write out the quadratic equation. Beneath your quadratic equation, create a bulleted list where you define a, b, and c as equaling 2, 3, and 5 respectively.\n",
        "\n",
        "The following Math LaTex symbols/formats may be useful: $\\pm$, $\\sqrt{x}$"
      ],
      "metadata": {
        "id": "KqIKrgexl89X"
      }
    },
    {
      "cell_type": "markdown",
      "source": [
        "## 👈 If you're stuck, click the 🔽 button on the left for hints."
      ],
      "metadata": {
        "id": "42Qhvpitp-L_"
      }
    },
    {
      "cell_type": "markdown",
      "source": [
        "### 🤔 Hint #1"
      ],
      "metadata": {
        "id": "ZGEypgbfqoZg"
      }
    },
    {
      "cell_type": "markdown",
      "source": [
        "To create a new text cell, hover beneath the cell above and click `+ text` button that appears.\n",
        "\n",
        "Once the text cell appears, create a subheading that nests beneath the cell above, you will need to include at least four #'s (####) before your heading title:\n",
        "\n",
        "#### The Quadratic Equation\n",
        "\n",
        "(Note that I'm using four #'s so that the the subheading title will nested within the `### Hint 2` subheading, whereas you would only need three #'s.)"
      ],
      "metadata": {
        "id": "eOcYir59rmF9"
      }
    },
    {
      "cell_type": "markdown",
      "source": [
        "### 😅 Hint #2"
      ],
      "metadata": {
        "id": "_cPY2zm0rDsI"
      }
    },
    {
      "cell_type": "markdown",
      "source": [
        "Use `$$` to initiate a centered block of Math LaTeX and use `\\frac{}{}` to create a fraction:\n",
        "\n",
        "#### The Quadratic Equation\n",
        "$$\n",
        "x=\\frac{-b}{2a}\n",
        "$$"
      ],
      "metadata": {
        "id": "9SoMkf7mrFzP"
      }
    },
    {
      "cell_type": "markdown",
      "source": [
        "### 🥲 Hint #3"
      ],
      "metadata": {
        "id": "ZGFpEVfmnh2C"
      }
    },
    {
      "cell_type": "markdown",
      "source": [
        "Incorporate special characters/operations from Math LaTeX:\n",
        "\n",
        "#### The Quadratic Equation\n",
        "$$\n",
        "x=\\frac{-b \\pm \\sqrt{b^2-4ac}}{2a}\n",
        "$$\n",
        "\n",
        "\n",
        "Then use `-` or `*` to create a bulleted list beneath your equation. Be sure to use `$` to include in-line Math LaTeX equations:\n",
        "\n",
        "#### The Quadratic Equation\n",
        "$$\n",
        "x=\\frac{-b \\pm \\sqrt{b^2-4ac}}{2a}\n",
        "$$\n",
        "* $a=2$\n",
        "*"
      ],
      "metadata": {
        "id": "_33qfuyVnrPF"
      }
    },
    {
      "cell_type": "markdown",
      "source": [
        "### 🥳 Check your solution!"
      ],
      "metadata": {
        "id": "3rjS7nqipqih"
      }
    },
    {
      "cell_type": "markdown",
      "source": [
        "#### The Quadratic Equation\n",
        "$$\n",
        "x=\\frac{-b \\pm \\sqrt{b^2-4ac}}{2a}\n",
        "$$\n",
        "* $a=2$\n",
        "* $b=3$\n",
        "* $c=5$"
      ],
      "metadata": {
        "id": "ThWbJW8jptsJ"
      }
    },
    {
      "cell_type": "markdown",
      "source": [
        "# 🧑‍💻 Practicing Scientific Python"
      ],
      "metadata": {
        "id": "iJYYQXsoVIta"
      }
    },
    {
      "cell_type": "markdown",
      "source": [
        "## ⌨️ Using the Code Cell"
      ],
      "metadata": {
        "id": "AOyT7k2t1ZTb"
      }
    },
    {
      "cell_type": "markdown",
      "source": [
        "As mentioned previously, you can add code cells by hovering between cells and clicking on the `+ Code` button that appears. These cells will allow you to write and execute code in Python and will be the primary medium that we use to solve problems throughout this course."
      ],
      "metadata": {
        "id": "GVJF6xIUwyDd"
      }
    },
    {
      "cell_type": "markdown",
      "source": [
        "Try running the following code cell by selecting it and pressing `Shift + Enter`."
      ],
      "metadata": {
        "id": "vFlg1T4_w7rR"
      }
    },
    {
      "cell_type": "code",
      "execution_count": null,
      "metadata": {
        "id": "q8M7fvMeNXwN"
      },
      "outputs": [],
      "source": [
        "# Comment\n",
        "#2*3\n",
        "print('Hello, World!')\n",
        "2*2"
      ]
    },
    {
      "cell_type": "markdown",
      "source": [
        "In addition to whatever is in the `print()` function, these code cells will output the last operation executed. You can test this by commenting out `2*2` (i.e., `#2*2`) and uncommenting `2*3`. When you run this code cell again, you will only see `Hello, World` as an output."
      ],
      "metadata": {
        "id": "JGU5ucjhz3y4"
      }
    },
    {
      "cell_type": "markdown",
      "source": [
        "### Commenting"
      ],
      "metadata": {
        "id": "0YMHp2NI2LKy"
      }
    },
    {
      "cell_type": "markdown",
      "source": [
        "Commenting (in Python, putting `#` before your text) is a very useful functionality in any programming language. It allows you to annotate your code so that (ideally) anyone can read your code and have a sense of what you are trying to accomplish. Additionally, it can be useful to for troubleshooting your code, where you want to save a line of code while you try out a new line. Furthermore, you can comment out blocks of code by enclosing the code block with `\"\"\"`."
      ],
      "metadata": {
        "id": "95-NHr2o2JHw"
      }
    },
    {
      "cell_type": "code",
      "source": [
        "# Printing 'Hello, World!'\n",
        "\n",
        "#print('Hello, World!') # Using the built-in Python function print()\n",
        "print('Hi, Earth!') # Testing to see if I can modify text within the function\n",
        "\n",
        "# This code is a work in progress, commenting out so that I can still run the code block (see note on comment style below)\n",
        "\"\"\"\n",
        "print(Hello, World!) # This code gives me \"NameError\"\n",
        "print('Hello, World!) # This code gives me \"SyntaxError\"\n",
        "\"\"\"\n",
        "# ^The use of \"\"\" doesn't technically turn the enclosed text into a comment.\n",
        "# It turns the text into a an undefined string (as you will see in the output).\n",
        "# However, this still allows us to run the code and can be useful for debugging.\n",
        "\n",
        "\n",
        "# Style Note: Comments can become very long and extend beyond the viewable\n",
        "#             screen. Therefore, breaking your comments into multiple lines\n",
        "#             may be a good practice. This is especially true when you are\n",
        "#             printing you Notebook to PDF because code that extends beyond\n",
        "#             the viewable window will be cut off."
      ],
      "metadata": {
        "id": "sOlQK64r2dCD"
      },
      "execution_count": null,
      "outputs": []
    },
    {
      "cell_type": "markdown",
      "source": [
        "For more guidance on commenting see [Writing Comments in Python (Real Python)](https://realpython.com/python-comments-guide/)"
      ],
      "metadata": {
        "id": "rO2CqJ6o6TZP"
      }
    },
    {
      "cell_type": "markdown",
      "source": [
        "### Defining Variables"
      ],
      "metadata": {
        "id": "sSiUoxwb8Cx3"
      }
    },
    {
      "cell_type": "code",
      "source": [
        "# Defining Variables\n",
        "A = 5\n",
        "B = 3.7"
      ],
      "metadata": {
        "id": "NT4FfdMs9h28"
      },
      "execution_count": null,
      "outputs": []
    },
    {
      "cell_type": "markdown",
      "source": [
        "Google Colab will store the values of the variables you define, allowing you to call these variables from cell to cell."
      ],
      "metadata": {
        "id": "RSt6cpS9-lgN"
      }
    },
    {
      "cell_type": "code",
      "source": [
        "# Operations with Variables\n",
        "C = A + B\n",
        "print(C)"
      ],
      "metadata": {
        "id": "725CsSpQ-c98"
      },
      "execution_count": null,
      "outputs": []
    },
    {
      "cell_type": "markdown",
      "source": [
        "Variable names should be descriptive and concise. Remember that capitalization matters when defining variables."
      ],
      "metadata": {
        "id": "0BrX69b9BtDD"
      }
    },
    {
      "cell_type": "code",
      "source": [
        "C_copy = C\n",
        "print(C_copy)\n",
        "\n",
        "C_Copy = 9    # The 'c' in copy is capitalized, meaning that this is a different variable from C_copy\n",
        "print(C_Copy)"
      ],
      "metadata": {
        "id": "agHa0guA-3jJ"
      },
      "execution_count": null,
      "outputs": []
    },
    {
      "cell_type": "markdown",
      "source": [
        "Variables will retain their values until their values are **deleted** (e.g. `del A`) or if all variables are **reset** (e.g., `%reset -f`). Variables can also be reset when your Google Colab session ends (e.g., Google Colab window remains idle for too long or you close your Google Colab window)."
      ],
      "metadata": {
        "id": "re-pCBLhCWIr"
      }
    },
    {
      "cell_type": "code",
      "source": [
        "# Example of a variable being overwritten\n",
        "print(A)\n",
        "A = 4\n",
        "print(A)"
      ],
      "metadata": {
        "id": "B_wHt4CfDkl9"
      },
      "execution_count": null,
      "outputs": []
    },
    {
      "cell_type": "code",
      "source": [
        "# Example of deleting a single variable\n",
        "del A\n",
        "print(A)"
      ],
      "metadata": {
        "id": "q5nrenkLC8jS"
      },
      "execution_count": null,
      "outputs": []
    },
    {
      "cell_type": "code",
      "source": [
        "# Example of resetting all variables (Note: don't put comments in the same line as '%reset -f')\n",
        "%reset -f\n",
        "print(B)\n",
        "print(C)"
      ],
      "metadata": {
        "id": "2-ol9U5cCZ0J"
      },
      "execution_count": null,
      "outputs": []
    },
    {
      "cell_type": "markdown",
      "source": [
        "### Printing with Variables"
      ],
      "metadata": {
        "id": "GggvML4JYdcO"
      }
    },
    {
      "cell_type": "markdown",
      "source": [
        "We've already covered the `print()` function, but there's a clever way to include and customize variables in your printed output."
      ],
      "metadata": {
        "id": "eSzX8sufYjyn"
      }
    },
    {
      "cell_type": "code",
      "source": [
        "pi = 3.141592653589793238462643383279\n",
        "\n",
        "print(f'The value of pi is {pi}')                           # Output: 3.141592653589793\n",
        "                                                            # ^Notice that Python's print()\n",
        "                                                            # function does its own rounding cutoff\n",
        "\n",
        "print(f'The value of pi to 4 decimal places is {pi:.4f}')   # Output: 3.1416 (notice the rounding)\n",
        "print(f'The value of pi to 0 decimal places is {pi:.0f}')   # Output: 3"
      ],
      "metadata": {
        "id": "XIGuqQKZZXtK"
      },
      "execution_count": null,
      "outputs": []
    },
    {
      "cell_type": "markdown",
      "source": [
        "In the example above, we are still using the `print()` function, but including and `f` within the function's parathesis, but before the `''` of the string to be printed. Inside the string, we can specify the variable we want to print with `{}` where we include the variable (`pi`) and specifics about how we want the variable printed (`:.4f`). For `.4f`, `f` stands for `float` and `.4` specifies that we want 4 digits after the decimal"
      ],
      "metadata": {
        "id": "Vl1upeDQbHO1"
      }
    },
    {
      "cell_type": "markdown",
      "source": [
        "### Variable Types"
      ],
      "metadata": {
        "id": "bNg9-B7--Fir"
      }
    },
    {
      "cell_type": "markdown",
      "source": [
        "Commone variable types include:\n",
        "* Integers (`int`) - Whole numbers.\n",
        "* Float (`float`) - Numbers with decimal points.\n",
        "* Complex Numbers (`complex`) - Numbers with imaginary components.\n",
        "* String (`str`) - Strings of characters in `\" \"` or `' '`\n",
        "* Boolean (`bool`) - True or False for logical operations"
      ],
      "metadata": {
        "id": "6TgyQG2_Dy--"
      }
    },
    {
      "cell_type": "code",
      "source": [
        "# Recall common variable types:\n",
        "A = 5 # int\n",
        "B = 3.7 # float\n",
        "C = 2 + 3j # complex\n",
        "D = 'text' # str\n",
        "E = False #bool"
      ],
      "metadata": {
        "id": "_A2lZKr4-RyN"
      },
      "execution_count": null,
      "outputs": []
    },
    {
      "cell_type": "code",
      "source": [
        "# The type() function outputs the variable type.\n",
        "type(A) # Output: int\n",
        "type(B) # Output: float\n",
        "type(C) # Output: complex\n",
        "type(D) # Output: str\n",
        "type(E) # Output: bool\n",
        "\n",
        "# Example Output\n",
        "print(B)\n",
        "print(type(B))"
      ],
      "metadata": {
        "id": "QZpt_-atDOZ5"
      },
      "execution_count": null,
      "outputs": []
    },
    {
      "cell_type": "markdown",
      "source": [
        "In addition to identifying types with the built-in function `type()`, we can also use other built-in functions to change the type/class of a variables:\n",
        "* Convert to Integer: `int()`\n",
        "* Convert to Float: `float()`\n",
        "* Convert to String: `str()`\n",
        "* Convert to Complex Number: `complex()`\n",
        "* Convert to Boolean: `bool()`"
      ],
      "metadata": {
        "id": "Htn8fWtSchR0"
      }
    },
    {
      "cell_type": "code",
      "source": [
        "# As previously mentioned, python will assume variable types. However, sometimes this may result in variables not being the type you want them to be.\n",
        "\n",
        "A = 1 # int\n",
        "B = 1.0 # float\n",
        "C = '1' # str\n",
        "D = 1 + 0j # complex\n",
        "E = True # bool (Oftentimes, 1 is True and 0 is False)\n",
        "\n",
        "# Print Type of each variable\n",
        "print('type(B): ',type(B))\n",
        "print('type(A): ',type(A))\n",
        "print('type(C): ',type(C))\n",
        "print('type(D): ',type(D))\n",
        "print('type(E): ',type(E))\n"
      ],
      "metadata": {
        "id": "KlRTlhOydIVE"
      },
      "execution_count": null,
      "outputs": []
    },
    {
      "cell_type": "code",
      "source": [
        "# int() - Converts input into an integer.\n",
        "int(A) # Output: 1\n",
        "int(B) # Output: 1\n",
        "int(C) # Output: 1 \t\tNote: int('one') = ValueError\n",
        "#int(D) # Output: TypeError\n",
        "int(E) # Output: 1\t\tNote: int(False) = 0\n",
        "\n",
        "# Print Type of each variable (Excluding Errors)\n",
        "print(int(A),type(int(A)))\n",
        "print(int(B),type(int(B)))\n",
        "print(int(C),type(int(C)))\n",
        "#print(int(D),type(int(D)))\n",
        "print(int(E),type(int(E)))"
      ],
      "metadata": {
        "id": "Ea4qHk5MdMQt"
      },
      "execution_count": null,
      "outputs": []
    },
    {
      "cell_type": "code",
      "source": [
        "# float() - Converts input into a float.\n",
        "float(A) # Output: 1.0\n",
        "float(B) # Output: 1.0\n",
        "float(C) # Output: 1.0\tNote: float('one') = ValueError\n",
        "#float(D) # Output: TypeError\n",
        "float(E) # Output: 1.0\tNote: float(False) = 0.0\n",
        "\n",
        "# Print Type of each variable (Excluding Errors)\n",
        "print(float(A),type(float(A)))\n",
        "print(float(B),type(float(B)))\n",
        "print(float(C),type(float(C)))\n",
        "#print(float(D),type(float(D)))\n",
        "print(float(E),type(float(E)))"
      ],
      "metadata": {
        "id": "Xu45DtVxdNyZ"
      },
      "execution_count": null,
      "outputs": []
    },
    {
      "cell_type": "code",
      "source": [
        "# str() - Converts input into a string.\n",
        "str(A) # Output: '1'\n",
        "str(B) # Output: '1.0'\n",
        "str(C) # Output: '1'\n",
        "str(D) # Output: '(1+0j)'\n",
        "str(E) # Output: 'True'\n",
        "\n",
        "# Print Type of each variable (Excluding Errors)\n",
        "print(str(A),type(str(A)))\n",
        "print(str(B),type(str(B)))\n",
        "print(str(C),type(str(C)))\n",
        "print(str(D),type(str(D)))\n",
        "print(str(E),type(str(E)))"
      ],
      "metadata": {
        "id": "6IgoICM2dV1C"
      },
      "execution_count": null,
      "outputs": []
    },
    {
      "cell_type": "code",
      "source": [
        "# complex() - Converts input into a complex number.\n",
        "complex(A) # Output: (1+0j)\n",
        "complex(B) # Output: (1+0j)\n",
        "complex(C) # Output: (1+0j) Note: complex('one') = ValueError.\n",
        "complex(D) # Output: (1+0j)\n",
        "complex(E) # Output: (1+0j)\n",
        "\n",
        "# Print Type of each variable (Excluding Errors)\n",
        "print(complex(A),type(complex(A)))\n",
        "print(complex(B),type(complex(B)))\n",
        "print(complex(C),type(complex(C)))\n",
        "print(complex(D),type(complex(D)))\n",
        "print(complex(E),type(complex(E)))"
      ],
      "metadata": {
        "id": "9OzBx1q-dXcK"
      },
      "execution_count": null,
      "outputs": []
    },
    {
      "cell_type": "code",
      "source": [
        "# bool() - Converts input into a boolean (True or False).\n",
        "bool(A) # Output: True\tNote: Only bool(0) = False. bool(2) = True\n",
        "bool(B) # Output: True\tNote: Only bool(0.0) = False. bool(-2.0) = True\n",
        "bool(C) # Output: True\tNote: All string inputs into bool() = True.\n",
        "bool(D) # Output: True\tNote: Only bool(0+0j) = False. bool(1+1j) = True\n",
        "bool(E) # Output: True\tNote: bool(False) = False\n",
        "\n",
        "# Print Type of each variable (Excluding Errors)\n",
        "print(bool(A),type(bool(A)))\n",
        "print(bool(B),type(bool(B)))\n",
        "print(bool(C),type(bool(C)))\n",
        "print(bool(D),type(bool(D)))\n",
        "print(bool(E),type(bool(E)))"
      ],
      "metadata": {
        "id": "UtEAPv39da_v"
      },
      "execution_count": null,
      "outputs": []
    },
    {
      "cell_type": "markdown",
      "source": [
        "### Lists"
      ],
      "metadata": {
        "id": "UfmSsKxXFJQg"
      }
    },
    {
      "cell_type": "markdown",
      "source": [
        "Variables that contain multiple values are known as lists. We define lists by separating the variables with commas (`,`) and enclosing the list with brackets (`[ ]`)."
      ],
      "metadata": {
        "id": "q_VnaX6gHTHW"
      }
    },
    {
      "cell_type": "code",
      "source": [
        "%reset -f\n",
        "\n",
        "# Define list\n",
        "x = [1, 2, 3, 4, 5]\n",
        "print(x)"
      ],
      "metadata": {
        "id": "ay0mMkKYINqU"
      },
      "execution_count": null,
      "outputs": []
    },
    {
      "cell_type": "markdown",
      "source": [
        "### Indexing of Lists 😵‍💫"
      ],
      "metadata": {
        "id": "NTwe0xEXPY-j"
      }
    },
    {
      "cell_type": "markdown",
      "source": [
        "In general, Python is designed to be as intuitive as possible. One aspect where Python isn't as intuitive is with indexing in lists (hence the 😵‍💫)\n",
        "\n",
        "Indexing is the way we access individual elements from a list. We can access these elements by using brackets next to the list variable: `x[i]` (where `x` is our list variable, and `i` is the index number).\n",
        "\n",
        "**IMPORTANT NOTE**: Python starts counting at 0, not 1. Therefore, if we want the first value in the list, we will need to run `x[0]`"
      ],
      "metadata": {
        "id": "260iHcOdJGAI"
      }
    },
    {
      "cell_type": "code",
      "source": [
        "# Forward counting in Python starts at 0:\n",
        "print(x)\n",
        "print('x[0] = ', x[0])  # This is the first element in the list.\n",
        "print('x[1] = ', x[1])  # This is the second element in the list."
      ],
      "metadata": {
        "id": "gyg_EOEUJ9-v"
      },
      "execution_count": null,
      "outputs": []
    },
    {
      "cell_type": "markdown",
      "source": [
        "Python also supports negative counting, or counting from the last item in the list backwards. For example `x[-1]` will give the last value in the list, x[-2] will give the second to last value in the list, and so on."
      ],
      "metadata": {
        "id": "0oaUWVfiKsNd"
      }
    },
    {
      "cell_type": "code",
      "source": [
        "# Backwards counting in Python starts at -1:\n",
        "print(x)\n",
        "print('x[-1] = ', x[-1])\n",
        "print('x[-2] = ', x[-2])"
      ],
      "metadata": {
        "id": "PFCaqD-7K0r-"
      },
      "execution_count": null,
      "outputs": []
    },
    {
      "cell_type": "markdown",
      "source": [
        "If you try to index a value that exceeds the length of your list, you will get an IndexError."
      ],
      "metadata": {
        "id": "J1bnI_ycLeTq"
      }
    },
    {
      "cell_type": "code",
      "source": [
        "# Example of IndexError\n",
        "print(x[7])"
      ],
      "metadata": {
        "id": "4v2dlPavLfVq"
      },
      "execution_count": null,
      "outputs": []
    },
    {
      "cell_type": "markdown",
      "source": [
        "This is a common error when using the built-in function `len(x)` that will output the length of list `x`.\n",
        "\n",
        "Unlike Python, `len()` starts counting at 1."
      ],
      "metadata": {
        "id": "QGkZTreFI6G3"
      }
    },
    {
      "cell_type": "code",
      "source": [
        "# Example of using len()\n",
        "n = len(x)\n",
        "print(n)"
      ],
      "metadata": {
        "id": "-abMFCA8I_7x"
      },
      "execution_count": null,
      "outputs": []
    },
    {
      "cell_type": "markdown",
      "source": [
        "If we want to use `len(x)` to access the final value in our list `x`, we need to remember that Python counting starts at 0."
      ],
      "metadata": {
        "id": "vpoHDFnNMwhZ"
      }
    },
    {
      "cell_type": "code",
      "source": [
        "# Common error using len()\n",
        "print(x[n]) # B/c Python counting starts at 0, x[len(x)] exceeds the length of indexed values by 1."
      ],
      "metadata": {
        "id": "RKTK4_4IMTa4"
      },
      "execution_count": null,
      "outputs": []
    },
    {
      "cell_type": "markdown",
      "source": [
        "Therefore, to access the final value in our list `x`, we need to use `len(x)-1` instead"
      ],
      "metadata": {
        "id": "h4Gex77uNDZ2"
      }
    },
    {
      "cell_type": "code",
      "source": [
        "# Correcting common error using len()\n",
        "print(x[n-1]) # This will output the final value in list x"
      ],
      "metadata": {
        "id": "510HwhuUNnFN"
      },
      "execution_count": null,
      "outputs": []
    },
    {
      "cell_type": "markdown",
      "source": [
        "### Slicing a List 😵‍💫"
      ],
      "metadata": {
        "id": "djYnimX2W3JE"
      }
    },
    {
      "cell_type": "markdown",
      "source": [
        "Lastly, we can use `:` to take a slice of a list. Slicing follows takes the following notation: `x[start:stop:step]`\n",
        "\n",
        "If unspecified, the default values are:\n",
        "* `start = 0`\n",
        "* `stop = -1`\n",
        "* `step = 1`"
      ],
      "metadata": {
        "id": "dJ57gpVxTu5X"
      }
    },
    {
      "cell_type": "code",
      "source": [
        "# Examples of slicing\n",
        "print(x[:])       # Copy all\n",
        "print(x[1:4])     # From index 1 to index 3\n",
        "print(x[:-2:])    # From beginning to second-to-last item\n",
        "print(x[::2])     # Every other item\n",
        "print(x[::-1])    # Reversed order"
      ],
      "metadata": {
        "id": "B6fw_EnqUQDV"
      },
      "execution_count": null,
      "outputs": []
    },
    {
      "cell_type": "markdown",
      "source": [
        "Note that slicing will **include** the value associated with index = `start`, but **exclude** the value associated with index = `stop`.\n",
        "\n",
        "This is another less-intuitive aspects of Python (😵‍💫) that is good to be aware of."
      ],
      "metadata": {
        "id": "VtfgaBakWpfZ"
      }
    },
    {
      "cell_type": "markdown",
      "source": [
        "### Direction Modification of Lists 😵‍💫"
      ],
      "metadata": {
        "id": "GR17cpPaPlQW"
      }
    },
    {
      "cell_type": "markdown",
      "source": [
        "We will encounter this less in this class, but a final less-intuitive aspect of Python (😵‍💫) has to do with direct modification of lists.\n",
        "\n",
        "Just like with variables, we can redefine elements in a list."
      ],
      "metadata": {
        "id": "fcK366nwQcyU"
      }
    },
    {
      "cell_type": "code",
      "source": [
        "# Printing original list x\n",
        "print('Old list:', x)\n",
        "\n",
        "# Redefine the third element in list x\n",
        "x[2] = 8\n",
        "\n",
        "# Printing revised list x\n",
        "print('New list', x)"
      ],
      "metadata": {
        "id": "9LDpfeUbQssa"
      },
      "execution_count": null,
      "outputs": []
    },
    {
      "cell_type": "markdown",
      "source": [
        "Taking this a step further, we can also define variables to be equal to other lists."
      ],
      "metadata": {
        "id": "HPICw44BRSh4"
      }
    },
    {
      "cell_type": "code",
      "source": [
        "# Defining y to be equal to x\n",
        "y=x\n",
        "\n",
        "# Printing list y\n",
        "print('y list:', y)"
      ],
      "metadata": {
        "id": "W65IQM8HRZxW"
      },
      "execution_count": null,
      "outputs": []
    },
    {
      "cell_type": "markdown",
      "source": [
        "However, if we modify `x`, this will also modify `y` because `y` is defined to be whatever `x` (even if it changes). This is called 'Direct Modification'."
      ],
      "metadata": {
        "id": "8NFRJJutRqpu"
      }
    },
    {
      "cell_type": "code",
      "source": [
        "# Modify list x\n",
        "x[2] = 9\n",
        "\n",
        "# Compare lists x and y\n",
        "print('x list:', x)\n",
        "print('y list:', y)"
      ],
      "metadata": {
        "id": "HLzB9oQTRyRB"
      },
      "execution_count": null,
      "outputs": []
    },
    {
      "cell_type": "markdown",
      "source": [
        "To avoid this, there are a number of ways to variable to be copies of list `x` as opposed to the same as list `x`:"
      ],
      "metadata": {
        "id": "ftHcavH0SYDw"
      }
    },
    {
      "cell_type": "code",
      "source": [
        "# Method 1: Use built-in function .copy() to create a copy of x.\n",
        "a = x.copy()\n",
        "\n",
        "# Method 2: Set the variable to a (complete) \"slice\" of x.\n",
        "b = x[:]\n",
        "\n",
        "#Modify list x\n",
        "x[2] = 10\n",
        "print('x list:', x)\n",
        "print('y list:', y) # Will be affected by modification\n",
        "print('a list:', a) # Should be unaffected by modification\n",
        "print('b list:', b) # Should be unaffected by modification"
      ],
      "metadata": {
        "id": "IPCL7hFvSpRI"
      },
      "execution_count": null,
      "outputs": []
    },
    {
      "cell_type": "markdown",
      "source": [
        "## 👾 Array & Matrix Operations: NumPy (np)"
      ],
      "metadata": {
        "id": "P8Poa0Ia8dLl"
      }
    },
    {
      "cell_type": "markdown",
      "source": [
        "An extremely useful aspect of Python is the ability to import and use libraries. A library in Python is a collection of pre-written code (functions, classes, modules) that someone else has already created.\n",
        "\n",
        "NumPy is a popular library that we will use heavily in this class. To import this library we need to run the following code:"
      ],
      "metadata": {
        "id": "5J1_0hZwa1Nt"
      }
    },
    {
      "cell_type": "code",
      "source": [
        "%reset -f\n",
        "# ^Similar to variables, '%reset' will also reset any libraries that you have imported.\n",
        "\n",
        "# Import library (after '%reset')\n",
        "import numpy as np    # If we want to call a numpy function, we can do this\n",
        "                      # using the shorthand np that we defined.\n",
        "                      # Example: 'np.function_name()'"
      ],
      "metadata": {
        "id": "A4uCQ-q5burB"
      },
      "execution_count": null,
      "outputs": []
    },
    {
      "cell_type": "markdown",
      "source": [
        "### Creating Arrays & Matricies"
      ],
      "metadata": {
        "id": "T46jAmSmfTk9"
      }
    },
    {
      "cell_type": "markdown",
      "source": [
        "Although arrays are similar to lists, arrays store numerical information in a manner that is optimized for mathematical operations. Therefore, we will primarily be using arrays in this class (as opposed to lists). We can use the function `np.array()` to convert a list into an array, as long as all the elements are the same type (typically `int` or `float`)."
      ],
      "metadata": {
        "id": "2Hd_DOS0haaO"
      }
    },
    {
      "cell_type": "code",
      "source": [
        "# Create a 1-D array\n",
        "l = [3.1, 3.2, 3.3]\n",
        "a = np.array(l)\n",
        "\n",
        "print(l)\n",
        "print(type(l)) # List\n",
        "\n",
        "print(a)\n",
        "print(type(a)) # NumPy array, not a list"
      ],
      "metadata": {
        "id": "ddnNjxXFgS1R"
      },
      "execution_count": null,
      "outputs": []
    },
    {
      "cell_type": "markdown",
      "source": [
        "This same function (`np.array()`) can also create multi-dimensional arrays (e.g., 2D Matrix)."
      ],
      "metadata": {
        "id": "GEGj1CUth7db"
      }
    },
    {
      "cell_type": "code",
      "source": [
        "# Create a 2-D matrix\n",
        "M = np.array([[3.1, 3.2, 3.3],[4.1, 4.2, 4.3],[5.1, 5.2, 5.3],[6.1, 6.2, 6.3]])\n",
        "print(M)"
      ],
      "metadata": {
        "id": "O0zYpyMUh5kS"
      },
      "execution_count": null,
      "outputs": []
    },
    {
      "cell_type": "markdown",
      "source": [
        "### Indexing & Slicing Matricies"
      ],
      "metadata": {
        "id": "UfuWb2N2fXXl"
      }
    },
    {
      "cell_type": "markdown",
      "source": [
        "Matrix indexing follows the convention [`row`, `column`]\n",
        "\n",
        "🧠 A trick for remembering this is that when making a list, you usually write your numbers going downwards first (by row):\n",
        "1. Item 1\n",
        "2. Item 2\n",
        "3. Item 3\n",
        "4. ...\n",
        "\n",
        "Then if you needed to make a second list, you could write this list next to your original list (by column). And so on.\n",
        "\n",
        "Therefore (using Python's notation for counting by starting at 0), if you have an $n \\times m$ matrix $M$, and you want the second row ($n=1$) and the third column ($m=2$), the index would be $M[1,2]$. This index goes down first (row) and then goes out (column)."
      ],
      "metadata": {
        "id": "fPaHkT2ySCWo"
      }
    },
    {
      "cell_type": "code",
      "source": [
        "# Print orignal matrix\n",
        "print(M)\n",
        "\n",
        "#Print index for n=1, m=2\n",
        "print(M[1,2])"
      ],
      "metadata": {
        "id": "ZyT7ZLPcTZzu"
      },
      "execution_count": null,
      "outputs": []
    },
    {
      "cell_type": "markdown",
      "source": [
        "Slicing works the same as it did for lists/arrays, except now you need to consider rows and columns."
      ],
      "metadata": {
        "id": "ZmVFieNVT3Va"
      }
    },
    {
      "cell_type": "code",
      "source": [
        "# Examples of slicing with a matrix\n",
        "import numpy as np\n",
        "\n",
        "print(M[:],'\\n')             # Copy all rows (same as M)\n",
        "print(M[1:],'\\n')            # From row 1 to end\n",
        "print(M[:, 1],'\\n')          # Second column as a 1D array\n",
        "print(M[:, 1:3],'\\n')        # All rows, columns 1 and 2\n",
        "print(M[::2, ::2],'\\n')      # Every other row and column (top-left and bottom-right elements)\n",
        "print(M[::-1, :],'\\n')       # Reverse row order\n",
        "print(M[:, ::-1],'\\n')       # Reverse column order\n",
        "print(M[1, :],'\\n')          # Row 1 as a 1D array\n",
        "print(M[1:3, 0:2],'\\n')      # Submatrix: rows 1-2, columns 0-1\n",
        "print(M[1:, 1:],'\\n')        # Bottom-right 2x2 submatrix\n",
        "\n",
        "# Note: '\\n' adds a space between printed lines."
      ],
      "metadata": {
        "id": "CfHCP2cHT-MW"
      },
      "execution_count": null,
      "outputs": []
    },
    {
      "cell_type": "markdown",
      "source": [
        "Logical operators can also be implemented to keep values that only meet a certain condition."
      ],
      "metadata": {
        "id": "T8eivt3DWakc"
      }
    },
    {
      "cell_type": "code",
      "source": [
        "# Example of applying a logical operator to matrix indexing\n",
        "print(M[M > 5])             # Print elements greater than 5\n",
        "# ^Notice that M appears in the index argument"
      ],
      "metadata": {
        "id": "u8G9lDIXUCOk"
      },
      "execution_count": null,
      "outputs": []
    },
    {
      "cell_type": "markdown",
      "source": [
        "Just like with lists/arrays, elements of a matrix can be redefined."
      ],
      "metadata": {
        "id": "EeSGdmHaXDRP"
      }
    },
    {
      "cell_type": "code",
      "source": [
        "# Print original matrix\n",
        "print('Original Matrix: \\n', M)\n",
        "\n",
        "# Redefine value in row 2, column 2\n",
        "M[1,1] = 100\n",
        "\n",
        "# Print revised matrix\n",
        "print('Revised Matrix: \\n', M)"
      ],
      "metadata": {
        "id": "NCKuDZPlXMEz"
      },
      "execution_count": null,
      "outputs": []
    },
    {
      "cell_type": "markdown",
      "source": [
        "### Common Functions for Matrix Operations"
      ],
      "metadata": {
        "id": "ELu7yXlFfZ6Z"
      }
    },
    {
      "cell_type": "code",
      "source": [
        "# Shape of Matrix M\n",
        "print(M.shape)      # Output: (# of rows, # of columns)\n",
        "\n",
        "print(M.shape[0])   # Output: # of rows\n",
        "\n",
        "print(M.shape[0])   # Output: # of columns"
      ],
      "metadata": {
        "id": "CttgiA9vXyjJ"
      },
      "execution_count": null,
      "outputs": []
    },
    {
      "cell_type": "code",
      "source": [
        "# Matrix Transpose\n",
        "print(M.T)        # Output: Transpose of Matrix (swap rows and columns)"
      ],
      "metadata": {
        "id": "Tx3uN1BiXzFO"
      },
      "execution_count": null,
      "outputs": []
    },
    {
      "cell_type": "code",
      "source": [
        "# Create array from range of values\n",
        "x = np.arange(1,20,3) # array range: start, stop, step\n",
        "print(x)              # The output is an actual array of values\n",
        "print(type(x))\n",
        "\n",
        "# Compare to Python's built-in range() function\n",
        "print('\\n')   # Create a gap between printed outputs.\n",
        "x_range = range(1,20,3)\n",
        "print(x_range)          # This is a unique class type known as 'range'\n",
        "print(type(x_range))    # These are often used for loops and iterations."
      ],
      "metadata": {
        "id": "O0wmvT7qXzhc"
      },
      "execution_count": null,
      "outputs": []
    },
    {
      "cell_type": "code",
      "source": [
        "M_0 = np.zeros((2,3)) # matrix of zeros\n",
        "print(M_0)\n",
        "\n",
        "M0_like1 = np.zeros(M.shape)  #For 3x3 matrix M, not M_0\n",
        "print('\\nZero Matrix the same Shape as M')\n",
        "print(M0_like1)\n",
        "\n",
        "M0_like2 = np.zeros_like(M)   #For 3x3 matrix M, not M_0\n",
        "print('\\nZero Matrix like M')\n",
        "print(M0_like2)"
      ],
      "metadata": {
        "id": "GmBI9iafYG_X"
      },
      "execution_count": null,
      "outputs": []
    },
    {
      "cell_type": "code",
      "source": [
        "M_1 = np.ones((2,3)) # matrix of ones\n",
        "print(M_1)\n",
        "\n",
        "M1_like1 = np.ones(M.shape)  #For 3x3 matrix M, not M_0\n",
        "print('\\nOnes Matrix the same Shape as M')\n",
        "print(M1_like1)\n",
        "\n",
        "M1_like2 = np.ones_like(M)   #For 3x3 matrix M, not M_0\n",
        "print('\\nOnes Matrix like M')\n",
        "print(M1_like2)"
      ],
      "metadata": {
        "id": "qdSE0xeRYJ-L"
      },
      "execution_count": null,
      "outputs": []
    },
    {
      "cell_type": "code",
      "source": [
        "# Identity Matrix\n",
        "M_I = np.eye(3)   # Identity matrix, size 3x3\n",
        "print(M_I)\n",
        "\n",
        "# Partial Identity Matrix\n",
        "print('\\n')\n",
        "M_i = np.eye(2,3) # Partial identity matrix starts with upper right corner\n",
        "print(M_i)"
      ],
      "metadata": {
        "id": "iY9baXQTYKf2"
      },
      "execution_count": null,
      "outputs": []
    },
    {
      "cell_type": "code",
      "source": [
        "# Diagonal Matrix\n",
        "D = np.diag([1, 2, 3, 4])  # Creates a matrix with array values as the diagonal\n",
        "print(D)"
      ],
      "metadata": {
        "id": "Qls2GA6gs06g"
      },
      "execution_count": null,
      "outputs": []
    },
    {
      "cell_type": "code",
      "source": [
        "# Matrix Summation\n",
        "print('Original Matrix')\n",
        "print(D,'\\n')\n",
        "\n",
        "print('Sum over entire matrix')\n",
        "print(D.sum())          # sum over all values\n",
        "print(np.sum(D))        # sum over all values\n",
        "print('\\n')\n",
        "\n",
        "print('Sum of second row onward')\n",
        "print(D[1:,:].sum())     # sum first two rows\n",
        "print(np.sum(D[1:,:]))   # sum first two rows"
      ],
      "metadata": {
        "id": "vo1yhpaiYOmH"
      },
      "execution_count": null,
      "outputs": []
    },
    {
      "cell_type": "code",
      "source": [
        "# Other matrix operations\n",
        "print('Mean matrix value (including 0s)')\n",
        "print(D.mean())         # mean over all values (including 0's)\n",
        "print(np.mean(D))       # mean over all values (including 0's)\n",
        "print('\\n')\n",
        "\n",
        "print('Max matrix value')\n",
        "print(D.max())          # max value of matrix\n",
        "print(np.max(D))        # max value of matrix\n",
        "print('\\n')\n",
        "\n",
        "print('Max matrix value')\n",
        "print(D.min())          # min value of matrix\n",
        "print(np.min(D))        # min value of matrix"
      ],
      "metadata": {
        "id": "jtWS-i6x2vuK"
      },
      "execution_count": null,
      "outputs": []
    },
    {
      "cell_type": "markdown",
      "source": [
        "Note that the redundancy of the operations above are the result of both Python and NumPy having their own built-in functions that achieve the same thing (e.g., `sum()`, `mean()`, `max()`, `min()`)"
      ],
      "metadata": {
        "id": "qIQ702GVwK99"
      }
    },
    {
      "cell_type": "markdown",
      "source": [
        "Althought above functions primarily concerned matrix operations, NumPy has many other mathematical functions as well. For a more comprehensive list of NumPy's functions and how to use them see the [Beginner's Guide to Python (Programiz)](https://www.programiz.com/python-programming/numpy#guide)"
      ],
      "metadata": {
        "id": "rw1YP28Mfnie"
      }
    },
    {
      "cell_type": "markdown",
      "source": [
        "### Matrix Math"
      ],
      "metadata": {
        "id": "ETBmTqNqfoca"
      }
    },
    {
      "cell_type": "markdown",
      "source": [
        "Matrix math is essential for linear algebra and is generally the most computationally efficient way to solve systems of coupled equations.\n",
        "\n",
        "Note that Python uses a slightly different notation for matrix operations than Matlab."
      ],
      "metadata": {
        "id": "HqJithg7xNsp"
      }
    },
    {
      "cell_type": "code",
      "source": [
        "m1 = np.ones((3,3))     # 3x3 matrix of 1s\n",
        "m2 = 3*np.ones((3,3))   # Multiplying a matrix by a scalar\n",
        "print('m1 = \\n',m1)\n",
        "print('\\n')\n",
        "print('m2 = \\n',m2)"
      ],
      "metadata": {
        "id": "DpYuOlr5wwdw"
      },
      "execution_count": null,
      "outputs": []
    },
    {
      "cell_type": "code",
      "source": [
        "print(m1 * m2) # elementwise multiplication (In Matlab: m1.*m2)"
      ],
      "metadata": {
        "id": "XDwuuVIUw0WU"
      },
      "execution_count": null,
      "outputs": []
    },
    {
      "cell_type": "code",
      "source": [
        "print(m1 @ m2) # matrix multiplication (In Matlab: m1*m2)"
      ],
      "metadata": {
        "id": "n1gJ19okw3ws"
      },
      "execution_count": null,
      "outputs": []
    },
    {
      "cell_type": "code",
      "source": [
        "print(m1 / m2) # elementwise division (In Matlab: m1./m2)"
      ],
      "metadata": {
        "id": "cOHaTH8Rw7it"
      },
      "execution_count": null,
      "outputs": []
    },
    {
      "cell_type": "code",
      "source": [
        "print(m1 + m2) # elementwise addition\n",
        "print('\\n')\n",
        "print(m2 - m1) # elementwise subtraction"
      ],
      "metadata": {
        "id": "VYKbOulDw-Sn"
      },
      "execution_count": null,
      "outputs": []
    },
    {
      "cell_type": "code",
      "source": [
        "print(m2 ** 2) # elementwise power (In Matlab: m2.^2)"
      ],
      "metadata": {
        "id": "-glAkqtYxBu9"
      },
      "execution_count": null,
      "outputs": []
    },
    {
      "cell_type": "markdown",
      "source": [
        "## 🤷 If-Else Statements"
      ],
      "metadata": {
        "id": "hvCzr09V8J9l"
      }
    },
    {
      "cell_type": "markdown",
      "source": [
        "Syntax for an `if-else` statement:"
      ],
      "metadata": {
        "id": "zRi3mpbH0p_d"
      }
    },
    {
      "cell_type": "code",
      "source": [
        "# Basic structure\n",
        "if condition:\n",
        "    # Code block if the condition is True\n",
        "elif second_condition:\n",
        "    # Code block if the previous condition is False and this one is True\n",
        "elif another_condition:\n",
        "    # You can have multiple elif conditions.\n",
        "    # Code block if all previous conditions are False and this one is True\n",
        "else:\n",
        "    # Code block if none of the above conditions are True\n"
      ],
      "metadata": {
        "id": "HAUKmIOS0vrS"
      },
      "execution_count": null,
      "outputs": []
    },
    {
      "cell_type": "markdown",
      "source": [
        "Common Syntax Errors:\n",
        "* Forgetting the colon (`:`) after the if, elif, or else condition.\n",
        "* Not indenting after initiating an if, elif, or else condition.\n",
        "* Mixing tabs and spaces for indentation.\n",
        "* Using `=` (assignment) instead of `==` (comparison)."
      ],
      "metadata": {
        "id": "GPDteJPWxJPS"
      }
    },
    {
      "cell_type": "code",
      "source": [
        "# Basic example of an if-else statement\n",
        "age = 18\n",
        "if age < 18:\n",
        "    print(\"You are still a minor.\")\n",
        "elif age == 18:\n",
        "    print(\"You just became an adult!\")\n",
        "else:\n",
        "    print(\"You are an adult.\")"
      ],
      "metadata": {
        "id": "aRybOmydxoNl"
      },
      "execution_count": null,
      "outputs": []
    },
    {
      "cell_type": "markdown",
      "source": [
        "### Relational Operators"
      ],
      "metadata": {
        "id": "CR6lJFeZ0X62"
      }
    },
    {
      "cell_type": "markdown",
      "source": [
        "To determine whether a condition is met, we can use relational operators as a means of comparison:\n",
        "* Equal to: `==`\n",
        "* Not equal to: `!=`\n",
        "* Greater than: `>`\n",
        "* Less than: `<`\n",
        "* Greater than or equal to: `>=`\n",
        "* Less than or equal to: `<=`"
      ],
      "metadata": {
        "id": "3MZ1BwITxcVv"
      }
    },
    {
      "cell_type": "code",
      "source": [
        "# Example of Using Relational Operators\n",
        "a = 1\n",
        "b = 2\n",
        "\n",
        "# equal to: ==\n",
        "print(a == b)\t\t# Output: False\n",
        "print(a == a)\t\t# Output: True\n",
        "print(b == b)\t\t# Output: True\n",
        "\n",
        "# not equal to: !=\n",
        "print(a != b)\t\t# Output: True\n",
        "print(a != a)\t\t# Output: False\n",
        "print(b != b)\t\t# Output: False\n",
        "\n",
        "# greater than: >, less than: <\n",
        "print(a > b)\t\t# Output: False\n",
        "print(a < b)\t\t# Output: True\n",
        "\n",
        "# greater than or equal: >=, less than or equal: <=\n",
        "print(a >= b) \t# Output: False\n",
        "print(a >= a)\t\t# Output: True\n",
        "print(a <= b)\t\t# Output: True\n",
        "print(a <= a)\t\t# Output: False"
      ],
      "metadata": {
        "id": "zbMBi2xky0xq"
      },
      "execution_count": null,
      "outputs": []
    },
    {
      "cell_type": "markdown",
      "source": [
        "### Logical Operators"
      ],
      "metadata": {
        "id": "Nx0xexMjzeRL"
      }
    },
    {
      "cell_type": "markdown",
      "source": [
        "If analyzing a conditon or comparing multiple conditions, we can use logical operators:\n",
        "* Both conditions must be True: `and`, `&`\n",
        "* At least one condition must be True: `or`, `|`\n",
        "* Inverts the condition: `not`"
      ],
      "metadata": {
        "id": "DykW4fXKzox0"
      }
    },
    {
      "cell_type": "code",
      "source": [
        "# Example of Using Logical Operators\n",
        "a = True\n",
        "b = False\n",
        "\n",
        "# AND Statements - Both must be True\n",
        "print(a and b)\t# Output: False\n",
        "print(a & b)\t\t# Output: False\n",
        "\n",
        "# OR Statements - Either must be True\n",
        "print(a or b)\t\t# Output: True\n",
        "print(a | b)\t\t# Output: True\n",
        "\n",
        "# NOT Statements -\n",
        "print(not a) # Output: False\n",
        "print(not b) # Output: True\n",
        "# ^Technically ~ can indicate NOT, but this for bitwise (binary) operations, not logical operations."
      ],
      "metadata": {
        "id": "U7LtbVgA0dqN"
      },
      "execution_count": null,
      "outputs": []
    },
    {
      "cell_type": "markdown",
      "source": [
        "## 🌀 Loops"
      ],
      "metadata": {
        "id": "eyBGi3Zw8MZE"
      }
    },
    {
      "cell_type": "markdown",
      "source": [
        "A loop is a way to repeat a block of code multiple times — either a set number of times (`for` loop) or until a condition is met (`while` loop)."
      ],
      "metadata": {
        "id": "_YxgPOZZ08BI"
      }
    },
    {
      "cell_type": "markdown",
      "source": [
        "### For Loops"
      ],
      "metadata": {
        "id": "Hz27to5tz118"
      }
    },
    {
      "cell_type": "markdown",
      "source": [
        "A `for` loop is used to iterate over a sequence (like a list, string, or range) — when you know how many times you want to repeat something."
      ],
      "metadata": {
        "id": "l9fRv1vl8HEH"
      }
    },
    {
      "cell_type": "code",
      "source": [
        "# Basic Structure of a For Loop\n",
        "for variable in iterable:\n",
        "    # Code block to execute"
      ],
      "metadata": {
        "id": "WNTOKsG_8Gc0"
      },
      "execution_count": null,
      "outputs": []
    },
    {
      "cell_type": "markdown",
      "source": [
        "* Note that \"variable\" doesn't need to be defined beforehand. In fact, the length (or number of times that the code block will be executed) of \"variable\" is defined by the length of \"iterable\".\n",
        "* Furthermore, \"iterable\" must be a list, array, or range() (can also be a string or dictionary, but less common for this course).\n"
      ],
      "metadata": {
        "id": "FTf24Lya8kSO"
      }
    },
    {
      "cell_type": "code",
      "source": [
        "# Examples of variables and iterables in For Loops\n",
        "\n",
        "# 1. Loop through a list\n",
        "numbers = [1, 2, 3, 4]\n",
        "for num in numbers:\n",
        "    print(num)\n",
        "# Output: 1 2 3 4\n",
        "\n",
        "\n",
        "# 2. Loop through a range of numbers\n",
        "for i in range(5):\n",
        "    print(i)\n",
        "# Output: 0 1 2 3 4"
      ],
      "metadata": {
        "id": "VPk5OCGzz37U"
      },
      "execution_count": null,
      "outputs": []
    },
    {
      "cell_type": "markdown",
      "source": [
        "**Common Syntax Errors**\n",
        "* Forgetting the colon (:) after defining the for loop conditions. [Syntax Error]\n",
        "* Incorrect indentation after the for loop header. Note that everything within the loop should be indented, code that is not indented is considered to be outside of the loop. [IndentationError]\n",
        "* Using an invalid iterable (e.g., a number) instead of a list, tuple, string, range(), or dictionary. [TypeError]\n",
        "* Forgetting to use the same variable from the for loop header in the for loop. [NameError]\n",
        "* Forgetting to include “in” between the variable and the iterable. [SyntaxError]\n",
        "* Altering the iterable inside the loop. If this is the intention, use an unlinked copy of the list, tuple, string, or dictionary that you want to modify as the iterable.\n",
        "* Using range() incorrectly. Remember that range starts at 0 and stops before the end value.\n"
      ],
      "metadata": {
        "id": "3fDCQcBd9ZgZ"
      }
    },
    {
      "cell_type": "markdown",
      "source": [
        "### While Loops"
      ],
      "metadata": {
        "id": "q3_U1gFpz4KZ"
      }
    },
    {
      "cell_type": "markdown",
      "source": [
        "A `while` loop keeps running as long as a condition is True — use it when you don't know in advance how many times it should repeat."
      ],
      "metadata": {
        "id": "dXRdCL_R-CnF"
      }
    },
    {
      "cell_type": "code",
      "source": [
        "# Basic Structure of a While Loop\n",
        "while condition:\n",
        "    # Code block to execute\n",
        "    # Flag is updated to see if original condition still holds"
      ],
      "metadata": {
        "id": "gv6BUV7Iz6Uy"
      },
      "execution_count": null,
      "outputs": []
    },
    {
      "cell_type": "markdown",
      "source": [
        "* Unlike `for` loops, `while` loops will continue to run until a specific condition becomes False. Think about while loops running as long as the condition is True, and then stopping as soon as the condition becomes False.\n",
        "* As a result a \"flag\" or \"loop control variable\" is often modified within the while loop until it causes the while loop condition to become False.\n"
      ],
      "metadata": {
        "id": "K2NVO-wqGo0K"
      }
    },
    {
      "cell_type": "code",
      "source": [
        "# Example of a While Loop\n",
        "count = 0\n",
        "while count < 5:  # Loop until the condition is False\n",
        "    print(count)\n",
        "    count += 1    # The symbol \"+=\" redefines count to increase by +1.\n",
        "# Output: 0 1 2 3 4"
      ],
      "metadata": {
        "id": "G9HPs5IKHLp0"
      },
      "execution_count": null,
      "outputs": []
    },
    {
      "cell_type": "markdown",
      "source": [
        "**Common Syntax Errors**\n",
        "* Forgetting the colon (:) after defining the while loop conditions. [Syntax Error]\n",
        "* Incorrect indentation after the while loop header. Note that everything within the loop should be indented, code that is not indented is considered to be outside of the loop. [IndentationError]\n",
        "* Creating an infinite loop where the while loop condition never becomes False, either due to a logical error or forgetting to update the loop control.\n",
        "* Using assignment (=) instead of comparison (==) for the while loop condition. [SyntaxError]\n",
        "* Unlike for loops, the variable used as the flag in the while loop condition must be “initialized” (defined) prior to the while loop. [NameError]\n",
        "* Forgetting to update the flag—as mentioned previously—will cause an infinite loop.\n"
      ],
      "metadata": {
        "id": "rCWYEQDNHjbT"
      }
    },
    {
      "cell_type": "markdown",
      "source": [
        "**Breaking an Infinite Loop**\n",
        "\n",
        "When used with `if-else` statements, the `break` command can be used to prevent a loop that iterates endlessly."
      ],
      "metadata": {
        "id": "3tPiderIHvyd"
      }
    },
    {
      "cell_type": "code",
      "source": [
        "# Example of Breaking an infinite loop\n",
        "count = 0\n",
        "while count >= 0: # Under these conditions, this would always be true.\n",
        "    print(count)\n",
        "    count += 10\n",
        "    if count > 50: # This breaks the loop before count gets too big (> 50).\n",
        "        break\n",
        "# Output: 0 10 20 30 40 50"
      ],
      "metadata": {
        "id": "11HoVvxtIQTY"
      },
      "execution_count": null,
      "outputs": []
    },
    {
      "cell_type": "markdown",
      "source": [
        "### Nested Loops"
      ],
      "metadata": {
        "id": "Gtz7JQ7YSYSk"
      }
    },
    {
      "cell_type": "markdown",
      "source": [
        "Nested loops are just loops inside other loops. Both `for` and `while` loops can be nested within themselves or each other."
      ],
      "metadata": {
        "id": "LEbrWWdlSaKg"
      }
    },
    {
      "cell_type": "code",
      "source": [
        "# Example of a nested For Loop\n",
        "import numpy as np\n",
        "\n",
        "# Define original matrix\n",
        "M = np.array([[1, 2, 3],\n",
        "              [4, 5, 6],\n",
        "              [7, 8, 9]])\n",
        "\n",
        "# Print the original matrix\n",
        "print(\"Original Matrix M:\")\n",
        "print(M)\n",
        "\n",
        "# Create an empty matrix to store the results\n",
        "M_2 = np.zeros_like(M)  # np.zeros_like(M) creates a zeros matrix that is the\n",
        "                        # same shape as M. Alternatively, we could have used:\n",
        "                        # np.zeros(shape(M))\n",
        "\n",
        "# Loop through each element (by column in each row)\n",
        "for row in range(M.shape[0]):\n",
        "    for col in range(M.shape[1]):\n",
        "        M_2[row, col] = M[row, col] * 2 # Multiply element by 2 and store in M_2\n",
        "\n",
        "# Print the result\n",
        "print(\"\\nNew Matrix (Each element multiplied by 2):\")\n",
        "print(M_2)"
      ],
      "metadata": {
        "id": "qhg0T-Y9TjGD"
      },
      "execution_count": null,
      "outputs": []
    },
    {
      "cell_type": "markdown",
      "source": [
        "📚 **In this class**, we will often use nested `for` loops to iterate through rows and columns of a 2D grid."
      ],
      "metadata": {
        "id": "60mbYXSMTY2E"
      }
    },
    {
      "cell_type": "markdown",
      "source": [
        "## 📊 Data Visualization: Matplotlib.PyPlot (plt)"
      ],
      "metadata": {
        "id": "kM1UnsQd8lEo"
      }
    },
    {
      "cell_type": "markdown",
      "source": [
        "### Importing/Installing Matplotlib"
      ],
      "metadata": {
        "id": "HC8KdNydJsm3"
      }
    },
    {
      "cell_type": "code",
      "source": [
        "#pip install matplotlib\t# This is often unnecessary because matplotlib\n",
        "# is pre-installed in the Google Colab environment.\n",
        "\n",
        "import matplotlib.pyplot as plt"
      ],
      "metadata": {
        "id": "g2J0WemmJxFB"
      },
      "execution_count": null,
      "outputs": []
    },
    {
      "cell_type": "markdown",
      "source": [
        "### Basic Structure of a Plot"
      ],
      "metadata": {
        "id": "eT6JTEJ8KDnX"
      }
    },
    {
      "cell_type": "markdown",
      "source": [
        "* Requires variables (x, y) being plotted to be organized in the same fashion (5-element array).\n",
        "* plt.plot(x, y) creates a line plot (see Common Plot Types on how to specify the plot type).\n",
        "* The plot area is then customized (e.g., title, xlabel, ylabel)."
      ],
      "metadata": {
        "id": "ZD9Qi1BnKF55"
      }
    },
    {
      "cell_type": "code",
      "source": [
        "# Plotting the squared relationship between x (independent) and y (dependent).\n",
        "x = [1, 2, 3, 4, 5]\n",
        "y = [1, 4, 9, 16, 25]\n",
        "\n",
        "plt.plot(x, y)  # Create a simple line plot by default.\n",
        "plt.title(\"Basic Plot\")  # Add a title\n",
        "plt.xlabel(\"X-axis\")  # Label the x-axis\n",
        "plt.ylabel(\"Y-axis\")  # Label the y-axis\n",
        "plt.grid()    # Adding gridlines\n",
        "plt.show()  \t# Display the plot. Google Colab will plot this, even without\n",
        "              # plt.show(), but may be necessary in other coding environments."
      ],
      "metadata": {
        "id": "z4zV6bsfKL3I"
      },
      "execution_count": null,
      "outputs": []
    },
    {
      "cell_type": "markdown",
      "source": [
        "### Customizing Plots"
      ],
      "metadata": {
        "id": "VxN67ggpNTMp"
      }
    },
    {
      "cell_type": "code",
      "source": [
        "# Adding Titles and Axes Labels\n",
        "plt.plot([1, 2, 3], [1, 4, 9])\n",
        "plt.title(\"Customized Plot\") \t# Plot title\n",
        "plt.xlabel(\"Custom X-axis\") \t# X-Axis Label\n",
        "plt.ylabel(\"Custom Y-axis\")\t# Y-Axis Label\n",
        "plt.grid()\n",
        "plt.show()"
      ],
      "metadata": {
        "id": "PglkBbVBNWVf"
      },
      "execution_count": null,
      "outputs": []
    },
    {
      "cell_type": "code",
      "source": [
        "# Customizing Axes Limits\n",
        "x = [1, 2, 3, 4, 5]\n",
        "y = [1, 4, 9, 16, 25]\n",
        "\n",
        "plt.plot(x, y)\n",
        "plt.xlim(0, 6) # Setting x-axis limit.\n",
        "plt.ylim(0, 30) # Setting y-axis limit.\n",
        "plt.title(\"Custom Axis Limits\")\n",
        "plt.grid()\n",
        "plt.show()"
      ],
      "metadata": {
        "id": "iUFbQizXQStD"
      },
      "execution_count": null,
      "outputs": []
    },
    {
      "cell_type": "code",
      "source": [
        "# Customizing the Legend\n",
        "plt.plot([0, 1, 2, 3], [0, 1, 4, 9], label=\"y = x$^2$\")\n",
        "plt.plot([0, 1, 2, 3], [0, 1, 2, 3], label=\"y = x\")\n",
        "plt.legend(loc=\"upper left\")  \t# Add legend in the upper-left corner\n",
        "plt.grid()\n",
        "plt.show()\n",
        "          \t\t\t\t              # There's also:\n",
        "\t\t\t\t\t                      #  0 or 'best', 1 or 'upper right',\n",
        "                                #  2 or 'upper left', 3 or 'lower left',\n",
        "                                #  4 or 'lower right', 5 or 'right',\n",
        "                                #  6 or 'center left', 7 or 'center right',\n",
        "                                #  8 or 'lower center', 9 or 'upper center',\n",
        "                                #  and 10 or 'center'"
      ],
      "metadata": {
        "id": "d8TUFMq-QYrO"
      },
      "execution_count": null,
      "outputs": []
    },
    {
      "cell_type": "code",
      "source": [
        "# Adding Gridlines\n",
        "plt.plot([1, 2, 3], [1, 4, 9])\n",
        "plt.grid(True)  # Add gridlines\n",
        "plt.show()"
      ],
      "metadata": {
        "id": "NqUNNPjLNiVT"
      },
      "execution_count": null,
      "outputs": []
    },
    {
      "cell_type": "code",
      "source": [
        "# Changing Figure Size\n",
        "plt.figure(figsize=(8, 6), dpi=300)\t# figsize=(8, 6): Sets figure size to 8\n",
        "                                    # inches wide by 6 inches tall.\n",
        "\n",
        "                                    # dpi=300: Increases the default\n",
        "                                    # resolution from 100 dots per inch to\n",
        "                                    # 300 dots per inch.\n",
        "plt.plot([0, 1, 2, 3], [0, 1, 4, 9])\n",
        "plt.title(\"Figure with Custom Size\")\n",
        "plt.grid()\n",
        "plt.show()\n"
      ],
      "metadata": {
        "id": "YtciTbj3QHkB"
      },
      "execution_count": null,
      "outputs": []
    },
    {
      "cell_type": "code",
      "source": [
        "# Changing Line Style, Color, Marker\n",
        "plt.plot([0, 1, 2, 3], [0, 1, 4, 9], linestyle=\"--\", color=\"red\", marker=\"o\")\n",
        "plt.title(\"Custom Line Style\")\n",
        "plt.grid()\n",
        "plt.show()"
      ],
      "metadata": {
        "id": "7UOYvNMvNlsr"
      },
      "execution_count": null,
      "outputs": []
    },
    {
      "cell_type": "markdown",
      "source": [
        "**Table of Common Line Styles, Colors, and Marker Types**\n",
        "\n",
        "|   **Line Style**    |      **Color**       |     **Markers**     |\n",
        "|:-------------------:|:--------------------:|:-------------------:|\n",
        "| Solid Line: '-'     | Blue: 'b', 'blue'    | Point: '.'          |\n",
        "| Dashed Line: '--'   | Green: 'g', 'green'  | Circle: 'o'         |\n",
        "| Dash-Dot Line: '-.' | Red: 'r', 'red'      | X: 'x'              |\n",
        "| No Line: 'None', ' '| Cyan: 'c', 'cyan'    | Plus: '+'           |\n",
        "|                     | Magenta: 'm', 'magenta' | Triangle: '^'    |\n",
        "|                     | Yellow: 'y', 'yellow'   | Down Triangle: 'v'|\n",
        "|                     | Black: 'k', 'black'     | Right Triangle: '>'|\n",
        "|                     | White: 'w', 'white'     | Left Triangle: '<' |\n",
        "|                     |                         | Diamond: 'd'       |\n",
        "|                     |                         | Pentagon: 'p'      |\n",
        "|                     |                         | Hexagon: 'h'       |\n",
        "|                     |                         | Star: '*'          |\n"
      ],
      "metadata": {
        "id": "wEX0PkpPN4sK"
      }
    },
    {
      "cell_type": "markdown",
      "source": [
        "### Common Plot Types"
      ],
      "metadata": {
        "id": "CPXe-aSYK2_7"
      }
    },
    {
      "cell_type": "code",
      "source": [
        "# Default: Line Plot\n",
        "plt.plot([0, 1, 2, 3], [0, 1, 4, 9], label=\"y = x$^2$\")\n",
        "plt.plot([0, 1, 2, 3], [0, 1, 2, 3], label=\"y = x\")\n",
        "plt.title(\"Line Plot Example\")\n",
        "plt.xlabel(\"X-axis\")\n",
        "plt.ylabel(\"Y-axis\")\n",
        "plt.legend()  # Add a legend\n",
        "plt.grid()\n",
        "plt.show()"
      ],
      "metadata": {
        "id": "2RzPgKJ8K8Gl"
      },
      "execution_count": null,
      "outputs": []
    },
    {
      "cell_type": "code",
      "source": [
        "# X-Y Scatter Plot\n",
        "plt.scatter([0, 1, 2, 3], [0, 1, 4, 9], label=\"y = x$^2$\")\n",
        "plt.scatter([0, 1, 2, 3], [0, 1, 2, 3], label=\"y = x\")\n",
        "plt.title(\"Line Plot Example\")\n",
        "plt.xlabel(\"X-axis\")\n",
        "plt.ylabel(\"Y-axis\")\n",
        "plt.legend()  # Add a legend\n",
        "plt.grid()\n",
        "plt.show()"
      ],
      "metadata": {
        "id": "BYAcfSrdLB5-"
      },
      "execution_count": null,
      "outputs": []
    },
    {
      "cell_type": "code",
      "source": [
        "# Bar Chart\n",
        "categories = [\"A\", \"B\", \"C\"]\n",
        "values = [3, 7, 5]\n",
        "\n",
        "plt.bar(categories, values, color=\"skyblue\")\n",
        "plt.title(\"Bar Plot Example\")\n",
        "plt.xlabel(\"Categories\")\n",
        "plt.ylabel(\"Values\")\n",
        "plt.grid()\n",
        "plt.show()"
      ],
      "metadata": {
        "id": "jq21KFx2LR7Y"
      },
      "execution_count": null,
      "outputs": []
    },
    {
      "cell_type": "code",
      "source": [
        "# Histogram\n",
        "import numpy as np\n",
        "\n",
        "data = np.random.randn(1000) \t# np.random.randn(n) gives n random points\n",
        "                              # from a standard normal distribution.\n",
        "\n",
        "                              # Note: a Standard Normal Distribution has a\n",
        "                              # mean of 0 and a standard deviation of 1.\n",
        "\n",
        "plt.hist(data, bins=30, color=\"orange\", edgecolor=\"black\")\n",
        "# ^bins: divides range of data into 30 equally spaced intervals.\n",
        "\n",
        "plt.title(\"Histogram Example\")\n",
        "plt.xlabel(\"Value\")\n",
        "plt.ylabel(\"Frequency\")\n",
        "plt.grid()\n",
        "plt.show()\n"
      ],
      "metadata": {
        "id": "QRthK55uMIkN"
      },
      "execution_count": null,
      "outputs": []
    },
    {
      "cell_type": "markdown",
      "source": [
        "### Multiple Plots"
      ],
      "metadata": {
        "id": "8h7jjh-pLcA7"
      }
    },
    {
      "cell_type": "code",
      "source": [
        "# Simple Subplots\n",
        "plt.subplot(1, 2, 1)  # 1 row, 2 columns, 1st plot\n",
        "plt.plot([1, 2, 3], [1, 4, 9])\n",
        "plt.title(\"Plot 1\")\n",
        "plt.grid()\n",
        "\n",
        "plt.subplot(1, 2, 2)  # 1 row, 2 columns, 2nd plot\n",
        "plt.plot([1, 2, 3], [1, 2, 3])\n",
        "plt.title(\"Plot 2\")\n",
        "plt.grid()\n",
        "\n",
        "plt.tight_layout()  # Adjust spacing (tight)\n",
        "\n",
        "# For manual control over spacing, you can adjust using the following:\n",
        "#plt.subplots_adjust(left=0.1, right=0.9, top=0.9, bottom=0.1, wspace=0.3, hspace=0.4)\n",
        "      # ^left, right: Left and right margins as a fraction of the figure width.\n",
        "      # ^top , bottom: Top and bottom margins as a fraction of the figure height.\n",
        "      # ^wspace: Width spacing between subplots (default is 0.2).\n",
        "      # ^hspace: Height spacing between subplots (default is 0.2).\n",
        "\n",
        "plt.show()"
      ],
      "metadata": {
        "id": "vCYHSB4hLdpw"
      },
      "execution_count": null,
      "outputs": []
    },
    {
      "cell_type": "code",
      "source": [
        "# Advanced Subplots\n",
        "fig, axes = plt.subplots(2, 2, figsize=(8, 6))\n",
        "# fig refers to the entire figure or canvas that holds the subplots, axes, titles, legend, etc.\n",
        "# axes refers to individual subplots inside the figure.\n",
        "\n",
        "axes[0, 0].plot([1, 2, 3], [1, 4, 9])\n",
        "axes[0, 0].set_title(\"Plot 1\")\n",
        "axes[0, 0].grid()\n",
        "\n",
        "axes[0, 1].bar([\"A\", \"B\", \"C\"], [3, 7, 5])\n",
        "axes[0, 1].set_title(\"Plot 2\")\n",
        "axes[0, 1].grid()\n",
        "\n",
        "axes[1, 0].scatter([1, 2, 3], [1, 4, 9])\n",
        "axes[1, 0].set_title(\"Plot 3\")\n",
        "axes[1, 0].grid()\n",
        "\n",
        "axes[1, 1].hist(np.random.randn(100), bins=10)\n",
        "axes[1, 1].set_title(\"Plot 4\")\n",
        "axes[1, 1].grid()\n",
        "\n",
        "plt.tight_layout()\n",
        "plt.show()"
      ],
      "metadata": {
        "id": "QLEKeDOIMlkn"
      },
      "execution_count": null,
      "outputs": []
    },
    {
      "cell_type": "code",
      "source": [
        "# First figure\n",
        "plt.figure(1) # Notice the 1 in plt.figure(1)\n",
        "plt.plot([1, 2, 3], [1, 4, 9])\n",
        "plt.title(\"Figure 1\")\n",
        "plt.grid()\n",
        "\n",
        "# Second figure\n",
        "plt.figure(2) # Notice the 2 in plt.figure(2)\n",
        "plt.plot([1, 2, 3], [1, 2, 3])\n",
        "plt.title(\"Figure 2\")\n",
        "plt.grid()\n",
        "\n",
        "plt.show()"
      ],
      "metadata": {
        "id": "7RCO-bH7M7mC"
      },
      "execution_count": null,
      "outputs": []
    },
    {
      "cell_type": "markdown",
      "source": [
        "There are many nuances to plotting data using Matplotlib. For a more comprehensive guide see [Matplotlib Tutorial (GeeksforGeeks)](https://www.geeksforgeeks.org/matplotlib-tutorial/)."
      ],
      "metadata": {
        "id": "0tXjH2sccJQW"
      }
    },
    {
      "cell_type": "markdown",
      "source": [
        "# 🛠️ Defining Your Own Functions"
      ],
      "metadata": {
        "id": "URnqkQme8OwS"
      }
    },
    {
      "cell_type": "markdown",
      "source": [
        "A function in Python is a reusable block of code that performs a specific task. Python and other libraries have their own pre-built functions (e.g., `print()`, `np.array()`), but you can define your own functions and call it whenever you need it (even if your inputs change)."
      ],
      "metadata": {
        "id": "qjhmEYRgiqFD"
      }
    },
    {
      "cell_type": "code",
      "source": [
        "# Basic Structure for a Function\n",
        "def function_name(parameters):\n",
        "    # Code block\n",
        "    return value  # Optional"
      ],
      "metadata": {
        "id": "CVGwj63kjmrt"
      },
      "execution_count": null,
      "outputs": []
    },
    {
      "cell_type": "markdown",
      "source": [
        "Functions are defined using the `def` keyword, followed by the function's name (must a continuous), parameters in parentheses (multiple inputs must be separated by commas), and a colon (`:`) to signify that the following indented code is part of the function.\n",
        "\n",
        "If you want your function to output anything from running the function, you'll need to specify the out with `return`"
      ],
      "metadata": {
        "id": "kNkHPLKJjmTu"
      }
    },
    {
      "cell_type": "code",
      "source": [
        "%reset -f\n",
        "\n",
        "# Example Function: Double a Number\n",
        "def double(a):\n",
        "    b = 2\n",
        "    return a*b"
      ],
      "metadata": {
        "id": "qEMwWiiMkY3u"
      },
      "execution_count": null,
      "outputs": []
    },
    {
      "cell_type": "code",
      "source": [
        "# Using double() function defined previously\n",
        "a = 3\n",
        "b = 10\n",
        "a2 = double(a)\n",
        "\n",
        "print(a2)\n",
        "print(b)"
      ],
      "metadata": {
        "id": "NQ6Ia1QxljnM"
      },
      "execution_count": null,
      "outputs": []
    },
    {
      "cell_type": "markdown",
      "source": [
        "The above function touches on a concept know \"Scope\". As we can see in the top code cell, we define `b=2` within the function. This variable has \"Local Scope\" meaning that b=2 only within the function. Meanwhile, in the bottom code cell, we define `b=10` outside the function. This variable has \"Global Scope\" meaning that this variable is saved and can be accessed in the global workspace (e.g., outside of functions). This is why our function `double()` still works as intended, even though we have defined `b=10` in the global workspace."
      ],
      "metadata": {
        "id": "Kk_YCNknllr-"
      }
    },
    {
      "cell_type": "code",
      "source": [
        "%reset -f\n",
        "\n",
        "def double(a):\n",
        "    b = 2\n",
        "    return a*b\n",
        "\n",
        "a = 3\n",
        "# Intentionally not defining b = 10\n",
        "a2 = double(a)\n",
        "\n",
        "print(a2)\n",
        "print(b)"
      ],
      "metadata": {
        "id": "tSlGn7hwnMSv"
      },
      "execution_count": null,
      "outputs": []
    },
    {
      "cell_type": "markdown",
      "source": [
        "Furthermore, if we were to clear all variables, re-define our `double()` function, and try to `print(b)` we get a \"NameError\" because `b` is only defined locally within the function and cannot be accessed in the global workspace."
      ],
      "metadata": {
        "id": "TU-DHQOekf_A"
      }
    },
    {
      "cell_type": "markdown",
      "source": [
        "**Catching Edge Cases**\n",
        "\n",
        "The `assert` command is oftentimes used for debugging, but can be used to catch certain cases that may cause your function to execute in a way that it isn't intended."
      ],
      "metadata": {
        "id": "DxkHpX2irQzc"
      }
    },
    {
      "cell_type": "code",
      "source": [
        "# Example function with assert\n",
        "\n",
        "def divide(a, b):\n",
        "    assert b != 0, \"Denominator must not be zero\"\n",
        "    return a / b"
      ],
      "metadata": {
        "id": "WTNgGogotQHX"
      },
      "execution_count": null,
      "outputs": []
    },
    {
      "cell_type": "markdown",
      "source": [
        "As seen above, the syntax for using `assert` involves:\n",
        "* The `assert` command followed by a condition.\n",
        "* A string (`\"\"`) describing the error that would occur that will be outputted with `AssertionError`.\n",
        "* A comma (`,`) is used to separate the condition and the `AssertionError` text."
      ],
      "metadata": {
        "id": "quQrF9vKtjEJ"
      }
    },
    {
      "cell_type": "code",
      "source": [
        "print(divide(10, 2))  # OK"
      ],
      "metadata": {
        "id": "piDaBV3Ttbl2"
      },
      "execution_count": null,
      "outputs": []
    },
    {
      "cell_type": "code",
      "source": [
        "print(divide(10, 0))  # Raises AssertionError"
      ],
      "metadata": {
        "id": "YAjJh84MtcmK"
      },
      "execution_count": null,
      "outputs": []
    },
    {
      "cell_type": "markdown",
      "source": [
        "It should be reiterated that `assert` is typically used for debugging purposes. If you are preparing packaged functions, it is more common to use `raise` is used in combination with `try` and `except` for full error handling."
      ],
      "metadata": {
        "id": "p-PnBkNOp8Wf"
      }
    },
    {
      "cell_type": "markdown",
      "source": [
        "There are many other nuances to writing functions in Python. For more comprehensive guides see [Python Functions (GeeksforGeeks)](https://www.geeksforgeeks.org/python-functions/) and [Python Exception Handling (GeeksforGeeks)](https://www.geeksforgeeks.org/python-exception-handling/)."
      ],
      "metadata": {
        "id": "_xn98P9hrCxh"
      }
    },
    {
      "cell_type": "markdown",
      "source": [
        "## 💪 Try it yourself!\n",
        "\n",
        "The factorial of a number $n!$ is defined as the product of all the positive numbers from $1$ to $n$:\n",
        "$$n! = n(n-1)(n-2)...(2)(1)$$\n",
        "\n",
        "Write a function to calculate the factorial of input $n$, and apply it for the case $n=5$."
      ],
      "metadata": {
        "id": "rxKN_khlnuch"
      }
    },
    {
      "cell_type": "code",
      "source": [],
      "metadata": {
        "id": "jjlZC87AdjCA"
      },
      "execution_count": null,
      "outputs": []
    },
    {
      "cell_type": "markdown",
      "source": [
        "## 👈 If you're stuck, click the 🔽 button on the left for hints."
      ],
      "metadata": {
        "id": "POAZzSBjn-oM"
      }
    },
    {
      "cell_type": "markdown",
      "source": [
        "### 🤔 Hint #1"
      ],
      "metadata": {
        "id": "FxFR1elao2Tv"
      }
    },
    {
      "cell_type": "markdown",
      "source": [
        "Remember the structure of a the function."
      ],
      "metadata": {
        "id": "Cjhm3gbmwpnU"
      }
    },
    {
      "cell_type": "code",
      "source": [
        "def factorial(n):           # n is our input argument\n",
        "    # [Insert code here.]\n",
        "    return f                # f is our output"
      ],
      "metadata": {
        "id": "FntofTj5wuK3"
      },
      "execution_count": null,
      "outputs": []
    },
    {
      "cell_type": "markdown",
      "source": [
        "### 😅 Hint #2"
      ],
      "metadata": {
        "id": "euNbuCXrpf9H"
      }
    },
    {
      "cell_type": "markdown",
      "source": [
        "Remember how we take a factorial:\n",
        "1. We start with a number ($n$).\n",
        "2. We subtract 1 ($n-1$) and multiply this by our original number.\n",
        "3. We $x$ number of times repeat this until $n-x=1$.\n",
        "\n",
        "Based on the above operation, this seems well-suited for a `while` loop."
      ],
      "metadata": {
        "id": "1AuifBinyMX3"
      }
    },
    {
      "cell_type": "code",
      "source": [
        "def factorial(n):\n",
        "    f = n\n",
        "    while n-1 > 0:\n",
        "      f = f * (n-1)\n",
        "      n = n-1\n",
        "    return f"
      ],
      "metadata": {
        "id": "Vx_ih76O2LY8"
      },
      "execution_count": null,
      "outputs": []
    },
    {
      "cell_type": "markdown",
      "source": [
        "### 🥲 Hint #3"
      ],
      "metadata": {
        "id": "o8g3s11Lpin1"
      }
    },
    {
      "cell_type": "markdown",
      "source": [
        "Don't forget to handle inputs that would cause our function to breakdown:\n",
        "1. Input must be positive.\n",
        "2. Input must be an integer.\n",
        "3. If the input is $0$, we need an exception for $0! = 1$\n",
        "\n",
        "To handle these cases, we can use the `assert` command within our function to handling these cases."
      ],
      "metadata": {
        "id": "ze-vfQIKwaPW"
      }
    },
    {
      "cell_type": "code",
      "source": [
        "assert input >= 0, 'Error: n must be positive'\n",
        "\n",
        "assert type(input) == int, 'Error: n must be an integer'\n",
        "\n",
        "if f == 0:       # Catches the case where n = 0 so that 0! = 1\n",
        "  f=1"
      ],
      "metadata": {
        "id": "GY9nioPaxh-1"
      },
      "execution_count": null,
      "outputs": []
    },
    {
      "cell_type": "markdown",
      "source": [
        "### 🥳 Check your solution!"
      ],
      "metadata": {
        "id": "4zVKT-Whot2Z"
      }
    },
    {
      "cell_type": "code",
      "execution_count": null,
      "metadata": {
        "id": "tPCYQKL9NXwU"
      },
      "outputs": [],
      "source": [
        "def factorial(n):\n",
        "\n",
        "    # input error checking: must be a positive integer\n",
        "    # syntax is \"assert (condition), (message if false)\"\n",
        "    assert n >= 0, 'Error: n must be positive'\n",
        "    assert type(n) == int, 'Error: n must be an integer'\n",
        "\n",
        "    f = n\n",
        "    while n-1 > 0:\n",
        "      f = f * (n-1)\n",
        "      n = n-1\n",
        "\n",
        "    if f == 0:       # Catches the case where n = 0 so that 0! = 1\n",
        "      f=1\n",
        "\n",
        "    return f"
      ]
    },
    {
      "cell_type": "code",
      "execution_count": null,
      "metadata": {
        "id": "lNqdCBQaNXwU"
      },
      "outputs": [],
      "source": [
        "print('5! = ', factorial(5))"
      ]
    },
    {
      "cell_type": "markdown",
      "source": [
        "# 💾 Saving Google Colab Notebook as PDF"
      ],
      "metadata": {
        "id": "7AKtx2r0RcGA"
      }
    },
    {
      "cell_type": "markdown",
      "source": [
        "If you try to directly print Google Colab notebooks to PDF, the formatting will likely become misconfigured (e.g., text cutoff, overlapping text, incomplete document). Therefore, I recommend the following approach for printing your notebook to PDF (**Note**: this is the format I expect to see your homework in):\n",
        "\n",
        "0. Make sure you've run all of your code cells and you don't have any cells hidden by uncollapse section headings.\n",
        "1. Click on `file` → `Download` → `Download .ipynb`\n",
        "2. Download the file (e.g. \"L01_Sp25.ipynb\") onto your computer.\n",
        "3. Click on the 📁 icon on the vertical bar on the lefthand side of your browser window (although the filepath is hidden, this is the \"content\" folder).\n",
        "4. Drag your downloaded notebook (\"L01_Sp25.ipynb\") into this content folder.\n",
        "5. Run the following line of code to convert your uploaded notebook (\"L01_Sp25.ipynb\") into an HTML file (\"L01_Sp25.html\"). Be sure to adjust the filename in the code below if your uploaded notebook has a differnt filename."
      ],
      "metadata": {
        "id": "MU9-mGUnRyd_"
      }
    },
    {
      "cell_type": "code",
      "source": [
        "!jupyter nbconvert --to html --template classic /content/L01_Sp25.ipynb"
      ],
      "metadata": {
        "id": "g9g54euYRj5g"
      },
      "execution_count": null,
      "outputs": []
    },
    {
      "cell_type": "markdown",
      "source": [
        "6. Running the above code will save the new HTML file (\"L01_Sp25.html\") in the same location as the uploaded notebook file (i.e., in the \"content\" folder).\n",
        "7. Be sure to check for rendering issues. Common issues include: (i) creating a table with a mix of spaces and tabs; (ii) using in-line mode (`$`...`$`) for LaTeX Math formatting instead of display mode (`$$`...`$$`) when creating larger matrix equations (e.g., `\\begin{bmatrix}...\\end{bmartix}`)\n",
        "8. Click on ⠇ icon that appears when your cursor hovers over your new HTML file (\"L01_Sp25.html\") and click `Download`.\n",
        "9. Open the downloaded HTML file (\"L01_Sp25.html\") using your browser.\n",
        "10. Click `File`  → `Print` (or `⌘/Ctrl + P`) to print the opened HTML file as a PDF file (\"L01_Sp25.pdf\").\n"
      ],
      "metadata": {
        "id": "IU7fTh_rWTW6"
      }
    }
  ],
  "metadata": {
    "hide_input": false,
    "kernelspec": {
      "display_name": "Python 3 (ipykernel)",
      "language": "python",
      "name": "python3"
    },
    "language_info": {
      "codemirror_mode": {
        "name": "ipython",
        "version": 3
      },
      "file_extension": ".py",
      "mimetype": "text/x-python",
      "name": "python",
      "nbconvert_exporter": "python",
      "pygments_lexer": "ipython3",
      "version": "3.12.8"
    },
    "latex_envs": {
      "LaTeX_envs_menu_present": true,
      "autoclose": false,
      "autocomplete": true,
      "bibliofile": "biblio.bib",
      "cite_by": "apalike",
      "current_citInitial": 1,
      "eqLabelWithNumbers": true,
      "eqNumInitial": 1,
      "hotkeys": {
        "equation": "Ctrl-E",
        "itemize": "Ctrl-I"
      },
      "labels_anchors": false,
      "latex_user_defs": false,
      "report_style_numbering": false,
      "user_envs_cfg": false
    },
    "toc": {
      "base_numbering": 1,
      "nav_menu": {},
      "number_sections": true,
      "sideBar": true,
      "skip_h1_title": false,
      "title_cell": "Table of Contents",
      "title_sidebar": "Contents",
      "toc_cell": false,
      "toc_position": {},
      "toc_section_display": true,
      "toc_window_display": false
    },
    "varInspector": {
      "cols": {
        "lenName": "40",
        "lenType": 16,
        "lenVar": "100"
      },
      "kernels_config": {
        "python": {
          "delete_cmd_postfix": "",
          "delete_cmd_prefix": "del ",
          "library": "var_list.py",
          "varRefreshCmd": "print(var_dic_list())"
        },
        "r": {
          "delete_cmd_postfix": ") ",
          "delete_cmd_prefix": "rm(",
          "library": "var_list.r",
          "varRefreshCmd": "cat(var_dic_list()) "
        }
      },
      "types_to_exclude": [
        "module",
        "function",
        "builtin_function_or_method",
        "instance",
        "_Feature"
      ],
      "window_display": false
    },
    "colab": {
      "provenance": [],
      "collapsed_sections": [
        "odL4ElZJN6oz",
        "Tdwiv5I9T4lS",
        "42Qhvpitp-L_",
        "ZGEypgbfqoZg",
        "_cPY2zm0rDsI",
        "ZGFpEVfmnh2C",
        "3rjS7nqipqih",
        "iJYYQXsoVIta",
        "URnqkQme8OwS",
        "POAZzSBjn-oM",
        "FxFR1elao2Tv",
        "euNbuCXrpf9H",
        "o8g3s11Lpin1",
        "4zVKT-Whot2Z",
        "7AKtx2r0RcGA"
      ]
    }
  },
  "nbformat": 4,
  "nbformat_minor": 0
}