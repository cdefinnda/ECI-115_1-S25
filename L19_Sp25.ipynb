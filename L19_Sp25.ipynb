{
  "cells": [
    {
      "cell_type": "markdown",
      "source": [
        "# Lecture 19: Partial Differential Equations - Hyperbolic 🌊"
      ],
      "metadata": {
        "id": "nJFm9BNJS1aJ"
      }
    },
    {
      "cell_type": "markdown",
      "metadata": {
        "id": "KZ8SiJ1YwaT6"
      },
      "source": [
        "## 1. 1-D Wave equation\n",
        "\n",
        "$$\\frac{\\partial^2 u}{\\partial t^2} = c^2 \\frac{\\partial^2 u}{\\partial x^2}$$\n",
        "\n",
        "\n",
        "$x \\in [0,1]$, $t \\in [0,5]$ seconds. Use $\\Delta x = 0.01$ cm and $\\Delta t = 0.005$ s with $c = 1$.\n",
        "\n",
        "Boundary conditions: $u(0,t) = 0$, $u(1,t) = 0$\n",
        "\n",
        "Initial conditions: $u(x,0) = \\sin(n\\pi/L)$,  $n=1,2,3...$\n",
        "\n",
        "And $\\frac{\\partial u}{\\partial t}(x,0) = 0$\n",
        "\n",
        "Solve with explicit FDM, then solve again with Neumann BCs: $\\frac{\\partial u}{\\partial x} = 0$.\n"
      ]
    },
    {
      "cell_type": "code",
      "execution_count": null,
      "metadata": {
        "ExecuteTime": {
          "end_time": "2020-03-20T05:10:15.051813Z",
          "start_time": "2020-03-20T05:10:14.933944Z"
        },
        "id": "KYfYs9WDwaT8"
      },
      "outputs": [],
      "source": [
        "import numpy as np\n",
        "import matplotlib.pyplot as plt"
      ]
    },
    {
      "cell_type": "code",
      "execution_count": null,
      "metadata": {
        "ExecuteTime": {
          "end_time": "2020-03-20T05:10:15.051813Z",
          "start_time": "2020-03-20T05:10:14.933944Z"
        },
        "id": "h_WPYLx2waT8"
      },
      "outputs": [],
      "source": [
        "dx = 0.01\n",
        "dt = 0.005\n",
        "L = 1\n",
        "tmax = 5\n",
        "c = 1\n",
        "C = c*dt/dx # Courant number, <=1 for stability\n",
        "print(C)\n",
        "\n",
        "x = np.arange(0, L+dx, dx)\n",
        "t = np.arange(0, tmax+dt, dt)\n",
        "u = np.zeros((len(x), len(t)))\n",
        "\n",
        "n = 1 # initial condition sin(n*pi/L)\n",
        "u[:,0] = np.sin(n*np.pi*x/L)\n",
        "\n",
        "# first timestep - zero velocity condition\n",
        "for i in range(1, len(x)-1):\n",
        "    u[i,1] = u[i,0] - 0.5 * C**2 * (u[i+1,0] - 2*u[i,0] + u[i-1,0])\n",
        "\n",
        "# explicit solution over all remaining timesteps\n",
        "for k in range(1, len(t)-1):\n",
        "    for i in range(1,len(x)-1):\n",
        "        u[i,k+1] = -u[i,k-1] + 2*u[i,k] + \\\n",
        "                    C**2 * (u[i+1,k] - 2*u[i,k] + u[i-1,k])\n",
        "\n",
        "    u[0,k+1] = 0 # BCs=0 should still be met, but assign anyway\n",
        "    u[-1,k+1] = 0"
      ]
    },
    {
      "cell_type": "markdown",
      "metadata": {
        "id": "qji9ESfwwaT9"
      },
      "source": [
        "To see the results $u(x,t)$, let's create a function that updates the plot every `interval` frames."
      ]
    },
    {
      "cell_type": "code",
      "execution_count": null,
      "metadata": {
        "id": "irx6_fjRwaT9"
      },
      "outputs": [],
      "source": [
        "from IPython import display\n",
        "\n",
        "def animate_1D(u,x,t,interval):\n",
        "    fig = plt.figure()\n",
        "    ax = plt.axes(xlim=(0, 1), ylim=(u.min(), u.max()))\n",
        "    h, = ax.plot(x, u[:,0], lw=1)\n",
        "    plt.xlabel('x')\n",
        "    plt.ylabel('u')\n",
        "\n",
        "    for i in range(len(t)):\n",
        "        if i % interval == 0:\n",
        "            h.set_data(x, u[:,i])\n",
        "            plt.title('t = %0.2f s' % (i*(t[1]-t[0])))\n",
        "            display.display(plt.gcf())\n",
        "            display.clear_output(wait =True)\n",
        "\n",
        "animate_1D(u,x,t, interval=10)"
      ]
    },
    {
      "cell_type": "markdown",
      "metadata": {
        "id": "PnMdm4-QwaT9"
      },
      "source": [
        "Try solving again with different values $n = 1, 2, 3, 4...$ to see oscillations of different frequencies.\n",
        "\n",
        "Next switch to Neumann BCs using $n=2$ for the initial condition. Only the last two lines of the loop need to be updated. To enforce $\\partial u / \\partial x = 0$, we can set `u[0] = u[1]` and `u[-1] = u[-2]`."
      ]
    },
    {
      "cell_type": "code",
      "execution_count": null,
      "metadata": {
        "id": "yzLPwSH9waT9"
      },
      "outputs": [],
      "source": [
        "u = np.zeros((len(x), len(t)))\n",
        "u[:,0] = np.sin(2*np.pi*x/L) # initial condition\n",
        "u[0,0] = u[1,0] # BCs\n",
        "u[-1,0] = u[-2,0]\n",
        "\n",
        "# first timestep - enforce initial derivative condition\n",
        "for i in range(1, len(x)-1):\n",
        "    u[i,1] = u[i,0] - 0.5 * C**2 * (u[i+1,0] - 2*u[i,0] + u[i-1,0])\n",
        "\n",
        "# explicit solution over all remaining timesteps\n",
        "for k in range(1, len(t)-1):\n",
        "    for i in range(1,len(x)-1):\n",
        "        u[i,k+1] = -u[i,k-1] + 2*u[i,k] + \\\n",
        "                    C**2 * (u[i+1,k] - 2*u[i,k] + u[i-1,k])\n",
        "\n",
        "    u[0,k+1] = u[1,k+1] # BCs\n",
        "    u[-1,k+1] = u[-2,k+1]"
      ]
    },
    {
      "cell_type": "code",
      "execution_count": null,
      "metadata": {
        "id": "W9fZosFZwaT9"
      },
      "outputs": [],
      "source": [
        "animate_1D(u,x,t, interval=5)"
      ]
    },
    {
      "cell_type": "markdown",
      "metadata": {
        "id": "1YsbPCjFwaT-"
      },
      "source": [
        "## 2D Wave Equation\n",
        "\n",
        "$$\\frac{\\partial^2 u}{\\partial t^2} = c^2 (\\frac{\\partial^2 u}{\\partial x^2} + \\frac{\\partial^2 u}{\\partial y^2})$$\n",
        "\n",
        "\n",
        "$x \\in [0,10]$, $y \\in [0,10]$, $t \\in [0,25]$ seconds. Use $\\Delta x = \\Delta y = 0.25$ and $\\Delta t = 0.1$ s with $c = 1$.\n",
        "\n",
        "Boundary conditions: $u(0,y,t) = 0$, $u(10,y,t) = 0$, $u(x,0,t) = 0$, $u(x,10,t) = 0$.\n",
        "\n",
        "Initial conditions: $u(x,y,0) = \\exp(-0.5(x-L/2)^2 - 0.5(y-L/2)^2)$\n",
        "\n",
        "And $\\frac{\\partial u}{\\partial t}(x,y,0) = 0$\n",
        "\n",
        "This is an explicit solution that stores the full matrix $u(x,y,t)$. At some point this becomes a memory issue, and it would be better to only store the timesteps needed for the next update (`k+1`, `k`, and `k-1`). To improve the runtime, it would also be possible to vectorize the updates, or wrap in a function with a just-in-time compiler like [Numba](https://numba.pydata.org/)."
      ]
    },
    {
      "cell_type": "code",
      "execution_count": null,
      "metadata": {
        "id": "tktz0M1EwaT-"
      },
      "outputs": [],
      "source": [
        "dx = 0.25 # = dy\n",
        "dt = 0.1 # s\n",
        "L = 10 # m\n",
        "tmax = 25 # s\n",
        "c = 1\n",
        "C = c*dt/dx\n",
        "print(C**2 + C**2) # stability condition <= 1\n",
        "\n",
        "x = np.arange(0, L+dx, dx)\n",
        "y = np.arange(0, L+dx, dx)\n",
        "X,Y =np.meshgrid(x,y)\n",
        "t = np.arange(0, tmax+dt, dt)\n",
        "\n",
        "u = np.zeros((len(x), len(x), len(t)))\n",
        "\n",
        "# initial condition\n",
        "u[:,:,0] = np.exp(-0.5*(X-L/2.0)**2 - 0.5*(Y-L/2.0)**2)\n",
        "\n",
        "# first timestep - zero velocity condition\n",
        "for i in range(1, len(x)-1):\n",
        "    for j in range(1, len(y)-1):\n",
        "        u[i,j,1] = u[i,j,0] - 0.5 * C**2 * (u[i+1,j,0] - 4*u[i,j,0] + u[i-1,j,0] + u[i,j+1,0] + u[i,j-1,0])\n",
        "\n",
        "# explicit solution over all remaining timesteps\n",
        "for k in range(1, len(t)-1):\n",
        "    for i in range(1,len(x)-1):\n",
        "        for j in range(1,len(y)-1):\n",
        "            u[i,j,k+1] = -u[i,j,k-1] + 2*u[i,j,k] + \\\n",
        "                        C**2 * (u[i+1,j,k] - 4*u[i,j,k] + u[i-1,j,k] + \\\n",
        "                                u[i,j+1,k] + u[i,j-1,k])\n",
        "\n",
        "    # BCs=0 should still be met, but assign anyway\n",
        "    u[0,:,k+1] = 0\n",
        "    u[-1,:,k+1] = 0\n",
        "    u[:,0,k+1] = 0\n",
        "    u[:,-1,k+1] = 0"
      ]
    },
    {
      "cell_type": "markdown",
      "metadata": {
        "id": "z2T10I-HwaT-"
      },
      "source": [
        "We will need a new animation function for the 2D case. Update the plot every `interval` steps using the `plot_surface` function that we saw in Lecture 17 for the 2D Laplace equation."
      ]
    },
    {
      "cell_type": "code",
      "execution_count": null,
      "metadata": {
        "id": "k0XjpKE8waT-"
      },
      "outputs": [],
      "source": [
        "def animate_2D(u,x,y,t,interval):\n",
        "    fig, ax = plt.subplots(subplot_kw={\"projection\": \"3d\"})\n",
        "    X,Y = np.meshgrid(x,y)\n",
        "    h = ax.plot_surface(X, Y, u[:,:,0], cmap='viridis')\n",
        "    ax.set_zlim([u.min(), u.max()])\n",
        "\n",
        "    for i in range(len(t)):\n",
        "        if i % interval == 0:\n",
        "            ax.collections[-1].remove()\n",
        "            h = ax.plot_surface(X, Y, u[:,:,i], cmap='viridis')\n",
        "            plt.title('t = %0.2f s' % (i*(t[1]-t[0])))\n",
        "            display.display(plt.gcf())\n",
        "            display.clear_output(wait=True)\n",
        "\n",
        "animate_2D(u,x,y,t, interval=5)"
      ]
    },
    {
      "cell_type": "markdown",
      "metadata": {
        "id": "NeLVJ_dXwaT-"
      },
      "source": [
        "2D solution with BCs changed to derivative = 0."
      ]
    },
    {
      "cell_type": "code",
      "execution_count": null,
      "metadata": {
        "id": "h9s_TJ0rwaT-"
      },
      "outputs": [],
      "source": [
        "u = np.zeros((len(x), len(y), len(t)))\n",
        "\n",
        "# initial condition\n",
        "u[:,:,0] = np.exp(-0.5*(X-L/2.0)**2 - 0.5*(Y-L/2.0)**2)\n",
        "\n",
        "# first timestep - zero velocity condition\n",
        "for i in range(1, len(x)-1):\n",
        "    for j in range(1, len(y)-1):\n",
        "        u[i,j,1] = u[i,j,0] - 0.5 * C**2 * (u[i+1,j,0] - 4*u[i,j,0] + u[i-1,j,0] + u[i,j+1,0] + u[i,j-1,0])\n",
        "\n",
        "# explicit solution over all remaining timesteps\n",
        "for k in range(1, len(t)-1):\n",
        "    for i in range(1,len(x)-1):\n",
        "        for j in range(1,len(y)-1):\n",
        "            u[i,j,k+1] = -u[i,j,k-1] + 2*u[i,j,k] + \\\n",
        "                        C**2 * (u[i+1,j,k] - 4*u[i,j,k] + \\\n",
        "                                u[i-1,j,k] + u[i,j+1,k] + u[i,j-1,k])\n",
        "\n",
        "    u[0,:,k+1] = u[1,:,k+1]\n",
        "    u[-1,:,k+1] = u[-2,:,k+1]\n",
        "    u[:,0,k+1] = u[:,1,k+1]\n",
        "    u[:,-1,k+1] = u[:,-2,k+1]"
      ]
    },
    {
      "cell_type": "code",
      "execution_count": null,
      "metadata": {
        "id": "drxnFSAFwaT-"
      },
      "outputs": [],
      "source": [
        "animate_2D(u,x,x,t, interval=5)"
      ]
    }
  ],
  "metadata": {
    "hide_input": false,
    "kernelspec": {
      "display_name": "Python 3 (ipykernel)",
      "language": "python",
      "name": "python3"
    },
    "language_info": {
      "codemirror_mode": {
        "name": "ipython",
        "version": 3
      },
      "file_extension": ".py",
      "mimetype": "text/x-python",
      "name": "python",
      "nbconvert_exporter": "python",
      "pygments_lexer": "ipython3",
      "version": "3.12.8"
    },
    "latex_envs": {
      "LaTeX_envs_menu_present": true,
      "autoclose": false,
      "autocomplete": true,
      "bibliofile": "biblio.bib",
      "cite_by": "apalike",
      "current_citInitial": 1,
      "eqLabelWithNumbers": true,
      "eqNumInitial": 1,
      "hotkeys": {
        "equation": "Ctrl-E",
        "itemize": "Ctrl-I"
      },
      "labels_anchors": false,
      "latex_user_defs": false,
      "report_style_numbering": false,
      "user_envs_cfg": false
    },
    "toc": {
      "base_numbering": 1,
      "nav_menu": {},
      "number_sections": true,
      "sideBar": true,
      "skip_h1_title": false,
      "title_cell": "Table of Contents",
      "title_sidebar": "Contents",
      "toc_cell": false,
      "toc_position": {},
      "toc_section_display": true,
      "toc_window_display": false
    },
    "varInspector": {
      "cols": {
        "lenName": "40",
        "lenType": 16,
        "lenVar": "100"
      },
      "kernels_config": {
        "python": {
          "delete_cmd_postfix": "",
          "delete_cmd_prefix": "del ",
          "library": "var_list.py",
          "varRefreshCmd": "print(var_dic_list())"
        },
        "r": {
          "delete_cmd_postfix": ") ",
          "delete_cmd_prefix": "rm(",
          "library": "var_list.r",
          "varRefreshCmd": "cat(var_dic_list()) "
        }
      },
      "types_to_exclude": [
        "module",
        "function",
        "builtin_function_or_method",
        "instance",
        "_Feature"
      ],
      "window_display": false
    },
    "colab": {
      "provenance": []
    }
  },
  "nbformat": 4,
  "nbformat_minor": 0
}